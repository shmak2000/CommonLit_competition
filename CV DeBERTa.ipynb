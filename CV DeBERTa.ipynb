{
 "cells": [
  {
   "cell_type": "code",
   "execution_count": 1,
   "metadata": {
    "collapsed": true
   },
   "outputs": [],
   "source": [
    "import math\n",
    "from tqdm import tqdm\n",
    "from datetime import datetime\n",
    "import pandas as pd\n",
    "import numpy as np\n",
    "import os\n",
    "import torch\n",
    "import sentence_transformers\n",
    "import matplotlib.pyplot as plt\n",
    "from matplotlib import ticker\n",
    "%matplotlib inline\n",
    "import torch.nn as nn\n",
    "\n",
    "from transformers import BertTokenizer, BertModel, pipeline\n",
    "from transformers import RobertaTokenizer, RobertaModel, AutoConfig\n",
    "from transformers import AutoTokenizer, AutoModel\n",
    "from transformers import DebertaConfig\n",
    "from transformers import BartTokenizer, BartModel\n",
    "\n",
    "from sentence_transformers.util import cos_sim\n",
    "from sentence_transformers import SentenceTransformer, models\n",
    "from torch.utils.data import DataLoader, Dataset, random_split\n",
    "from sklearn.metrics.pairwise import cosine_similarity\n",
    "import torch.nn.functional as F\n",
    "from DeBERTa import deberta\n",
    "from collections import OrderedDict\n",
    "\n",
    "import textstat"
   ]
  },
  {
   "cell_type": "code",
   "execution_count": 2,
   "outputs": [
    {
     "name": "stdout",
     "output_type": "stream",
     "text": [
      "cuda:0\n"
     ]
    }
   ],
   "source": [
    "device = 'cuda:0' if torch.cuda.is_available() else 'cpu'\n",
    "print(device)"
   ],
   "metadata": {
    "collapsed": false
   }
  },
  {
   "cell_type": "code",
   "execution_count": 3,
   "outputs": [],
   "source": [
    "# model_name = 'facebook/bart-base'\n",
    "model_name = r\"C:\\Users\\shmak\\.~DeBERTa\\assets\\latest\\deberta-base\\pytorch_model.bin\"\n",
    "# model_name = 'deberta-v3-base\\pytorch_model.bin'"
   ],
   "metadata": {
    "collapsed": false
   }
  },
  {
   "cell_type": "code",
   "execution_count": 4,
   "outputs": [],
   "source": [
    "# def config_model():\n",
    "#     configuration = AutoConfig.from_pretrained(model_name)\n",
    "#\n",
    "#     configuration.hidden_dropout_prob = 0.0\n",
    "#     configuration.attention_probs_dropout_prob = 0.0\n",
    "#     configuration.classifier_dropout = 0.0\n",
    "#\n",
    "#     return configuration\n",
    "#\n",
    "# config = config_model()\n",
    "# size = config.hidden_size"
   ],
   "metadata": {
    "collapsed": false
   }
  },
  {
   "cell_type": "code",
   "execution_count": 5,
   "outputs": [],
   "source": [
    "def config_debert():\n",
    "    configuration = deberta.ModelConfig()\n",
    "    # configuration = DebertaV2Config()\n",
    "    # configuration = configuration.from_json_file(r\"C:\\Users\\shmak\\.~DeBERTa\\assets\\latest\\deberta-base\\model_config.json\")\n",
    "    configuration = configuration.from_json_file('deberta-v3-base\\config.json')\n",
    "\n",
    "    configuration.attention_probs_dropout_prob = 0.0\n",
    "    configuration.hidden_dropout_prob = 0.0\n",
    "\n",
    "    return configuration\n",
    "\n",
    "config = config_debert()\n",
    "size = config.hidden_size"
   ],
   "metadata": {
    "collapsed": false
   }
  },
  {
   "cell_type": "code",
   "execution_count": 6,
   "outputs": [],
   "source": [
    "# tokenizer = BartTokenizer.from_pretrained(model_name)\n",
    "\n",
    "tokenizer = BertTokenizer.from_pretrained('bert-base-uncased')\n",
    "# tokenizer = RobertaTokenizer.from_pretrained()"
   ],
   "metadata": {
    "collapsed": false
   }
  },
  {
   "cell_type": "code",
   "execution_count": 7,
   "outputs": [],
   "source": [
    "def debert_init(config):\n",
    "    state_dict = torch.load(model_name)\n",
    "\n",
    "    state_dict_new = {}\n",
    "\n",
    "    for key, value in state_dict.items():\n",
    "        if key.startswith('deberta.'):\n",
    "            state_dict_new[key.removeprefix('deberta.')] = value\n",
    "\n",
    "    embeddings_model = deberta.DeBERTa(config=config)\n",
    "\n",
    "    embeddings_model.load_state_dict(state_dict=state_dict_new)\n",
    "\n",
    "    return embeddings_model"
   ],
   "metadata": {
    "collapsed": false
   }
  },
  {
   "cell_type": "code",
   "execution_count": 8,
   "outputs": [],
   "source": [
    "# DeBERTa model\n",
    "#\n",
    "# vocab_path, vocab_type = deberta.load_vocab(pretrained_id='large')\n",
    "# tokenizer = deberta.tokenizers[vocab_type](vocab_path)\n",
    "# embeddings_model = DebertaV2Model(config)\n"
   ],
   "metadata": {
    "collapsed": false
   }
  },
  {
   "cell_type": "markdown",
   "source": [
    "## Data"
   ],
   "metadata": {
    "collapsed": false
   }
  },
  {
   "cell_type": "code",
   "execution_count": 9,
   "outputs": [],
   "source": [
    "summaries_train_path = r\"dataset\\summaries_train_merged.csv\"\n",
    "summaries_test_path = r\"dataset\\summaries_test.csv\"\n",
    "prompts_train_path = r\"dataset\\prompts_train.csv\"\n",
    "prompts_test_path = r\"dataset\\prompts_test.csv\""
   ],
   "metadata": {
    "collapsed": false
   }
  },
  {
   "cell_type": "code",
   "execution_count": 10,
   "outputs": [],
   "source": [
    "def norm_score(df: pd.DataFrame) -> pd.DataFrame:\n",
    "    \"\"\"Normilizing score to values 0 to 1\"\"\"\n",
    "    df -= np.min(df)\n",
    "    df /= df.max()\n",
    "    print('Normilized' if df.min() == 0.0 and df.max() == 1.0 else 'NormError:wrong values')\n",
    "\n",
    "    return df\n",
    "\n",
    "def short_text(text, max_length=200) -> str:\n",
    "    if len(text.split()) > 700:\n",
    "        middle_point = text[len(text)//2:].index('.') + len(text)//2 + 1\n",
    "        text_pt1 = text[:middle_point]\n",
    "        text_pt2 = text[middle_point:]\n",
    "\n",
    "        text = short_text(text_pt1) + short_text(text_pt2)\n",
    "\n",
    "    summarizer = pipeline(\"summarization\", model=\"bart-large-cnn\")\n",
    "\n",
    "    # summarizer.model.to(device)\n",
    "\n",
    "    summarized = summarizer(text, max_length=max_length, min_length=80, do_sample=False)\n",
    "\n",
    "    return summarized[0]['summary_text']\n",
    "\n",
    "def moving_average(array: np.array, betta=0.9) -> np.array:\n",
    "    \"\"\"\n",
    "    Computing moving average with bias correction.\n",
    "    \"\"\"\n",
    "\n",
    "    V = 0\n",
    "    average_array = np.zeros(len(array))\n",
    "    for i in range(len(array)):\n",
    "        V = betta * V + (1 - betta) * array[i]\n",
    "        average_array[i] = V/(1 - pow(betta, i+1))\n",
    "\n",
    "    return average_array\n",
    "\n",
    "\n",
    "def mean_pooling(outputs, batch) -> torch.tensor:\n",
    "\n",
    "    attention_mask = batch['attention_mask']\n",
    "    embeddings = outputs['hidden_states'][-1]\n",
    "    # embeddings = outputs.last_hidden_state\n",
    "\n",
    "    mask = attention_mask.unsqueeze(-1).expand(embeddings.size()).float()\n",
    "    masked_embeddings = embeddings * mask\n",
    "\n",
    "    summed = torch.sum(masked_embeddings, 1)\n",
    "    summed_mask = torch.clamp(mask.sum(dim=1), min=1e-9)\n",
    "\n",
    "    mean_pooled = summed/summed_mask\n",
    "\n",
    "    return mean_pooled\n",
    "\n",
    "def normilize(df_column: pd.DataFrame):\n",
    "\n",
    "    df_column = (df_column - df_column.mean())/df_column.std()\n",
    "\n",
    "    return df_column\n",
    "\n",
    "def get_cos_sim(df):\n",
    "    sentence_1 = df.text\n",
    "    sentence_2 = df.prompt_text\n",
    "\n",
    "    sentence_tokenizer = AutoTokenizer.from_pretrained('all-mpnet-base-v2')\n",
    "    sentence_model = AutoModel.from_pretrained('all-mpnet-base-v2')\n",
    "\n",
    "    cos_sim_list = []\n",
    "    sentence_model.to(device)\n",
    "\n",
    "    for i, summarie in enumerate(tqdm(sentence_1)):\n",
    "        prompt = sentence_2[i]\n",
    "        inputs = sentence_tokenizer([summarie, prompt], padding=True,\n",
    "                                    return_tensors='pt', truncation=True)\n",
    "        inputs.to(device)\n",
    "\n",
    "        with torch.no_grad():\n",
    "            outputs = sentence_model(**inputs)\n",
    "\n",
    "        sentence_embeddings = mean_pooling(outputs, inputs)\n",
    "        sentence_embeddings = F.normalize(sentence_embeddings)\n",
    "\n",
    "        score = nn.CosineSimilarity(dim=0)(sentence_embeddings[0], sentence_embeddings[1])\n",
    "\n",
    "        cos_sim_list.append(score.item())\n",
    "\n",
    "    return cos_sim_list\n",
    "\n",
    "def get_stat_features(df, text_col=\"text\"):\n",
    "\n",
    "    df[\"num_unique_words\"] = normilize(df[text_col].apply(lambda x: len(set(x.split()))))\n",
    "    df[\"num_words\"] = normilize(df[text_col].apply(lambda x: len(x.split())))\n",
    "    df[\"num_sentences\"] = normilize(df[text_col].apply(lambda x: len(x.split('.'))))\n",
    "\n",
    "    df[\"syntax_count\"] = normilize(df[text_col].apply(lambda x: x.count(\",\")\n",
    "                                                      + x.count(\"-\") + x.count(\";\") + x.count(\":\")))\n",
    "    df['smog_index'] = normilize(df[text_col].apply(lambda x: textstat.smog_index(x)))\n",
    "    # df['cos_sim'] = normilize(pd.DataFrame(get_cos_sim(df)))\n",
    "\n",
    "    return df"
   ],
   "metadata": {
    "collapsed": false
   }
  },
  {
   "cell_type": "code",
   "execution_count": 11,
   "outputs": [],
   "source": [
    "class SentenseData(Dataset):\n",
    "    \"\"\"\n",
    "    :params: path to csv file with summaries, path to csv file with prompts, 'score' param\\\n",
    "    defines which score is used: content/wording\n",
    "    \"\"\"\n",
    "    def __init__(self, summaries_path=summaries_train_path,\n",
    "                 prompts_path=prompts_train_path,\n",
    "                 score='wording', test=False, fold_test='ebad26'):\n",
    "        self.test = test\n",
    "        self.score_type = score\n",
    "        self.fold_test = fold_test\n",
    "\n",
    "        with open(prompts_path, encoding='utf-8') as f:\n",
    "            self.prompts = pd.read_csv(f)\n",
    "\n",
    "        with open(summaries_path, encoding='utf-8') as f:\n",
    "            summaries = pd.read_csv(f)\n",
    "            self.summaries = summaries\n",
    "\n",
    "    def __len__(self):\n",
    "        return len(self.__summaries)\n",
    "\n",
    "    @property\n",
    "    def summaries(self):\n",
    "        return self.__summaries\n",
    "\n",
    "    @summaries.setter\n",
    "    def summaries(self, df):\n",
    "        if self.test:\n",
    "            self.__summaries = df[df.prompt_id == self.fold_test].reset_index(drop=True)\n",
    "\n",
    "        else:\n",
    "            self.__summaries = df[df.prompt_id != self.fold_test].reset_index(drop=True)\n",
    "\n",
    "    @property\n",
    "    def prompts(self):\n",
    "        return self.__prompts\n",
    "\n",
    "    @prompts.setter\n",
    "    def prompts(self, file):\n",
    "        self.__prompts = file\n",
    "        # for i, text in enumerate(self.__prompts.prompt_text):\n",
    "        #     if len(text.split()) > 300:\n",
    "        #         self.__prompts.prompt_text[i] = short_text(text)\n",
    "\n",
    "    def get_batch_text(self, index):\n",
    "        summary_text = self.summaries.text[index]\n",
    "\n",
    "        if True:#self.score_type == 'wording':\n",
    "            res = tokenizer(summary_text, padding='max_length', return_tensors='pt', truncation=True)\n",
    "            res = {k:val.squeeze() for k, val in res.items()}\n",
    "            res['features'] = torch.tensor([self.summaries['num_unique_words'][index], self.summaries['num_words'][index],\n",
    "                                  self.summaries['num_sentences'][index],self.summaries['syntax_count'][index],\n",
    "                                  self.summaries['smog_index'][index]], dtype=torch.float32)\n",
    "\n",
    "            return res\n",
    "\n",
    "        prompt_text = self.prompts.prompt_text[self.prompts.prompt_id ==\n",
    "                                               self.summaries.prompt_id[index]].item().replace('\\n','')\n",
    "\n",
    "        return tokenizer([summary_text, prompt_text], padding='max_length', return_tensors='pt', truncation=True)\n",
    "\n",
    "    # def get_score(self, index):\n",
    "    #     if self.score_type == 'content':\n",
    "    #         score = self.summaries.content[index]\n",
    "    #\n",
    "    #     elif self.score_type == 'wording':\n",
    "    #         score = self.summaries.wording[index]\n",
    "    #\n",
    "    #     return torch.tensor(score)\n",
    "\n",
    "    def get_score(self, index):\n",
    "\n",
    "        score = [self.summaries.content[index], self.summaries.wording[index]]\n",
    "\n",
    "        return torch.tensor(score)\n",
    "\n",
    "    def __getitem__(self, index) -> torch.tensor:\n",
    "\n",
    "        batch_text = self.get_batch_text(index)\n",
    "        batch_score = self.get_score(index)\n",
    "\n",
    "        return batch_text, batch_score"
   ],
   "metadata": {
    "collapsed": false
   }
  },
  {
   "cell_type": "markdown",
   "source": [
    "## Model"
   ],
   "metadata": {
    "collapsed": false
   }
  },
  {
   "cell_type": "code",
   "execution_count": 12,
   "outputs": [],
   "source": [
    "class STSBertModel(nn.Module):\n",
    "    \"\"\"\n",
    "    Sentence Semantic Similarity Bert model\n",
    "    :param: seg_head=True for using segmentation head instead of cosine similarity\n",
    "    :param: freeze_weights=True to freeze BERT model's weights and train only the segmentation head\n",
    "    \"\"\"\n",
    "    def __init__(self, with_features=False, input_size=size):\n",
    "        super(STSBertModel, self).__init__()\n",
    "\n",
    "        self.word_embedding = deberta.DeBERTa(config=config_debert(), pre_trained=model_name)\n",
    "        # self.word_embedding = debert_init(config)\n",
    "\n",
    "        # self.word_embedding = BartModel.from_pretrained(model_name, config=config)\n",
    "        self.cos_score = nn.CosineSimilarity(dim=0)\n",
    "        self.identity = nn.Identity()\n",
    "        self.input_size = input_size\n",
    "        self.with_features = with_features\n",
    "\n",
    "        if with_features:\n",
    "            self.n_features = 5\n",
    "            self.input_size += self.n_features\n",
    "\n",
    "        # for param in self.word_embedding.parameters():\n",
    "        #     param.requires_grad = False\n",
    "\n",
    "        self.attention = SelfAttention(self.input_size)\n",
    "        self.block = AttentionBlock(self.input_size)\n",
    "\n",
    "        self.FC_head = nn.Sequential(OrderedDict([\n",
    "            ('fc1', nn.Linear(self.input_size, self.input_size)),\n",
    "            ('relu1', nn.ReLU()),\n",
    "            # ('fc2', nn.Linear(1024, self.input_size)),\n",
    "            # ('relu2', nn.ReLU())\n",
    "            ]))\n",
    "\n",
    "        self.FC_output = nn.Sequential(OrderedDict([\n",
    "            ('fc1', nn.Linear(self.input_size, 2)),\n",
    "            ]))\n",
    "\n",
    "    def forward(self, x):\n",
    "        output = self.word_embedding(input_ids=x['input_ids'], attention_mask=x['attention_mask'])\n",
    "        output = mean_pooling(output, x)\n",
    "\n",
    "        if self.with_features:\n",
    "            output = torch.cat((output, x['features']), dim=1)\n",
    "\n",
    "        output = output.unsqueeze(1)\n",
    "        output = self.attention(output)\n",
    "        output = self.FC_output(output)\n",
    "\n",
    "        return output.squeeze()\n",
    "\n",
    "\n",
    "class AttentionBlock(nn.Module):\n",
    "    def __init__(self, input_dim):\n",
    "        super(AttentionBlock, self).__init__()\n",
    "\n",
    "        self.input_dim = input_dim\n",
    "        self.fc = nn.Linear(input_dim, input_dim)\n",
    "        self.attention = SelfAttention(input_dim)\n",
    "        self.relu = nn.ReLU()\n",
    "        self.norm = nn.LayerNorm(input_dim)\n",
    "\n",
    "    def forward(self, x):\n",
    "        identity = x\n",
    "\n",
    "        x = self.attention(x)\n",
    "        x = self.fc(x)\n",
    "\n",
    "        x += identity\n",
    "        x = self.norm(x)\n",
    "        x = self.relu(x)\n",
    "\n",
    "        return x\n",
    "\n",
    "\n",
    "class SelfAttention(nn.Module):\n",
    "    def __init__(self, input_dim):\n",
    "        super(SelfAttention, self).__init__()\n",
    "        self.input_dim = input_dim\n",
    "        self.query = nn.Linear(input_dim, input_dim)\n",
    "        self.key = nn.Linear(input_dim, input_dim)\n",
    "        self.value = nn.Linear(input_dim, input_dim)\n",
    "        self.softmax = nn.Softmax(dim=2)\n",
    "\n",
    "    def forward(self, x):\n",
    "        queries = self.query(x)\n",
    "        keys = self.key(x)\n",
    "        values = self.value(x)\n",
    "        scores = torch.bmm(queries, keys.transpose(1, 2)) / (self.input_dim ** 0.5)\n",
    "        attention = self.softmax(scores)\n",
    "        weighted = torch.bmm(attention, values)\n",
    "        return weighted\n"
   ],
   "metadata": {
    "collapsed": false
   }
  },
  {
   "cell_type": "code",
   "execution_count": 13,
   "outputs": [],
   "source": [
    "class MCRMSELoss(nn.Module):\n",
    "    def __init__(self, num_scores=2):\n",
    "        super().__init__()\n",
    "        self.MSELoss = nn.MSELoss()\n",
    "        self.num_scores = num_scores\n",
    "\n",
    "    def forward(self, y_hat, y):\n",
    "        score = 0\n",
    "        for i in range(self.num_scores):\n",
    "            score += torch.sqrt(self.MSELoss(y_hat[:,i], y[:,i]))\n",
    "\n",
    "        return score / self.num_scores"
   ],
   "metadata": {
    "collapsed": false
   }
  },
  {
   "cell_type": "markdown",
   "source": [
    "## Training"
   ],
   "metadata": {
    "collapsed": false
   }
  },
  {
   "cell_type": "code",
   "execution_count": 14,
   "outputs": [],
   "source": [
    "train_dev_split = True"
   ],
   "metadata": {
    "collapsed": false
   }
  },
  {
   "cell_type": "code",
   "execution_count": 15,
   "outputs": [],
   "source": [
    "def validate_model(model, loss_func):\n",
    "\n",
    "    losses_epoch_test = []\n",
    "    losses_epoch_train_dev = []\n",
    "\n",
    "    model.eval()\n",
    "    with torch.no_grad():\n",
    "        for inputs, targets in test_loader:\n",
    "            targets = targets.float().to(device)\n",
    "\n",
    "            inputs = {k:val.squeeze().to(device) for k, val in inputs.items()}\n",
    "\n",
    "            with torch.autocast(device_type='cuda', dtype=torch.float16):\n",
    "                outputs = model(inputs)\n",
    "\n",
    "            loss = loss_func(outputs.squeeze(), targets)\n",
    "\n",
    "            losses_epoch_test.append(loss.item())\n",
    "\n",
    "        if train_dev_split:\n",
    "\n",
    "            for inputs, targets in train_dev_loader:\n",
    "                targets = targets.float().to(device)\n",
    "\n",
    "                inputs = {k:val.squeeze().to(device) for k, val in inputs.items()}\n",
    "\n",
    "                with torch.autocast(device_type='cuda', dtype=torch.float16):\n",
    "                    outputs = model(inputs)\n",
    "\n",
    "                loss = loss_func(outputs.squeeze(), targets)\n",
    "\n",
    "                losses_epoch_train_dev.append(loss.item())\n",
    "\n",
    "    return losses_epoch_test, losses_epoch_train_dev\n",
    "\n",
    "\n",
    "def train_model(n_epochs, lr, weight_decay, n_fold, lr_head):\n",
    "\n",
    "    model = STSBertModel(with_features=True)\n",
    "    # model = ClassificationModel(n_features=7, n_fold=n_fold)\n",
    "\n",
    "    model.float()\n",
    "    model.to(device)\n",
    "\n",
    "    params = [\n",
    "        {'params': model.word_embedding.parameters()},\n",
    "        {'params': model.attention.parameters(), 'lr': lr_head},\n",
    "        {'params': model.block.parameters(), 'lr': lr_head},\n",
    "        {'params': model.FC_head.parameters(), 'lr': lr_head},\n",
    "        {'params': model.FC_output.parameters(), 'lr': lr_head}\n",
    "    ]\n",
    "\n",
    "    # loss_func = nn.MSELoss()\n",
    "    loss_func = MCRMSELoss()\n",
    "\n",
    "    optimizer = torch.optim.AdamW(params, lr=lr, weight_decay=weight_decay)\n",
    "    # lr_scheduler = torch.optim.lr_scheduler.StepLR(optimizer, 1, gamma=0.7, verbose=True)\n",
    "    # warmup_scheduler = torch.optim.lr_scheduler.LinearLR(optimizer, 1e-8, 1, 150, verbose=False)\n",
    "    lr_scheduler = torch.optim.lr_scheduler.ExponentialLR(optimizer, gamma=0.7, verbose=False)\n",
    "    scaler = torch.cuda.amp.GradScaler()\n",
    "\n",
    "    losses_train = []\n",
    "    losses_test = []\n",
    "    losses_train_dev = []\n",
    "\n",
    "    t0 = datetime.now()\n",
    "\n",
    "    for i in range(n_epochs):\n",
    "\n",
    "        losses_train_per_epoch = []\n",
    "\n",
    "        for j, batch in enumerate(tqdm(train_loader, position=0, leave=True), 1):\n",
    "            inputs, targets = batch\n",
    "            targets = targets.float().to(device)\n",
    "\n",
    "            model.train()\n",
    "\n",
    "            optimizer.zero_grad()\n",
    "\n",
    "            with torch.autocast(device_type='cuda', dtype=torch.float16):\n",
    "                inputs = {k:val.squeeze().to(device) for k, val in inputs.items()}\n",
    "                outputs = model(inputs)\n",
    "\n",
    "                loss = loss_func(outputs.squeeze(), targets)\n",
    "\n",
    "            scaler.scale(loss).backward()\n",
    "            scaler.step(optimizer)\n",
    "\n",
    "            scaler.update()\n",
    "\n",
    "            # lr_scheduler.step()\n",
    "            # warmup_scheduler.step()\n",
    "            losses_train_per_epoch.append(loss.item())\n",
    "\n",
    "            if j%30 == 0 or j == len(train_loader):\n",
    "\n",
    "                losses_test_per_epoch, losses_test_dev_epoch = validate_model(model, loss_func)\n",
    "                losses_test_mean = np.mean(losses_test_per_epoch)\n",
    "                losses_train_mean = np.mean(losses_train_per_epoch)\n",
    "                if train_dev_split:\n",
    "                    losses_train_dev_mean = np.mean(losses_test_dev_epoch)\n",
    "\n",
    "                losses_train.append(losses_train_mean)\n",
    "                losses_test.append(losses_test_mean)\n",
    "                if train_dev_split:\n",
    "                    losses_train_dev.append(losses_train_dev_mean)\n",
    "\n",
    "                if losses_test_mean == np.min(losses_test):\n",
    "                    best_score = losses_test_mean\n",
    "                    n_iter = len(losses_train)\n",
    "                    torch.save(model.state_dict(), r'models\\cv\\best__fold_{}.pt'.format(n_fold))\n",
    "                    print(f'Best saved, loss: {best_score:.5f}')\n",
    "\n",
    "                losses_train_per_epoch = []\n",
    "\n",
    "                learning_params_to_print = f'Fold# {n_fold}, Epoch: {i+1}/{n_epochs}, L_train: {losses_train_mean:.5f}, L_test: {losses_test_mean:.5f}'\n",
    "\n",
    "                if train_dev_split:\n",
    "                    learning_params_to_print += f', L_train_dev:{losses_train_dev_mean:.5f}'\n",
    "\n",
    "                print(learning_params_to_print)\n",
    "\n",
    "        lr_scheduler.step()\n",
    "        torch.cuda.empty_cache()\n",
    "\n",
    "    fold_score, _ = validate_model(model, loss_func)\n",
    "    fold_score = np.mean(fold_score)\n",
    "\n",
    "    print(f\"Time elapsed:{datetime.now()-t0}, Best score:{best_score:.5f}, Fold_score:{fold_score:.5f}\")\n",
    "\n",
    "    return fold_score, best_score, n_iter, losses_test, losses_train, losses_train_dev"
   ],
   "metadata": {
    "collapsed": false
   }
  },
  {
   "cell_type": "code",
   "execution_count": 16,
   "outputs": [],
   "source": [
    "def dev_train_split(train_data):\n",
    "    train_dev_length = int(len(train_data)*0.1)\n",
    "    train_length = len(train_data) - train_dev_length\n",
    "\n",
    "    return random_split(train_data, [train_length, train_dev_length])\n",
    "\n",
    "def loaders_init(score_type, batch_size, fold):\n",
    "\n",
    "    test_data = SentenseData(test=True, score=score_type, fold_test=fold)\n",
    "    train_data = SentenseData(score=score_type, fold_test=fold)\n",
    "\n",
    "    train_dev_loader = None\n",
    "\n",
    "    if train_dev_split:\n",
    "        train_data, train_dev_data = dev_train_split(train_data)\n",
    "\n",
    "        train_dev_loader = DataLoader(train_dev_data,\n",
    "                                      batch_size=batch_size,\n",
    "                                      shuffle=True, drop_last=True)\n",
    "\n",
    "    train_loader = DataLoader(train_data,\n",
    "                           batch_size=batch_size,\n",
    "                           shuffle=True, drop_last=True)\n",
    "\n",
    "    test_loader = DataLoader(test_data,\n",
    "                          batch_size=batch_size,\n",
    "                          shuffle=True, drop_last=True)\n",
    "\n",
    "    return train_loader, test_loader, train_dev_loader\n",
    "\n",
    "def axis_set(ax):\n",
    "\n",
    "    ax.plot(test_losses, label='test')\n",
    "    ax.plot(moving_average(test_losses), label='m/a')\n",
    "    ax.plot(train_losses, label='train')\n",
    "\n",
    "    if train_dev_split:\n",
    "        ax.plot(train_dev_losses, label='train-dev', linestyle='dotted')\n",
    "\n",
    "    ax.scatter(n_iter - 1, best_score, label='min', color='r')\n",
    "    ax.set_title(f'#{i}, scr:{fold_score:.4f}, min:{best_score:.4f}', loc='left')\n",
    "    ax.xaxis.set_major_locator(ticker.LinearLocator(n_epochs + 1))\n",
    "    ax.xaxis.set_major_formatter(ticker.FixedFormatter(range(n_epochs)))\n",
    "    ax.legend()\n",
    "\n",
    "    return ax"
   ],
   "metadata": {
    "collapsed": false
   }
  },
  {
   "cell_type": "code",
   "execution_count": 17,
   "outputs": [
    {
     "name": "stderr",
     "output_type": "stream",
     "text": [
      "08/25/2023 10:08:09|INFO|logging|00| Loaded pretrained model file C:\\Users\\shmak\\.~DeBERTa\\assets\\latest\\deberta-base\\pytorch_model.bin\n",
      "  5%|▌         | 31/574 [00:28<42:49,  4.73s/it]  "
     ]
    },
    {
     "name": "stdout",
     "output_type": "stream",
     "text": [
      "Best saved, loss: 0.95571\n",
      "Fold# 1, Epoch: 1/2, L_train: 1.21108, L_test: 0.95571, L_train_dev:0.90644\n"
     ]
    },
    {
     "name": "stderr",
     "output_type": "stream",
     "text": [
      " 11%|█         | 61/574 [00:55<40:27,  4.73s/it]"
     ]
    },
    {
     "name": "stdout",
     "output_type": "stream",
     "text": [
      "Best saved, loss: 0.83571\n",
      "Fold# 1, Epoch: 1/2, L_train: 0.89037, L_test: 0.83571, L_train_dev:0.85873\n"
     ]
    },
    {
     "name": "stderr",
     "output_type": "stream",
     "text": [
      " 16%|█▌        | 91/574 [01:22<38:04,  4.73s/it]"
     ]
    },
    {
     "name": "stdout",
     "output_type": "stream",
     "text": [
      "Best saved, loss: 0.67798\n",
      "Fold# 1, Epoch: 1/2, L_train: 0.82187, L_test: 0.67798, L_train_dev:0.70817\n"
     ]
    },
    {
     "name": "stderr",
     "output_type": "stream",
     "text": [
      " 21%|██        | 121/574 [01:49<35:04,  4.65s/it]"
     ]
    },
    {
     "name": "stdout",
     "output_type": "stream",
     "text": [
      "Fold# 1, Epoch: 1/2, L_train: 0.73240, L_test: 0.70547, L_train_dev:0.72498\n"
     ]
    },
    {
     "name": "stderr",
     "output_type": "stream",
     "text": [
      " 26%|██▋       | 151/574 [02:15<32:46,  4.65s/it]"
     ]
    },
    {
     "name": "stdout",
     "output_type": "stream",
     "text": [
      "Fold# 1, Epoch: 1/2, L_train: 0.71867, L_test: 0.90418, L_train_dev:0.88841\n"
     ]
    },
    {
     "name": "stderr",
     "output_type": "stream",
     "text": [
      " 32%|███▏      | 181/574 [02:42<31:07,  4.75s/it]"
     ]
    },
    {
     "name": "stdout",
     "output_type": "stream",
     "text": [
      "Best saved, loss: 0.60083\n",
      "Fold# 1, Epoch: 1/2, L_train: 0.68776, L_test: 0.60083, L_train_dev:0.68303\n"
     ]
    },
    {
     "name": "stderr",
     "output_type": "stream",
     "text": [
      " 37%|███▋      | 211/574 [03:09<27:56,  4.62s/it]"
     ]
    },
    {
     "name": "stdout",
     "output_type": "stream",
     "text": [
      "Fold# 1, Epoch: 1/2, L_train: 0.62486, L_test: 0.62005, L_train_dev:0.66732\n"
     ]
    },
    {
     "name": "stderr",
     "output_type": "stream",
     "text": [
      " 42%|████▏     | 241/574 [03:35<25:41,  4.63s/it]"
     ]
    },
    {
     "name": "stdout",
     "output_type": "stream",
     "text": [
      "Fold# 1, Epoch: 1/2, L_train: 0.70934, L_test: 0.74490, L_train_dev:0.72285\n"
     ]
    },
    {
     "name": "stderr",
     "output_type": "stream",
     "text": [
      " 47%|████▋     | 271/574 [04:02<23:35,  4.67s/it]"
     ]
    },
    {
     "name": "stdout",
     "output_type": "stream",
     "text": [
      "Fold# 1, Epoch: 1/2, L_train: 0.66676, L_test: 0.65074, L_train_dev:0.68317\n"
     ]
    },
    {
     "name": "stderr",
     "output_type": "stream",
     "text": [
      " 52%|█████▏    | 301/574 [04:28<20:59,  4.61s/it]"
     ]
    },
    {
     "name": "stdout",
     "output_type": "stream",
     "text": [
      "Fold# 1, Epoch: 1/2, L_train: 0.71044, L_test: 0.65004, L_train_dev:0.68077\n"
     ]
    },
    {
     "name": "stderr",
     "output_type": "stream",
     "text": [
      " 58%|█████▊    | 331/574 [04:54<18:31,  4.57s/it]"
     ]
    },
    {
     "name": "stdout",
     "output_type": "stream",
     "text": [
      "Fold# 1, Epoch: 1/2, L_train: 0.68255, L_test: 0.64302, L_train_dev:0.64978\n"
     ]
    },
    {
     "name": "stderr",
     "output_type": "stream",
     "text": [
      " 63%|██████▎   | 361/574 [05:21<16:14,  4.58s/it]"
     ]
    },
    {
     "name": "stdout",
     "output_type": "stream",
     "text": [
      "Fold# 1, Epoch: 1/2, L_train: 0.67431, L_test: 0.68345, L_train_dev:0.69800\n"
     ]
    },
    {
     "name": "stderr",
     "output_type": "stream",
     "text": [
      " 68%|██████▊   | 391/574 [05:47<13:57,  4.57s/it]"
     ]
    },
    {
     "name": "stdout",
     "output_type": "stream",
     "text": [
      "Fold# 1, Epoch: 1/2, L_train: 0.69017, L_test: 0.62394, L_train_dev:0.64232\n"
     ]
    },
    {
     "name": "stderr",
     "output_type": "stream",
     "text": [
      " 73%|███████▎  | 421/574 [06:13<11:40,  4.58s/it]"
     ]
    },
    {
     "name": "stdout",
     "output_type": "stream",
     "text": [
      "Fold# 1, Epoch: 1/2, L_train: 0.65361, L_test: 0.61484, L_train_dev:0.64472\n"
     ]
    },
    {
     "name": "stderr",
     "output_type": "stream",
     "text": [
      " 79%|███████▊  | 451/574 [06:40<09:48,  4.78s/it]"
     ]
    },
    {
     "name": "stdout",
     "output_type": "stream",
     "text": [
      "Best saved, loss: 0.59055\n",
      "Fold# 1, Epoch: 1/2, L_train: 0.59272, L_test: 0.59055, L_train_dev:0.68118\n"
     ]
    },
    {
     "name": "stderr",
     "output_type": "stream",
     "text": [
      " 84%|████████▍ | 481/574 [07:07<07:16,  4.69s/it]"
     ]
    },
    {
     "name": "stdout",
     "output_type": "stream",
     "text": [
      "Fold# 1, Epoch: 1/2, L_train: 0.65849, L_test: 0.62834, L_train_dev:0.64555\n"
     ]
    },
    {
     "name": "stderr",
     "output_type": "stream",
     "text": [
      " 89%|████████▉ | 511/574 [07:34<04:53,  4.65s/it]"
     ]
    },
    {
     "name": "stdout",
     "output_type": "stream",
     "text": [
      "Fold# 1, Epoch: 1/2, L_train: 0.64634, L_test: 0.61162, L_train_dev:0.64162\n"
     ]
    },
    {
     "name": "stderr",
     "output_type": "stream",
     "text": [
      " 94%|█████████▍| 541/574 [08:00<02:31,  4.60s/it]"
     ]
    },
    {
     "name": "stdout",
     "output_type": "stream",
     "text": [
      "Fold# 1, Epoch: 1/2, L_train: 0.62944, L_test: 0.59523, L_train_dev:0.66655\n"
     ]
    },
    {
     "name": "stderr",
     "output_type": "stream",
     "text": [
      " 99%|█████████▉| 571/574 [08:27<00:13,  4.66s/it]"
     ]
    },
    {
     "name": "stdout",
     "output_type": "stream",
     "text": [
      "Fold# 1, Epoch: 1/2, L_train: 0.67877, L_test: 0.61111, L_train_dev:0.63984\n"
     ]
    },
    {
     "name": "stderr",
     "output_type": "stream",
     "text": [
      "100%|██████████| 574/574 [08:48<00:00,  1.09it/s]\n"
     ]
    },
    {
     "name": "stdout",
     "output_type": "stream",
     "text": [
      "Fold# 1, Epoch: 1/2, L_train: 0.52094, L_test: 0.61658, L_train_dev:0.66596\n"
     ]
    },
    {
     "name": "stderr",
     "output_type": "stream",
     "text": [
      "  5%|▌         | 31/574 [00:26<41:44,  4.61s/it]"
     ]
    },
    {
     "name": "stdout",
     "output_type": "stream",
     "text": [
      "Fold# 1, Epoch: 2/2, L_train: 0.65339, L_test: 0.61367, L_train_dev:0.65205\n"
     ]
    },
    {
     "name": "stderr",
     "output_type": "stream",
     "text": [
      " 11%|█         | 61/574 [00:53<39:24,  4.61s/it]"
     ]
    },
    {
     "name": "stdout",
     "output_type": "stream",
     "text": [
      "Fold# 1, Epoch: 2/2, L_train: 0.65508, L_test: 0.60765, L_train_dev:0.65173\n"
     ]
    },
    {
     "name": "stderr",
     "output_type": "stream",
     "text": [
      " 16%|█▌        | 91/574 [01:19<36:49,  4.57s/it]"
     ]
    },
    {
     "name": "stdout",
     "output_type": "stream",
     "text": [
      "Fold# 1, Epoch: 2/2, L_train: 0.71372, L_test: 0.61018, L_train_dev:0.65053\n"
     ]
    },
    {
     "name": "stderr",
     "output_type": "stream",
     "text": [
      " 21%|██        | 121/574 [01:45<34:14,  4.54s/it]"
     ]
    },
    {
     "name": "stdout",
     "output_type": "stream",
     "text": [
      "Fold# 1, Epoch: 2/2, L_train: 0.63713, L_test: 0.60514, L_train_dev:0.64282\n"
     ]
    },
    {
     "name": "stderr",
     "output_type": "stream",
     "text": [
      " 26%|██▋       | 151/574 [02:11<32:11,  4.57s/it]"
     ]
    },
    {
     "name": "stdout",
     "output_type": "stream",
     "text": [
      "Fold# 1, Epoch: 2/2, L_train: 0.61657, L_test: 0.61728, L_train_dev:0.67836\n"
     ]
    },
    {
     "name": "stderr",
     "output_type": "stream",
     "text": [
      " 32%|███▏      | 181/574 [02:37<29:45,  4.54s/it]"
     ]
    },
    {
     "name": "stdout",
     "output_type": "stream",
     "text": [
      "Fold# 1, Epoch: 2/2, L_train: 0.65350, L_test: 0.63601, L_train_dev:0.66944\n"
     ]
    },
    {
     "name": "stderr",
     "output_type": "stream",
     "text": [
      " 37%|███▋      | 211/574 [03:03<27:22,  4.53s/it]"
     ]
    },
    {
     "name": "stdout",
     "output_type": "stream",
     "text": [
      "Fold# 1, Epoch: 2/2, L_train: 0.63739, L_test: 0.61257, L_train_dev:0.65497\n"
     ]
    },
    {
     "name": "stderr",
     "output_type": "stream",
     "text": [
      " 42%|████▏     | 241/574 [03:29<25:18,  4.56s/it]"
     ]
    },
    {
     "name": "stdout",
     "output_type": "stream",
     "text": [
      "Fold# 1, Epoch: 2/2, L_train: 0.62275, L_test: 0.61503, L_train_dev:0.65962\n"
     ]
    },
    {
     "name": "stderr",
     "output_type": "stream",
     "text": [
      " 47%|████▋     | 271/574 [03:55<23:22,  4.63s/it]"
     ]
    },
    {
     "name": "stdout",
     "output_type": "stream",
     "text": [
      "Fold# 1, Epoch: 2/2, L_train: 0.66862, L_test: 0.62043, L_train_dev:0.65001\n"
     ]
    },
    {
     "name": "stderr",
     "output_type": "stream",
     "text": [
      " 52%|█████▏    | 301/574 [04:22<20:57,  4.61s/it]"
     ]
    },
    {
     "name": "stdout",
     "output_type": "stream",
     "text": [
      "Fold# 1, Epoch: 2/2, L_train: 0.65904, L_test: 0.60400, L_train_dev:0.63563\n"
     ]
    },
    {
     "name": "stderr",
     "output_type": "stream",
     "text": [
      " 58%|█████▊    | 331/574 [04:48<18:49,  4.65s/it]"
     ]
    },
    {
     "name": "stdout",
     "output_type": "stream",
     "text": [
      "Fold# 1, Epoch: 2/2, L_train: 0.61609, L_test: 0.61093, L_train_dev:0.64938\n"
     ]
    },
    {
     "name": "stderr",
     "output_type": "stream",
     "text": [
      " 63%|██████▎   | 361/574 [05:15<16:27,  4.64s/it]"
     ]
    },
    {
     "name": "stdout",
     "output_type": "stream",
     "text": [
      "Fold# 1, Epoch: 2/2, L_train: 0.65234, L_test: 0.64189, L_train_dev:0.68020\n"
     ]
    },
    {
     "name": "stderr",
     "output_type": "stream",
     "text": [
      " 68%|██████▊   | 391/574 [05:41<14:05,  4.62s/it]"
     ]
    },
    {
     "name": "stdout",
     "output_type": "stream",
     "text": [
      "Fold# 1, Epoch: 2/2, L_train: 0.65872, L_test: 0.60915, L_train_dev:0.64724\n"
     ]
    },
    {
     "name": "stderr",
     "output_type": "stream",
     "text": [
      " 73%|███████▎  | 421/574 [06:08<11:47,  4.62s/it]"
     ]
    },
    {
     "name": "stdout",
     "output_type": "stream",
     "text": [
      "Fold# 1, Epoch: 2/2, L_train: 0.59641, L_test: 0.59502, L_train_dev:0.65435\n"
     ]
    },
    {
     "name": "stderr",
     "output_type": "stream",
     "text": [
      " 79%|███████▊  | 451/574 [06:34<09:29,  4.63s/it]"
     ]
    },
    {
     "name": "stdout",
     "output_type": "stream",
     "text": [
      "Fold# 1, Epoch: 2/2, L_train: 0.66221, L_test: 0.60603, L_train_dev:0.65273\n"
     ]
    },
    {
     "name": "stderr",
     "output_type": "stream",
     "text": [
      " 84%|████████▍ | 481/574 [07:00<07:06,  4.58s/it]"
     ]
    },
    {
     "name": "stdout",
     "output_type": "stream",
     "text": [
      "Fold# 1, Epoch: 2/2, L_train: 0.68488, L_test: 0.61032, L_train_dev:0.65614\n"
     ]
    },
    {
     "name": "stderr",
     "output_type": "stream",
     "text": [
      " 89%|████████▉ | 511/574 [07:26<04:46,  4.56s/it]"
     ]
    },
    {
     "name": "stdout",
     "output_type": "stream",
     "text": [
      "Fold# 1, Epoch: 2/2, L_train: 0.61492, L_test: 0.60377, L_train_dev:0.64689\n"
     ]
    },
    {
     "name": "stderr",
     "output_type": "stream",
     "text": [
      " 94%|█████████▍| 541/574 [07:52<02:29,  4.53s/it]"
     ]
    },
    {
     "name": "stdout",
     "output_type": "stream",
     "text": [
      "Fold# 1, Epoch: 2/2, L_train: 0.65818, L_test: 0.59423, L_train_dev:0.64911\n"
     ]
    },
    {
     "name": "stderr",
     "output_type": "stream",
     "text": [
      " 99%|█████████▉| 571/574 [08:19<00:13,  4.60s/it]"
     ]
    },
    {
     "name": "stdout",
     "output_type": "stream",
     "text": [
      "Fold# 1, Epoch: 2/2, L_train: 0.61193, L_test: 0.59445, L_train_dev:0.64933\n"
     ]
    },
    {
     "name": "stderr",
     "output_type": "stream",
     "text": [
      "100%|██████████| 574/574 [08:41<00:00,  1.10it/s]"
     ]
    },
    {
     "name": "stdout",
     "output_type": "stream",
     "text": [
      "Best saved, loss: 0.58996\n",
      "Fold# 1, Epoch: 2/2, L_train: 0.46990, L_test: 0.58996, L_train_dev:0.64445\n"
     ]
    },
    {
     "name": "stderr",
     "output_type": "stream",
     "text": [
      "\n"
     ]
    },
    {
     "name": "stdout",
     "output_type": "stream",
     "text": [
      "Time elapsed:0:17:51.082785, Best score:0.58996, Fold_score:0.58990\n"
     ]
    },
    {
     "name": "stderr",
     "output_type": "stream",
     "text": [
      "C:\\Users\\shmak\\AppData\\Local\\Temp\\ipykernel_16828\\2974091799.py:43: UserWarning: FixedFormatter should only be used together with FixedLocator\n",
      "  ax.xaxis.set_major_formatter(ticker.FixedFormatter(range(n_epochs)))\n",
      "08/25/2023 10:26:01|INFO|logging|00| Loaded pretrained model file C:\\Users\\shmak\\.~DeBERTa\\assets\\latest\\deberta-base\\pytorch_model.bin\n",
      "  5%|▌         | 31/580 [00:27<43:30,  4.76s/it]  "
     ]
    },
    {
     "name": "stdout",
     "output_type": "stream",
     "text": [
      "Best saved, loss: 1.27424\n",
      "Fold# 2, Epoch: 1/2, L_train: 1.15587, L_test: 1.27424, L_train_dev:0.97259\n"
     ]
    },
    {
     "name": "stderr",
     "output_type": "stream",
     "text": [
      " 11%|█         | 61/580 [00:54<41:06,  4.75s/it]"
     ]
    },
    {
     "name": "stdout",
     "output_type": "stream",
     "text": [
      "Best saved, loss: 0.96271\n",
      "Fold# 2, Epoch: 1/2, L_train: 0.92390, L_test: 0.96271, L_train_dev:0.89100\n"
     ]
    },
    {
     "name": "stderr",
     "output_type": "stream",
     "text": [
      " 16%|█▌        | 91/580 [01:21<38:44,  4.75s/it]"
     ]
    },
    {
     "name": "stdout",
     "output_type": "stream",
     "text": [
      "Best saved, loss: 0.73501\n",
      "Fold# 2, Epoch: 1/2, L_train: 0.78303, L_test: 0.73501, L_train_dev:0.73122\n"
     ]
    },
    {
     "name": "stderr",
     "output_type": "stream",
     "text": [
      " 21%|██        | 121/580 [01:48<35:55,  4.70s/it]"
     ]
    },
    {
     "name": "stdout",
     "output_type": "stream",
     "text": [
      "Best saved, loss: 0.71134\n",
      "Fold# 2, Epoch: 1/2, L_train: 0.65007, L_test: 0.71134, L_train_dev:0.72740\n"
     ]
    },
    {
     "name": "stderr",
     "output_type": "stream",
     "text": [
      " 26%|██▌       | 151/580 [02:14<32:27,  4.54s/it]"
     ]
    },
    {
     "name": "stdout",
     "output_type": "stream",
     "text": [
      "Fold# 2, Epoch: 1/2, L_train: 0.62186, L_test: 0.97303, L_train_dev:0.68050\n"
     ]
    },
    {
     "name": "stderr",
     "output_type": "stream",
     "text": [
      " 31%|███       | 181/580 [02:40<30:57,  4.65s/it]"
     ]
    },
    {
     "name": "stdout",
     "output_type": "stream",
     "text": [
      "Best saved, loss: 0.69903\n",
      "Fold# 2, Epoch: 1/2, L_train: 0.61197, L_test: 0.69903, L_train_dev:0.73957\n"
     ]
    },
    {
     "name": "stderr",
     "output_type": "stream",
     "text": [
      " 36%|███▋      | 211/580 [03:06<28:08,  4.58s/it]"
     ]
    },
    {
     "name": "stdout",
     "output_type": "stream",
     "text": [
      "Fold# 2, Epoch: 1/2, L_train: 0.62737, L_test: 0.70749, L_train_dev:0.62912\n"
     ]
    },
    {
     "name": "stderr",
     "output_type": "stream",
     "text": [
      " 42%|████▏     | 241/580 [03:32<25:39,  4.54s/it]"
     ]
    },
    {
     "name": "stdout",
     "output_type": "stream",
     "text": [
      "Fold# 2, Epoch: 1/2, L_train: 0.58104, L_test: 0.77234, L_train_dev:0.65805\n"
     ]
    },
    {
     "name": "stderr",
     "output_type": "stream",
     "text": [
      " 47%|████▋     | 271/580 [03:58<23:22,  4.54s/it]"
     ]
    },
    {
     "name": "stdout",
     "output_type": "stream",
     "text": [
      "Fold# 2, Epoch: 1/2, L_train: 0.62392, L_test: 0.78952, L_train_dev:0.63871\n"
     ]
    },
    {
     "name": "stderr",
     "output_type": "stream",
     "text": [
      " 52%|█████▏    | 301/580 [04:24<21:20,  4.59s/it]"
     ]
    },
    {
     "name": "stdout",
     "output_type": "stream",
     "text": [
      "Fold# 2, Epoch: 1/2, L_train: 0.59734, L_test: 0.84500, L_train_dev:0.64729\n"
     ]
    },
    {
     "name": "stderr",
     "output_type": "stream",
     "text": [
      " 57%|█████▋    | 331/580 [04:51<19:34,  4.72s/it]"
     ]
    },
    {
     "name": "stdout",
     "output_type": "stream",
     "text": [
      "Best saved, loss: 0.69685\n",
      "Fold# 2, Epoch: 1/2, L_train: 0.59872, L_test: 0.69685, L_train_dev:0.63513\n"
     ]
    },
    {
     "name": "stderr",
     "output_type": "stream",
     "text": [
      " 62%|██████▏   | 361/580 [05:17<16:34,  4.54s/it]"
     ]
    },
    {
     "name": "stdout",
     "output_type": "stream",
     "text": [
      "Fold# 2, Epoch: 1/2, L_train: 0.66930, L_test: 0.88721, L_train_dev:0.63948\n"
     ]
    },
    {
     "name": "stderr",
     "output_type": "stream",
     "text": [
      " 67%|██████▋   | 391/580 [05:43<14:17,  4.54s/it]"
     ]
    },
    {
     "name": "stdout",
     "output_type": "stream",
     "text": [
      "Fold# 2, Epoch: 1/2, L_train: 0.58253, L_test: 0.73463, L_train_dev:0.60394\n"
     ]
    },
    {
     "name": "stderr",
     "output_type": "stream",
     "text": [
      " 73%|███████▎  | 421/580 [06:09<12:03,  4.55s/it]"
     ]
    },
    {
     "name": "stdout",
     "output_type": "stream",
     "text": [
      "Fold# 2, Epoch: 1/2, L_train: 0.58126, L_test: 0.74645, L_train_dev:0.61976\n"
     ]
    },
    {
     "name": "stderr",
     "output_type": "stream",
     "text": [
      " 78%|███████▊  | 451/580 [06:35<09:48,  4.56s/it]"
     ]
    },
    {
     "name": "stdout",
     "output_type": "stream",
     "text": [
      "Fold# 2, Epoch: 1/2, L_train: 0.65532, L_test: 0.69793, L_train_dev:0.63112\n"
     ]
    },
    {
     "name": "stderr",
     "output_type": "stream",
     "text": [
      " 83%|████████▎ | 481/580 [07:01<07:31,  4.56s/it]"
     ]
    },
    {
     "name": "stdout",
     "output_type": "stream",
     "text": [
      "Fold# 2, Epoch: 1/2, L_train: 0.56680, L_test: 0.80320, L_train_dev:0.61291\n"
     ]
    },
    {
     "name": "stderr",
     "output_type": "stream",
     "text": [
      " 88%|████████▊ | 511/580 [07:27<05:12,  4.53s/it]"
     ]
    },
    {
     "name": "stdout",
     "output_type": "stream",
     "text": [
      "Fold# 2, Epoch: 1/2, L_train: 0.54861, L_test: 0.78057, L_train_dev:0.60052\n"
     ]
    },
    {
     "name": "stderr",
     "output_type": "stream",
     "text": [
      " 93%|█████████▎| 541/580 [07:53<02:56,  4.54s/it]"
     ]
    },
    {
     "name": "stdout",
     "output_type": "stream",
     "text": [
      "Fold# 2, Epoch: 1/2, L_train: 0.59689, L_test: 0.94190, L_train_dev:0.67809\n"
     ]
    },
    {
     "name": "stderr",
     "output_type": "stream",
     "text": [
      " 98%|█████████▊| 571/580 [08:19<00:41,  4.60s/it]"
     ]
    },
    {
     "name": "stdout",
     "output_type": "stream",
     "text": [
      "Fold# 2, Epoch: 1/2, L_train: 0.58992, L_test: 0.82570, L_train_dev:0.63984\n"
     ]
    },
    {
     "name": "stderr",
     "output_type": "stream",
     "text": [
      "100%|██████████| 580/580 [08:42<00:00,  1.11it/s]\n"
     ]
    },
    {
     "name": "stdout",
     "output_type": "stream",
     "text": [
      "Fold# 2, Epoch: 1/2, L_train: 0.60381, L_test: 0.74678, L_train_dev:0.63957\n"
     ]
    },
    {
     "name": "stderr",
     "output_type": "stream",
     "text": [
      "  5%|▌         | 31/580 [00:26<41:32,  4.54s/it]"
     ]
    },
    {
     "name": "stdout",
     "output_type": "stream",
     "text": [
      "Fold# 2, Epoch: 2/2, L_train: 0.56039, L_test: 0.74902, L_train_dev:0.62621\n"
     ]
    },
    {
     "name": "stderr",
     "output_type": "stream",
     "text": [
      " 11%|█         | 61/580 [00:52<39:16,  4.54s/it]"
     ]
    },
    {
     "name": "stdout",
     "output_type": "stream",
     "text": [
      "Fold# 2, Epoch: 2/2, L_train: 0.55604, L_test: 0.74465, L_train_dev:0.64078\n"
     ]
    },
    {
     "name": "stderr",
     "output_type": "stream",
     "text": [
      " 16%|█▌        | 91/580 [01:18<36:58,  4.54s/it]"
     ]
    },
    {
     "name": "stdout",
     "output_type": "stream",
     "text": [
      "Fold# 2, Epoch: 2/2, L_train: 0.58743, L_test: 0.94824, L_train_dev:0.65791\n"
     ]
    },
    {
     "name": "stderr",
     "output_type": "stream",
     "text": [
      " 21%|██        | 121/580 [01:44<34:44,  4.54s/it]"
     ]
    },
    {
     "name": "stdout",
     "output_type": "stream",
     "text": [
      "Fold# 2, Epoch: 2/2, L_train: 0.57352, L_test: 0.77833, L_train_dev:0.59444\n"
     ]
    },
    {
     "name": "stderr",
     "output_type": "stream",
     "text": [
      " 26%|██▌       | 151/580 [02:10<32:35,  4.56s/it]"
     ]
    },
    {
     "name": "stdout",
     "output_type": "stream",
     "text": [
      "Fold# 2, Epoch: 2/2, L_train: 0.58318, L_test: 0.77924, L_train_dev:0.59706\n"
     ]
    },
    {
     "name": "stderr",
     "output_type": "stream",
     "text": [
      " 31%|███       | 181/580 [02:36<30:12,  4.54s/it]"
     ]
    },
    {
     "name": "stdout",
     "output_type": "stream",
     "text": [
      "Fold# 2, Epoch: 2/2, L_train: 0.58165, L_test: 0.79451, L_train_dev:0.60087\n"
     ]
    },
    {
     "name": "stderr",
     "output_type": "stream",
     "text": [
      " 36%|███▋      | 211/580 [03:01<27:52,  4.53s/it]"
     ]
    },
    {
     "name": "stdout",
     "output_type": "stream",
     "text": [
      "Fold# 2, Epoch: 2/2, L_train: 0.54576, L_test: 0.70079, L_train_dev:0.59846\n"
     ]
    },
    {
     "name": "stderr",
     "output_type": "stream",
     "text": [
      " 42%|████▏     | 241/580 [03:27<25:38,  4.54s/it]"
     ]
    },
    {
     "name": "stdout",
     "output_type": "stream",
     "text": [
      "Fold# 2, Epoch: 2/2, L_train: 0.52896, L_test: 0.74230, L_train_dev:0.61169\n"
     ]
    },
    {
     "name": "stderr",
     "output_type": "stream",
     "text": [
      " 47%|████▋     | 271/580 [03:53<23:28,  4.56s/it]"
     ]
    },
    {
     "name": "stdout",
     "output_type": "stream",
     "text": [
      "Fold# 2, Epoch: 2/2, L_train: 0.59924, L_test: 0.77315, L_train_dev:0.61350\n"
     ]
    },
    {
     "name": "stderr",
     "output_type": "stream",
     "text": [
      " 52%|█████▏    | 301/580 [04:20<21:58,  4.72s/it]"
     ]
    },
    {
     "name": "stdout",
     "output_type": "stream",
     "text": [
      "Best saved, loss: 0.66236\n",
      "Fold# 2, Epoch: 2/2, L_train: 0.55367, L_test: 0.66236, L_train_dev:0.64868\n"
     ]
    },
    {
     "name": "stderr",
     "output_type": "stream",
     "text": [
      " 57%|█████▋    | 331/580 [04:47<19:10,  4.62s/it]"
     ]
    },
    {
     "name": "stdout",
     "output_type": "stream",
     "text": [
      "Fold# 2, Epoch: 2/2, L_train: 0.56337, L_test: 0.67448, L_train_dev:0.63107\n"
     ]
    },
    {
     "name": "stderr",
     "output_type": "stream",
     "text": [
      " 62%|██████▏   | 361/580 [05:13<16:44,  4.59s/it]"
     ]
    },
    {
     "name": "stdout",
     "output_type": "stream",
     "text": [
      "Fold# 2, Epoch: 2/2, L_train: 0.53060, L_test: 0.74619, L_train_dev:0.67950\n"
     ]
    },
    {
     "name": "stderr",
     "output_type": "stream",
     "text": [
      " 67%|██████▋   | 391/580 [05:39<14:29,  4.60s/it]"
     ]
    },
    {
     "name": "stdout",
     "output_type": "stream",
     "text": [
      "Fold# 2, Epoch: 2/2, L_train: 0.62202, L_test: 0.73478, L_train_dev:0.60537\n"
     ]
    },
    {
     "name": "stderr",
     "output_type": "stream",
     "text": [
      " 73%|███████▎  | 421/580 [06:05<12:08,  4.58s/it]"
     ]
    },
    {
     "name": "stdout",
     "output_type": "stream",
     "text": [
      "Fold# 2, Epoch: 2/2, L_train: 0.58770, L_test: 0.73417, L_train_dev:0.61177\n"
     ]
    },
    {
     "name": "stderr",
     "output_type": "stream",
     "text": [
      " 78%|███████▊  | 451/580 [06:31<09:46,  4.54s/it]"
     ]
    },
    {
     "name": "stdout",
     "output_type": "stream",
     "text": [
      "Fold# 2, Epoch: 2/2, L_train: 0.60573, L_test: 0.67981, L_train_dev:0.61338\n"
     ]
    },
    {
     "name": "stderr",
     "output_type": "stream",
     "text": [
      " 83%|████████▎ | 481/580 [06:57<07:29,  4.54s/it]"
     ]
    },
    {
     "name": "stdout",
     "output_type": "stream",
     "text": [
      "Fold# 2, Epoch: 2/2, L_train: 0.62622, L_test: 0.70172, L_train_dev:0.60590\n"
     ]
    },
    {
     "name": "stderr",
     "output_type": "stream",
     "text": [
      " 88%|████████▊ | 509/580 [07:18<01:01,  1.16it/s]\n"
     ]
    },
    {
     "ename": "KeyboardInterrupt",
     "evalue": "",
     "output_type": "error",
     "traceback": [
      "\u001B[1;31m---------------------------------------------------------------------------\u001B[0m",
      "\u001B[1;31mKeyboardInterrupt\u001B[0m                         Traceback (most recent call last)",
      "Cell \u001B[1;32mIn[17], line 24\u001B[0m\n\u001B[0;32m     21\u001B[0m \u001B[38;5;28;01mfor\u001B[39;00m i, fold \u001B[38;5;129;01min\u001B[39;00m \u001B[38;5;28menumerate\u001B[39m(folds_list, \u001B[38;5;241m1\u001B[39m):\n\u001B[0;32m     22\u001B[0m     train_loader, test_loader, train_dev_loader \u001B[38;5;241m=\u001B[39m loaders_init(score_type, batch_size, fold)\n\u001B[1;32m---> 24\u001B[0m     fold_score, best_score, n_iter, test_losses, train_losses, train_dev_losses \u001B[38;5;241m=\u001B[39m \u001B[43mtrain_model\u001B[49m\u001B[43m(\u001B[49m\u001B[43mn_epochs\u001B[49m\u001B[43m,\u001B[49m\n\u001B[0;32m     25\u001B[0m \u001B[43m                                                                                              \u001B[49m\u001B[43mlr\u001B[49m\u001B[43m,\u001B[49m\u001B[43m \u001B[49m\u001B[43mweight_decay\u001B[49m\u001B[43m,\u001B[49m\n\u001B[0;32m     26\u001B[0m \u001B[43m                                                                                              \u001B[49m\u001B[43mi\u001B[49m\u001B[43m,\u001B[49m\u001B[43m \u001B[49m\u001B[43mlr_head\u001B[49m\u001B[43m)\u001B[49m\n\u001B[0;32m     27\u001B[0m     scores_fold\u001B[38;5;241m.\u001B[39mappend((fold_score))\n\u001B[0;32m     28\u001B[0m     scores_best\u001B[38;5;241m.\u001B[39mappend(best_score)\n",
      "Cell \u001B[1;32mIn[15], line 97\u001B[0m, in \u001B[0;36mtrain_model\u001B[1;34m(n_epochs, lr, weight_decay, n_fold, lr_head)\u001B[0m\n\u001B[0;32m     93\u001B[0m losses_train_per_epoch\u001B[38;5;241m.\u001B[39mappend(loss\u001B[38;5;241m.\u001B[39mitem())\n\u001B[0;32m     95\u001B[0m \u001B[38;5;28;01mif\u001B[39;00m j\u001B[38;5;241m%\u001B[39m\u001B[38;5;241m30\u001B[39m \u001B[38;5;241m==\u001B[39m \u001B[38;5;241m0\u001B[39m \u001B[38;5;129;01mor\u001B[39;00m j \u001B[38;5;241m==\u001B[39m \u001B[38;5;28mlen\u001B[39m(train_loader):\n\u001B[1;32m---> 97\u001B[0m     losses_test_per_epoch, losses_test_dev_epoch \u001B[38;5;241m=\u001B[39m \u001B[43mvalidate_model\u001B[49m\u001B[43m(\u001B[49m\u001B[43mmodel\u001B[49m\u001B[43m,\u001B[49m\u001B[43m \u001B[49m\u001B[43mloss_func\u001B[49m\u001B[43m)\u001B[49m\n\u001B[0;32m     98\u001B[0m     losses_test_mean \u001B[38;5;241m=\u001B[39m np\u001B[38;5;241m.\u001B[39mmean(losses_test_per_epoch)\n\u001B[0;32m     99\u001B[0m     losses_train_mean \u001B[38;5;241m=\u001B[39m np\u001B[38;5;241m.\u001B[39mmean(losses_train_per_epoch)\n",
      "Cell \u001B[1;32mIn[15], line 18\u001B[0m, in \u001B[0;36mvalidate_model\u001B[1;34m(model, loss_func)\u001B[0m\n\u001B[0;32m     14\u001B[0m         outputs \u001B[38;5;241m=\u001B[39m model(inputs)\n\u001B[0;32m     16\u001B[0m     loss \u001B[38;5;241m=\u001B[39m loss_func(outputs\u001B[38;5;241m.\u001B[39msqueeze(), targets)\n\u001B[1;32m---> 18\u001B[0m     losses_epoch_test\u001B[38;5;241m.\u001B[39mappend(\u001B[43mloss\u001B[49m\u001B[38;5;241;43m.\u001B[39;49m\u001B[43mitem\u001B[49m\u001B[43m(\u001B[49m\u001B[43m)\u001B[49m)\n\u001B[0;32m     20\u001B[0m \u001B[38;5;28;01mif\u001B[39;00m train_dev_split:\n\u001B[0;32m     22\u001B[0m     \u001B[38;5;28;01mfor\u001B[39;00m inputs, targets \u001B[38;5;129;01min\u001B[39;00m train_dev_loader:\n",
      "\u001B[1;31mKeyboardInterrupt\u001B[0m: "
     ]
    },
    {
     "data": {
      "text/plain": "<Figure size 1200x400 with 0 Axes>"
     },
     "metadata": {},
     "output_type": "display_data"
    },
    {
     "data": {
      "text/plain": "<Figure size 1200x400 with 4 Axes>",
      "image/png": "[encoded data removed]"
     },
     "metadata": {},
     "output_type": "display_data"
    }
   ],
   "source": [
    "# def cross_validation():\n",
    "with open(prompts_train_path, encoding='utf-8') as f:\n",
    "    prompts = pd.read_csv(f)\n",
    "#     prompts = prompts[prompts.prompt_id != '3b9047'].reset_index(drop=True)\n",
    "\n",
    "plt.figure(figsize=(12,4))\n",
    "\n",
    "folds_list = list(prompts.prompt_id)\n",
    "score_type = 'wording'\n",
    "batch_size = 8\n",
    "lr = 1e-04\n",
    "lr_head = lr\n",
    "weight_decay = 1e-04\n",
    "n_epochs = 2\n",
    "\n",
    "scores_best = []\n",
    "scores_fold = []\n",
    "\n",
    "fig, axs = plt.subplots(1, len(folds_list), figsize=(12,4), layout='tight')\n",
    "\n",
    "for i, fold in enumerate(folds_list, 1):\n",
    "    train_loader, test_loader, train_dev_loader = loaders_init(score_type, batch_size, fold)\n",
    "\n",
    "    fold_score, best_score, n_iter, test_losses, train_losses, train_dev_losses = train_model(n_epochs,\n",
    "                                                                                              lr, weight_decay,\n",
    "                                                                                              i, lr_head)\n",
    "    scores_fold.append((fold_score))\n",
    "    scores_best.append(best_score)\n",
    "\n",
    "    axs[i-1] = axis_set(axs[i-1])\n",
    "\n",
    "mean_best_score = np.mean(scores_best)\n",
    "mean_fold_score = np.mean(scores_fold)\n",
    "\n",
    "fig.suptitle(f'CV_best={mean_best_score:.5f}, CV_fold={mean_fold_score:.5f}, lr={lr}')\n",
    "fig.savefig('res_figure.png', dpi=200)"
   ],
   "metadata": {
    "collapsed": false
   }
  },
  {
   "cell_type": "code",
   "execution_count": null,
   "outputs": [],
   "source": [
    "fig.set_figwidth(6)"
   ],
   "metadata": {
    "collapsed": false
   }
  },
  {
   "cell_type": "code",
   "execution_count": null,
   "outputs": [],
   "source": [
    "fig"
   ],
   "metadata": {
    "collapsed": false
   }
  }
 ],
 "metadata": {
  "kernelspec": {
   "display_name": "Python 3",
   "language": "python",
   "name": "python3"
  },
  "language_info": {
   "codemirror_mode": {
    "name": "ipython",
    "version": 2
   },
   "file_extension": ".py",
   "mimetype": "text/x-python",
   "name": "python",
   "nbconvert_exporter": "python",
   "pygments_lexer": "ipython2",
   "version": "2.7.6"
  }
 },
 "nbformat": 4,
 "nbformat_minor": 0
}
