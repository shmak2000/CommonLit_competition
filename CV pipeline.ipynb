{
 "cells": [
  {
   "cell_type": "code",
   "execution_count": 1,
   "id": "4d7080d2",
   "metadata": {},
   "outputs": [],
   "source": [
    "import math\n",
    "from tqdm import tqdm\n",
    "from datetime import datetime\n",
    "import pandas as pd\n",
    "import numpy as np\n",
    "import os\n",
    "import torch\n",
    "import sentence_transformers\n",
    "import matplotlib.pyplot as plt\n",
    "from matplotlib import ticker\n",
    "%matplotlib inline\n",
    "import torch.nn as nn\n",
    "\n",
    "from transformers import BertTokenizer, BertModel, pipeline, BartModel\n",
    "from transformers import RobertaTokenizer, RobertaModel, AutoConfig\n",
    "\n",
    "from sentence_transformers.util import cos_sim\n",
    "from sentence_transformers import SentenceTransformer, models\n",
    "from torch.utils.data import DataLoader, Dataset, random_split\n",
    "from sklearn.metrics.pairwise import cosine_similarity\n",
    "import torch.nn.functional as F\n",
    "\n",
    "from collections import OrderedDict\n",
    "\n",
    "import textstat"
   ]
  },
  {
   "cell_type": "code",
   "execution_count": 2,
   "id": "8e8ee8c3",
   "metadata": {},
   "outputs": [
    {
     "name": "stdout",
     "output_type": "stream",
     "text": [
      "cuda:0\n"
     ]
    }
   ],
   "source": [
    "device = 'cuda:0' if torch.cuda.is_available() else 'cpu'\n",
    "print(device)"
   ]
  },
  {
   "cell_type": "code",
   "execution_count": 3,
   "id": "8c88ad58",
   "metadata": {},
   "outputs": [],
   "source": [
    "model_name = 'roberta-base'\n",
    "size = 768"
   ]
  },
  {
   "cell_type": "code",
   "execution_count": 4,
   "id": "5e55764b",
   "metadata": {},
   "outputs": [],
   "source": [
    "def config_model():\n",
    "    configuration = AutoConfig.from_pretrained(model_name)\n",
    "\n",
    "    configuration.hidden_dropout_prob = 0.0\n",
    "    configuration.attention_probs_dropout_prob = 0.0\n",
    "    configuration.classifier_dropout = 0.0\n",
    "    \n",
    "    return configuration"
   ]
  },
  {
   "cell_type": "code",
   "execution_count": 5,
   "id": "c472860a",
   "metadata": {},
   "outputs": [
    {
     "name": "stderr",
     "output_type": "stream",
     "text": [
      "Some weights of RobertaModel were not initialized from the model checkpoint at roberta-base and are newly initialized: ['roberta.pooler.dense.weight', 'roberta.pooler.dense.bias']\n",
      "You should probably TRAIN this model on a down-stream task to be able to use it for predictions and inference.\n"
     ]
    }
   ],
   "source": [
    "# ROBERTa model\n",
    "\n",
    "tokenizer = RobertaTokenizer.from_pretrained(model_name)\n",
    "embeddings_model = RobertaModel.from_pretrained(model_name, config=config_model())\n",
    "summarizer = pipeline(\"summarization\", model=\"bart-large-cnn\")"
   ]
  },
  {
   "cell_type": "markdown",
   "id": "8c05e4c1",
   "metadata": {},
   "source": [
    "## Data"
   ]
  },
  {
   "cell_type": "code",
   "execution_count": 6,
   "id": "fee86d97",
   "metadata": {},
   "outputs": [],
   "source": [
    "summaries_train_path = r\"dataset\\summaries_train.csv\"\n",
    "summaries_test_path = r\"dataset\\summaries_test.csv\"\n",
    "prompts_train_path = r\"dataset\\prompts_train.csv\"\n",
    "prompts_test_path = r\"dataset\\prompts_test.csv\""
   ]
  },
  {
   "cell_type": "code",
   "execution_count": 7,
   "id": "67f3f7a8",
   "metadata": {},
   "outputs": [],
   "source": [
    "def norm_score(df: pd.DataFrame) -> pd.DataFrame:\n",
    "    \"\"\"Normilizing score to values 0 to 1\"\"\"\n",
    "    df -= np.min(df)\n",
    "    df /= df.max()\n",
    "    print('Normilized' if df.min() == 0.0 and df.max() == 1.0 else 'NormError:wrong values')\n",
    "    \n",
    "    return df\n",
    "\n",
    "def short_text(text, max_length=512) -> str:\n",
    "    if len(text.split()) > 700:\n",
    "        middle_point = text[len(text)//2:].index('.') + len(text)//2 + 1\n",
    "        text_pt1 = text[:middle_point]\n",
    "        text_pt2 = text[middle_point:]\n",
    "        \n",
    "        text = short_text(text_pt1) + short_text(text_pt2)\n",
    "        \n",
    "    summarized = summarizer(text, max_length=max_length, min_length=300, do_sample=False)\n",
    "    \n",
    "    return summarized[0]['summary_text']\n",
    "\n",
    "def moving_average(array: np.array, betta=0.9) -> np.array:\n",
    "    \"\"\"\n",
    "    Computing moving average with bias correction.\n",
    "    \"\"\"\n",
    "    \n",
    "    V = 0\n",
    "    average_array = np.zeros(len(array))\n",
    "    for i in range(len(array)):\n",
    "        V = betta * V + (1 - betta) * array[i]\n",
    "        average_array[i] = V/(1 - pow(betta, i+1))\n",
    "        \n",
    "    return average_array\n",
    "\n",
    "\n",
    "\n",
    "def mean_pooling(outputs, batch) -> torch.tensor:\n",
    "    \n",
    "    attention_mask = batch['attention_mask']\n",
    "    embeddings = outputs.last_hidden_state\n",
    "    \n",
    "    mask = attention_mask.unsqueeze(-1).expand(embeddings.size()).float()\n",
    "    masked_embeddings = embeddings * mask\n",
    "    \n",
    "    summed = torch.sum(masked_embeddings, 1)\n",
    "    summed_mask = torch.clamp(mask.sum(dim=1), min=1e-9)\n",
    "    \n",
    "    mean_pooled = summed/summed_mask\n",
    "    \n",
    "    return mean_pooled\n",
    "\n",
    "def normilize(df_column: pd.DataFrame):\n",
    "    \n",
    "    df_column = (df_column - df_column.mean())/df_column.std()\n",
    "    \n",
    "    return df_column\n",
    "\n",
    "def get_stat_features(df, text_col=\"text\"):\n",
    "    \n",
    "    df[\"num_unique_words\"] = normilize(df[text_col].apply(lambda x: len(set(x.split()))))\n",
    "    df[\"num_words\"] = normilize(df[text_col].apply(lambda x: len(x.split())))\n",
    "    df[\"num_sentences\"] = normilize(df[text_col].apply(lambda x: len(x.split('.'))))\n",
    "    \n",
    "    df[\"syntax_count\"] = normilize(df[text_col].apply(lambda x: x.count(\",\") \n",
    "                                                      + x.count(\"-\") + x.count(\";\") + x.count(\":\")))\n",
    "    df['smog_index'] = normilize(df[text_col].apply(lambda x: textstat.smog_index(x)))\n",
    "    # df['cos_sim'] =\n",
    "    \n",
    "    return df"
   ]
  },
  {
   "cell_type": "code",
   "execution_count": 9,
   "id": "f8b6081c",
   "metadata": {},
   "outputs": [],
   "source": [
    "class SentenseData(Dataset):\n",
    "    \"\"\"\n",
    "    :params: path to csv file with summaries, path to csv file with prompts, 'score' param\\\n",
    "    defines which score is used: content/wording\n",
    "    \"\"\"\n",
    "    def __init__(self, summaries_path=summaries_train_path,\n",
    "                 prompts_path=prompts_train_path,\n",
    "                 score='wording', test=False, fold_test='ebad26'):\n",
    "        self.test = test\n",
    "        self.score_type = score\n",
    "        self.fold_test = fold_test\n",
    "        \n",
    "        with open(summaries_path, encoding='utf-8') as f:\n",
    "            summaries = pd.read_csv(f)\n",
    "            summaries = get_stat_features(summaries)\n",
    "            \n",
    "            self.summaries = summaries\n",
    "            \n",
    "        with open(prompts_path, encoding='utf-8') as f:\n",
    "            prompts = pd.read_csv(f)\n",
    "#             prompts = prompts[prompts.prompt_id != '3b9047'].reset_index(drop=True)\n",
    "            self.prompts = prompts\n",
    "\n",
    "        \n",
    "    def __len__(self):\n",
    "        return len(self.__summaries)\n",
    "    \n",
    "    @property\n",
    "    def summaries(self):\n",
    "        return self.__summaries\n",
    "    \n",
    "    @summaries.setter\n",
    "    def summaries(self, df):\n",
    "        if self.test:\n",
    "            self.__summaries = df[df.prompt_id == self.fold_test].reset_index(drop=True)\n",
    "            \n",
    "        else:\n",
    "            self.__summaries = df[df.prompt_id != self.fold_test].reset_index(drop=True)\n",
    "    \n",
    "    @property\n",
    "    def prompts(self):\n",
    "        return self.__prompts\n",
    "    \n",
    "    @prompts.setter\n",
    "    def prompts(self, file):\n",
    "        self.__prompts = file\n",
    "#         for i, text in enumerate(self.__prompts.prompt_text):\n",
    "#             if len(text.split()) > 600:\n",
    "#                 self.__prompts.prompt_text[i] = short_text(text)\n",
    "    \n",
    "    def get_batch_text(self, index):\n",
    "        summary_text = self.summaries.text[index]\n",
    "        \n",
    "        if True:#self.score_type == 'wording':\n",
    "            res = tokenizer(summary_text, padding='max_length', return_tensors='pt', truncation=True)\n",
    "            res = {k:val.squeeze() for k, val in res.items()}\n",
    "            res['features'] = torch.tensor([self.summaries['num_unique_words'][index], self.summaries['num_words'][index],\n",
    "                                  self.summaries['num_sentences'][index],self.summaries['syntax_count'][index],\n",
    "                                  self.summaries['smog_index'][index]], dtype=torch.float32)\n",
    "            \n",
    "            return res\n",
    "            \n",
    "        prompt_text = self.prompts.prompt_text[self.prompts.prompt_id ==\n",
    "                                               self.summaries.prompt_id[index]].item().replace('\\n','')\n",
    "        \n",
    "        return tokenizer([summary_text, prompt_text], padding='max_length', return_tensors='pt', truncation=True)\n",
    "    \n",
    "    def get_score(self, index):\n",
    "        if self.score_type == 'content':\n",
    "            score = self.summaries.content[index]\n",
    "            \n",
    "        elif self.score_type == 'wording':\n",
    "            score = self.summaries.wording[index]\n",
    "        \n",
    "        return torch.tensor(score)\n",
    "        \n",
    "    def __getitem__(self, index) -> torch.tensor:\n",
    "\n",
    "        batch_text = self.get_batch_text(index)\n",
    "        batch_score = self.get_score(index)\n",
    "        \n",
    "        return batch_text, batch_score"
   ]
  },
  {
   "cell_type": "markdown",
   "id": "2dd5b663",
   "metadata": {},
   "source": [
    "## Model"
   ]
  },
  {
   "cell_type": "code",
   "execution_count": 9,
   "id": "476829dc",
   "metadata": {},
   "outputs": [],
   "source": [
    "class STSBertModel(nn.Module):\n",
    "    \"\"\"\n",
    "    Sentence Semantic Similarity Bert model\n",
    "    :param: seg_head=True for using segmentation head instead of cosine similarity\n",
    "    :param: freeze_weights=True to freeze BERT model's weights and train only the segmentation head\n",
    "    \"\"\"\n",
    "    def __init__(self, with_features=False, input_size=size):\n",
    "        super(STSBertModel, self).__init__()\n",
    "        \n",
    "        self.word_embedding = RobertaModel.from_pretrained(model_name, config=config_model())\n",
    "        self.cos_score = nn.CosineSimilarity(dim=0)\n",
    "        self.identity = nn.Identity()\n",
    "        self.input_size = input_size\n",
    "        self.with_features = with_features\n",
    "\n",
    "        if with_features:\n",
    "            self.n_features = 5\n",
    "            self.input_size += self.n_features\n",
    "\n",
    "        # for param in self.word_embedding.parameters():\n",
    "        #     param.requires_grad = False\n",
    "\n",
    "        self.attention = SelfAttention(self.input_size)\n",
    "        self.block = AttentionBlock(input_size)\n",
    "\n",
    "        self.FC_head = nn.Sequential(OrderedDict([\n",
    "            ('fc1', nn.Linear(self.input_size, 1024)),\n",
    "            ('relu1', nn.ReLU()),\n",
    "            ('fc2', nn.Linear(1024, self.input_size)),\n",
    "            ('relu2', nn.ReLU())\n",
    "            ]))\n",
    "\n",
    "        self.FC_output = nn.Sequential(OrderedDict([\n",
    "            ('fc1', nn.Linear(self.input_size, 1)),\n",
    "            ]))\n",
    "    \n",
    "    def forward(self, x):\n",
    "        output = self.word_embedding(input_ids=x['input_ids'], attention_mask=x['attention_mask'])\n",
    "        output = mean_pooling(output, x)\n",
    "        \n",
    "        if self.with_features:            \n",
    "            output = torch.cat((output, x['features']), dim=1)\n",
    "\n",
    "        identity = output.unsqueeze(1)\n",
    "\n",
    "        output = self.attention(identity)\n",
    "        output = self.FC_head(output)\n",
    "\n",
    "        output = self.attention(output)\n",
    "        output = self.FC_head(output)\n",
    "\n",
    "        output = self.attention(output)\n",
    "        output = self.FC_output(output)\n",
    "        \n",
    "        return output"
   ]
  },
  {
   "cell_type": "code",
   "execution_count": 10,
   "outputs": [],
   "source": [
    "class AttentionBlock(nn.Module):\n",
    "    def __init__(self, input_dim):\n",
    "        super(AttentionBlock, self).__init__()\n",
    "\n",
    "        self.input_dim = input_dim\n",
    "        self.fc = nn.Linear(input_dim, input_dim)\n",
    "        self.attention = SelfAttention(input_dim)\n",
    "        self.relu = nn.ReLU()\n",
    "        self.norm = nn.BatchNorm2d()\n",
    "\n",
    "    def forward(self, x):\n",
    "        identity = x\n",
    "\n",
    "        x = self.attention(x)\n",
    "        x = self.fc(x)\n",
    "\n",
    "        x += identity\n",
    "        x = self.norm(x)\n",
    "        x = self.relu(x)\n",
    "\n",
    "        return x"
   ],
   "metadata": {
    "collapsed": false
   }
  },
  {
   "cell_type": "code",
   "execution_count": 10,
   "id": "018138e3",
   "metadata": {},
   "outputs": [],
   "source": [
    "class SelfAttention(nn.Module):\n",
    "    def __init__(self, input_dim):\n",
    "        super(SelfAttention, self).__init__()\n",
    "        self.input_dim = input_dim\n",
    "        self.query = nn.Linear(input_dim, input_dim)\n",
    "        self.key = nn.Linear(input_dim, input_dim)\n",
    "        self.value = nn.Linear(input_dim, input_dim)\n",
    "        self.softmax = nn.Softmax(dim=2)\n",
    "        \n",
    "    def forward(self, x):\n",
    "        queries = self.query(x)\n",
    "        keys = self.key(x)\n",
    "        values = self.value(x)\n",
    "        scores = torch.bmm(queries, keys.transpose(1, 2)) / (self.input_dim ** 0.5)\n",
    "        attention = self.softmax(scores)\n",
    "        weighted = torch.bmm(attention, values)\n",
    "        return weighted\n",
    "    "
   ]
  },
  {
   "cell_type": "code",
   "execution_count": 10,
   "id": "8c83e7f1",
   "metadata": {},
   "outputs": [],
   "source": [
    "# class STSBertModel(nn.Module):\n",
    "#     \"\"\"\n",
    "#     Sentence Semantic Similarity Bert model\n",
    "#     :param: seg_head=True for using segmentation head instead of cosine similarity\n",
    "#     :param: freeze_weights=True to freeze BERT model's weights and train only the segmentation head\n",
    "#     \"\"\"\n",
    "#     def __init__(self, seg_head=False, freeze_weights=False, input_size=768):\n",
    "#         super(STSBertModel, self).__init__()\n",
    "        \n",
    "#         self.word_embedding = RobertaModel.from_pretrained('roberta-base', config=config_model())\n",
    "#         self.cos_sim = nn.CosineSimilarity(dim=0)\n",
    "#         self.identity = nn.Identity()\n",
    "#         self.seg_head = seg_head\n",
    "#         self.fc = nn.Sequential(OrderedDict([\n",
    "#             ('fc1', nn.Linear(input_size*2, 1024)),\n",
    "#             ('tanh', nn.Tanh()),\n",
    "#             ('fc2', nn.Linear(1024, 256)),\n",
    "#             ('tanh', nn.Tanh()),\n",
    "#             ('output', nn.Linear(256, 1)),\n",
    "#         ]))\n",
    "        \n",
    "        \n",
    "#         if seg_head:\n",
    "# #             self.FC_head = SbertHead(inputs=768)\n",
    "#             self.FC_head = nn.Sequential(OrderedDict([\n",
    "# #                 ('dropout1', nn.Dropout(0.2)),\n",
    "#                 ('fc_input', nn.Linear(input_size, 1024)),\n",
    "#                 ('relu1', nn.ReLU()),\n",
    "#                 ('fc1', nn.Linear(1024,1024)),\n",
    "# #                 ('dropout2', nn.Dropout(0.2)),\n",
    "# #                 ('batch_norm1', nn.BatchNorm1d(1024)),\n",
    "#                 ('relu2', nn.ReLU()),\n",
    "#                 ('fc2', nn.Linear(1024, 512)),\n",
    "#                 ('relu3', nn.ReLU()),\n",
    "# #                 ('dropout2', nn.Dropout(0.2)),\n",
    "#                 ('fc3', nn.Linear(512, 512)),\n",
    "# #                 ('batch_norm2', nn.BatchNorm1d(512)),\n",
    "#                 ('relu4', nn.ReLU()),\n",
    "#                 ('fc4', nn.Linear(512, 256)),\n",
    "# #                 ('batch_norm3', nn.BatchNorm1d(256)),\n",
    "#                 ('relu5', nn.ReLU()),\n",
    "# #                 ('dropout3', nn.Dropout(0.2)),\n",
    "#                 ('fc5', nn.Linear(256, 64)),\n",
    "#                 ('relu6', nn.ReLU()),\n",
    "#                 ('fc_output', nn.Linear(64, 1))\n",
    "# #                 ('activation', nn.Sigmoid())\n",
    "#             ]))\n",
    "            \n",
    "#         if freeze_weights:\n",
    "#             self.freeze()\n",
    "    \n",
    "#     def freeze(self):\n",
    "#         for param in self.word_embedding.parameters():\n",
    "#             param.requires_grad = False\n",
    "    \n",
    "#     @staticmethod\n",
    "#     def mean_pooling(outputs, batch) -> torch.tensor:\n",
    "        \n",
    "#         attention_mask = batch['attention_mask']\n",
    "#         embeddings = outputs.last_hidden_state\n",
    "    \n",
    "#         mask = attention_mask.unsqueeze(-1).expand(embeddings.size()).float()\n",
    "#         masked_embeddings = embeddings * mask\n",
    "    \n",
    "#         summed = torch.sum(masked_embeddings, 1)\n",
    "#         summed_mask = torch.clamp(mask.sum(dim=1), min=1e-9)\n",
    "    \n",
    "#         mean_pooled = summed/summed_mask\n",
    "    \n",
    "#         return mean_pooled\n",
    "    \n",
    "#     def cos_score(self, x):\n",
    "#         embedding_1 = x[0]\n",
    "#         embedding_2 = x[1]\n",
    "#         emb = torch.concat((embedding_1, embedding_2))\n",
    "        \n",
    "        \n",
    "        \n",
    "#         cos_score = self.fc(emb)\n",
    "        \n",
    "# #         cos_score = self.cos_sim(embedding_1, embedding_2)\n",
    "# #         cos_score = torch.sigmoid(cos_score)\n",
    "        \n",
    "#         return cos_score\n",
    "    \n",
    "#     def forward(self, x):\n",
    "#         output = self.word_embedding(**x)\n",
    "#         output = self.mean_pooling(output, x)\n",
    "# #         output = output[1]\n",
    "        \n",
    "#         if self.seg_head:\n",
    "#             output = self.FC_head(output)\n",
    "        \n",
    "#         else:\n",
    "#             output = self.cos_score(output)\n",
    "        \n",
    "#         return output"
   ]
  },
  {
   "cell_type": "code",
   "execution_count": null,
   "id": "a00e9787",
   "metadata": {},
   "outputs": [],
   "source": [
    "# score_type = 'wording'\n",
    "# batch_size = 15\n",
    "\n",
    "# test_data = SentenseData(test=True, score=score_type)\n",
    "# train_data = SentenseData(score=score_type)\n",
    "\n",
    "# train_loader = DataLoader(train_data,\n",
    "#                            batch_size=batch_size,\n",
    "#                            shuffle=True)\n",
    "\n",
    "# test_loader = DataLoader(test_data,\n",
    "#                           batch_size=batch_size,\n",
    "#                           shuffle=True)"
   ]
  },
  {
   "cell_type": "markdown",
   "id": "0efd3ae4",
   "metadata": {},
   "source": [
    "## Training"
   ]
  },
  {
   "cell_type": "code",
   "execution_count": null,
   "id": "2afc642a",
   "metadata": {},
   "outputs": [],
   "source": [
    "# model = STSBertModel(seg_head=True, freeze_weights=False)\n",
    "\n",
    "# model.float()\n",
    "\n",
    "# model.to(device)"
   ]
  },
  {
   "cell_type": "code",
   "execution_count": null,
   "id": "851d3cef",
   "metadata": {},
   "outputs": [],
   "source": [
    "# Loss_func = nn.MSELoss()\n",
    "\n",
    "# optimizer = torch.optim.AdamW(model.parameters(), lr=2e-06, weight_decay=2e-04)\n",
    "\n",
    "# lr_scheduler = torch.optim.lr_scheduler.StepLR(optimizer, 2, gamma=0.5)\n",
    "\n",
    "# scaler = torch.cuda.amp.GradScaler()"
   ]
  },
  {
   "cell_type": "code",
   "execution_count": 11,
   "id": "adf62655",
   "metadata": {},
   "outputs": [],
   "source": [
    "def validate_model(model, loss_func):\n",
    "\n",
    "    losses_epoch_test = []\n",
    "    \n",
    "    model.eval()\n",
    "    with torch.no_grad():\n",
    "        for inputs, targets in test_loader:\n",
    "            targets = targets.float().to(device)\n",
    "            if True:\n",
    "                inputs = {k:val.squeeze().to(device) for k, val in inputs.items()}\n",
    "                \n",
    "                with torch.no_grad():\n",
    "                    outputs = model(inputs)\n",
    "                    \n",
    "            else:\n",
    "                outputs = torch.stack([model(sentence.to(device)) for sentence in inputs])\n",
    "\n",
    "\n",
    "            loss = torch.sqrt(loss_func(outputs.squeeze(), targets))\n",
    "\n",
    "            \n",
    "            losses_epoch_test.append(loss.item())\n",
    "    \n",
    "    return losses_epoch_test\n",
    "\n",
    "def train_model(n_epochs, lr, weight_decay, n_fold):\n",
    "    \n",
    "    model = STSBertModel(with_features=True)\n",
    "    \n",
    "    model.float()\n",
    "    model.to(device)\n",
    "    \n",
    "    params = [\n",
    "        {'params': model.word_embedding.parameters()},\n",
    "        {'params': model.attention.parameters(), 'lr': 5e-05},\n",
    "        {'params': model.FC_head.parameters(), 'lr': 5e-05},\n",
    "        {'params': model.FC_output.parameters(), 'lr': 5e-05}\n",
    "    ]\n",
    "    \n",
    "    loss_func = nn.MSELoss()\n",
    "    optimizer = torch.optim.AdamW(params, lr=lr, weight_decay=weight_decay)\n",
    "    lr_scheduler = torch.optim.lr_scheduler.StepLR(optimizer, 2, gamma=0.5)\n",
    "    scaler = torch.cuda.amp.GradScaler()\n",
    "    \n",
    "    losses_train = []\n",
    "    losses_test = []\n",
    "    t0 = datetime.now()\n",
    "\n",
    "    for i in range(n_epochs):\n",
    "    \n",
    "        losses_train_per_epoch = []\n",
    "    \n",
    "        for j, batch in enumerate(tqdm(train_loader, position=0, leave=True), 1):\n",
    "            inputs, targets = batch\n",
    "            targets = targets.float().to(device)\n",
    "        \n",
    "            model.train()\n",
    "        \n",
    "            optimizer.zero_grad()\n",
    "        \n",
    "            with torch.autocast(device_type='cuda', dtype=torch.float16):\n",
    "                inputs = {k:val.squeeze().to(device) for k, val in inputs.items()}\n",
    "                outputs = model(inputs)\n",
    "            \n",
    "                loss = torch.sqrt(loss_func(outputs.squeeze(), targets))\n",
    "            \n",
    "            scaler.scale(loss).backward()\n",
    "            scaler.step(optimizer)\n",
    "        \n",
    "            scaler.update()\n",
    "        \n",
    "            losses_train_per_epoch.append(loss.item())\n",
    "        \n",
    "            if j%30 == 0 or j == len(train_loader):\n",
    "            \n",
    "                losses_test_per_epoch = validate_model(model, loss_func)\n",
    "                losses_test_mean = np.mean(losses_test_per_epoch)\n",
    "                losses_train_mean = np.mean(losses_train_per_epoch)\n",
    "            \n",
    "                losses_train.append(losses_train_mean)\n",
    "                losses_test.append(losses_test_mean)\n",
    "            \n",
    "                if losses_test_mean == np.min(losses_test):\n",
    "                    best_score = losses_test_mean\n",
    "                    n_iter = len(losses_train)\n",
    "                    torch.save(model.state_dict(), r'models\\cv\\best__fold_{}.pt'.format(n_fold))\n",
    "                    print(f'Best saved, loss: {best_score:.5f}')\n",
    "                \n",
    "                print(f'Fold# {n_fold}, Epoch: {i+1}/{n_epochs}, L_train: {losses_train_mean:.5f},\\\n",
    "                L_test: {losses_test_mean:.5f}') \n",
    "            \n",
    "        torch.cuda.empty_cache()\n",
    "\n",
    "    print(f\"Time elapsed:{datetime.now()-t0}, Best score:{best_score:.5f}\")\n",
    "    \n",
    "    return best_score, n_iter, losses_test, losses_train"
   ]
  },
  {
   "cell_type": "markdown",
   "id": "ddc74e7f",
   "metadata": {},
   "source": [
    "## CV"
   ]
  },
  {
   "cell_type": "code",
   "execution_count": 12,
   "id": "54030204",
   "metadata": {},
   "outputs": [],
   "source": [
    "def loaders_init(score_type, batch_size, fold):\n",
    "    \n",
    "    test_data = SentenseData(test=True, score=score_type, fold_test=fold)\n",
    "    train_data = SentenseData(score=score_type, fold_test=fold)\n",
    "    \n",
    "    train_loader = DataLoader(train_data,\n",
    "                           batch_size=batch_size,\n",
    "                           shuffle=True, drop_last=True)\n",
    "\n",
    "    test_loader = DataLoader(test_data,\n",
    "                          batch_size=batch_size,\n",
    "                          shuffle=True, drop_last=True)\n",
    "    \n",
    "    return train_loader, test_loader\n",
    "\n",
    "def axis_set(ax):\n",
    "\n",
    "    ax.plot(test_losses, label='test')\n",
    "    ax.plot(train_losses, label='train')\n",
    "    ax.scatter(n_iter - 1, best_score, label='min')\n",
    "    ax.set_title(f'#{i}, min: {best_score:.5f}', loc='left')\n",
    "    ax.xaxis.set_major_locator(ticker.LinearLocator(n_epochs + 1))\n",
    "    ax.xaxis.set_major_formatter(ticker.FixedFormatter(range(n_epochs)))\n",
    "    ax.legend()\n",
    "\n",
    "    return ax"
   ]
  },
  {
   "cell_type": "code",
   "execution_count": 13,
   "id": "05444cb2",
   "metadata": {},
   "outputs": [
    {
     "name": "stderr",
     "output_type": "stream",
     "text": [
      "Some weights of RobertaModel were not initialized from the model checkpoint at roberta-large and are newly initialized: ['roberta.pooler.dense.weight', 'roberta.pooler.dense.bias']\n",
      "You should probably TRAIN this model on a down-stream task to be able to use it for predictions and inference.\n",
      "  3%|▎         | 30/1021 [03:44<15:00:02, 54.49s/it]"
     ]
    },
    {
     "name": "stdout",
     "output_type": "stream",
     "text": [
      "Best saved, loss: 1.00661\n",
      "Fold# 1, Epoch: 1/5, L_train: 0.96669,                L_test: 1.00661\n"
     ]
    },
    {
     "name": "stderr",
     "output_type": "stream",
     "text": [
      "  6%|▌         | 60/1021 [06:05<8:42:41, 32.63s/it] "
     ]
    },
    {
     "name": "stdout",
     "output_type": "stream",
     "text": [
      "Best saved, loss: 0.95040\n",
      "Fold# 1, Epoch: 1/5, L_train: 0.91891,                L_test: 0.95040\n"
     ]
    },
    {
     "name": "stderr",
     "output_type": "stream",
     "text": [
      "  9%|▉         | 90/1021 [09:43<14:35:51, 56.45s/it]"
     ]
    },
    {
     "name": "stdout",
     "output_type": "stream",
     "text": [
      "Best saved, loss: 0.80953\n",
      "Fold# 1, Epoch: 1/5, L_train: 0.88350,                L_test: 0.80953\n"
     ]
    },
    {
     "name": "stderr",
     "output_type": "stream",
     "text": [
      " 12%|█▏        | 120/1021 [14:44<20:41:42, 82.69s/it]"
     ]
    },
    {
     "name": "stdout",
     "output_type": "stream",
     "text": [
      "Best saved, loss: 0.61838\n",
      "Fold# 1, Epoch: 1/5, L_train: 0.84411,                L_test: 0.61838\n"
     ]
    },
    {
     "name": "stderr",
     "output_type": "stream",
     "text": [
      " 15%|█▍        | 150/1021 [19:01<16:57:02, 70.06s/it]"
     ]
    },
    {
     "name": "stdout",
     "output_type": "stream",
     "text": [
      "Fold# 1, Epoch: 1/5, L_train: 0.81245,                L_test: 0.72506\n"
     ]
    },
    {
     "name": "stderr",
     "output_type": "stream",
     "text": [
      " 18%|█▊        | 180/1021 [20:26<4:15:15, 18.21s/it] "
     ]
    },
    {
     "name": "stdout",
     "output_type": "stream",
     "text": [
      "Best saved, loss: 0.58555\n",
      "Fold# 1, Epoch: 1/5, L_train: 0.78899,                L_test: 0.58555\n"
     ]
    },
    {
     "name": "stderr",
     "output_type": "stream",
     "text": [
      " 21%|██        | 210/1021 [21:49<3:56:53, 17.53s/it]"
     ]
    },
    {
     "name": "stdout",
     "output_type": "stream",
     "text": [
      "Fold# 1, Epoch: 1/5, L_train: 0.77142,                L_test: 0.61118\n"
     ]
    },
    {
     "name": "stderr",
     "output_type": "stream",
     "text": [
      " 24%|██▎       | 240/1021 [23:13<3:55:09, 18.07s/it]"
     ]
    },
    {
     "name": "stdout",
     "output_type": "stream",
     "text": [
      "Best saved, loss: 0.56877\n",
      "Fold# 1, Epoch: 1/5, L_train: 0.76294,                L_test: 0.56877\n"
     ]
    },
    {
     "name": "stderr",
     "output_type": "stream",
     "text": [
      " 26%|██▋       | 270/1021 [26:21<10:14:29, 49.09s/it]"
     ]
    },
    {
     "name": "stdout",
     "output_type": "stream",
     "text": [
      "Fold# 1, Epoch: 1/5, L_train: 0.74915,                L_test: 0.60599\n"
     ]
    },
    {
     "name": "stderr",
     "output_type": "stream",
     "text": [
      " 29%|██▉       | 300/1021 [29:54<11:26:29, 57.13s/it]"
     ]
    },
    {
     "name": "stdout",
     "output_type": "stream",
     "text": [
      "Fold# 1, Epoch: 1/5, L_train: 0.73808,                L_test: 0.69905\n"
     ]
    },
    {
     "name": "stderr",
     "output_type": "stream",
     "text": [
      " 32%|███▏      | 329/1021 [31:54<1:07:07,  5.82s/it] \n"
     ]
    },
    {
     "ename": "KeyboardInterrupt",
     "evalue": "",
     "output_type": "error",
     "traceback": [
      "\u001B[1;31m---------------------------------------------------------------------------\u001B[0m",
      "\u001B[1;31mKeyboardInterrupt\u001B[0m                         Traceback (most recent call last)",
      "Cell \u001B[1;32mIn[13], line 23\u001B[0m\n\u001B[0;32m     20\u001B[0m \u001B[38;5;28;01mfor\u001B[39;00m i, fold \u001B[38;5;129;01min\u001B[39;00m \u001B[38;5;28menumerate\u001B[39m(folds_list, \u001B[38;5;241m1\u001B[39m):\n\u001B[0;32m     21\u001B[0m     train_loader, test_loader \u001B[38;5;241m=\u001B[39m loaders_init(score_type, batch_size, fold)\n\u001B[1;32m---> 23\u001B[0m     best_score, n_iter, test_losses, train_losses \u001B[38;5;241m=\u001B[39m \u001B[43mtrain_model\u001B[49m\u001B[43m(\u001B[49m\u001B[43mn_epochs\u001B[49m\u001B[43m,\u001B[49m\u001B[43m \u001B[49m\u001B[43mlr\u001B[49m\u001B[43m,\u001B[49m\u001B[43m \u001B[49m\u001B[43mweight_decay\u001B[49m\u001B[43m,\u001B[49m\u001B[43m \u001B[49m\u001B[43mi\u001B[49m\u001B[43m)\u001B[49m\n\u001B[0;32m     25\u001B[0m     scores\u001B[38;5;241m.\u001B[39mappend(best_score)\n\u001B[0;32m     27\u001B[0m     axs[i\u001B[38;5;241m-\u001B[39m\u001B[38;5;241m1\u001B[39m] \u001B[38;5;241m=\u001B[39m axis_set(axs[i\u001B[38;5;241m-\u001B[39m\u001B[38;5;241m1\u001B[39m])\n",
      "Cell \u001B[1;32mIn[11], line 76\u001B[0m, in \u001B[0;36mtrain_model\u001B[1;34m(n_epochs, lr, weight_decay, n_fold)\u001B[0m\n\u001B[0;32m     72\u001B[0m losses_train_per_epoch\u001B[38;5;241m.\u001B[39mappend(loss\u001B[38;5;241m.\u001B[39mitem())\n\u001B[0;32m     74\u001B[0m \u001B[38;5;28;01mif\u001B[39;00m j\u001B[38;5;241m%\u001B[39m\u001B[38;5;241m30\u001B[39m \u001B[38;5;241m==\u001B[39m \u001B[38;5;241m0\u001B[39m \u001B[38;5;129;01mor\u001B[39;00m j \u001B[38;5;241m==\u001B[39m \u001B[38;5;28mlen\u001B[39m(train_loader):\n\u001B[1;32m---> 76\u001B[0m     losses_test_per_epoch \u001B[38;5;241m=\u001B[39m \u001B[43mvalidate_model\u001B[49m\u001B[43m(\u001B[49m\u001B[43mmodel\u001B[49m\u001B[43m,\u001B[49m\u001B[43m \u001B[49m\u001B[43mloss_func\u001B[49m\u001B[43m)\u001B[49m\n\u001B[0;32m     77\u001B[0m     losses_test_mean \u001B[38;5;241m=\u001B[39m np\u001B[38;5;241m.\u001B[39mmean(losses_test_per_epoch)\n\u001B[0;32m     78\u001B[0m     losses_train_mean \u001B[38;5;241m=\u001B[39m np\u001B[38;5;241m.\u001B[39mmean(losses_train_per_epoch)\n",
      "Cell \u001B[1;32mIn[11], line 22\u001B[0m, in \u001B[0;36mvalidate_model\u001B[1;34m(model, loss_func)\u001B[0m\n\u001B[0;32m     16\u001B[0m             outputs \u001B[38;5;241m=\u001B[39m torch\u001B[38;5;241m.\u001B[39mstack([model(sentence\u001B[38;5;241m.\u001B[39mto(device)) \u001B[38;5;28;01mfor\u001B[39;00m sentence \u001B[38;5;129;01min\u001B[39;00m inputs])\n\u001B[0;32m     19\u001B[0m         loss \u001B[38;5;241m=\u001B[39m torch\u001B[38;5;241m.\u001B[39msqrt(loss_func(outputs\u001B[38;5;241m.\u001B[39msqueeze(), targets))\n\u001B[1;32m---> 22\u001B[0m         losses_epoch_test\u001B[38;5;241m.\u001B[39mappend(\u001B[43mloss\u001B[49m\u001B[38;5;241;43m.\u001B[39;49m\u001B[43mitem\u001B[49m\u001B[43m(\u001B[49m\u001B[43m)\u001B[49m)\n\u001B[0;32m     24\u001B[0m \u001B[38;5;28;01mreturn\u001B[39;00m losses_epoch_test\n",
      "\u001B[1;31mKeyboardInterrupt\u001B[0m: "
     ]
    },
    {
     "data": {
      "text/plain": "<Figure size 1200x400 with 0 Axes>"
     },
     "metadata": {},
     "output_type": "display_data"
    },
    {
     "data": {
      "text/plain": "<Figure size 1200x400 with 4 Axes>",
      "image/png": "[encoded data removed]"
     },
     "metadata": {},
     "output_type": "display_data"
    }
   ],
   "source": [
    "# def cross_validation():\n",
    "with open(prompts_train_path, encoding='utf-8') as f:\n",
    "    prompts = pd.read_csv(f)\n",
    "#     prompts = prompts[prompts.prompt_id != '3b9047'].reset_index(drop=True)\n",
    "    \n",
    "plt.figure(figsize=(12,4))\n",
    "\n",
    "folds_list = list(prompts.prompt_id)\n",
    "score_type = 'wording'\n",
    "batch_size = 5\n",
    "lr = 2e-06\n",
    "weight_decay = 2e-02\n",
    "\n",
    "n_epochs = 5\n",
    "\n",
    "scores = []\n",
    "\n",
    "fig, axs = plt.subplots(1, len(folds_list), figsize=(12,4), layout='tight')\n",
    "\n",
    "for i, fold in enumerate(folds_list, 1):\n",
    "    train_loader, test_loader = loaders_init(score_type, batch_size, fold)\n",
    "    \n",
    "    best_score, n_iter, test_losses, train_losses = train_model(n_epochs, lr, weight_decay, i)\n",
    "    \n",
    "    scores.append(best_score)\n",
    "    \n",
    "    axs[i-1] = axis_set(axs[i-1])\n",
    "    \n",
    "#     plt.subplot(1, 4, i)\n",
    "#     plt.plot(test_losses, label='test')\n",
    "#     plt.plot(train_losses, label='train')\n",
    "#     plt.scatter(n_iter - 1, best_score, label='min')\n",
    "#     plt.legend()\n",
    "#     plt.title(f'#{i}, min: {best_score:.5f}')\n",
    "#     plt.tight_layout()\n",
    "    \n",
    "mean_score = np.mean(scores)\n",
    "\n",
    "fig.suptitle(f'{mean_score:.5f}')\n",
    "fig.savefig('res_figure.png', dpi=200)\n",
    "\n",
    "mean_score"
   ]
  },
  {
   "cell_type": "code",
   "execution_count": 20,
   "outputs": [
    {
     "data": {
      "text/plain": "<Figure size 1200x400 with 4 Axes>",
      "image/png": "[encoded data removed]"
     },
     "execution_count": 20,
     "metadata": {},
     "output_type": "execute_result"
    }
   ],
   "source": [],
   "metadata": {
    "collapsed": false
   }
  },
  {
   "cell_type": "code",
   "execution_count": null,
   "outputs": [],
   "source": [],
   "metadata": {
    "collapsed": false
   }
  },
  {
   "cell_type": "code",
   "execution_count": 24,
   "id": "a1f37418",
   "metadata": {},
   "outputs": [],
   "source": [
    "fig.suptitle(f'{mean_score:.5f}')"
   ]
  },
  {
   "cell_type": "code",
   "execution_count": 26,
   "id": "59b578c7",
   "metadata": {},
   "outputs": [],
   "source": [
    "fig.savefig('res_figure.png', dpi=200)"
   ]
  },
  {
   "cell_type": "code",
   "execution_count": null,
   "id": "9b2f7353",
   "metadata": {},
   "outputs": [],
   "source": [
    "# fig, axs = plt.subplots(1, len(fold_list), figsize=(12,4), layout='tight')\n",
    "\n",
    "# axs[i].plot(test_losses, label='test')\n",
    "# axs[i].plot(train_losses, label='train')\n",
    "# axs[i].scatter(n_iter - 1, best_score, label='min')\n",
    "# axs[i].set_title(f'#{i}, min: {best_score:.5f}', loc=left)\n",
    "# axs[i].xaxis.set_major_locator(ticker.LinearLocator(n_epochs + 1))\n",
    "# axs[i].xaxis.set_major_formatter(ticker.FixedFormatter(range(n_epochs)))"
   ]
  },
  {
   "cell_type": "code",
   "execution_count": 1,
   "id": "256ad3f1",
   "metadata": {},
   "outputs": [
    {
     "ename": "NameError",
     "evalue": "name 'scores' is not defined",
     "output_type": "error",
     "traceback": [
      "\u001B[1;31m---------------------------------------------------------------------------\u001B[0m",
      "\u001B[1;31mNameError\u001B[0m                                 Traceback (most recent call last)",
      "Cell \u001B[1;32mIn [1], line 1\u001B[0m\n\u001B[1;32m----> 1\u001B[0m \u001B[43mscores\u001B[49m\n",
      "\u001B[1;31mNameError\u001B[0m: name 'scores' is not defined"
     ]
    }
   ],
   "source": [
    "scores"
   ]
  },
  {
   "cell_type": "code",
   "execution_count": 16,
   "id": "15305588",
   "metadata": {},
   "outputs": [],
   "source": [
    "torch.cuda.empty_cache()"
   ]
  },
  {
   "cell_type": "code",
   "execution_count": 13,
   "id": "6c676e7d",
   "metadata": {},
   "outputs": [
    {
     "data": {
      "text/plain": [
       "['39c16e', '814d6b', 'ebad26']"
      ]
     },
     "execution_count": 13,
     "metadata": {},
     "output_type": "execute_result"
    }
   ],
   "source": [
    "folds_list"
   ]
  }
 ],
 "metadata": {
  "kernelspec": {
   "display_name": "Python (tf)",
   "language": "python",
   "name": "tf"
  },
  "language_info": {
   "codemirror_mode": {
    "name": "ipython",
    "version": 3
   },
   "file_extension": ".py",
   "mimetype": "text/x-python",
   "name": "python",
   "nbconvert_exporter": "python",
   "pygments_lexer": "ipython3",
   "version": "3.9.16"
  }
 },
 "nbformat": 4,
 "nbformat_minor": 5
}
