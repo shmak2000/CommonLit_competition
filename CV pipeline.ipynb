{
 "cells": [
  {
   "cell_type": "code",
   "execution_count": 1,
   "id": "4d7080d2",
   "metadata": {},
   "outputs": [],
   "source": [
    "import math\n",
    "from tqdm import tqdm\n",
    "from datetime import datetime\n",
    "import pandas as pd\n",
    "import numpy as np\n",
    "import os\n",
    "import torch\n",
    "import sentence_transformers\n",
    "import matplotlib.pyplot as plt\n",
    "from matplotlib import ticker\n",
    "%matplotlib inline\n",
    "import torch.nn as nn\n",
    "\n",
    "from transformers import BertTokenizer, BertModel, pipeline, BartModel\n",
    "from transformers import RobertaTokenizer, RobertaModel, AutoConfig\n",
    "from transformers import AutoTokenizer, AutoModel\n",
    "\n",
    "from sentence_transformers.util import cos_sim\n",
    "from sentence_transformers import SentenceTransformer, models\n",
    "from torch.utils.data import DataLoader, Dataset, random_split\n",
    "from sklearn.metrics.pairwise import cosine_similarity\n",
    "import torch.nn.functional as F\n",
    "from DeBERTa import deberta\n",
    "from collections import OrderedDict\n",
    "\n",
    "import textstat"
   ]
  },
  {
   "cell_type": "code",
   "execution_count": 2,
   "id": "8e8ee8c3",
   "metadata": {},
   "outputs": [
    {
     "name": "stdout",
     "output_type": "stream",
     "text": [
      "cuda:0\n"
     ]
    }
   ],
   "source": [
    "device = 'cuda:0' if torch.cuda.is_available() else 'cpu'\n",
    "print(device)"
   ]
  },
  {
   "cell_type": "code",
   "execution_count": 3,
   "id": "8c88ad58",
   "metadata": {},
   "outputs": [],
   "source": [
    "model_name = 'roberta-base'\n",
    "size = 768"
   ]
  },
  {
   "cell_type": "code",
   "execution_count": 4,
   "id": "5e55764b",
   "metadata": {},
   "outputs": [],
   "source": [
    "def config_model():\n",
    "    configuration = AutoConfig.from_pretrained(model_name)\n",
    "\n",
    "    configuration.hidden_dropout_prob = 0.0\n",
    "    configuration.attention_probs_dropout_prob = 0.0\n",
    "    configuration.classifier_dropout = 0.0\n",
    "    \n",
    "    return configuration"
   ]
  },
  {
   "cell_type": "code",
   "execution_count": 5,
   "id": "c472860a",
   "metadata": {},
   "outputs": [
    {
     "name": "stderr",
     "output_type": "stream",
     "text": [
      "Some weights of RobertaModel were not initialized from the model checkpoint at roberta-base and are newly initialized: ['roberta.pooler.dense.bias', 'roberta.pooler.dense.weight']\n",
      "You should probably TRAIN this model on a down-stream task to be able to use it for predictions and inference.\n"
     ]
    }
   ],
   "source": [
    "# ROBERTa model\n",
    "\n",
    "# tokenizer = BertTokenizer.from_pretrained(model_name)\n",
    "tokenizer = RobertaTokenizer.from_pretrained(model_name)\n",
    "embeddings_model = RobertaModel.from_pretrained(model_name, config=config_model())\n"
   ]
  },
  {
   "cell_type": "markdown",
   "id": "8c05e4c1",
   "metadata": {},
   "source": [
    "## Data"
   ]
  },
  {
   "cell_type": "code",
   "execution_count": 6,
   "id": "fee86d97",
   "metadata": {},
   "outputs": [],
   "source": [
    "summaries_train_path = r\"dataset\\summaries_train_merged.csv\"\n",
    "summaries_test_path = r\"dataset\\summaries_test.csv\"\n",
    "prompts_train_path = r\"dataset\\prompts_train.csv\"\n",
    "prompts_test_path = r\"dataset\\prompts_test.csv\""
   ]
  },
  {
   "cell_type": "code",
   "execution_count": 7,
   "id": "67f3f7a8",
   "metadata": {},
   "outputs": [],
   "source": [
    "def norm_score(df: pd.DataFrame) -> pd.DataFrame:\n",
    "    \"\"\"Normilizing score to values 0 to 1\"\"\"\n",
    "    df -= np.min(df)\n",
    "    df /= df.max()\n",
    "    print('Normilized' if df.min() == 0.0 and df.max() == 1.0 else 'NormError:wrong values')\n",
    "    \n",
    "    return df\n",
    "\n",
    "def short_text(text, max_length=200) -> str:\n",
    "    if len(text.split()) > 700:\n",
    "        middle_point = text[len(text)//2:].index('.') + len(text)//2 + 1\n",
    "        text_pt1 = text[:middle_point]\n",
    "        text_pt2 = text[middle_point:]\n",
    "        \n",
    "        text = short_text(text_pt1) + short_text(text_pt2)\n",
    "\n",
    "    summarizer = pipeline(\"summarization\", model=\"bart-large-cnn\")\n",
    "\n",
    "    # summarizer.model.to(device)\n",
    "\n",
    "    summarized = summarizer(text, max_length=max_length, min_length=80, do_sample=False)\n",
    "    \n",
    "    return summarized[0]['summary_text']\n",
    "\n",
    "def moving_average(array: np.array, betta=0.9) -> np.array:\n",
    "    \"\"\"\n",
    "    Computing moving average with bias correction.\n",
    "    \"\"\"\n",
    "    \n",
    "    V = 0\n",
    "    average_array = np.zeros(len(array))\n",
    "    for i in range(len(array)):\n",
    "        V = betta * V + (1 - betta) * array[i]\n",
    "        average_array[i] = V/(1 - pow(betta, i+1))\n",
    "        \n",
    "    return average_array\n",
    "\n",
    "\n",
    "def mean_pooling(outputs, batch) -> torch.tensor:\n",
    "    \n",
    "    attention_mask = batch['attention_mask']\n",
    "    embeddings = outputs.last_hidden_state\n",
    "    \n",
    "    mask = attention_mask.unsqueeze(-1).expand(embeddings.size()).float()\n",
    "    masked_embeddings = embeddings * mask\n",
    "    \n",
    "    summed = torch.sum(masked_embeddings, 1)\n",
    "    summed_mask = torch.clamp(mask.sum(dim=1), min=1e-9)\n",
    "    \n",
    "    mean_pooled = summed/summed_mask\n",
    "    \n",
    "    return mean_pooled\n",
    "\n",
    "def normilize(df_column: pd.DataFrame):\n",
    "    \n",
    "    df_column = (df_column - df_column.mean())/df_column.std()\n",
    "    \n",
    "    return df_column\n",
    "\n",
    "def get_cos_sim(df):\n",
    "    sentence_1 = df.text\n",
    "    sentence_2 = df.prompt_text\n",
    "\n",
    "    sentence_tokenizer = AutoTokenizer.from_pretrained('all-mpnet-base-v2')\n",
    "    sentence_model = AutoModel.from_pretrained('all-mpnet-base-v2')\n",
    "\n",
    "    cos_sim_list = []\n",
    "    sentence_model.to(device)\n",
    "\n",
    "    for i, summarie in enumerate(tqdm(sentence_1)):\n",
    "        prompt = sentence_2[i]\n",
    "        inputs = sentence_tokenizer([summarie, prompt], padding=True,\n",
    "                                    return_tensors='pt', truncation=True)\n",
    "        inputs.to(device)\n",
    "\n",
    "        with torch.no_grad():\n",
    "            outputs = sentence_model(**inputs)\n",
    "\n",
    "        sentence_embeddings = mean_pooling(outputs, inputs)\n",
    "        sentence_embeddings = F.normalize(sentence_embeddings)\n",
    "\n",
    "        score = nn.CosineSimilarity(dim=0)(sentence_embeddings[0], sentence_embeddings[1])\n",
    "\n",
    "        cos_sim_list.append(score.item())\n",
    "\n",
    "    return cos_sim_list\n",
    "\n",
    "def get_stat_features(df, text_col=\"text\"):\n",
    "    \n",
    "    df[\"num_unique_words\"] = normilize(df[text_col].apply(lambda x: len(set(x.split()))))\n",
    "    df[\"num_words\"] = normilize(df[text_col].apply(lambda x: len(x.split())))\n",
    "    df[\"num_sentences\"] = normilize(df[text_col].apply(lambda x: len(x.split('.'))))\n",
    "    \n",
    "    df[\"syntax_count\"] = normilize(df[text_col].apply(lambda x: x.count(\",\") \n",
    "                                                      + x.count(\"-\") + x.count(\";\") + x.count(\":\")))\n",
    "    df['smog_index'] = normilize(df[text_col].apply(lambda x: textstat.smog_index(x)))\n",
    "    # df['cos_sim'] = normilize(pd.DataFrame(get_cos_sim(df)))\n",
    "    \n",
    "    return df"
   ]
  },
  {
   "cell_type": "code",
   "execution_count": 8,
   "id": "830ce30e",
   "metadata": {},
   "outputs": [],
   "source": [
    "# with open(prompts_train_path, encoding='utf-8') as f:\n",
    "#     prompts = pd.read_csv(f)\n",
    "#     for i, text in enumerate(prompts.prompt_text):\n",
    "#             if len(text.split()) > 300:\n",
    "#                 prompts.prompt_text[i] = short_text(text)\n",
    "#\n",
    "# with open(summaries_train_path, encoding='utf-8') as f:\n",
    "#     summaries = pd.read_csv(f)\n",
    "#     summaries = summaries.merge(prompts, how=\"left\", on=\"prompt_id\")\n",
    "#     summaries = get_stat_features(summaries)"
   ]
  },
  {
   "cell_type": "code",
   "execution_count": 9,
   "id": "f8b6081c",
   "metadata": {},
   "outputs": [],
   "source": [
    "class SentenseData(Dataset):\n",
    "    \"\"\"\n",
    "    :params: path to csv file with summaries, path to csv file with prompts, 'score' param\\\n",
    "    defines which score is used: content/wording\n",
    "    \"\"\"\n",
    "    def __init__(self, summaries_path=summaries_train_path,\n",
    "                 prompts_path=prompts_train_path,\n",
    "                 score='wording', test=False, fold_test='ebad26'):\n",
    "        self.test = test\n",
    "        self.score_type = score\n",
    "        self.fold_test = fold_test\n",
    "\n",
    "        with open(prompts_path, encoding='utf-8') as f:\n",
    "            self.prompts = pd.read_csv(f)\n",
    "\n",
    "        with open(summaries_path, encoding='utf-8') as f:\n",
    "            summaries = pd.read_csv(f)\n",
    "            self.summaries = summaries\n",
    "        \n",
    "    def __len__(self):\n",
    "        return len(self.__summaries)\n",
    "    \n",
    "    @property\n",
    "    def summaries(self):\n",
    "        return self.__summaries\n",
    "    \n",
    "    @summaries.setter\n",
    "    def summaries(self, df):\n",
    "        if self.test:\n",
    "            self.__summaries = df[df.prompt_id == self.fold_test].reset_index(drop=True)\n",
    "            \n",
    "        else:\n",
    "            self.__summaries = df[df.prompt_id != self.fold_test].reset_index(drop=True)\n",
    "    \n",
    "    @property\n",
    "    def prompts(self):\n",
    "        return self.__prompts\n",
    "    \n",
    "    @prompts.setter\n",
    "    def prompts(self, file):\n",
    "        self.__prompts = file\n",
    "        # for i, text in enumerate(self.__prompts.prompt_text):\n",
    "        #     if len(text.split()) > 300:\n",
    "        #         self.__prompts.prompt_text[i] = short_text(text)\n",
    "    \n",
    "    def get_batch_text(self, index):\n",
    "        summary_text = self.summaries.text[index]\n",
    "\n",
    "        if True:#self.score_type == 'wording':\n",
    "            res = tokenizer(summary_text, padding='max_length', return_tensors='pt', truncation=True)\n",
    "            res = {k:val.squeeze() for k, val in res.items()}\n",
    "            res['features'] = torch.tensor([self.summaries['num_unique_words'][index], self.summaries['num_words'][index],\n",
    "                                  self.summaries['num_sentences'][index],self.summaries['syntax_count'][index],\n",
    "                                  self.summaries['smog_index'][index]], dtype=torch.float32)\n",
    "            \n",
    "            return res\n",
    "            \n",
    "        prompt_text = self.prompts.prompt_text[self.prompts.prompt_id ==\n",
    "                                               self.summaries.prompt_id[index]].item().replace('\\n','')\n",
    "        \n",
    "        return tokenizer([summary_text, prompt_text], padding='max_length', return_tensors='pt', truncation=True)\n",
    "    \n",
    "    def get_score(self, index):\n",
    "        if self.score_type == 'content':\n",
    "            score = self.summaries.content[index]\n",
    "            \n",
    "        elif self.score_type == 'wording':\n",
    "            score = self.summaries.wording[index]\n",
    "        \n",
    "        return torch.tensor(score)\n",
    "        \n",
    "    def __getitem__(self, index) -> torch.tensor:\n",
    "\n",
    "        batch_text = self.get_batch_text(index)\n",
    "        batch_score = self.get_score(index)\n",
    "        \n",
    "        return batch_text, batch_score"
   ]
  },
  {
   "cell_type": "code",
   "execution_count": 10,
   "id": "8f0c4422",
   "metadata": {},
   "outputs": [],
   "source": [
    "# from scipy.stats import pearsonr\n",
    "#\n",
    "# pearsonr(dataset.summaries.num_unique_words, dataset.summaries.content)"
   ]
  },
  {
   "cell_type": "markdown",
   "id": "2dd5b663",
   "metadata": {},
   "source": [
    "## Model"
   ]
  },
  {
   "cell_type": "code",
   "execution_count": 11,
   "id": "476829dc",
   "metadata": {},
   "outputs": [],
   "source": [
    "class STSBertModel(nn.Module):\n",
    "    \"\"\"\n",
    "    Sentence Semantic Similarity Bert model\n",
    "    :param: seg_head=True for using segmentation head instead of cosine similarity\n",
    "    :param: freeze_weights=True to freeze BERT model's weights and train only the segmentation head\n",
    "    \"\"\"\n",
    "    def __init__(self, with_features=False, input_size=size):\n",
    "        super(STSBertModel, self).__init__()\n",
    "        \n",
    "        self.word_embedding = RobertaModel.from_pretrained(model_name, config=config_model())\n",
    "        self.cos_score = nn.CosineSimilarity(dim=0)\n",
    "        self.identity = nn.Identity()\n",
    "        self.input_size = input_size\n",
    "        self.with_features = with_features\n",
    "\n",
    "        if with_features:\n",
    "            self.n_features = 5\n",
    "            self.input_size += self.n_features\n",
    "\n",
    "        # for param in self.word_embedding.parameters():\n",
    "        #     param.requires_grad = False\n",
    "\n",
    "        self.attention = SelfAttention(self.input_size)\n",
    "        self.block = AttentionBlock(self.input_size)\n",
    "\n",
    "        self.FC_head = nn.Sequential(OrderedDict([\n",
    "            ('fc1', nn.Linear(self.input_size, self.input_size)),\n",
    "            ('relu1', nn.ReLU()),\n",
    "            # ('fc2', nn.Linear(1024, self.input_size)),\n",
    "            # ('relu2', nn.ReLU())\n",
    "            ]))\n",
    "\n",
    "        self.FC_output = nn.Sequential(OrderedDict([\n",
    "            ('fc1', nn.Linear(self.input_size, 1)),\n",
    "            ]))\n",
    "    \n",
    "    def forward(self, x):\n",
    "        output = self.word_embedding(input_ids=x['input_ids'], attention_mask=x['attention_mask'])\n",
    "        output = mean_pooling(output, x)\n",
    "\n",
    "        if self.with_features:\n",
    "            output = torch.cat((output, x['features']), dim=1)\n",
    "\n",
    "        output = output.unsqueeze(1)\n",
    "        output = self.attention(output)\n",
    "        output = self.FC_output(output)\n",
    "\n",
    "        return output\n",
    "\n",
    "\n",
    "class AttentionBlock(nn.Module):\n",
    "    def __init__(self, input_dim):\n",
    "        super(AttentionBlock, self).__init__()\n",
    "\n",
    "        self.input_dim = input_dim\n",
    "        self.fc = nn.Linear(input_dim, input_dim)\n",
    "        self.attention = SelfAttention(input_dim)\n",
    "        self.relu = nn.ReLU()\n",
    "        self.norm = nn.LayerNorm(input_dim)\n",
    "\n",
    "    def forward(self, x):\n",
    "        identity = x\n",
    "\n",
    "        x = self.attention(x)\n",
    "        x = self.fc(x)\n",
    "\n",
    "        x += identity\n",
    "        x = self.norm(x)\n",
    "        x = self.relu(x)\n",
    "\n",
    "        return x\n",
    "\n",
    "\n",
    "class SelfAttention(nn.Module):\n",
    "    def __init__(self, input_dim):\n",
    "        super(SelfAttention, self).__init__()\n",
    "        self.input_dim = input_dim\n",
    "        self.query = nn.Linear(input_dim, input_dim)\n",
    "        self.key = nn.Linear(input_dim, input_dim)\n",
    "        self.value = nn.Linear(input_dim, input_dim)\n",
    "        self.softmax = nn.Softmax(dim=2)\n",
    "\n",
    "    def forward(self, x):\n",
    "        queries = self.query(x)\n",
    "        keys = self.key(x)\n",
    "        values = self.value(x)\n",
    "        scores = torch.bmm(queries, keys.transpose(1, 2)) / (self.input_dim ** 0.5)\n",
    "        attention = self.softmax(scores)\n",
    "        weighted = torch.bmm(attention, values)\n",
    "        return weighted\n"
   ]
  },
  {
   "cell_type": "code",
   "execution_count": 12,
   "id": "d2ee81ee",
   "metadata": {},
   "outputs": [],
   "source": [
    "# class ClassificationModel(nn.Module):\n",
    "#     def __init__(self, n_features, n_fold):\n",
    "#         super(ClassificationModel, self).__init__()\n",
    "#\n",
    "#         self.n_fold = n_fold\n",
    "#         self.n_features = n_features\n",
    "#         self.fc_input = nn.Linear(n_features, 512)\n",
    "#         self.fc_1 = nn.Linear(512, 512)\n",
    "#         self.fc_2 = nn.Linear(512, 256)\n",
    "#         self.fc_output = nn.Linear(256, 1)\n",
    "#         self.relu = nn.ReLU()\n",
    "#         self.score_model = STSBertModel()\n",
    "#\n",
    "#         for param in self.score_model.parameters():\n",
    "#             param.requires_grad = False\n",
    "#\n",
    "#     @property\n",
    "#     def score_model(self):\n",
    "#         return self.__score_model\n",
    "#\n",
    "#     @score_model.setter\n",
    "#     def score_model(self, model_init):\n",
    "#         model = model_init\n",
    "#\n",
    "#         model.load_state_dict(torch.load(r'models\\cv_2\\best__fold_{}.pt'.format(self.n_fold)))\n",
    "#\n",
    "#         return model\n",
    "#\n",
    "#     def forward(self, x):\n",
    "#         features = x['features']\n",
    "#\n",
    "#         x = self.score_model(x)\n",
    "#\n",
    "#         x = torch.cat((x.squeeze(1), features), dim=1)\n",
    "#\n",
    "#         x = self.fc_input(x)\n",
    "#         x = self.relu(x)\n",
    "#\n",
    "#         x = self.fc_1(x)\n",
    "#         x = self.relu(x)\n",
    "#\n",
    "#         x = self.fc_1(x)\n",
    "#         x = self.relu(x)\n",
    "#         x = self.fc_1(x)\n",
    "#         x = self.relu(x)\n",
    "#\n",
    "#         x = self.fc_2(x)\n",
    "#         x = self.relu(x)\n",
    "#\n",
    "#         x = self.fc_output(x)\n",
    "#\n",
    "#         return x"
   ]
  },
  {
   "cell_type": "code",
   "execution_count": 13,
   "id": "8c83e7f1",
   "metadata": {},
   "outputs": [],
   "source": [
    "# class STSBertModel(nn.Module):\n",
    "#     \"\"\"\n",
    "#     Sentence Semantic Similarity Bert model\n",
    "#     :param: seg_head=True for using segmentation head instead of cosine similarity\n",
    "#     :param: freeze_weights=True to freeze BERT model's weights and train only the segmentation head\n",
    "#     \"\"\"\n",
    "#     def __init__(self, seg_head=False, freeze_weights=False, input_size=768):\n",
    "#         super(STSBertModel, self).__init__()\n",
    "        \n",
    "#         self.word_embedding = RobertaModel.from_pretrained('roberta-base', config=config_model())\n",
    "#         self.cos_sim = nn.CosineSimilarity(dim=0)\n",
    "#         self.identity = nn.Identity()\n",
    "#         self.seg_head = seg_head\n",
    "#         self.fc = nn.Sequential(OrderedDict([\n",
    "#             ('fc1', nn.Linear(input_size*2, 1024)),\n",
    "#             ('tanh', nn.Tanh()),\n",
    "#             ('fc2', nn.Linear(1024, 256)),\n",
    "#             ('tanh', nn.Tanh()),\n",
    "#             ('output', nn.Linear(256, 1)),\n",
    "#         ]))\n",
    "        \n",
    "        \n",
    "#         if seg_head:\n",
    "# #             self.FC_head = SbertHead(inputs=768)\n",
    "#             self.FC_head = nn.Sequential(OrderedDict([\n",
    "# #                 ('dropout1', nn.Dropout(0.2)),\n",
    "#                 ('fc_input', nn.Linear(input_size, 1024)),\n",
    "#                 ('relu1', nn.ReLU()),\n",
    "#                 ('fc1', nn.Linear(1024,1024)),\n",
    "# #                 ('dropout2', nn.Dropout(0.2)),\n",
    "# #                 ('batch_norm1', nn.BatchNorm1d(1024)),\n",
    "#                 ('relu2', nn.ReLU()),\n",
    "#                 ('fc2', nn.Linear(1024, 512)),\n",
    "#                 ('relu3', nn.ReLU()),\n",
    "# #                 ('dropout2', nn.Dropout(0.2)),\n",
    "#                 ('fc3', nn.Linear(512, 512)),\n",
    "# #                 ('batch_norm2', nn.BatchNorm1d(512)),\n",
    "#                 ('relu4', nn.ReLU()),\n",
    "#                 ('fc4', nn.Linear(512, 256)),\n",
    "# #                 ('batch_norm3', nn.BatchNorm1d(256)),\n",
    "#                 ('relu5', nn.ReLU()),\n",
    "# #                 ('dropout3', nn.Dropout(0.2)),\n",
    "#                 ('fc5', nn.Linear(256, 64)),\n",
    "#                 ('relu6', nn.ReLU()),\n",
    "#                 ('fc_output', nn.Linear(64, 1))\n",
    "# #                 ('activation', nn.Sigmoid())\n",
    "#             ]))\n",
    "            \n",
    "#         if freeze_weights:\n",
    "#             self.freeze()\n",
    "    \n",
    "#     def freeze(self):\n",
    "#         for param in self.word_embedding.parameters():\n",
    "#             param.requires_grad = False\n",
    "    \n",
    "#     @staticmethod\n",
    "#     def mean_pooling(outputs, batch) -> torch.tensor:\n",
    "        \n",
    "#         attention_mask = batch['attention_mask']\n",
    "#         embeddings = outputs.last_hidden_state\n",
    "    \n",
    "#         mask = attention_mask.unsqueeze(-1).expand(embeddings.size()).float()\n",
    "#         masked_embeddings = embeddings * mask\n",
    "    \n",
    "#         summed = torch.sum(masked_embeddings, 1)\n",
    "#         summed_mask = torch.clamp(mask.sum(dim=1), min=1e-9)\n",
    "    \n",
    "#         mean_pooled = summed/summed_mask\n",
    "    \n",
    "#         return mean_pooled\n",
    "    \n",
    "#     def cos_score(self, x):\n",
    "#         embedding_1 = x[0]\n",
    "#         embedding_2 = x[1]\n",
    "#         emb = torch.concat((embedding_1, embedding_2))\n",
    "        \n",
    "        \n",
    "        \n",
    "#         cos_score = self.fc(emb)\n",
    "        \n",
    "# #         cos_score = self.cos_sim(embedding_1, embedding_2)\n",
    "# #         cos_score = torch.sigmoid(cos_score)\n",
    "        \n",
    "#         return cos_score\n",
    "    \n",
    "#     def forward(self, x):\n",
    "#         output = self.word_embedding(**x)\n",
    "#         output = self.mean_pooling(output, x)\n",
    "# #         output = output[1]\n",
    "        \n",
    "#         if self.seg_head:\n",
    "#             output = self.FC_head(output)\n",
    "        \n",
    "#         else:\n",
    "#             output = self.cos_score(output)\n",
    "        \n",
    "#         return output"
   ]
  },
  {
   "cell_type": "code",
   "execution_count": 14,
   "id": "a00e9787",
   "metadata": {},
   "outputs": [],
   "source": [
    "# score_type = 'wording'\n",
    "# batch_size = 15\n",
    "\n",
    "# test_data = SentenseData(test=True, score=score_type)\n",
    "# train_data = SentenseData(score=score_type)\n",
    "\n",
    "# train_loader = DataLoader(train_data,\n",
    "#                            batch_size=batch_size,\n",
    "#                            shuffle=True)\n",
    "\n",
    "# test_loader = DataLoader(test_data,\n",
    "#                           batch_size=batch_size,\n",
    "#                           shuffle=True)"
   ]
  },
  {
   "cell_type": "markdown",
   "id": "0efd3ae4",
   "metadata": {},
   "source": [
    "## Training"
   ]
  },
  {
   "cell_type": "code",
   "execution_count": 15,
   "id": "2afc642a",
   "metadata": {},
   "outputs": [],
   "source": [
    "# model = STSBertModel(seg_head=True, freeze_weights=False)\n",
    "\n",
    "# model.float()\n",
    "\n",
    "# model.to(device)"
   ]
  },
  {
   "cell_type": "code",
   "execution_count": 16,
   "id": "851d3cef",
   "metadata": {},
   "outputs": [],
   "source": [
    "# Loss_func = nn.MSELoss()\n",
    "\n",
    "# optimizer = torch.optim.AdamW(model.parameters(), lr=2e-06, weight_decay=2e-04)\n",
    "\n",
    "# lr_scheduler = torch.optim.lr_scheduler.StepLR(optimizer, 2, gamma=0.5)\n",
    "\n",
    "# scaler = torch.cuda.amp.GradScaler()"
   ]
  },
  {
   "cell_type": "code",
   "execution_count": 17,
   "id": "adf62655",
   "metadata": {},
   "outputs": [],
   "source": [
    "def validate_model(model, loss_func):\n",
    "\n",
    "    losses_epoch_test = []\n",
    "    \n",
    "    model.eval()\n",
    "    with torch.no_grad():\n",
    "        for inputs, targets in test_loader:\n",
    "            targets = targets.float().to(device)\n",
    "            if True:\n",
    "                inputs = {k:val.squeeze().to(device) for k, val in inputs.items()}\n",
    "\n",
    "                with torch.autocast(device_type='cuda', dtype=torch.float16):\n",
    "                    outputs = model(inputs)\n",
    "                    \n",
    "            else:\n",
    "                outputs = torch.stack([model(sentence.to(device)) for sentence in inputs])\n",
    "\n",
    "\n",
    "            loss = torch.sqrt(loss_func(outputs.squeeze(), targets))\n",
    "\n",
    "            \n",
    "            losses_epoch_test.append(loss.item())\n",
    "    \n",
    "    return losses_epoch_test\n",
    "\n",
    "def train_model(n_epochs, lr, weight_decay, n_fold, lr_head):\n",
    "    \n",
    "    model = STSBertModel(with_features=True)\n",
    "    # model = ClassificationModel(n_features=7, n_fold=n_fold)\n",
    "\n",
    "    model.float()\n",
    "    model.to(device)\n",
    "\n",
    "\n",
    "\n",
    "    params = [\n",
    "        {'params': model.word_embedding.parameters()},\n",
    "        {'params': model.attention.parameters(), 'lr': lr_head},\n",
    "        {'params': model.block.parameters(), 'lr': lr_head},\n",
    "        {'params': model.FC_head.parameters(), 'lr': lr_head},\n",
    "        {'params': model.FC_output.parameters(), 'lr': lr_head}\n",
    "    ]\n",
    "    \n",
    "    loss_func = nn.MSELoss()\n",
    "    optimizer = torch.optim.AdamW(params, lr=lr, weight_decay=weight_decay)\n",
    "    lr_scheduler = torch.optim.lr_scheduler.StepLR(optimizer, 1, gamma=0.5, verbose=True)\n",
    "    # warmup_scheduler = torch.optim.lr_scheduler.LinearLR(optimizer, 1e-8, 1, 150, verbose=False)\n",
    "    # lr_scheduler = torch.optim.lr_scheduler.ExponentialLR(optimizer, gamma=0.2, verbose=True)\n",
    "    scaler = torch.cuda.amp.GradScaler()\n",
    "    \n",
    "    losses_train = []\n",
    "    losses_test = []\n",
    "    t0 = datetime.now()\n",
    "\n",
    "    for i in range(n_epochs):\n",
    "    \n",
    "        losses_train_per_epoch = []\n",
    "    \n",
    "        for j, batch in enumerate(tqdm(train_loader, position=0, leave=True), 1):\n",
    "            inputs, targets = batch\n",
    "            targets = targets.float().to(device)\n",
    "        \n",
    "            model.train()\n",
    "        \n",
    "            optimizer.zero_grad()\n",
    "        \n",
    "            with torch.autocast(device_type='cuda', dtype=torch.float16):\n",
    "                inputs = {k:val.squeeze().to(device) for k, val in inputs.items()}\n",
    "                outputs = model(inputs)\n",
    "            \n",
    "                loss = torch.sqrt(loss_func(outputs.squeeze(), targets))\n",
    "            \n",
    "            scaler.scale(loss).backward()\n",
    "            scaler.step(optimizer)\n",
    "        \n",
    "            scaler.update()\n",
    "\n",
    "            # warmup_scheduler.step()\n",
    "            losses_train_per_epoch.append(loss.item())\n",
    "        \n",
    "            if j%20 == 0 or j == len(train_loader):\n",
    "            \n",
    "                losses_test_per_epoch = validate_model(model, loss_func)\n",
    "                losses_test_mean = np.mean(losses_test_per_epoch)\n",
    "                losses_train_mean = np.mean(losses_train_per_epoch)\n",
    "            \n",
    "                losses_train.append(losses_train_mean)\n",
    "                losses_test.append(losses_test_mean)\n",
    "            \n",
    "                if losses_test_mean == np.min(losses_test):\n",
    "                    best_score = losses_test_mean\n",
    "                    n_iter = len(losses_train)\n",
    "                    torch.save(model.state_dict(), r'models\\cv\\best__fold_{}.pt'.format(n_fold))\n",
    "                    print(f'Best saved, loss: {best_score:.5f}')\n",
    "                \n",
    "                print(f'Fold# {n_fold}, Epoch: {i+1}/{n_epochs}, L_train: {losses_train_mean:.5f},\\\n",
    "                L_test: {losses_test_mean:.5f}') \n",
    "\n",
    "        lr_scheduler.step()\n",
    "        torch.cuda.empty_cache()\n",
    "\n",
    "    print(f\"Time elapsed:{datetime.now()-t0}, Best score:{best_score:.5f}\")\n",
    "    \n",
    "    return best_score, n_iter, losses_test, losses_train"
   ]
  },
  {
   "cell_type": "markdown",
   "id": "ddc74e7f",
   "metadata": {},
   "source": [
    "## CV"
   ]
  },
  {
   "cell_type": "code",
   "execution_count": 18,
   "id": "54030204",
   "metadata": {},
   "outputs": [],
   "source": [
    "def loaders_init(score_type, batch_size, fold):\n",
    "    \n",
    "    test_data = SentenseData(test=True, score=score_type, fold_test=fold)\n",
    "    train_data = SentenseData(score=score_type, fold_test=fold)\n",
    "    \n",
    "    train_loader = DataLoader(train_data,\n",
    "                           batch_size=batch_size,\n",
    "                           shuffle=True, drop_last=True)\n",
    "\n",
    "    test_loader = DataLoader(test_data,\n",
    "                          batch_size=batch_size,\n",
    "                          shuffle=True, drop_last=True)\n",
    "    \n",
    "    return train_loader, test_loader\n",
    "\n",
    "def axis_set(ax):\n",
    "\n",
    "    ax.plot(test_losses, label='test')\n",
    "    ax.plot(train_losses, label='train')\n",
    "    ax.scatter(n_iter - 1, best_score, label='min')\n",
    "    ax.set_title(f'#{i}, min: {best_score:.5f}', loc='left')\n",
    "    ax.xaxis.set_major_locator(ticker.LinearLocator(n_epochs + 1))\n",
    "    ax.xaxis.set_major_formatter(ticker.FixedFormatter(range(n_epochs)))\n",
    "    ax.legend()\n",
    "\n",
    "    return ax"
   ]
  },
  {
   "cell_type": "code",
   "execution_count": 19,
   "id": "05444cb2",
   "metadata": {},
   "outputs": [
    {
     "name": "stderr",
     "output_type": "stream",
     "text": [
      "Some weights of RobertaModel were not initialized from the model checkpoint at roberta-base and are newly initialized: ['roberta.pooler.dense.bias', 'roberta.pooler.dense.weight']\n",
      "You should probably TRAIN this model on a down-stream task to be able to use it for predictions and inference.\n"
     ]
    },
    {
     "name": "stdout",
     "output_type": "stream",
     "text": [
      "Adjusting learning rate of group 0 to 5.0000e-06.\n",
      "Adjusting learning rate of group 1 to 1.0000e-04.\n",
      "Adjusting learning rate of group 2 to 1.0000e-04.\n",
      "Adjusting learning rate of group 3 to 1.0000e-04.\n",
      "Adjusting learning rate of group 4 to 1.0000e-04.\n"
     ]
    },
    {
     "name": "stderr",
     "output_type": "stream",
     "text": [
      "  6%|▌         | 21/340 [00:15<11:52,  2.23s/it]"
     ]
    },
    {
     "name": "stdout",
     "output_type": "stream",
     "text": [
      "Best saved, loss: 1.04666\n",
      "Fold# 1, Epoch: 1/3, L_train: 1.06857,                L_test: 1.04666\n"
     ]
    },
    {
     "name": "stderr",
     "output_type": "stream",
     "text": [
      " 12%|█▏        | 40/340 [00:29<15:47,  3.16s/it]"
     ]
    },
    {
     "name": "stdout",
     "output_type": "stream",
     "text": [
      "Best saved, loss: 1.00826\n",
      "Fold# 1, Epoch: 1/3, L_train: 1.00821,                L_test: 1.00826\n"
     ]
    },
    {
     "name": "stderr",
     "output_type": "stream",
     "text": [
      " 18%|█▊        | 60/340 [00:43<14:45,  3.16s/it]"
     ]
    },
    {
     "name": "stdout",
     "output_type": "stream",
     "text": [
      "Best saved, loss: 0.94299\n",
      "Fold# 1, Epoch: 1/3, L_train: 0.98708,                L_test: 0.94299\n"
     ]
    },
    {
     "name": "stderr",
     "output_type": "stream",
     "text": [
      " 24%|██▍       | 81/340 [00:57<09:46,  2.26s/it]"
     ]
    },
    {
     "name": "stdout",
     "output_type": "stream",
     "text": [
      "Best saved, loss: 0.80568\n",
      "Fold# 1, Epoch: 1/3, L_train: 0.96181,                L_test: 0.80568\n"
     ]
    },
    {
     "name": "stderr",
     "output_type": "stream",
     "text": [
      " 30%|██▉       | 101/340 [01:10<09:00,  2.26s/it]"
     ]
    },
    {
     "name": "stdout",
     "output_type": "stream",
     "text": [
      "Best saved, loss: 0.61297\n",
      "Fold# 1, Epoch: 1/3, L_train: 0.91596,                L_test: 0.61297\n"
     ]
    },
    {
     "name": "stderr",
     "output_type": "stream",
     "text": [
      " 36%|███▌      | 121/340 [01:24<07:55,  2.17s/it]"
     ]
    },
    {
     "name": "stdout",
     "output_type": "stream",
     "text": [
      "Fold# 1, Epoch: 1/3, L_train: 0.88136,                L_test: 0.62382\n"
     ]
    },
    {
     "name": "stderr",
     "output_type": "stream",
     "text": [
      " 41%|████▏     | 141/340 [01:38<07:23,  2.23s/it]"
     ]
    },
    {
     "name": "stdout",
     "output_type": "stream",
     "text": [
      "Best saved, loss: 0.60042\n",
      "Fold# 1, Epoch: 1/3, L_train: 0.85590,                L_test: 0.60042\n"
     ]
    },
    {
     "name": "stderr",
     "output_type": "stream",
     "text": [
      " 47%|████▋     | 161/340 [01:51<06:21,  2.13s/it]"
     ]
    },
    {
     "name": "stdout",
     "output_type": "stream",
     "text": [
      "Fold# 1, Epoch: 1/3, L_train: 0.83010,                L_test: 0.67391\n"
     ]
    },
    {
     "name": "stderr",
     "output_type": "stream",
     "text": [
      " 53%|█████▎    | 181/340 [02:04<05:38,  2.13s/it]"
     ]
    },
    {
     "name": "stdout",
     "output_type": "stream",
     "text": [
      "Fold# 1, Epoch: 1/3, L_train: 0.81855,                L_test: 0.76554\n"
     ]
    },
    {
     "name": "stderr",
     "output_type": "stream",
     "text": [
      " 59%|█████▉    | 201/340 [02:17<04:56,  2.13s/it]"
     ]
    },
    {
     "name": "stdout",
     "output_type": "stream",
     "text": [
      "Fold# 1, Epoch: 1/3, L_train: 0.80248,                L_test: 0.62115\n"
     ]
    },
    {
     "name": "stderr",
     "output_type": "stream",
     "text": [
      " 65%|██████▌   | 221/340 [02:31<04:24,  2.22s/it]"
     ]
    },
    {
     "name": "stdout",
     "output_type": "stream",
     "text": [
      "Best saved, loss: 0.59551\n",
      "Fold# 1, Epoch: 1/3, L_train: 0.78769,                L_test: 0.59551\n"
     ]
    },
    {
     "name": "stderr",
     "output_type": "stream",
     "text": [
      " 71%|███████   | 241/340 [02:44<03:39,  2.22s/it]"
     ]
    },
    {
     "name": "stdout",
     "output_type": "stream",
     "text": [
      "Best saved, loss: 0.59070\n",
      "Fold# 1, Epoch: 1/3, L_train: 0.77860,                L_test: 0.59070\n"
     ]
    },
    {
     "name": "stderr",
     "output_type": "stream",
     "text": [
      " 77%|███████▋  | 261/340 [02:58<02:48,  2.13s/it]"
     ]
    },
    {
     "name": "stdout",
     "output_type": "stream",
     "text": [
      "Fold# 1, Epoch: 1/3, L_train: 0.76780,                L_test: 0.60546\n"
     ]
    },
    {
     "name": "stderr",
     "output_type": "stream",
     "text": [
      " 82%|████████▏ | 280/340 [03:11<02:57,  2.95s/it]"
     ]
    },
    {
     "name": "stdout",
     "output_type": "stream",
     "text": [
      "Fold# 1, Epoch: 1/3, L_train: 0.75504,                L_test: 0.73390\n"
     ]
    },
    {
     "name": "stderr",
     "output_type": "stream",
     "text": [
      " 89%|████████▊ | 301/340 [03:24<01:23,  2.13s/it]"
     ]
    },
    {
     "name": "stdout",
     "output_type": "stream",
     "text": [
      "Fold# 1, Epoch: 1/3, L_train: 0.74321,                L_test: 0.59223\n"
     ]
    },
    {
     "name": "stderr",
     "output_type": "stream",
     "text": [
      " 94%|█████████▍| 321/340 [03:38<00:42,  2.22s/it]"
     ]
    },
    {
     "name": "stdout",
     "output_type": "stream",
     "text": [
      "Best saved, loss: 0.56208\n",
      "Fold# 1, Epoch: 1/3, L_train: 0.73133,                L_test: 0.56208\n"
     ]
    },
    {
     "name": "stderr",
     "output_type": "stream",
     "text": [
      "100%|██████████| 340/340 [03:51<00:00,  1.47it/s]\n"
     ]
    },
    {
     "name": "stdout",
     "output_type": "stream",
     "text": [
      "Fold# 1, Epoch: 1/3, L_train: 0.72620,                L_test: 0.61085\n",
      "Adjusting learning rate of group 0 to 2.5000e-06.\n",
      "Adjusting learning rate of group 1 to 5.0000e-05.\n",
      "Adjusting learning rate of group 2 to 5.0000e-05.\n",
      "Adjusting learning rate of group 3 to 5.0000e-05.\n",
      "Adjusting learning rate of group 4 to 5.0000e-05.\n"
     ]
    },
    {
     "name": "stderr",
     "output_type": "stream",
     "text": [
      "  6%|▌         | 21/340 [00:13<11:18,  2.13s/it]"
     ]
    },
    {
     "name": "stdout",
     "output_type": "stream",
     "text": [
      "Fold# 1, Epoch: 2/3, L_train: 0.59345,                L_test: 0.58286\n"
     ]
    },
    {
     "name": "stderr",
     "output_type": "stream",
     "text": [
      " 12%|█▏        | 41/340 [00:26<10:39,  2.14s/it]"
     ]
    },
    {
     "name": "stdout",
     "output_type": "stream",
     "text": [
      "Fold# 1, Epoch: 2/3, L_train: 0.58823,                L_test: 0.60445\n"
     ]
    },
    {
     "name": "stderr",
     "output_type": "stream",
     "text": [
      " 18%|█▊        | 60/340 [00:39<14:01,  3.01s/it]"
     ]
    },
    {
     "name": "stdout",
     "output_type": "stream",
     "text": [
      "Fold# 1, Epoch: 2/3, L_train: 0.58526,                L_test: 0.57992\n"
     ]
    },
    {
     "name": "stderr",
     "output_type": "stream",
     "text": [
      " 24%|██▍       | 81/340 [00:53<09:41,  2.24s/it]"
     ]
    },
    {
     "name": "stdout",
     "output_type": "stream",
     "text": [
      "Best saved, loss: 0.55309\n",
      "Fold# 1, Epoch: 2/3, L_train: 0.57766,                L_test: 0.55309\n"
     ]
    },
    {
     "name": "stderr",
     "output_type": "stream",
     "text": [
      " 30%|██▉       | 101/340 [01:07<08:31,  2.14s/it]"
     ]
    },
    {
     "name": "stdout",
     "output_type": "stream",
     "text": [
      "Fold# 1, Epoch: 2/3, L_train: 0.56895,                L_test: 0.55861\n"
     ]
    },
    {
     "name": "stderr",
     "output_type": "stream",
     "text": [
      " 36%|███▌      | 121/340 [01:20<07:46,  2.13s/it]"
     ]
    },
    {
     "name": "stdout",
     "output_type": "stream",
     "text": [
      "Fold# 1, Epoch: 2/3, L_train: 0.56583,                L_test: 0.63287\n"
     ]
    },
    {
     "name": "stderr",
     "output_type": "stream",
     "text": [
      " 41%|████▏     | 141/340 [01:33<07:10,  2.16s/it]"
     ]
    },
    {
     "name": "stdout",
     "output_type": "stream",
     "text": [
      "Fold# 1, Epoch: 2/3, L_train: 0.56617,                L_test: 0.58350\n"
     ]
    },
    {
     "name": "stderr",
     "output_type": "stream",
     "text": [
      " 47%|████▋     | 161/340 [01:46<06:24,  2.15s/it]"
     ]
    },
    {
     "name": "stdout",
     "output_type": "stream",
     "text": [
      "Fold# 1, Epoch: 2/3, L_train: 0.56473,                L_test: 0.62456\n"
     ]
    },
    {
     "name": "stderr",
     "output_type": "stream",
     "text": [
      " 53%|█████▎    | 181/340 [02:00<05:42,  2.15s/it]"
     ]
    },
    {
     "name": "stdout",
     "output_type": "stream",
     "text": [
      "Fold# 1, Epoch: 2/3, L_train: 0.56499,                L_test: 0.57145\n"
     ]
    },
    {
     "name": "stderr",
     "output_type": "stream",
     "text": [
      " 59%|█████▉    | 200/340 [02:13<06:54,  2.96s/it]"
     ]
    },
    {
     "name": "stdout",
     "output_type": "stream",
     "text": [
      "Fold# 1, Epoch: 2/3, L_train: 0.56456,                L_test: 0.56697\n"
     ]
    },
    {
     "name": "stderr",
     "output_type": "stream",
     "text": [
      " 65%|██████▍   | 220/340 [02:27<06:15,  3.13s/it]"
     ]
    },
    {
     "name": "stdout",
     "output_type": "stream",
     "text": [
      "Best saved, loss: 0.53909\n",
      "Fold# 1, Epoch: 2/3, L_train: 0.55992,                L_test: 0.53909\n"
     ]
    },
    {
     "name": "stderr",
     "output_type": "stream",
     "text": [
      " 71%|███████   | 241/340 [02:40<03:28,  2.11s/it]"
     ]
    },
    {
     "name": "stdout",
     "output_type": "stream",
     "text": [
      "Fold# 1, Epoch: 2/3, L_train: 0.55672,                L_test: 0.59674\n"
     ]
    },
    {
     "name": "stderr",
     "output_type": "stream",
     "text": [
      " 76%|███████▋  | 260/340 [02:53<03:59,  2.99s/it]"
     ]
    },
    {
     "name": "stdout",
     "output_type": "stream",
     "text": [
      "Fold# 1, Epoch: 2/3, L_train: 0.55552,                L_test: 0.54684\n"
     ]
    },
    {
     "name": "stderr",
     "output_type": "stream",
     "text": [
      " 83%|████████▎ | 281/340 [03:07<02:05,  2.13s/it]"
     ]
    },
    {
     "name": "stdout",
     "output_type": "stream",
     "text": [
      "Fold# 1, Epoch: 2/3, L_train: 0.55454,                L_test: 0.59011\n"
     ]
    },
    {
     "name": "stderr",
     "output_type": "stream",
     "text": [
      " 88%|████████▊ | 300/340 [03:20<01:59,  2.98s/it]"
     ]
    },
    {
     "name": "stdout",
     "output_type": "stream",
     "text": [
      "Fold# 1, Epoch: 2/3, L_train: 0.55502,                L_test: 0.58882\n"
     ]
    },
    {
     "name": "stderr",
     "output_type": "stream",
     "text": [
      " 94%|█████████▍| 321/340 [03:33<00:40,  2.15s/it]"
     ]
    },
    {
     "name": "stdout",
     "output_type": "stream",
     "text": [
      "Fold# 1, Epoch: 2/3, L_train: 0.55089,                L_test: 0.56138\n"
     ]
    },
    {
     "name": "stderr",
     "output_type": "stream",
     "text": [
      "100%|██████████| 340/340 [03:46<00:00,  1.50it/s]\n"
     ]
    },
    {
     "name": "stdout",
     "output_type": "stream",
     "text": [
      "Fold# 1, Epoch: 2/3, L_train: 0.54874,                L_test: 0.57079\n",
      "Adjusting learning rate of group 0 to 1.2500e-06.\n",
      "Adjusting learning rate of group 1 to 2.5000e-05.\n",
      "Adjusting learning rate of group 2 to 2.5000e-05.\n",
      "Adjusting learning rate of group 3 to 2.5000e-05.\n",
      "Adjusting learning rate of group 4 to 2.5000e-05.\n"
     ]
    },
    {
     "name": "stderr",
     "output_type": "stream",
     "text": [
      "  6%|▌         | 21/340 [00:13<11:17,  2.12s/it]"
     ]
    },
    {
     "name": "stdout",
     "output_type": "stream",
     "text": [
      "Fold# 1, Epoch: 3/3, L_train: 0.50341,                L_test: 0.55779\n"
     ]
    },
    {
     "name": "stderr",
     "output_type": "stream",
     "text": [
      " 12%|█▏        | 41/340 [00:26<10:36,  2.13s/it]"
     ]
    },
    {
     "name": "stdout",
     "output_type": "stream",
     "text": [
      "Fold# 1, Epoch: 3/3, L_train: 0.50334,                L_test: 0.57782\n"
     ]
    },
    {
     "name": "stderr",
     "output_type": "stream",
     "text": [
      " 18%|█▊        | 61/340 [00:40<10:17,  2.21s/it]"
     ]
    },
    {
     "name": "stdout",
     "output_type": "stream",
     "text": [
      "Best saved, loss: 0.53898\n",
      "Fold# 1, Epoch: 3/3, L_train: 0.50642,                L_test: 0.53898\n"
     ]
    },
    {
     "name": "stderr",
     "output_type": "stream",
     "text": [
      " 24%|██▍       | 81/340 [00:53<09:23,  2.18s/it]"
     ]
    },
    {
     "name": "stdout",
     "output_type": "stream",
     "text": [
      "Fold# 1, Epoch: 3/3, L_train: 0.50806,                L_test: 0.57652\n"
     ]
    },
    {
     "name": "stderr",
     "output_type": "stream",
     "text": [
      " 30%|██▉       | 101/340 [01:06<08:38,  2.17s/it]"
     ]
    },
    {
     "name": "stdout",
     "output_type": "stream",
     "text": [
      "Fold# 1, Epoch: 3/3, L_train: 0.50952,                L_test: 0.62287\n"
     ]
    },
    {
     "name": "stderr",
     "output_type": "stream",
     "text": [
      " 36%|███▌      | 121/340 [01:20<07:49,  2.14s/it]"
     ]
    },
    {
     "name": "stdout",
     "output_type": "stream",
     "text": [
      "Fold# 1, Epoch: 3/3, L_train: 0.50776,                L_test: 0.55016\n"
     ]
    },
    {
     "name": "stderr",
     "output_type": "stream",
     "text": [
      " 41%|████▏     | 141/340 [01:33<07:01,  2.12s/it]"
     ]
    },
    {
     "name": "stdout",
     "output_type": "stream",
     "text": [
      "Fold# 1, Epoch: 3/3, L_train: 0.50983,                L_test: 0.55350\n"
     ]
    },
    {
     "name": "stderr",
     "output_type": "stream",
     "text": [
      " 47%|████▋     | 161/340 [01:46<06:17,  2.11s/it]"
     ]
    },
    {
     "name": "stdout",
     "output_type": "stream",
     "text": [
      "Fold# 1, Epoch: 3/3, L_train: 0.51037,                L_test: 0.57972\n"
     ]
    },
    {
     "name": "stderr",
     "output_type": "stream",
     "text": [
      " 53%|█████▎    | 181/340 [01:59<05:38,  2.13s/it]"
     ]
    },
    {
     "name": "stdout",
     "output_type": "stream",
     "text": [
      "Fold# 1, Epoch: 3/3, L_train: 0.50920,                L_test: 0.57075\n"
     ]
    },
    {
     "name": "stderr",
     "output_type": "stream",
     "text": [
      " 59%|█████▉    | 201/340 [02:12<04:56,  2.13s/it]"
     ]
    },
    {
     "name": "stdout",
     "output_type": "stream",
     "text": [
      "Fold# 1, Epoch: 3/3, L_train: 0.50548,                L_test: 0.55256\n"
     ]
    },
    {
     "name": "stderr",
     "output_type": "stream",
     "text": [
      " 65%|██████▌   | 221/340 [02:25<04:12,  2.12s/it]"
     ]
    },
    {
     "name": "stdout",
     "output_type": "stream",
     "text": [
      "Fold# 1, Epoch: 3/3, L_train: 0.50701,                L_test: 0.56102\n"
     ]
    },
    {
     "name": "stderr",
     "output_type": "stream",
     "text": [
      " 71%|███████   | 241/340 [02:39<03:29,  2.11s/it]"
     ]
    },
    {
     "name": "stdout",
     "output_type": "stream",
     "text": [
      "Fold# 1, Epoch: 3/3, L_train: 0.50721,                L_test: 0.60377\n"
     ]
    },
    {
     "name": "stderr",
     "output_type": "stream",
     "text": [
      " 77%|███████▋  | 261/340 [02:52<02:46,  2.11s/it]"
     ]
    },
    {
     "name": "stdout",
     "output_type": "stream",
     "text": [
      "Fold# 1, Epoch: 3/3, L_train: 0.50253,                L_test: 0.55448\n"
     ]
    },
    {
     "name": "stderr",
     "output_type": "stream",
     "text": [
      " 83%|████████▎ | 281/340 [03:05<02:06,  2.15s/it]"
     ]
    },
    {
     "name": "stdout",
     "output_type": "stream",
     "text": [
      "Fold# 1, Epoch: 3/3, L_train: 0.49842,                L_test: 0.54825\n"
     ]
    },
    {
     "name": "stderr",
     "output_type": "stream",
     "text": [
      " 89%|████████▊ | 301/340 [03:18<01:23,  2.15s/it]"
     ]
    },
    {
     "name": "stdout",
     "output_type": "stream",
     "text": [
      "Fold# 1, Epoch: 3/3, L_train: 0.49783,                L_test: 0.62580\n"
     ]
    },
    {
     "name": "stderr",
     "output_type": "stream",
     "text": [
      " 94%|█████████▍| 321/340 [03:31<00:40,  2.13s/it]"
     ]
    },
    {
     "name": "stdout",
     "output_type": "stream",
     "text": [
      "Fold# 1, Epoch: 3/3, L_train: 0.49683,                L_test: 0.59187\n"
     ]
    },
    {
     "name": "stderr",
     "output_type": "stream",
     "text": [
      "100%|██████████| 340/340 [03:44<00:00,  1.51it/s]"
     ]
    },
    {
     "name": "stdout",
     "output_type": "stream",
     "text": [
      "Fold# 1, Epoch: 3/3, L_train: 0.49875,                L_test: 0.58828\n",
      "Adjusting learning rate of group 0 to 6.2500e-07.\n",
      "Adjusting learning rate of group 1 to 1.2500e-05.\n",
      "Adjusting learning rate of group 2 to 1.2500e-05.\n",
      "Adjusting learning rate of group 3 to 1.2500e-05.\n",
      "Adjusting learning rate of group 4 to 1.2500e-05.\n",
      "Time elapsed:0:11:22.719856, Best score:0.53898\n"
     ]
    },
    {
     "name": "stderr",
     "output_type": "stream",
     "text": [
      "\n",
      "C:\\Users\\shmak\\AppData\\Local\\Temp\\ipykernel_20912\\916719634.py:23: UserWarning: FixedFormatter should only be used together with FixedLocator\n",
      "  ax.xaxis.set_major_formatter(ticker.FixedFormatter(range(n_epochs)))\n",
      "Some weights of RobertaModel were not initialized from the model checkpoint at roberta-base and are newly initialized: ['roberta.pooler.dense.bias', 'roberta.pooler.dense.weight']\n",
      "You should probably TRAIN this model on a down-stream task to be able to use it for predictions and inference.\n"
     ]
    },
    {
     "name": "stdout",
     "output_type": "stream",
     "text": [
      "Adjusting learning rate of group 0 to 5.0000e-06.\n",
      "Adjusting learning rate of group 1 to 1.0000e-04.\n",
      "Adjusting learning rate of group 2 to 1.0000e-04.\n",
      "Adjusting learning rate of group 3 to 1.0000e-04.\n",
      "Adjusting learning rate of group 4 to 1.0000e-04.\n"
     ]
    },
    {
     "name": "stderr",
     "output_type": "stream",
     "text": [
      "  6%|▌         | 21/343 [00:13<11:47,  2.20s/it]"
     ]
    },
    {
     "name": "stdout",
     "output_type": "stream",
     "text": [
      "Best saved, loss: 0.94770\n",
      "Fold# 2, Epoch: 1/3, L_train: 1.11039,                L_test: 0.94770\n"
     ]
    },
    {
     "name": "stderr",
     "output_type": "stream",
     "text": [
      " 12%|█▏        | 41/343 [00:27<11:06,  2.21s/it]"
     ]
    },
    {
     "name": "stdout",
     "output_type": "stream",
     "text": [
      "Best saved, loss: 0.91855\n",
      "Fold# 2, Epoch: 1/3, L_train: 1.08612,                L_test: 0.91855\n"
     ]
    },
    {
     "name": "stderr",
     "output_type": "stream",
     "text": [
      " 18%|█▊        | 61/343 [00:40<10:20,  2.20s/it]"
     ]
    },
    {
     "name": "stdout",
     "output_type": "stream",
     "text": [
      "Best saved, loss: 0.88747\n",
      "Fold# 2, Epoch: 1/3, L_train: 1.06543,                L_test: 0.88747\n"
     ]
    },
    {
     "name": "stderr",
     "output_type": "stream",
     "text": [
      " 24%|██▎       | 81/343 [00:53<09:17,  2.13s/it]"
     ]
    },
    {
     "name": "stdout",
     "output_type": "stream",
     "text": [
      "Fold# 2, Epoch: 1/3, L_train: 1.00016,                L_test: 0.90604\n"
     ]
    },
    {
     "name": "stderr",
     "output_type": "stream",
     "text": [
      " 29%|██▉       | 100/343 [01:07<12:47,  3.16s/it]"
     ]
    },
    {
     "name": "stdout",
     "output_type": "stream",
     "text": [
      "Best saved, loss: 0.82659\n",
      "Fold# 2, Epoch: 1/3, L_train: 0.92311,                L_test: 0.82659\n"
     ]
    },
    {
     "name": "stderr",
     "output_type": "stream",
     "text": [
      " 35%|███▌      | 121/343 [01:21<07:48,  2.11s/it]"
     ]
    },
    {
     "name": "stdout",
     "output_type": "stream",
     "text": [
      "Fold# 2, Epoch: 1/3, L_train: 0.87271,                L_test: 0.94210\n"
     ]
    },
    {
     "name": "stderr",
     "output_type": "stream",
     "text": [
      " 41%|████      | 141/343 [01:34<07:03,  2.10s/it]"
     ]
    },
    {
     "name": "stdout",
     "output_type": "stream",
     "text": [
      "Fold# 2, Epoch: 1/3, L_train: 0.84265,                L_test: 1.01212\n"
     ]
    },
    {
     "name": "stderr",
     "output_type": "stream",
     "text": [
      " 47%|████▋     | 161/343 [01:47<06:20,  2.09s/it]"
     ]
    },
    {
     "name": "stdout",
     "output_type": "stream",
     "text": [
      "Fold# 2, Epoch: 1/3, L_train: 0.81837,                L_test: 0.82709\n"
     ]
    },
    {
     "name": "stderr",
     "output_type": "stream",
     "text": [
      " 52%|█████▏    | 180/343 [02:00<08:21,  3.08s/it]"
     ]
    },
    {
     "name": "stdout",
     "output_type": "stream",
     "text": [
      "Best saved, loss: 0.79181\n",
      "Fold# 2, Epoch: 1/3, L_train: 0.79251,                L_test: 0.79181\n"
     ]
    },
    {
     "name": "stderr",
     "output_type": "stream",
     "text": [
      " 59%|█████▊    | 201/343 [02:13<04:58,  2.11s/it]"
     ]
    },
    {
     "name": "stdout",
     "output_type": "stream",
     "text": [
      "Fold# 2, Epoch: 1/3, L_train: 0.77145,                L_test: 0.85960\n"
     ]
    },
    {
     "name": "stderr",
     "output_type": "stream",
     "text": [
      " 64%|██████▍   | 221/343 [02:26<04:17,  2.11s/it]"
     ]
    },
    {
     "name": "stdout",
     "output_type": "stream",
     "text": [
      "Fold# 2, Epoch: 1/3, L_train: 0.75566,                L_test: 0.88880\n"
     ]
    },
    {
     "name": "stderr",
     "output_type": "stream",
     "text": [
      " 70%|███████   | 241/343 [02:39<03:34,  2.10s/it]"
     ]
    },
    {
     "name": "stdout",
     "output_type": "stream",
     "text": [
      "Fold# 2, Epoch: 1/3, L_train: 0.74219,                L_test: 0.80528\n"
     ]
    },
    {
     "name": "stderr",
     "output_type": "stream",
     "text": [
      " 76%|███████▌  | 260/343 [02:52<04:02,  2.93s/it]"
     ]
    },
    {
     "name": "stdout",
     "output_type": "stream",
     "text": [
      "Fold# 2, Epoch: 1/3, L_train: 0.72713,                L_test: 1.11592\n"
     ]
    },
    {
     "name": "stderr",
     "output_type": "stream",
     "text": [
      " 82%|████████▏ | 281/343 [03:06<02:12,  2.14s/it]"
     ]
    },
    {
     "name": "stdout",
     "output_type": "stream",
     "text": [
      "Fold# 2, Epoch: 1/3, L_train: 0.71534,                L_test: 0.88625\n"
     ]
    },
    {
     "name": "stderr",
     "output_type": "stream",
     "text": [
      " 88%|████████▊ | 301/343 [03:19<01:29,  2.13s/it]"
     ]
    },
    {
     "name": "stdout",
     "output_type": "stream",
     "text": [
      "Fold# 2, Epoch: 1/3, L_train: 0.70243,                L_test: 0.90197\n"
     ]
    },
    {
     "name": "stderr",
     "output_type": "stream",
     "text": [
      " 93%|█████████▎| 320/343 [03:32<01:08,  2.96s/it]"
     ]
    },
    {
     "name": "stdout",
     "output_type": "stream",
     "text": [
      "Fold# 2, Epoch: 1/3, L_train: 0.69189,                L_test: 0.91052\n"
     ]
    },
    {
     "name": "stderr",
     "output_type": "stream",
     "text": [
      " 99%|█████████▉| 341/343 [03:45<00:04,  2.11s/it]"
     ]
    },
    {
     "name": "stdout",
     "output_type": "stream",
     "text": [
      "Fold# 2, Epoch: 1/3, L_train: 0.68266,                L_test: 0.88106\n"
     ]
    },
    {
     "name": "stderr",
     "output_type": "stream",
     "text": [
      "100%|██████████| 343/343 [03:55<00:00,  1.46it/s]\n"
     ]
    },
    {
     "name": "stdout",
     "output_type": "stream",
     "text": [
      "Fold# 2, Epoch: 1/3, L_train: 0.68178,                L_test: 0.92457\n",
      "Adjusting learning rate of group 0 to 2.5000e-06.\n",
      "Adjusting learning rate of group 1 to 5.0000e-05.\n",
      "Adjusting learning rate of group 2 to 5.0000e-05.\n",
      "Adjusting learning rate of group 3 to 5.0000e-05.\n",
      "Adjusting learning rate of group 4 to 5.0000e-05.\n"
     ]
    },
    {
     "name": "stderr",
     "output_type": "stream",
     "text": [
      "  6%|▌         | 21/343 [00:13<11:21,  2.12s/it]"
     ]
    },
    {
     "name": "stdout",
     "output_type": "stream",
     "text": [
      "Fold# 2, Epoch: 2/3, L_train: 0.49025,                L_test: 0.90759\n"
     ]
    },
    {
     "name": "stderr",
     "output_type": "stream",
     "text": [
      " 12%|█▏        | 40/343 [00:26<14:39,  2.90s/it]"
     ]
    },
    {
     "name": "stdout",
     "output_type": "stream",
     "text": [
      "Fold# 2, Epoch: 2/3, L_train: 0.49205,                L_test: 0.96569\n"
     ]
    },
    {
     "name": "stderr",
     "output_type": "stream",
     "text": [
      " 18%|█▊        | 61/343 [00:39<10:00,  2.13s/it]"
     ]
    },
    {
     "name": "stdout",
     "output_type": "stream",
     "text": [
      "Fold# 2, Epoch: 2/3, L_train: 0.49284,                L_test: 0.93472\n"
     ]
    },
    {
     "name": "stderr",
     "output_type": "stream",
     "text": [
      " 24%|██▎       | 81/343 [00:52<09:09,  2.10s/it]"
     ]
    },
    {
     "name": "stdout",
     "output_type": "stream",
     "text": [
      "Fold# 2, Epoch: 2/3, L_train: 0.49475,                L_test: 0.92669\n"
     ]
    },
    {
     "name": "stderr",
     "output_type": "stream",
     "text": [
      " 29%|██▉       | 101/343 [01:05<08:35,  2.13s/it]"
     ]
    },
    {
     "name": "stdout",
     "output_type": "stream",
     "text": [
      "Fold# 2, Epoch: 2/3, L_train: 0.49740,                L_test: 0.96382\n"
     ]
    },
    {
     "name": "stderr",
     "output_type": "stream",
     "text": [
      " 35%|███▌      | 121/343 [01:19<07:58,  2.16s/it]"
     ]
    },
    {
     "name": "stdout",
     "output_type": "stream",
     "text": [
      "Fold# 2, Epoch: 2/3, L_train: 0.49738,                L_test: 0.96241\n"
     ]
    },
    {
     "name": "stderr",
     "output_type": "stream",
     "text": [
      " 41%|████      | 141/343 [01:32<07:05,  2.10s/it]"
     ]
    },
    {
     "name": "stdout",
     "output_type": "stream",
     "text": [
      "Fold# 2, Epoch: 2/3, L_train: 0.50285,                L_test: 0.89776\n"
     ]
    },
    {
     "name": "stderr",
     "output_type": "stream",
     "text": [
      " 47%|████▋     | 161/343 [01:45<06:20,  2.09s/it]"
     ]
    },
    {
     "name": "stdout",
     "output_type": "stream",
     "text": [
      "Fold# 2, Epoch: 2/3, L_train: 0.50230,                L_test: 0.90637\n"
     ]
    },
    {
     "name": "stderr",
     "output_type": "stream",
     "text": [
      " 53%|█████▎    | 181/343 [01:58<05:43,  2.12s/it]"
     ]
    },
    {
     "name": "stdout",
     "output_type": "stream",
     "text": [
      "Fold# 2, Epoch: 2/3, L_train: 0.50325,                L_test: 0.95748\n"
     ]
    },
    {
     "name": "stderr",
     "output_type": "stream",
     "text": [
      " 59%|█████▊    | 201/343 [02:11<04:56,  2.09s/it]"
     ]
    },
    {
     "name": "stdout",
     "output_type": "stream",
     "text": [
      "Fold# 2, Epoch: 2/3, L_train: 0.50097,                L_test: 0.88869\n"
     ]
    },
    {
     "name": "stderr",
     "output_type": "stream",
     "text": [
      " 64%|██████▍   | 221/343 [02:24<04:14,  2.09s/it]"
     ]
    },
    {
     "name": "stdout",
     "output_type": "stream",
     "text": [
      "Fold# 2, Epoch: 2/3, L_train: 0.50045,                L_test: 0.89654\n"
     ]
    },
    {
     "name": "stderr",
     "output_type": "stream",
     "text": [
      " 70%|███████   | 241/343 [02:37<03:32,  2.09s/it]"
     ]
    },
    {
     "name": "stdout",
     "output_type": "stream",
     "text": [
      "Fold# 2, Epoch: 2/3, L_train: 0.49928,                L_test: 0.85672\n"
     ]
    },
    {
     "name": "stderr",
     "output_type": "stream",
     "text": [
      " 76%|███████▌  | 261/343 [02:50<02:51,  2.09s/it]"
     ]
    },
    {
     "name": "stdout",
     "output_type": "stream",
     "text": [
      "Fold# 2, Epoch: 2/3, L_train: 0.49829,                L_test: 0.85407\n"
     ]
    },
    {
     "name": "stderr",
     "output_type": "stream",
     "text": [
      " 82%|████████▏ | 280/343 [03:02<03:02,  2.90s/it]"
     ]
    },
    {
     "name": "stdout",
     "output_type": "stream",
     "text": [
      "Fold# 2, Epoch: 2/3, L_train: 0.50525,                L_test: 0.81210\n"
     ]
    },
    {
     "name": "stderr",
     "output_type": "stream",
     "text": [
      " 88%|████████▊ | 301/343 [03:16<01:27,  2.09s/it]"
     ]
    },
    {
     "name": "stdout",
     "output_type": "stream",
     "text": [
      "Fold# 2, Epoch: 2/3, L_train: 0.50420,                L_test: 0.86398\n"
     ]
    },
    {
     "name": "stderr",
     "output_type": "stream",
     "text": [
      " 94%|█████████▎| 321/343 [03:29<00:45,  2.09s/it]"
     ]
    },
    {
     "name": "stdout",
     "output_type": "stream",
     "text": [
      "Fold# 2, Epoch: 2/3, L_train: 0.50392,                L_test: 0.86434\n"
     ]
    },
    {
     "name": "stderr",
     "output_type": "stream",
     "text": [
      " 99%|█████████▉| 341/343 [03:42<00:04,  2.19s/it]"
     ]
    },
    {
     "name": "stdout",
     "output_type": "stream",
     "text": [
      "Best saved, loss: 0.79132\n",
      "Fold# 2, Epoch: 2/3, L_train: 0.50406,                L_test: 0.79132\n"
     ]
    },
    {
     "name": "stderr",
     "output_type": "stream",
     "text": [
      "100%|██████████| 343/343 [03:53<00:00,  1.47it/s]\n"
     ]
    },
    {
     "name": "stdout",
     "output_type": "stream",
     "text": [
      "Best saved, loss: 0.78040\n",
      "Fold# 2, Epoch: 2/3, L_train: 0.50466,                L_test: 0.78040\n",
      "Adjusting learning rate of group 0 to 1.2500e-06.\n",
      "Adjusting learning rate of group 1 to 2.5000e-05.\n",
      "Adjusting learning rate of group 2 to 2.5000e-05.\n",
      "Adjusting learning rate of group 3 to 2.5000e-05.\n",
      "Adjusting learning rate of group 4 to 2.5000e-05.\n"
     ]
    },
    {
     "name": "stderr",
     "output_type": "stream",
     "text": [
      "  6%|▌         | 21/343 [00:13<11:25,  2.13s/it]"
     ]
    },
    {
     "name": "stdout",
     "output_type": "stream",
     "text": [
      "Fold# 2, Epoch: 3/3, L_train: 0.52443,                L_test: 0.87538\n"
     ]
    },
    {
     "name": "stderr",
     "output_type": "stream",
     "text": [
      " 12%|█▏        | 41/343 [00:26<10:36,  2.11s/it]"
     ]
    },
    {
     "name": "stdout",
     "output_type": "stream",
     "text": [
      "Fold# 2, Epoch: 3/3, L_train: 0.49623,                L_test: 0.92586\n"
     ]
    },
    {
     "name": "stderr",
     "output_type": "stream",
     "text": [
      " 18%|█▊        | 61/343 [00:39<09:50,  2.09s/it]"
     ]
    },
    {
     "name": "stdout",
     "output_type": "stream",
     "text": [
      "Fold# 2, Epoch: 3/3, L_train: 0.47499,                L_test: 0.91265\n"
     ]
    },
    {
     "name": "stderr",
     "output_type": "stream",
     "text": [
      " 24%|██▎       | 81/343 [00:52<09:18,  2.13s/it]"
     ]
    },
    {
     "name": "stdout",
     "output_type": "stream",
     "text": [
      "Fold# 2, Epoch: 3/3, L_train: 0.48668,                L_test: 0.86305\n"
     ]
    },
    {
     "name": "stderr",
     "output_type": "stream",
     "text": [
      " 29%|██▉       | 101/343 [01:06<08:44,  2.17s/it]"
     ]
    },
    {
     "name": "stdout",
     "output_type": "stream",
     "text": [
      "Fold# 2, Epoch: 3/3, L_train: 0.48630,                L_test: 0.84299\n"
     ]
    },
    {
     "name": "stderr",
     "output_type": "stream",
     "text": [
      " 35%|███▌      | 121/343 [01:19<07:47,  2.11s/it]"
     ]
    },
    {
     "name": "stdout",
     "output_type": "stream",
     "text": [
      "Fold# 2, Epoch: 3/3, L_train: 0.47970,                L_test: 0.91946\n"
     ]
    },
    {
     "name": "stderr",
     "output_type": "stream",
     "text": [
      " 41%|████      | 141/343 [01:32<07:13,  2.15s/it]"
     ]
    },
    {
     "name": "stdout",
     "output_type": "stream",
     "text": [
      "Fold# 2, Epoch: 3/3, L_train: 0.47812,                L_test: 0.95771\n"
     ]
    },
    {
     "name": "stderr",
     "output_type": "stream",
     "text": [
      " 47%|████▋     | 161/343 [01:45<06:28,  2.13s/it]"
     ]
    },
    {
     "name": "stdout",
     "output_type": "stream",
     "text": [
      "Fold# 2, Epoch: 3/3, L_train: 0.47739,                L_test: 0.82758\n"
     ]
    },
    {
     "name": "stderr",
     "output_type": "stream",
     "text": [
      " 53%|█████▎    | 181/343 [01:58<05:48,  2.15s/it]"
     ]
    },
    {
     "name": "stdout",
     "output_type": "stream",
     "text": [
      "Fold# 2, Epoch: 3/3, L_train: 0.47375,                L_test: 0.84339\n"
     ]
    },
    {
     "name": "stderr",
     "output_type": "stream",
     "text": [
      " 58%|█████▊    | 200/343 [02:11<06:58,  2.93s/it]"
     ]
    },
    {
     "name": "stdout",
     "output_type": "stream",
     "text": [
      "Fold# 2, Epoch: 3/3, L_train: 0.47445,                L_test: 0.99216\n"
     ]
    },
    {
     "name": "stderr",
     "output_type": "stream",
     "text": [
      " 64%|██████▍   | 221/343 [02:25<04:17,  2.11s/it]"
     ]
    },
    {
     "name": "stdout",
     "output_type": "stream",
     "text": [
      "Fold# 2, Epoch: 3/3, L_train: 0.47079,                L_test: 0.96362\n"
     ]
    },
    {
     "name": "stderr",
     "output_type": "stream",
     "text": [
      " 70%|███████   | 241/343 [02:38<03:34,  2.10s/it]"
     ]
    },
    {
     "name": "stdout",
     "output_type": "stream",
     "text": [
      "Fold# 2, Epoch: 3/3, L_train: 0.46908,                L_test: 0.83987\n"
     ]
    },
    {
     "name": "stderr",
     "output_type": "stream",
     "text": [
      " 76%|███████▌  | 261/343 [02:51<02:52,  2.10s/it]"
     ]
    },
    {
     "name": "stdout",
     "output_type": "stream",
     "text": [
      "Fold# 2, Epoch: 3/3, L_train: 0.46967,                L_test: 0.86786\n"
     ]
    },
    {
     "name": "stderr",
     "output_type": "stream",
     "text": [
      " 82%|████████▏ | 281/343 [03:04<02:09,  2.09s/it]"
     ]
    },
    {
     "name": "stdout",
     "output_type": "stream",
     "text": [
      "Fold# 2, Epoch: 3/3, L_train: 0.46618,                L_test: 0.87119\n"
     ]
    },
    {
     "name": "stderr",
     "output_type": "stream",
     "text": [
      " 88%|████████▊ | 301/343 [03:17<01:29,  2.14s/it]"
     ]
    },
    {
     "name": "stdout",
     "output_type": "stream",
     "text": [
      "Fold# 2, Epoch: 3/3, L_train: 0.46753,                L_test: 0.88842\n"
     ]
    },
    {
     "name": "stderr",
     "output_type": "stream",
     "text": [
      " 94%|█████████▎| 321/343 [03:30<00:46,  2.11s/it]"
     ]
    },
    {
     "name": "stdout",
     "output_type": "stream",
     "text": [
      "Fold# 2, Epoch: 3/3, L_train: 0.46472,                L_test: 0.84779\n"
     ]
    },
    {
     "name": "stderr",
     "output_type": "stream",
     "text": [
      " 99%|█████████▉| 341/343 [03:43<00:04,  2.09s/it]"
     ]
    },
    {
     "name": "stdout",
     "output_type": "stream",
     "text": [
      "Fold# 2, Epoch: 3/3, L_train: 0.46375,                L_test: 0.83216\n"
     ]
    },
    {
     "name": "stderr",
     "output_type": "stream",
     "text": [
      "100%|██████████| 343/343 [03:53<00:00,  1.47it/s]"
     ]
    },
    {
     "name": "stdout",
     "output_type": "stream",
     "text": [
      "Fold# 2, Epoch: 3/3, L_train: 0.46388,                L_test: 0.81856\n",
      "Adjusting learning rate of group 0 to 6.2500e-07.\n",
      "Adjusting learning rate of group 1 to 1.2500e-05.\n",
      "Adjusting learning rate of group 2 to 1.2500e-05.\n",
      "Adjusting learning rate of group 3 to 1.2500e-05.\n",
      "Adjusting learning rate of group 4 to 1.2500e-05.\n",
      "Time elapsed:0:11:41.595754, Best score:0.78040\n"
     ]
    },
    {
     "name": "stderr",
     "output_type": "stream",
     "text": [
      "\n",
      "C:\\Users\\shmak\\AppData\\Local\\Temp\\ipykernel_20912\\916719634.py:23: UserWarning: FixedFormatter should only be used together with FixedLocator\n",
      "  ax.xaxis.set_major_formatter(ticker.FixedFormatter(range(n_epochs)))\n",
      "Some weights of RobertaModel were not initialized from the model checkpoint at roberta-base and are newly initialized: ['roberta.pooler.dense.bias', 'roberta.pooler.dense.weight']\n",
      "You should probably TRAIN this model on a down-stream task to be able to use it for predictions and inference.\n"
     ]
    },
    {
     "name": "stdout",
     "output_type": "stream",
     "text": [
      "Adjusting learning rate of group 0 to 5.0000e-06.\n",
      "Adjusting learning rate of group 1 to 1.0000e-04.\n",
      "Adjusting learning rate of group 2 to 1.0000e-04.\n",
      "Adjusting learning rate of group 3 to 1.0000e-04.\n",
      "Adjusting learning rate of group 4 to 1.0000e-04.\n"
     ]
    },
    {
     "name": "stderr",
     "output_type": "stream",
     "text": [
      "  5%|▌         | 21/404 [00:09<08:37,  1.35s/it]"
     ]
    },
    {
     "name": "stdout",
     "output_type": "stream",
     "text": [
      "Best saved, loss: 1.19391\n",
      "Fold# 3, Epoch: 1/3, L_train: 1.02351,                L_test: 1.19391\n"
     ]
    },
    {
     "name": "stderr",
     "output_type": "stream",
     "text": [
      " 10%|█         | 41/404 [00:18<07:54,  1.31s/it]"
     ]
    },
    {
     "name": "stdout",
     "output_type": "stream",
     "text": [
      "Fold# 3, Epoch: 1/3, L_train: 1.00588,                L_test: 1.21621\n"
     ]
    },
    {
     "name": "stderr",
     "output_type": "stream",
     "text": [
      " 15%|█▌        | 61/404 [00:28<07:44,  1.36s/it]"
     ]
    },
    {
     "name": "stdout",
     "output_type": "stream",
     "text": [
      "Best saved, loss: 1.19330\n",
      "Fold# 3, Epoch: 1/3, L_train: 0.98375,                L_test: 1.19330\n"
     ]
    },
    {
     "name": "stderr",
     "output_type": "stream",
     "text": [
      " 20%|██        | 81/404 [00:37<07:12,  1.34s/it]"
     ]
    },
    {
     "name": "stdout",
     "output_type": "stream",
     "text": [
      "Best saved, loss: 0.95087\n",
      "Fold# 3, Epoch: 1/3, L_train: 0.93525,                L_test: 0.95087\n"
     ]
    },
    {
     "name": "stderr",
     "output_type": "stream",
     "text": [
      " 25%|██▌       | 101/404 [00:47<06:56,  1.37s/it]"
     ]
    },
    {
     "name": "stdout",
     "output_type": "stream",
     "text": [
      "Best saved, loss: 0.80205\n",
      "Fold# 3, Epoch: 1/3, L_train: 0.88570,                L_test: 0.80205\n"
     ]
    },
    {
     "name": "stderr",
     "output_type": "stream",
     "text": [
      " 30%|██▉       | 120/404 [00:56<08:00,  1.69s/it]"
     ]
    },
    {
     "name": "stdout",
     "output_type": "stream",
     "text": [
      "Fold# 3, Epoch: 1/3, L_train: 0.84622,                L_test: 1.02266\n"
     ]
    },
    {
     "name": "stderr",
     "output_type": "stream",
     "text": [
      " 35%|███▍      | 141/404 [01:05<05:43,  1.31s/it]"
     ]
    },
    {
     "name": "stdout",
     "output_type": "stream",
     "text": [
      "Fold# 3, Epoch: 1/3, L_train: 0.81413,                L_test: 0.88303\n"
     ]
    },
    {
     "name": "stderr",
     "output_type": "stream",
     "text": [
      " 40%|███▉      | 161/404 [01:14<04:58,  1.23s/it]"
     ]
    },
    {
     "name": "stdout",
     "output_type": "stream",
     "text": [
      "Fold# 3, Epoch: 1/3, L_train: 0.79124,                L_test: 0.81915\n"
     ]
    },
    {
     "name": "stderr",
     "output_type": "stream",
     "text": [
      " 45%|████▍     | 181/404 [01:23<04:33,  1.23s/it]"
     ]
    },
    {
     "name": "stdout",
     "output_type": "stream",
     "text": [
      "Fold# 3, Epoch: 1/3, L_train: 0.77084,                L_test: 0.90469\n"
     ]
    },
    {
     "name": "stderr",
     "output_type": "stream",
     "text": [
      " 50%|████▉     | 201/404 [01:32<04:24,  1.30s/it]"
     ]
    },
    {
     "name": "stdout",
     "output_type": "stream",
     "text": [
      "Fold# 3, Epoch: 1/3, L_train: 0.77081,                L_test: 0.88487\n"
     ]
    },
    {
     "name": "stderr",
     "output_type": "stream",
     "text": [
      " 55%|█████▍    | 221/404 [01:41<03:51,  1.26s/it]"
     ]
    },
    {
     "name": "stdout",
     "output_type": "stream",
     "text": [
      "Fold# 3, Epoch: 1/3, L_train: 0.75502,                L_test: 0.84100\n"
     ]
    },
    {
     "name": "stderr",
     "output_type": "stream",
     "text": [
      " 60%|█████▉    | 241/404 [01:50<03:19,  1.22s/it]"
     ]
    },
    {
     "name": "stdout",
     "output_type": "stream",
     "text": [
      "Fold# 3, Epoch: 1/3, L_train: 0.74412,                L_test: 0.89297\n"
     ]
    },
    {
     "name": "stderr",
     "output_type": "stream",
     "text": [
      " 65%|██████▍   | 261/404 [01:59<02:55,  1.22s/it]"
     ]
    },
    {
     "name": "stdout",
     "output_type": "stream",
     "text": [
      "Fold# 3, Epoch: 1/3, L_train: 0.73281,                L_test: 0.86466\n"
     ]
    },
    {
     "name": "stderr",
     "output_type": "stream",
     "text": [
      " 69%|██████▉   | 280/404 [02:08<03:28,  1.68s/it]"
     ]
    },
    {
     "name": "stdout",
     "output_type": "stream",
     "text": [
      "Fold# 3, Epoch: 1/3, L_train: 0.72517,                L_test: 0.84364\n"
     ]
    },
    {
     "name": "stderr",
     "output_type": "stream",
     "text": [
      " 75%|███████▍  | 301/404 [02:17<02:08,  1.25s/it]"
     ]
    },
    {
     "name": "stdout",
     "output_type": "stream",
     "text": [
      "Fold# 3, Epoch: 1/3, L_train: 0.71690,                L_test: 0.98991\n"
     ]
    },
    {
     "name": "stderr",
     "output_type": "stream",
     "text": [
      " 79%|███████▉  | 321/404 [02:26<01:43,  1.25s/it]"
     ]
    },
    {
     "name": "stdout",
     "output_type": "stream",
     "text": [
      "Fold# 3, Epoch: 1/3, L_train: 0.70830,                L_test: 0.91335\n"
     ]
    },
    {
     "name": "stderr",
     "output_type": "stream",
     "text": [
      " 84%|████████▍ | 341/404 [02:35<01:18,  1.24s/it]"
     ]
    },
    {
     "name": "stdout",
     "output_type": "stream",
     "text": [
      "Fold# 3, Epoch: 1/3, L_train: 0.70251,                L_test: 0.94258\n"
     ]
    },
    {
     "name": "stderr",
     "output_type": "stream",
     "text": [
      " 89%|████████▉ | 361/404 [02:44<00:52,  1.23s/it]"
     ]
    },
    {
     "name": "stdout",
     "output_type": "stream",
     "text": [
      "Fold# 3, Epoch: 1/3, L_train: 0.69557,                L_test: 0.90574\n"
     ]
    },
    {
     "name": "stderr",
     "output_type": "stream",
     "text": [
      " 94%|█████████▍| 381/404 [02:53<00:30,  1.33s/it]"
     ]
    },
    {
     "name": "stdout",
     "output_type": "stream",
     "text": [
      "Best saved, loss: 0.74200\n",
      "Fold# 3, Epoch: 1/3, L_train: 0.68560,                L_test: 0.74200\n"
     ]
    },
    {
     "name": "stderr",
     "output_type": "stream",
     "text": [
      " 99%|█████████▉| 400/404 [03:02<00:06,  1.68s/it]"
     ]
    },
    {
     "name": "stdout",
     "output_type": "stream",
     "text": [
      "Fold# 3, Epoch: 1/3, L_train: 0.68059,                L_test: 0.94211\n"
     ]
    },
    {
     "name": "stderr",
     "output_type": "stream",
     "text": [
      "100%|██████████| 404/404 [03:08<00:00,  2.15it/s]\n"
     ]
    },
    {
     "name": "stdout",
     "output_type": "stream",
     "text": [
      "Fold# 3, Epoch: 1/3, L_train: 0.67945,                L_test: 0.96967\n",
      "Adjusting learning rate of group 0 to 2.5000e-06.\n",
      "Adjusting learning rate of group 1 to 5.0000e-05.\n",
      "Adjusting learning rate of group 2 to 5.0000e-05.\n",
      "Adjusting learning rate of group 3 to 5.0000e-05.\n",
      "Adjusting learning rate of group 4 to 5.0000e-05.\n"
     ]
    },
    {
     "name": "stderr",
     "output_type": "stream",
     "text": [
      "  5%|▌         | 21/404 [00:09<08:32,  1.34s/it]"
     ]
    },
    {
     "name": "stdout",
     "output_type": "stream",
     "text": [
      "Best saved, loss: 0.72409\n",
      "Fold# 3, Epoch: 2/3, L_train: 0.52644,                L_test: 0.72409\n"
     ]
    },
    {
     "name": "stderr",
     "output_type": "stream",
     "text": [
      " 10%|█         | 41/404 [00:19<08:06,  1.34s/it]"
     ]
    },
    {
     "name": "stdout",
     "output_type": "stream",
     "text": [
      "Best saved, loss: 0.70693\n",
      "Fold# 3, Epoch: 2/3, L_train: 0.52019,                L_test: 0.70693\n"
     ]
    },
    {
     "name": "stderr",
     "output_type": "stream",
     "text": [
      " 15%|█▌        | 61/404 [00:28<07:02,  1.23s/it]"
     ]
    },
    {
     "name": "stdout",
     "output_type": "stream",
     "text": [
      "Fold# 3, Epoch: 2/3, L_train: 0.52735,                L_test: 0.78546\n"
     ]
    },
    {
     "name": "stderr",
     "output_type": "stream",
     "text": [
      " 20%|██        | 81/404 [00:36<06:36,  1.23s/it]"
     ]
    },
    {
     "name": "stdout",
     "output_type": "stream",
     "text": [
      "Fold# 3, Epoch: 2/3, L_train: 0.52409,                L_test: 0.81783\n"
     ]
    },
    {
     "name": "stderr",
     "output_type": "stream",
     "text": [
      " 25%|██▌       | 101/404 [00:45<06:20,  1.26s/it]"
     ]
    },
    {
     "name": "stdout",
     "output_type": "stream",
     "text": [
      "Fold# 3, Epoch: 2/3, L_train: 0.51840,                L_test: 0.87646\n"
     ]
    },
    {
     "name": "stderr",
     "output_type": "stream",
     "text": [
      " 30%|██▉       | 121/404 [00:54<05:47,  1.23s/it]"
     ]
    },
    {
     "name": "stdout",
     "output_type": "stream",
     "text": [
      "Fold# 3, Epoch: 2/3, L_train: 0.51636,                L_test: 0.83229\n"
     ]
    },
    {
     "name": "stderr",
     "output_type": "stream",
     "text": [
      " 35%|███▍      | 141/404 [01:03<05:22,  1.23s/it]"
     ]
    },
    {
     "name": "stdout",
     "output_type": "stream",
     "text": [
      "Fold# 3, Epoch: 2/3, L_train: 0.51698,                L_test: 0.71790\n"
     ]
    },
    {
     "name": "stderr",
     "output_type": "stream",
     "text": [
      " 40%|███▉      | 160/404 [01:12<06:56,  1.71s/it]"
     ]
    },
    {
     "name": "stdout",
     "output_type": "stream",
     "text": [
      "Fold# 3, Epoch: 2/3, L_train: 0.51435,                L_test: 0.77711\n"
     ]
    },
    {
     "name": "stderr",
     "output_type": "stream",
     "text": [
      " 45%|████▍     | 181/404 [01:21<04:44,  1.27s/it]"
     ]
    },
    {
     "name": "stdout",
     "output_type": "stream",
     "text": [
      "Fold# 3, Epoch: 2/3, L_train: 0.51508,                L_test: 0.76862\n"
     ]
    },
    {
     "name": "stderr",
     "output_type": "stream",
     "text": [
      " 50%|████▉     | 200/404 [01:31<06:10,  1.81s/it]"
     ]
    },
    {
     "name": "stdout",
     "output_type": "stream",
     "text": [
      "Fold# 3, Epoch: 2/3, L_train: 0.51379,                L_test: 0.75643\n"
     ]
    },
    {
     "name": "stderr",
     "output_type": "stream",
     "text": [
      " 55%|█████▍    | 221/404 [01:40<04:02,  1.32s/it]"
     ]
    },
    {
     "name": "stdout",
     "output_type": "stream",
     "text": [
      "Best saved, loss: 0.70169\n",
      "Fold# 3, Epoch: 2/3, L_train: 0.51272,                L_test: 0.70169\n"
     ]
    },
    {
     "name": "stderr",
     "output_type": "stream",
     "text": [
      " 60%|█████▉    | 241/404 [01:49<03:20,  1.23s/it]"
     ]
    },
    {
     "name": "stdout",
     "output_type": "stream",
     "text": [
      "Fold# 3, Epoch: 2/3, L_train: 0.51389,                L_test: 0.76083\n"
     ]
    },
    {
     "name": "stderr",
     "output_type": "stream",
     "text": [
      " 65%|██████▍   | 261/404 [01:58<02:56,  1.23s/it]"
     ]
    },
    {
     "name": "stdout",
     "output_type": "stream",
     "text": [
      "Fold# 3, Epoch: 2/3, L_train: 0.51554,                L_test: 0.75587\n"
     ]
    },
    {
     "name": "stderr",
     "output_type": "stream",
     "text": [
      " 70%|██████▉   | 281/404 [02:07<02:31,  1.23s/it]"
     ]
    },
    {
     "name": "stdout",
     "output_type": "stream",
     "text": [
      "Fold# 3, Epoch: 2/3, L_train: 0.51655,                L_test: 0.77148\n"
     ]
    },
    {
     "name": "stderr",
     "output_type": "stream",
     "text": [
      " 75%|███████▍  | 301/404 [02:16<02:06,  1.23s/it]"
     ]
    },
    {
     "name": "stdout",
     "output_type": "stream",
     "text": [
      "Fold# 3, Epoch: 2/3, L_train: 0.51490,                L_test: 0.87515\n"
     ]
    },
    {
     "name": "stderr",
     "output_type": "stream",
     "text": [
      " 79%|███████▉  | 321/404 [02:25<01:41,  1.23s/it]"
     ]
    },
    {
     "name": "stdout",
     "output_type": "stream",
     "text": [
      "Fold# 3, Epoch: 2/3, L_train: 0.51433,                L_test: 0.83341\n"
     ]
    },
    {
     "name": "stderr",
     "output_type": "stream",
     "text": [
      " 84%|████████▍ | 341/404 [02:34<01:23,  1.33s/it]"
     ]
    },
    {
     "name": "stdout",
     "output_type": "stream",
     "text": [
      "Best saved, loss: 0.69896\n",
      "Fold# 3, Epoch: 2/3, L_train: 0.51564,                L_test: 0.69896\n"
     ]
    },
    {
     "name": "stderr",
     "output_type": "stream",
     "text": [
      " 89%|████████▉ | 361/404 [02:43<00:53,  1.25s/it]"
     ]
    },
    {
     "name": "stdout",
     "output_type": "stream",
     "text": [
      "Fold# 3, Epoch: 2/3, L_train: 0.51632,                L_test: 0.73501\n"
     ]
    },
    {
     "name": "stderr",
     "output_type": "stream",
     "text": [
      " 94%|█████████▍| 381/404 [02:52<00:28,  1.24s/it]"
     ]
    },
    {
     "name": "stdout",
     "output_type": "stream",
     "text": [
      "Fold# 3, Epoch: 2/3, L_train: 0.51570,                L_test: 0.75779\n"
     ]
    },
    {
     "name": "stderr",
     "output_type": "stream",
     "text": [
      " 99%|█████████▉| 401/404 [03:02<00:04,  1.34s/it]"
     ]
    },
    {
     "name": "stdout",
     "output_type": "stream",
     "text": [
      "Best saved, loss: 0.69500\n",
      "Fold# 3, Epoch: 2/3, L_train: 0.51686,                L_test: 0.69500\n"
     ]
    },
    {
     "name": "stderr",
     "output_type": "stream",
     "text": [
      "100%|██████████| 404/404 [03:07<00:00,  2.15it/s]\n"
     ]
    },
    {
     "name": "stdout",
     "output_type": "stream",
     "text": [
      "Fold# 3, Epoch: 2/3, L_train: 0.51652,                L_test: 0.76951\n",
      "Adjusting learning rate of group 0 to 1.2500e-06.\n",
      "Adjusting learning rate of group 1 to 2.5000e-05.\n",
      "Adjusting learning rate of group 2 to 2.5000e-05.\n",
      "Adjusting learning rate of group 3 to 2.5000e-05.\n",
      "Adjusting learning rate of group 4 to 2.5000e-05.\n"
     ]
    },
    {
     "name": "stderr",
     "output_type": "stream",
     "text": [
      "  5%|▍         | 20/404 [00:08<10:42,  1.67s/it]"
     ]
    },
    {
     "name": "stdout",
     "output_type": "stream",
     "text": [
      "Fold# 3, Epoch: 3/3, L_train: 0.44554,                L_test: 0.73613\n"
     ]
    },
    {
     "name": "stderr",
     "output_type": "stream",
     "text": [
      " 10%|▉         | 40/404 [00:18<10:38,  1.75s/it]"
     ]
    },
    {
     "name": "stdout",
     "output_type": "stream",
     "text": [
      "Fold# 3, Epoch: 3/3, L_train: 0.48149,                L_test: 0.79504\n"
     ]
    },
    {
     "name": "stderr",
     "output_type": "stream",
     "text": [
      " 15%|█▍        | 60/404 [00:27<09:40,  1.69s/it]"
     ]
    },
    {
     "name": "stdout",
     "output_type": "stream",
     "text": [
      "Fold# 3, Epoch: 3/3, L_train: 0.47468,                L_test: 0.70421\n"
     ]
    },
    {
     "name": "stderr",
     "output_type": "stream",
     "text": [
      " 20%|██        | 81/404 [00:36<06:35,  1.23s/it]"
     ]
    },
    {
     "name": "stdout",
     "output_type": "stream",
     "text": [
      "Fold# 3, Epoch: 3/3, L_train: 0.47977,                L_test: 0.73320\n"
     ]
    },
    {
     "name": "stderr",
     "output_type": "stream",
     "text": [
      " 25%|██▌       | 101/404 [00:45<06:11,  1.23s/it]"
     ]
    },
    {
     "name": "stdout",
     "output_type": "stream",
     "text": [
      "Fold# 3, Epoch: 3/3, L_train: 0.47076,                L_test: 0.75881\n"
     ]
    },
    {
     "name": "stderr",
     "output_type": "stream",
     "text": [
      " 30%|██▉       | 121/404 [00:54<05:47,  1.23s/it]"
     ]
    },
    {
     "name": "stdout",
     "output_type": "stream",
     "text": [
      "Fold# 3, Epoch: 3/3, L_train: 0.46336,                L_test: 0.71480\n"
     ]
    },
    {
     "name": "stderr",
     "output_type": "stream",
     "text": [
      " 35%|███▍      | 141/404 [01:03<05:22,  1.22s/it]"
     ]
    },
    {
     "name": "stdout",
     "output_type": "stream",
     "text": [
      "Fold# 3, Epoch: 3/3, L_train: 0.45604,                L_test: 0.70848\n"
     ]
    },
    {
     "name": "stderr",
     "output_type": "stream",
     "text": [
      " 40%|███▉      | 161/404 [01:11<04:57,  1.22s/it]"
     ]
    },
    {
     "name": "stdout",
     "output_type": "stream",
     "text": [
      "Fold# 3, Epoch: 3/3, L_train: 0.46185,                L_test: 0.78787\n"
     ]
    },
    {
     "name": "stderr",
     "output_type": "stream",
     "text": [
      " 45%|████▍     | 181/404 [01:20<04:32,  1.22s/it]"
     ]
    },
    {
     "name": "stdout",
     "output_type": "stream",
     "text": [
      "Fold# 3, Epoch: 3/3, L_train: 0.46367,                L_test: 0.72578\n"
     ]
    },
    {
     "name": "stderr",
     "output_type": "stream",
     "text": [
      " 50%|████▉     | 201/404 [01:29<04:08,  1.22s/it]"
     ]
    },
    {
     "name": "stdout",
     "output_type": "stream",
     "text": [
      "Fold# 3, Epoch: 3/3, L_train: 0.46806,                L_test: 0.72827\n"
     ]
    },
    {
     "name": "stderr",
     "output_type": "stream",
     "text": [
      " 55%|█████▍    | 221/404 [01:38<03:43,  1.22s/it]"
     ]
    },
    {
     "name": "stdout",
     "output_type": "stream",
     "text": [
      "Fold# 3, Epoch: 3/3, L_train: 0.46803,                L_test: 0.73714\n"
     ]
    },
    {
     "name": "stderr",
     "output_type": "stream",
     "text": [
      " 60%|█████▉    | 241/404 [01:47<03:19,  1.22s/it]"
     ]
    },
    {
     "name": "stdout",
     "output_type": "stream",
     "text": [
      "Fold# 3, Epoch: 3/3, L_train: 0.46452,                L_test: 0.71387\n"
     ]
    },
    {
     "name": "stderr",
     "output_type": "stream",
     "text": [
      " 65%|██████▍   | 261/404 [01:56<02:54,  1.22s/it]"
     ]
    },
    {
     "name": "stdout",
     "output_type": "stream",
     "text": [
      "Fold# 3, Epoch: 3/3, L_train: 0.46764,                L_test: 0.77213\n"
     ]
    },
    {
     "name": "stderr",
     "output_type": "stream",
     "text": [
      " 69%|██████▉   | 280/404 [02:04<03:25,  1.66s/it]"
     ]
    },
    {
     "name": "stdout",
     "output_type": "stream",
     "text": [
      "Fold# 3, Epoch: 3/3, L_train: 0.46865,                L_test: 0.77079\n"
     ]
    },
    {
     "name": "stderr",
     "output_type": "stream",
     "text": [
      " 75%|███████▍  | 301/404 [02:13<02:06,  1.22s/it]"
     ]
    },
    {
     "name": "stdout",
     "output_type": "stream",
     "text": [
      "Fold# 3, Epoch: 3/3, L_train: 0.46792,                L_test: 0.74217\n"
     ]
    },
    {
     "name": "stderr",
     "output_type": "stream",
     "text": [
      " 79%|███████▉  | 321/404 [02:22<01:41,  1.22s/it]"
     ]
    },
    {
     "name": "stdout",
     "output_type": "stream",
     "text": [
      "Fold# 3, Epoch: 3/3, L_train: 0.46827,                L_test: 0.74329\n"
     ]
    },
    {
     "name": "stderr",
     "output_type": "stream",
     "text": [
      " 84%|████████▍ | 341/404 [02:31<01:17,  1.22s/it]"
     ]
    },
    {
     "name": "stdout",
     "output_type": "stream",
     "text": [
      "Fold# 3, Epoch: 3/3, L_train: 0.46916,                L_test: 0.73873\n"
     ]
    },
    {
     "name": "stderr",
     "output_type": "stream",
     "text": [
      " 89%|████████▉ | 361/404 [02:40<00:52,  1.22s/it]"
     ]
    },
    {
     "name": "stdout",
     "output_type": "stream",
     "text": [
      "Fold# 3, Epoch: 3/3, L_train: 0.47032,                L_test: 0.69660\n"
     ]
    },
    {
     "name": "stderr",
     "output_type": "stream",
     "text": [
      " 94%|█████████▍| 381/404 [02:49<00:28,  1.23s/it]"
     ]
    },
    {
     "name": "stdout",
     "output_type": "stream",
     "text": [
      "Fold# 3, Epoch: 3/3, L_train: 0.46988,                L_test: 0.75572\n"
     ]
    },
    {
     "name": "stderr",
     "output_type": "stream",
     "text": [
      " 99%|█████████▉| 400/404 [02:58<00:07,  1.80s/it]"
     ]
    },
    {
     "name": "stdout",
     "output_type": "stream",
     "text": [
      "Best saved, loss: 0.68601\n",
      "Fold# 3, Epoch: 3/3, L_train: 0.47050,                L_test: 0.68601\n"
     ]
    },
    {
     "name": "stderr",
     "output_type": "stream",
     "text": [
      "100%|██████████| 404/404 [03:04<00:00,  2.19it/s]"
     ]
    },
    {
     "name": "stdout",
     "output_type": "stream",
     "text": [
      "Fold# 3, Epoch: 3/3, L_train: 0.47077,                L_test: 0.69094\n",
      "Adjusting learning rate of group 0 to 6.2500e-07.\n",
      "Adjusting learning rate of group 1 to 1.2500e-05.\n",
      "Adjusting learning rate of group 2 to 1.2500e-05.\n",
      "Adjusting learning rate of group 3 to 1.2500e-05.\n",
      "Adjusting learning rate of group 4 to 1.2500e-05.\n",
      "Time elapsed:0:09:20.063309, Best score:0.68601\n"
     ]
    },
    {
     "name": "stderr",
     "output_type": "stream",
     "text": [
      "\n",
      "C:\\Users\\shmak\\AppData\\Local\\Temp\\ipykernel_20912\\916719634.py:23: UserWarning: FixedFormatter should only be used together with FixedLocator\n",
      "  ax.xaxis.set_major_formatter(ticker.FixedFormatter(range(n_epochs)))\n",
      "Some weights of RobertaModel were not initialized from the model checkpoint at roberta-base and are newly initialized: ['roberta.pooler.dense.bias', 'roberta.pooler.dense.weight']\n",
      "You should probably TRAIN this model on a down-stream task to be able to use it for predictions and inference.\n"
     ]
    },
    {
     "name": "stdout",
     "output_type": "stream",
     "text": [
      "Adjusting learning rate of group 0 to 5.0000e-06.\n",
      "Adjusting learning rate of group 1 to 1.0000e-04.\n",
      "Adjusting learning rate of group 2 to 1.0000e-04.\n",
      "Adjusting learning rate of group 3 to 1.0000e-04.\n",
      "Adjusting learning rate of group 4 to 1.0000e-04.\n"
     ]
    },
    {
     "name": "stderr",
     "output_type": "stream",
     "text": [
      "  6%|▌         | 21/344 [00:13<11:39,  2.16s/it]"
     ]
    },
    {
     "name": "stdout",
     "output_type": "stream",
     "text": [
      "Best saved, loss: 0.93900\n",
      "Fold# 4, Epoch: 1/3, L_train: 1.09083,                L_test: 0.93900\n"
     ]
    },
    {
     "name": "stderr",
     "output_type": "stream",
     "text": [
      " 12%|█▏        | 41/344 [00:26<10:56,  2.17s/it]"
     ]
    },
    {
     "name": "stdout",
     "output_type": "stream",
     "text": [
      "Best saved, loss: 0.92732\n",
      "Fold# 4, Epoch: 1/3, L_train: 1.04294,                L_test: 0.92732\n"
     ]
    },
    {
     "name": "stderr",
     "output_type": "stream",
     "text": [
      " 18%|█▊        | 61/344 [00:40<10:12,  2.16s/it]"
     ]
    },
    {
     "name": "stdout",
     "output_type": "stream",
     "text": [
      "Best saved, loss: 0.87320\n",
      "Fold# 4, Epoch: 1/3, L_train: 1.00565,                L_test: 0.87320\n"
     ]
    },
    {
     "name": "stderr",
     "output_type": "stream",
     "text": [
      " 24%|██▎       | 81/344 [00:53<09:29,  2.17s/it]"
     ]
    },
    {
     "name": "stdout",
     "output_type": "stream",
     "text": [
      "Best saved, loss: 0.76337\n",
      "Fold# 4, Epoch: 1/3, L_train: 0.96341,                L_test: 0.76337\n"
     ]
    },
    {
     "name": "stderr",
     "output_type": "stream",
     "text": [
      " 29%|██▉       | 101/344 [01:06<08:44,  2.16s/it]"
     ]
    },
    {
     "name": "stdout",
     "output_type": "stream",
     "text": [
      "Best saved, loss: 0.65369\n",
      "Fold# 4, Epoch: 1/3, L_train: 0.91108,                L_test: 0.65369\n"
     ]
    },
    {
     "name": "stderr",
     "output_type": "stream",
     "text": [
      " 35%|███▍      | 120/344 [01:19<10:43,  2.87s/it]"
     ]
    },
    {
     "name": "stdout",
     "output_type": "stream",
     "text": [
      "Fold# 4, Epoch: 1/3, L_train: 0.87629,                L_test: 0.66892\n"
     ]
    },
    {
     "name": "stderr",
     "output_type": "stream",
     "text": [
      " 41%|████      | 141/344 [01:33<07:19,  2.16s/it]"
     ]
    },
    {
     "name": "stdout",
     "output_type": "stream",
     "text": [
      "Best saved, loss: 0.63627\n",
      "Fold# 4, Epoch: 1/3, L_train: 0.85368,                L_test: 0.63627\n"
     ]
    },
    {
     "name": "stderr",
     "output_type": "stream",
     "text": [
      " 47%|████▋     | 161/344 [01:46<06:19,  2.07s/it]"
     ]
    },
    {
     "name": "stdout",
     "output_type": "stream",
     "text": [
      "Fold# 4, Epoch: 1/3, L_train: 0.82968,                L_test: 0.63651\n"
     ]
    },
    {
     "name": "stderr",
     "output_type": "stream",
     "text": [
      " 53%|█████▎    | 181/344 [01:58<05:37,  2.07s/it]"
     ]
    },
    {
     "name": "stdout",
     "output_type": "stream",
     "text": [
      "Fold# 4, Epoch: 1/3, L_train: 0.80660,                L_test: 0.64594\n"
     ]
    },
    {
     "name": "stderr",
     "output_type": "stream",
     "text": [
      " 58%|█████▊    | 201/344 [02:12<05:09,  2.16s/it]"
     ]
    },
    {
     "name": "stdout",
     "output_type": "stream",
     "text": [
      "Best saved, loss: 0.62478\n",
      "Fold# 4, Epoch: 1/3, L_train: 0.79086,                L_test: 0.62478\n"
     ]
    },
    {
     "name": "stderr",
     "output_type": "stream",
     "text": [
      " 64%|██████▍   | 221/344 [02:25<04:26,  2.16s/it]"
     ]
    },
    {
     "name": "stdout",
     "output_type": "stream",
     "text": [
      "Best saved, loss: 0.61854\n",
      "Fold# 4, Epoch: 1/3, L_train: 0.77948,                L_test: 0.61854\n"
     ]
    },
    {
     "name": "stderr",
     "output_type": "stream",
     "text": [
      " 70%|███████   | 241/344 [02:38<03:33,  2.07s/it]"
     ]
    },
    {
     "name": "stdout",
     "output_type": "stream",
     "text": [
      "Fold# 4, Epoch: 1/3, L_train: 0.76319,                L_test: 0.65134\n"
     ]
    },
    {
     "name": "stderr",
     "output_type": "stream",
     "text": [
      " 76%|███████▌  | 260/344 [02:51<04:01,  2.87s/it]"
     ]
    },
    {
     "name": "stdout",
     "output_type": "stream",
     "text": [
      "Fold# 4, Epoch: 1/3, L_train: 0.75572,                L_test: 0.62318\n"
     ]
    },
    {
     "name": "stderr",
     "output_type": "stream",
     "text": [
      " 82%|████████▏ | 281/344 [03:04<02:16,  2.16s/it]"
     ]
    },
    {
     "name": "stdout",
     "output_type": "stream",
     "text": [
      "Best saved, loss: 0.60427\n",
      "Fold# 4, Epoch: 1/3, L_train: 0.74396,                L_test: 0.60427\n"
     ]
    },
    {
     "name": "stderr",
     "output_type": "stream",
     "text": [
      " 88%|████████▊ | 301/344 [03:17<01:29,  2.07s/it]"
     ]
    },
    {
     "name": "stdout",
     "output_type": "stream",
     "text": [
      "Fold# 4, Epoch: 1/3, L_train: 0.73689,                L_test: 0.62764\n"
     ]
    },
    {
     "name": "stderr",
     "output_type": "stream",
     "text": [
      " 93%|█████████▎| 321/344 [03:30<00:47,  2.07s/it]"
     ]
    },
    {
     "name": "stdout",
     "output_type": "stream",
     "text": [
      "Fold# 4, Epoch: 1/3, L_train: 0.72945,                L_test: 0.64195\n"
     ]
    },
    {
     "name": "stderr",
     "output_type": "stream",
     "text": [
      " 99%|█████████▉| 341/344 [03:43<00:06,  2.07s/it]"
     ]
    },
    {
     "name": "stdout",
     "output_type": "stream",
     "text": [
      "Fold# 4, Epoch: 1/3, L_train: 0.72453,                L_test: 0.61687\n"
     ]
    },
    {
     "name": "stderr",
     "output_type": "stream",
     "text": [
      "100%|██████████| 344/344 [03:53<00:00,  1.48it/s]\n"
     ]
    },
    {
     "name": "stdout",
     "output_type": "stream",
     "text": [
      "Fold# 4, Epoch: 1/3, L_train: 0.72182,                L_test: 0.60795\n",
      "Adjusting learning rate of group 0 to 2.5000e-06.\n",
      "Adjusting learning rate of group 1 to 5.0000e-05.\n",
      "Adjusting learning rate of group 2 to 5.0000e-05.\n",
      "Adjusting learning rate of group 3 to 5.0000e-05.\n",
      "Adjusting learning rate of group 4 to 5.0000e-05.\n"
     ]
    },
    {
     "name": "stderr",
     "output_type": "stream",
     "text": [
      "  6%|▌         | 21/344 [00:13<11:39,  2.17s/it]"
     ]
    },
    {
     "name": "stdout",
     "output_type": "stream",
     "text": [
      "Best saved, loss: 0.59749\n",
      "Fold# 4, Epoch: 2/3, L_train: 0.51132,                L_test: 0.59749\n"
     ]
    },
    {
     "name": "stderr",
     "output_type": "stream",
     "text": [
      " 12%|█▏        | 41/344 [00:26<10:56,  2.17s/it]"
     ]
    },
    {
     "name": "stdout",
     "output_type": "stream",
     "text": [
      "Best saved, loss: 0.59715\n",
      "Fold# 4, Epoch: 2/3, L_train: 0.54179,                L_test: 0.59715\n"
     ]
    },
    {
     "name": "stderr",
     "output_type": "stream",
     "text": [
      " 17%|█▋        | 60/344 [00:39<13:36,  2.87s/it]"
     ]
    },
    {
     "name": "stdout",
     "output_type": "stream",
     "text": [
      "Fold# 4, Epoch: 2/3, L_train: 0.54169,                L_test: 0.60095\n"
     ]
    },
    {
     "name": "stderr",
     "output_type": "stream",
     "text": [
      " 24%|██▎       | 81/344 [00:53<09:31,  2.17s/it]"
     ]
    },
    {
     "name": "stdout",
     "output_type": "stream",
     "text": [
      "Best saved, loss: 0.59248\n",
      "Fold# 4, Epoch: 2/3, L_train: 0.55803,                L_test: 0.59248\n"
     ]
    },
    {
     "name": "stderr",
     "output_type": "stream",
     "text": [
      " 29%|██▉       | 101/344 [01:06<08:26,  2.08s/it]"
     ]
    },
    {
     "name": "stdout",
     "output_type": "stream",
     "text": [
      "Fold# 4, Epoch: 2/3, L_train: 0.55526,                L_test: 0.62481\n"
     ]
    },
    {
     "name": "stderr",
     "output_type": "stream",
     "text": [
      " 35%|███▌      | 121/344 [01:19<07:42,  2.07s/it]"
     ]
    },
    {
     "name": "stdout",
     "output_type": "stream",
     "text": [
      "Fold# 4, Epoch: 2/3, L_train: 0.56021,                L_test: 0.60350\n"
     ]
    },
    {
     "name": "stderr",
     "output_type": "stream",
     "text": [
      " 41%|████      | 141/344 [01:32<07:19,  2.17s/it]"
     ]
    },
    {
     "name": "stdout",
     "output_type": "stream",
     "text": [
      "Best saved, loss: 0.58268\n",
      "Fold# 4, Epoch: 2/3, L_train: 0.56265,                L_test: 0.58268\n"
     ]
    },
    {
     "name": "stderr",
     "output_type": "stream",
     "text": [
      " 47%|████▋     | 161/344 [01:45<06:19,  2.07s/it]"
     ]
    },
    {
     "name": "stdout",
     "output_type": "stream",
     "text": [
      "Fold# 4, Epoch: 2/3, L_train: 0.56535,                L_test: 0.58856\n"
     ]
    },
    {
     "name": "stderr",
     "output_type": "stream",
     "text": [
      " 53%|█████▎    | 181/344 [01:58<05:38,  2.08s/it]"
     ]
    },
    {
     "name": "stdout",
     "output_type": "stream",
     "text": [
      "Fold# 4, Epoch: 2/3, L_train: 0.56052,                L_test: 0.60710\n"
     ]
    },
    {
     "name": "stderr",
     "output_type": "stream",
     "text": [
      " 58%|█████▊    | 201/344 [02:11<04:56,  2.07s/it]"
     ]
    },
    {
     "name": "stdout",
     "output_type": "stream",
     "text": [
      "Fold# 4, Epoch: 2/3, L_train: 0.55824,                L_test: 0.60331\n"
     ]
    },
    {
     "name": "stderr",
     "output_type": "stream",
     "text": [
      " 64%|██████▍   | 221/344 [02:24<04:14,  2.07s/it]"
     ]
    },
    {
     "name": "stdout",
     "output_type": "stream",
     "text": [
      "Fold# 4, Epoch: 2/3, L_train: 0.55561,                L_test: 0.58303\n"
     ]
    },
    {
     "name": "stderr",
     "output_type": "stream",
     "text": [
      " 70%|███████   | 241/344 [02:37<03:33,  2.07s/it]"
     ]
    },
    {
     "name": "stdout",
     "output_type": "stream",
     "text": [
      "Fold# 4, Epoch: 2/3, L_train: 0.55363,                L_test: 0.59004\n"
     ]
    },
    {
     "name": "stderr",
     "output_type": "stream",
     "text": [
      " 76%|███████▌  | 261/344 [02:50<02:51,  2.07s/it]"
     ]
    },
    {
     "name": "stdout",
     "output_type": "stream",
     "text": [
      "Fold# 4, Epoch: 2/3, L_train: 0.55515,                L_test: 0.60148\n"
     ]
    },
    {
     "name": "stderr",
     "output_type": "stream",
     "text": [
      " 82%|████████▏ | 281/344 [03:02<02:10,  2.07s/it]"
     ]
    },
    {
     "name": "stdout",
     "output_type": "stream",
     "text": [
      "Fold# 4, Epoch: 2/3, L_train: 0.55616,                L_test: 0.59292\n"
     ]
    },
    {
     "name": "stderr",
     "output_type": "stream",
     "text": [
      " 88%|████████▊ | 301/344 [03:15<01:29,  2.07s/it]"
     ]
    },
    {
     "name": "stdout",
     "output_type": "stream",
     "text": [
      "Fold# 4, Epoch: 2/3, L_train: 0.55783,                L_test: 0.59769\n"
     ]
    },
    {
     "name": "stderr",
     "output_type": "stream",
     "text": [
      " 93%|█████████▎| 321/344 [03:29<00:49,  2.17s/it]"
     ]
    },
    {
     "name": "stdout",
     "output_type": "stream",
     "text": [
      "Best saved, loss: 0.57452\n",
      "Fold# 4, Epoch: 2/3, L_train: 0.55657,                L_test: 0.57452\n"
     ]
    },
    {
     "name": "stderr",
     "output_type": "stream",
     "text": [
      " 99%|█████████▉| 341/344 [03:42<00:06,  2.07s/it]"
     ]
    },
    {
     "name": "stdout",
     "output_type": "stream",
     "text": [
      "Fold# 4, Epoch: 2/3, L_train: 0.55692,                L_test: 0.60140\n"
     ]
    },
    {
     "name": "stderr",
     "output_type": "stream",
     "text": [
      "100%|██████████| 344/344 [03:51<00:00,  1.49it/s]\n"
     ]
    },
    {
     "name": "stdout",
     "output_type": "stream",
     "text": [
      "Fold# 4, Epoch: 2/3, L_train: 0.55549,                L_test: 0.60985\n",
      "Adjusting learning rate of group 0 to 1.2500e-06.\n",
      "Adjusting learning rate of group 1 to 2.5000e-05.\n",
      "Adjusting learning rate of group 2 to 2.5000e-05.\n",
      "Adjusting learning rate of group 3 to 2.5000e-05.\n",
      "Adjusting learning rate of group 4 to 2.5000e-05.\n"
     ]
    },
    {
     "name": "stderr",
     "output_type": "stream",
     "text": [
      "  6%|▌         | 21/344 [00:13<11:10,  2.08s/it]"
     ]
    },
    {
     "name": "stdout",
     "output_type": "stream",
     "text": [
      "Fold# 4, Epoch: 3/3, L_train: 0.61617,                L_test: 0.59890\n"
     ]
    },
    {
     "name": "stderr",
     "output_type": "stream",
     "text": [
      " 12%|█▏        | 41/344 [00:26<10:27,  2.07s/it]"
     ]
    },
    {
     "name": "stdout",
     "output_type": "stream",
     "text": [
      "Fold# 4, Epoch: 3/3, L_train: 0.56794,                L_test: 0.58626\n"
     ]
    },
    {
     "name": "stderr",
     "output_type": "stream",
     "text": [
      " 18%|█▊        | 61/344 [00:38<09:46,  2.07s/it]"
     ]
    },
    {
     "name": "stdout",
     "output_type": "stream",
     "text": [
      "Fold# 4, Epoch: 3/3, L_train: 0.54038,                L_test: 0.59090\n"
     ]
    },
    {
     "name": "stderr",
     "output_type": "stream",
     "text": [
      " 24%|██▎       | 81/344 [00:52<09:29,  2.17s/it]"
     ]
    },
    {
     "name": "stdout",
     "output_type": "stream",
     "text": [
      "Best saved, loss: 0.57213\n",
      "Fold# 4, Epoch: 3/3, L_train: 0.54469,                L_test: 0.57213\n"
     ]
    },
    {
     "name": "stderr",
     "output_type": "stream",
     "text": [
      " 29%|██▉       | 101/344 [01:05<08:23,  2.07s/it]"
     ]
    },
    {
     "name": "stdout",
     "output_type": "stream",
     "text": [
      "Fold# 4, Epoch: 3/3, L_train: 0.54424,                L_test: 0.57487\n"
     ]
    },
    {
     "name": "stderr",
     "output_type": "stream",
     "text": [
      " 35%|███▌      | 121/344 [01:18<07:41,  2.07s/it]"
     ]
    },
    {
     "name": "stdout",
     "output_type": "stream",
     "text": [
      "Fold# 4, Epoch: 3/3, L_train: 0.54030,                L_test: 0.57597\n"
     ]
    },
    {
     "name": "stderr",
     "output_type": "stream",
     "text": [
      " 41%|████      | 141/344 [01:31<07:00,  2.07s/it]"
     ]
    },
    {
     "name": "stdout",
     "output_type": "stream",
     "text": [
      "Fold# 4, Epoch: 3/3, L_train: 0.53637,                L_test: 0.59895\n"
     ]
    },
    {
     "name": "stderr",
     "output_type": "stream",
     "text": [
      " 47%|████▋     | 161/344 [01:43<06:19,  2.07s/it]"
     ]
    },
    {
     "name": "stdout",
     "output_type": "stream",
     "text": [
      "Fold# 4, Epoch: 3/3, L_train: 0.53148,                L_test: 0.58129\n"
     ]
    },
    {
     "name": "stderr",
     "output_type": "stream",
     "text": [
      " 53%|█████▎    | 181/344 [01:56<05:38,  2.08s/it]"
     ]
    },
    {
     "name": "stdout",
     "output_type": "stream",
     "text": [
      "Fold# 4, Epoch: 3/3, L_train: 0.52623,                L_test: 0.58863\n"
     ]
    },
    {
     "name": "stderr",
     "output_type": "stream",
     "text": [
      " 58%|█████▊    | 201/344 [02:10<05:09,  2.17s/it]"
     ]
    },
    {
     "name": "stdout",
     "output_type": "stream",
     "text": [
      "Best saved, loss: 0.56985\n",
      "Fold# 4, Epoch: 3/3, L_train: 0.52145,                L_test: 0.56985\n"
     ]
    },
    {
     "name": "stderr",
     "output_type": "stream",
     "text": [
      " 64%|██████▍   | 221/344 [02:23<04:26,  2.17s/it]"
     ]
    },
    {
     "name": "stdout",
     "output_type": "stream",
     "text": [
      "Best saved, loss: 0.56957\n",
      "Fold# 4, Epoch: 3/3, L_train: 0.52122,                L_test: 0.56957\n"
     ]
    },
    {
     "name": "stderr",
     "output_type": "stream",
     "text": [
      " 70%|███████   | 241/344 [02:36<03:33,  2.07s/it]"
     ]
    },
    {
     "name": "stdout",
     "output_type": "stream",
     "text": [
      "Fold# 4, Epoch: 3/3, L_train: 0.52026,                L_test: 0.57042\n"
     ]
    },
    {
     "name": "stderr",
     "output_type": "stream",
     "text": [
      " 76%|███████▌  | 261/344 [02:49<02:51,  2.07s/it]"
     ]
    },
    {
     "name": "stdout",
     "output_type": "stream",
     "text": [
      "Fold# 4, Epoch: 3/3, L_train: 0.51715,                L_test: 0.57754\n"
     ]
    },
    {
     "name": "stderr",
     "output_type": "stream",
     "text": [
      " 82%|████████▏ | 281/344 [03:02<02:10,  2.07s/it]"
     ]
    },
    {
     "name": "stdout",
     "output_type": "stream",
     "text": [
      "Fold# 4, Epoch: 3/3, L_train: 0.51410,                L_test: 0.58522\n"
     ]
    },
    {
     "name": "stderr",
     "output_type": "stream",
     "text": [
      " 88%|████████▊ | 301/344 [03:15<01:29,  2.07s/it]"
     ]
    },
    {
     "name": "stdout",
     "output_type": "stream",
     "text": [
      "Fold# 4, Epoch: 3/3, L_train: 0.51582,                L_test: 0.57093\n"
     ]
    },
    {
     "name": "stderr",
     "output_type": "stream",
     "text": [
      " 93%|█████████▎| 321/344 [03:28<00:49,  2.16s/it]"
     ]
    },
    {
     "name": "stdout",
     "output_type": "stream",
     "text": [
      "Best saved, loss: 0.56846\n",
      "Fold# 4, Epoch: 3/3, L_train: 0.51323,                L_test: 0.56846\n"
     ]
    },
    {
     "name": "stderr",
     "output_type": "stream",
     "text": [
      " 99%|█████████▉| 341/344 [03:41<00:06,  2.07s/it]"
     ]
    },
    {
     "name": "stdout",
     "output_type": "stream",
     "text": [
      "Fold# 4, Epoch: 3/3, L_train: 0.51151,                L_test: 0.58462\n"
     ]
    },
    {
     "name": "stderr",
     "output_type": "stream",
     "text": [
      "100%|██████████| 344/344 [03:50<00:00,  1.49it/s]"
     ]
    },
    {
     "name": "stdout",
     "output_type": "stream",
     "text": [
      "Fold# 4, Epoch: 3/3, L_train: 0.51091,                L_test: 0.58105\n",
      "Adjusting learning rate of group 0 to 6.2500e-07.\n",
      "Adjusting learning rate of group 1 to 1.2500e-05.\n",
      "Adjusting learning rate of group 2 to 1.2500e-05.\n",
      "Adjusting learning rate of group 3 to 1.2500e-05.\n",
      "Adjusting learning rate of group 4 to 1.2500e-05.\n",
      "Time elapsed:0:11:35.775456, Best score:0.56846\n"
     ]
    },
    {
     "name": "stderr",
     "output_type": "stream",
     "text": [
      "\n",
      "C:\\Users\\shmak\\AppData\\Local\\Temp\\ipykernel_20912\\916719634.py:23: UserWarning: FixedFormatter should only be used together with FixedLocator\n",
      "  ax.xaxis.set_major_formatter(ticker.FixedFormatter(range(n_epochs)))\n"
     ]
    },
    {
     "data": {
      "text/plain": "0.643461153916522"
     },
     "execution_count": 19,
     "metadata": {},
     "output_type": "execute_result"
    },
    {
     "data": {
      "text/plain": "<Figure size 1200x400 with 0 Axes>"
     },
     "metadata": {},
     "output_type": "display_data"
    },
    {
     "data": {
      "text/plain": "<Figure size 1200x400 with 4 Axes>",
      "image/png": "[encoded data removed]"
     },
     "metadata": {},
     "output_type": "display_data"
    }
   ],
   "source": [
    "# def cross_validation():\n",
    "with open(prompts_train_path, encoding='utf-8') as f:\n",
    "    prompts = pd.read_csv(f)\n",
    "#     prompts = prompts[prompts.prompt_id != '3b9047'].reset_index(drop=True)\n",
    "    \n",
    "plt.figure(figsize=(12,4))\n",
    "\n",
    "folds_list = list(prompts.prompt_id)\n",
    "score_type = 'wording'\n",
    "batch_size = 15\n",
    "lr = 5e-06\n",
    "lr_head = 1e-04\n",
    "weight_decay = 1e-02\n",
    "n_epochs = 3\n",
    "\n",
    "scores = []\n",
    "\n",
    "fig, axs = plt.subplots(1, len(folds_list), figsize=(12,4), layout='tight')\n",
    "\n",
    "for i, fold in enumerate(folds_list, 1):\n",
    "    train_loader, test_loader = loaders_init(score_type, batch_size, fold)\n",
    "\n",
    "    best_score, n_iter, test_losses, train_losses = train_model(n_epochs, lr, weight_decay, i, lr_head)\n",
    "\n",
    "    scores.append(best_score)\n",
    "\n",
    "    axs[i-1] = axis_set(axs[i-1])\n",
    "\n",
    "mean_score = np.mean(scores)\n",
    "\n",
    "fig.suptitle(f'CV={mean_score:.5f}, lr={lr}')\n",
    "fig.savefig('res_figure.png', dpi=200)\n",
    "\n",
    "mean_score"
   ]
  },
  {
   "cell_type": "code",
   "execution_count": 20,
   "outputs": [
    {
     "data": {
      "text/plain": "2.1e-05"
     },
     "execution_count": 20,
     "metadata": {},
     "output_type": "execute_result"
    }
   ],
   "source": [
    "lr0 = 1e-05\n",
    "a = 0.7\n",
    "epoch = 3\n",
    "lr1 = lr0 * a * epoch\n",
    "# lr1 = lr0 * a**epoch\n",
    "\n",
    "lr1"
   ],
   "metadata": {
    "collapsed": false
   }
  },
  {
   "cell_type": "code",
   "execution_count": 20,
   "outputs": [],
   "source": [],
   "metadata": {
    "collapsed": false
   }
  },
  {
   "cell_type": "code",
   "execution_count": 21,
   "id": "4781cecb",
   "metadata": {},
   "outputs": [
    {
     "data": {
      "text/plain": "<Figure size 1200x400 with 4 Axes>",
      "image/png": "[encoded data removed]"
     },
     "execution_count": 21,
     "metadata": {},
     "output_type": "execute_result"
    }
   ],
   "source": [
    "fig"
   ]
  },
  {
   "cell_type": "code",
   "execution_count": 21,
   "id": "fa650efb",
   "metadata": {},
   "outputs": [],
   "source": []
  }
 ],
 "metadata": {
  "kernelspec": {
   "display_name": "Python (tf)",
   "language": "python",
   "name": "tf"
  },
  "language_info": {
   "codemirror_mode": {
    "name": "ipython",
    "version": 3
   },
   "file_extension": ".py",
   "mimetype": "text/x-python",
   "name": "python",
   "nbconvert_exporter": "python",
   "pygments_lexer": "ipython3",
   "version": "3.9.16"
  }
 },
 "nbformat": 4,
 "nbformat_minor": 5
}
