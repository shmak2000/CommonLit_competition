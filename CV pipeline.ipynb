{
 "cells": [
  {
   "cell_type": "code",
   "execution_count": 1,
   "id": "4d7080d2",
   "metadata": {},
   "outputs": [],
   "source": [
    "import math\n",
    "from tqdm import tqdm\n",
    "from datetime import datetime\n",
    "import pandas as pd\n",
    "import numpy as np\n",
    "import os\n",
    "import torch\n",
    "import sentence_transformers\n",
    "import matplotlib.pyplot as plt\n",
    "from matplotlib import ticker\n",
    "%matplotlib inline\n",
    "import torch.nn as nn\n",
    "\n",
    "from transformers import BertTokenizer, BertModel, pipeline, BartModel\n",
    "from transformers import RobertaTokenizer, RobertaModel, AutoConfig\n",
    "from transformers import AutoTokenizer, AutoModel\n",
    "\n",
    "from sentence_transformers.util import cos_sim\n",
    "from sentence_transformers import SentenceTransformer, models\n",
    "from torch.utils.data import DataLoader, Dataset, random_split\n",
    "from sklearn.metrics.pairwise import cosine_similarity\n",
    "import torch.nn.functional as F\n",
    "from DeBERTa import deberta\n",
    "from collections import OrderedDict\n",
    "\n",
    "import textstat"
   ]
  },
  {
   "cell_type": "code",
   "execution_count": 2,
   "id": "8e8ee8c3",
   "metadata": {},
   "outputs": [
    {
     "name": "stdout",
     "output_type": "stream",
     "text": [
      "cuda:0\n"
     ]
    }
   ],
   "source": [
    "device = 'cuda:0' if torch.cuda.is_available() else 'cpu'\n",
    "print(device)"
   ]
  },
  {
   "cell_type": "code",
   "execution_count": 3,
   "id": "8c88ad58",
   "metadata": {},
   "outputs": [],
   "source": [
    "model_name = 'roberta-large'"
   ]
  },
  {
   "cell_type": "code",
   "execution_count": 4,
   "id": "5e55764b",
   "metadata": {},
   "outputs": [],
   "source": [
    "def config_model():\n",
    "    configuration = AutoConfig.from_pretrained(model_name)\n",
    "\n",
    "    configuration.hidden_dropout_prob = 0.0\n",
    "    configuration.attention_probs_dropout_prob = 0.0\n",
    "    configuration.classifier_dropout = 0.0\n",
    "    \n",
    "    return configuration\n",
    "\n",
    "config = config_model()\n",
    "size = config.hidden_size"
   ]
  },
  {
   "cell_type": "code",
   "execution_count": 5,
   "id": "c472860a",
   "metadata": {},
   "outputs": [],
   "source": [
    "# ROBERTa model\n",
    "\n",
    "# tokenizer = BertTokenizer.from_pretrained(model_name)\n",
    "tokenizer = RobertaTokenizer.from_pretrained(model_name)\n",
    "# embeddings_model = RobertaModel.from_pretrained(model_name, config=config_model())\n"
   ]
  },
  {
   "cell_type": "markdown",
   "id": "8c05e4c1",
   "metadata": {},
   "source": [
    "## Data"
   ]
  },
  {
   "cell_type": "code",
   "execution_count": 6,
   "id": "fee86d97",
   "metadata": {},
   "outputs": [],
   "source": [
    "summaries_train_path = r\"dataset\\summaries_train_merged.csv\"\n",
    "summaries_test_path = r\"dataset\\summaries_test.csv\"\n",
    "prompts_train_path = r\"dataset\\prompts_train.csv\"\n",
    "prompts_test_path = r\"dataset\\prompts_test.csv\""
   ]
  },
  {
   "cell_type": "code",
   "execution_count": 7,
   "id": "67f3f7a8",
   "metadata": {},
   "outputs": [],
   "source": [
    "def norm_score(df: pd.DataFrame) -> pd.DataFrame:\n",
    "    \"\"\"Normilizing score to values 0 to 1\"\"\"\n",
    "    df -= np.min(df)\n",
    "    df /= df.max()\n",
    "    print('Normilized' if df.min() == 0.0 and df.max() == 1.0 else 'NormError:wrong values')\n",
    "    \n",
    "    return df\n",
    "\n",
    "def short_text(text, max_length=200) -> str:\n",
    "    if len(text.split()) > 700:\n",
    "        middle_point = text[len(text)//2:].index('.') + len(text)//2 + 1\n",
    "        text_pt1 = text[:middle_point]\n",
    "        text_pt2 = text[middle_point:]\n",
    "        \n",
    "        text = short_text(text_pt1) + short_text(text_pt2)\n",
    "\n",
    "    summarizer = pipeline(\"summarization\", model=\"bart-large-cnn\")\n",
    "\n",
    "    # summarizer.model.to(device)\n",
    "\n",
    "    summarized = summarizer(text, max_length=max_length, min_length=80, do_sample=False)\n",
    "    \n",
    "    return summarized[0]['summary_text']\n",
    "\n",
    "def moving_average(array: np.array, betta=0.9) -> np.array:\n",
    "    \"\"\"\n",
    "    Computing moving average with bias correction.\n",
    "    \"\"\"\n",
    "    \n",
    "    V = 0\n",
    "    average_array = np.zeros(len(array))\n",
    "    for i in range(len(array)):\n",
    "        V = betta * V + (1 - betta) * array[i]\n",
    "        average_array[i] = V/(1 - pow(betta, i+1))\n",
    "        \n",
    "    return average_array\n",
    "\n",
    "\n",
    "def mean_pooling(outputs, batch) -> torch.tensor:\n",
    "    \n",
    "    attention_mask = batch['attention_mask']\n",
    "    embeddings = outputs.last_hidden_state\n",
    "    \n",
    "    mask = attention_mask.unsqueeze(-1).expand(embeddings.size()).float()\n",
    "    masked_embeddings = embeddings * mask\n",
    "    \n",
    "    summed = torch.sum(masked_embeddings, 1)\n",
    "    summed_mask = torch.clamp(mask.sum(dim=1), min=1e-9)\n",
    "    \n",
    "    mean_pooled = summed/summed_mask\n",
    "    \n",
    "    return mean_pooled\n",
    "\n",
    "def normilize(df_column: pd.DataFrame):\n",
    "    \n",
    "    df_column = (df_column - df_column.mean())/df_column.std()\n",
    "    \n",
    "    return df_column\n",
    "\n",
    "def get_cos_sim(df):\n",
    "    sentence_1 = df.text\n",
    "    sentence_2 = df.prompt_text\n",
    "\n",
    "    sentence_tokenizer = AutoTokenizer.from_pretrained('all-mpnet-base-v2')\n",
    "    sentence_model = AutoModel.from_pretrained('all-mpnet-base-v2')\n",
    "\n",
    "    cos_sim_list = []\n",
    "    sentence_model.to(device)\n",
    "\n",
    "    for i, summarie in enumerate(tqdm(sentence_1)):\n",
    "        prompt = sentence_2[i]\n",
    "        inputs = sentence_tokenizer([summarie, prompt], padding=True,\n",
    "                                    return_tensors='pt', truncation=True)\n",
    "        inputs.to(device)\n",
    "\n",
    "        with torch.no_grad():\n",
    "            outputs = sentence_model(**inputs)\n",
    "\n",
    "        sentence_embeddings = mean_pooling(outputs, inputs)\n",
    "        sentence_embeddings = F.normalize(sentence_embeddings)\n",
    "\n",
    "        score = nn.CosineSimilarity(dim=0)(sentence_embeddings[0], sentence_embeddings[1])\n",
    "\n",
    "        cos_sim_list.append(score.item())\n",
    "\n",
    "    return cos_sim_list\n",
    "\n",
    "def get_stat_features(df, text_col=\"text\"):\n",
    "    \n",
    "    df[\"num_unique_words\"] = normilize(df[text_col].apply(lambda x: len(set(x.split()))))\n",
    "    df[\"num_words\"] = normilize(df[text_col].apply(lambda x: len(x.split())))\n",
    "    df[\"num_sentences\"] = normilize(df[text_col].apply(lambda x: len(x.split('.'))))\n",
    "    \n",
    "    df[\"syntax_count\"] = normilize(df[text_col].apply(lambda x: x.count(\",\") \n",
    "                                                      + x.count(\"-\") + x.count(\";\") + x.count(\":\")))\n",
    "    df['smog_index'] = normilize(df[text_col].apply(lambda x: textstat.smog_index(x)))\n",
    "    # df['cos_sim'] = normilize(pd.DataFrame(get_cos_sim(df)))\n",
    "    \n",
    "    return df"
   ]
  },
  {
   "cell_type": "code",
   "execution_count": 8,
   "id": "830ce30e",
   "metadata": {},
   "outputs": [],
   "source": [
    "# with open(prompts_train_path, encoding='utf-8') as f:\n",
    "#     prompts = pd.read_csv(f)\n",
    "#     for i, text in enumerate(prompts.prompt_text):\n",
    "#             if len(text.split()) > 300:\n",
    "#                 prompts.prompt_text[i] = short_text(text)\n",
    "#\n",
    "# with open(summaries_train_path, encoding='utf-8') as f:\n",
    "#     summaries = pd.read_csv(f)\n",
    "#     summaries = summaries.merge(prompts, how=\"left\", on=\"prompt_id\")\n",
    "#     summaries = get_stat_features(summaries)"
   ]
  },
  {
   "cell_type": "code",
   "execution_count": 9,
   "id": "f8b6081c",
   "metadata": {},
   "outputs": [],
   "source": [
    "class SentenseData(Dataset):\n",
    "    \"\"\"\n",
    "    :params: path to csv file with summaries, path to csv file with prompts, 'score' param\\\n",
    "    defines which score is used: content/wording\n",
    "    \"\"\"\n",
    "    def __init__(self, summaries_path=summaries_train_path,\n",
    "                 prompts_path=prompts_train_path,\n",
    "                 score='wording', test=False, fold_test='ebad26'):\n",
    "        self.test = test\n",
    "        self.score_type = score\n",
    "        self.fold_test = fold_test\n",
    "\n",
    "        with open(prompts_path, encoding='utf-8') as f:\n",
    "            self.prompts = pd.read_csv(f)\n",
    "\n",
    "        with open(summaries_path, encoding='utf-8') as f:\n",
    "            summaries = pd.read_csv(f)\n",
    "            self.summaries = summaries\n",
    "        \n",
    "    def __len__(self):\n",
    "        return len(self.__summaries)\n",
    "    \n",
    "    @property\n",
    "    def summaries(self):\n",
    "        return self.__summaries\n",
    "    \n",
    "    @summaries.setter\n",
    "    def summaries(self, df):\n",
    "        if self.test:\n",
    "            self.__summaries = df[df.prompt_id == self.fold_test].reset_index(drop=True)\n",
    "            \n",
    "        else:\n",
    "            self.__summaries = df[df.prompt_id != self.fold_test].reset_index(drop=True)\n",
    "    \n",
    "    @property\n",
    "    def prompts(self):\n",
    "        return self.__prompts\n",
    "    \n",
    "    @prompts.setter\n",
    "    def prompts(self, file):\n",
    "        self.__prompts = file\n",
    "        # for i, text in enumerate(self.__prompts.prompt_text):\n",
    "        #     if len(text.split()) > 300:\n",
    "        #         self.__prompts.prompt_text[i] = short_text(text)\n",
    "    \n",
    "    def get_batch_text(self, index):\n",
    "        summary_text = self.summaries.text[index]\n",
    "\n",
    "        if True:\n",
    "            res = tokenizer(summary_text, padding='max_length', return_tensors='pt', truncation=True)\n",
    "            res = {k:val.squeeze() for k, val in res.items()}\n",
    "            res['features'] = torch.tensor([self.summaries['num_unique_words'][index], self.summaries['num_words'][index],\n",
    "                                  self.summaries['num_sentences'][index],self.summaries['syntax_count'][index],\n",
    "                                  self.summaries['smog_index'][index]], dtype=torch.float32)\n",
    "            \n",
    "            return res\n",
    "            \n",
    "        prompt_text = self.prompts.prompt_text[self.prompts.prompt_id ==\n",
    "                                               self.summaries.prompt_id[index]].item().replace('\\n','')\n",
    "        \n",
    "        return tokenizer([summary_text, prompt_text], padding='max_length', return_tensors='pt', truncation=True)\n",
    "    \n",
    "    def get_score(self, index):\n",
    "        if self.score_type == 'content':\n",
    "            score = self.summaries.content[index]\n",
    "\n",
    "        elif self.score_type == 'wording':\n",
    "            score = self.summaries.wording[index]\n",
    "\n",
    "        return torch.tensor(score)\n",
    "\n",
    "    # def get_score(self, index):\n",
    "    #\n",
    "    #     score = [self.summaries.content[index], self.summaries.wording[index]]\n",
    "    #\n",
    "    #     return torch.tensor(score)\n",
    "        \n",
    "    def __getitem__(self, index) -> torch.tensor:\n",
    "\n",
    "        batch_text = self.get_batch_text(index)\n",
    "        batch_score = self.get_score(index)\n",
    "        \n",
    "        return batch_text, batch_score"
   ]
  },
  {
   "cell_type": "code",
   "execution_count": 10,
   "outputs": [],
   "source": [
    "# dataset = SentenseData()"
   ],
   "metadata": {
    "collapsed": false
   }
  },
  {
   "cell_type": "code",
   "execution_count": 11,
   "outputs": [],
   "source": [
    "# train_data = DataLoader(dataset, batch_size=5, shuffle=True)"
   ],
   "metadata": {
    "collapsed": false
   }
  },
  {
   "cell_type": "code",
   "execution_count": 12,
   "outputs": [],
   "source": [
    "# for batch in train_data:\n",
    "#     shme=batch\n",
    "#     break"
   ],
   "metadata": {
    "collapsed": false
   }
  },
  {
   "cell_type": "code",
   "execution_count": 13,
   "outputs": [],
   "source": [
    "# x, y = shme"
   ],
   "metadata": {
    "collapsed": false
   }
  },
  {
   "cell_type": "code",
   "execution_count": 14,
   "outputs": [],
   "source": [
    "# model = STSBertModel()"
   ],
   "metadata": {
    "collapsed": false
   }
  },
  {
   "cell_type": "code",
   "execution_count": 15,
   "outputs": [],
   "source": [
    "# y_hat = model(x)"
   ],
   "metadata": {
    "collapsed": false
   }
  },
  {
   "cell_type": "code",
   "execution_count": 16,
   "outputs": [],
   "source": [
    "# y_hat.shape"
   ],
   "metadata": {
    "collapsed": false
   }
  },
  {
   "cell_type": "code",
   "execution_count": 17,
   "outputs": [],
   "source": [
    "# loss = MCRMSELoss()"
   ],
   "metadata": {
    "collapsed": false
   }
  },
  {
   "cell_type": "code",
   "execution_count": 18,
   "outputs": [],
   "source": [
    "# y.unsqueeze(1)"
   ],
   "metadata": {
    "collapsed": false
   }
  },
  {
   "cell_type": "code",
   "execution_count": 19,
   "outputs": [],
   "source": [
    "# loss(y_hat.squeeze(), y)"
   ],
   "metadata": {
    "collapsed": false
   }
  },
  {
   "cell_type": "code",
   "execution_count": 20,
   "id": "8f0c4422",
   "metadata": {},
   "outputs": [],
   "source": [
    "# from scipy.stats import pearsonr\n",
    "#\n",
    "# pearsonr(dataset.summaries.num_unique_words, dataset.summaries.content)"
   ]
  },
  {
   "cell_type": "markdown",
   "id": "2dd5b663",
   "metadata": {},
   "source": [
    "## Model"
   ]
  },
  {
   "cell_type": "code",
   "execution_count": 21,
   "id": "476829dc",
   "metadata": {},
   "outputs": [],
   "source": [
    "class STSBertModel(nn.Module):\n",
    "    \"\"\"\n",
    "    Sentence Semantic Similarity Bert model\n",
    "    :param: seg_head=True for using segmentation head instead of cosine similarity\n",
    "    :param: freeze_weights=True to freeze BERT model's weights and train only the segmentation head\n",
    "    \"\"\"\n",
    "    def __init__(self, with_features=True, input_size=size):\n",
    "        super(STSBertModel, self).__init__()\n",
    "        \n",
    "        self.word_embedding = RobertaModel.from_pretrained(model_name, config=config)\n",
    "        self.cos_score = nn.CosineSimilarity(dim=0)\n",
    "        self.identity = nn.Identity()\n",
    "        self.input_size = input_size\n",
    "        self.with_features = with_features\n",
    "\n",
    "        if with_features:\n",
    "            self.n_features = 5\n",
    "            self.input_size += self.n_features\n",
    "\n",
    "        # for param in self.word_embedding.parameters():\n",
    "        #     param.requires_grad = False\n",
    "\n",
    "        self.attention = SelfAttention(self.input_size)\n",
    "        self.block = AttentionBlock(self.input_size)\n",
    "\n",
    "        self.FC_head = nn.Sequential(OrderedDict([\n",
    "            ('fc1', nn.Linear(self.input_size, self.input_size)),\n",
    "            ('relu1', nn.ReLU()),\n",
    "            # ('fc2', nn.Linear(1024, self.input_size)),\n",
    "            # ('relu2', nn.ReLU())\n",
    "            ]))\n",
    "\n",
    "        self.FC_output = nn.Sequential(OrderedDict([\n",
    "            ('fc1', nn.Linear(self.input_size, 1)),\n",
    "            ]))\n",
    "    \n",
    "    def forward(self, x):\n",
    "        output = self.word_embedding(input_ids=x['input_ids'], attention_mask=x['attention_mask'])\n",
    "        output = mean_pooling(output, x)\n",
    "\n",
    "        if self.with_features:\n",
    "            output = torch.cat((output, x['features']), dim=1)\n",
    "\n",
    "        output = output.unsqueeze(1)\n",
    "        output = self.attention(output)\n",
    "        output = self.FC_output(output)\n",
    "\n",
    "        return output\n",
    "\n",
    "\n",
    "class AttentionBlock(nn.Module):\n",
    "    def __init__(self, input_dim):\n",
    "        super(AttentionBlock, self).__init__()\n",
    "\n",
    "        self.input_dim = input_dim\n",
    "        self.fc = nn.Linear(input_dim, input_dim)\n",
    "        self.attention = SelfAttention(input_dim)\n",
    "        self.relu = nn.ReLU()\n",
    "        self.norm = nn.LayerNorm(input_dim)\n",
    "\n",
    "    def forward(self, x):\n",
    "        identity = x\n",
    "\n",
    "        x = self.attention(x)\n",
    "        x = self.fc(x)\n",
    "\n",
    "        x += identity\n",
    "        x = self.norm(x)\n",
    "        x = self.relu(x)\n",
    "\n",
    "        return x\n",
    "\n",
    "\n",
    "class SelfAttention(nn.Module):\n",
    "    def __init__(self, input_dim):\n",
    "        super(SelfAttention, self).__init__()\n",
    "        self.input_dim = input_dim\n",
    "        self.query = nn.Linear(input_dim, input_dim)\n",
    "        self.key = nn.Linear(input_dim, input_dim)\n",
    "        self.value = nn.Linear(input_dim, input_dim)\n",
    "        self.softmax = nn.Softmax(dim=2)\n",
    "\n",
    "    def forward(self, x):\n",
    "        queries = self.query(x)\n",
    "        keys = self.key(x)\n",
    "        values = self.value(x)\n",
    "        scores = torch.bmm(queries, keys.transpose(1, 2)) / (self.input_dim ** 0.5)\n",
    "        attention = self.softmax(scores)\n",
    "        weighted = torch.bmm(attention, values)\n",
    "        return weighted\n"
   ]
  },
  {
   "cell_type": "code",
   "execution_count": 22,
   "id": "d2ee81ee",
   "metadata": {},
   "outputs": [],
   "source": [
    "# class ClassificationModel(nn.Module):\n",
    "#     def __init__(self, n_features, n_fold):\n",
    "#         super(ClassificationModel, self).__init__()\n",
    "#\n",
    "#         self.n_fold = n_fold\n",
    "#         self.n_features = n_features\n",
    "#         self.fc_input = nn.Linear(n_features, 512)\n",
    "#         self.fc_1 = nn.Linear(512, 512)\n",
    "#         self.fc_2 = nn.Linear(512, 256)\n",
    "#         self.fc_output = nn.Linear(256, 1)\n",
    "#         self.relu = nn.ReLU()\n",
    "#         self.score_model = STSBertModel()\n",
    "#\n",
    "#         for param in self.score_model.parameters():\n",
    "#             param.requires_grad = False\n",
    "#\n",
    "#     @property\n",
    "#     def score_model(self):\n",
    "#         return self.__score_model\n",
    "#\n",
    "#     @score_model.setter\n",
    "#     def score_model(self, model_init):\n",
    "#         model = model_init\n",
    "#\n",
    "#         model.load_state_dict(torch.load(r'models\\cv_2\\best__fold_{}.pt'.format(self.n_fold)))\n",
    "#\n",
    "#         return model\n",
    "#\n",
    "#     def forward(self, x):\n",
    "#         features = x['features']\n",
    "#\n",
    "#         x = self.score_model(x)\n",
    "#\n",
    "#         x = torch.cat((x.squeeze(1), features), dim=1)\n",
    "#\n",
    "#         x = self.fc_input(x)\n",
    "#         x = self.relu(x)\n",
    "#\n",
    "#         x = self.fc_1(x)\n",
    "#         x = self.relu(x)\n",
    "#\n",
    "#         x = self.fc_1(x)\n",
    "#         x = self.relu(x)\n",
    "#         x = self.fc_1(x)\n",
    "#         x = self.relu(x)\n",
    "#\n",
    "#         x = self.fc_2(x)\n",
    "#         x = self.relu(x)\n",
    "#\n",
    "#         x = self.fc_output(x)\n",
    "#\n",
    "#         return x"
   ]
  },
  {
   "cell_type": "code",
   "execution_count": 23,
   "id": "8c83e7f1",
   "metadata": {},
   "outputs": [],
   "source": [
    "# class STSBertModel(nn.Module):\n",
    "#     \"\"\"\n",
    "#     Sentence Semantic Similarity Bert model\n",
    "#     :param: seg_head=True for using segmentation head instead of cosine similarity\n",
    "#     :param: freeze_weights=True to freeze BERT model's weights and train only the segmentation head\n",
    "#     \"\"\"\n",
    "#     def __init__(self, seg_head=False, freeze_weights=False, input_size=768):\n",
    "#         super(STSBertModel, self).__init__()\n",
    "        \n",
    "#         self.word_embedding = RobertaModel.from_pretrained('roberta-base', config=config_model())\n",
    "#         self.cos_sim = nn.CosineSimilarity(dim=0)\n",
    "#         self.identity = nn.Identity()\n",
    "#         self.seg_head = seg_head\n",
    "#         self.fc = nn.Sequential(OrderedDict([\n",
    "#             ('fc1', nn.Linear(input_size*2, 1024)),\n",
    "#             ('tanh', nn.Tanh()),\n",
    "#             ('fc2', nn.Linear(1024, 256)),\n",
    "#             ('tanh', nn.Tanh()),\n",
    "#             ('output', nn.Linear(256, 1)),\n",
    "#         ]))\n",
    "        \n",
    "        \n",
    "#         if seg_head:\n",
    "# #             self.FC_head = SbertHead(inputs=768)\n",
    "#             self.FC_head = nn.Sequential(OrderedDict([\n",
    "# #                 ('dropout1', nn.Dropout(0.2)),\n",
    "#                 ('fc_input', nn.Linear(input_size, 1024)),\n",
    "#                 ('relu1', nn.ReLU()),\n",
    "#                 ('fc1', nn.Linear(1024,1024)),\n",
    "# #                 ('dropout2', nn.Dropout(0.2)),\n",
    "# #                 ('batch_norm1', nn.BatchNorm1d(1024)),\n",
    "#                 ('relu2', nn.ReLU()),\n",
    "#                 ('fc2', nn.Linear(1024, 512)),\n",
    "#                 ('relu3', nn.ReLU()),\n",
    "# #                 ('dropout2', nn.Dropout(0.2)),\n",
    "#                 ('fc3', nn.Linear(512, 512)),\n",
    "# #                 ('batch_norm2', nn.BatchNorm1d(512)),\n",
    "#                 ('relu4', nn.ReLU()),\n",
    "#                 ('fc4', nn.Linear(512, 256)),\n",
    "# #                 ('batch_norm3', nn.BatchNorm1d(256)),\n",
    "#                 ('relu5', nn.ReLU()),\n",
    "# #                 ('dropout3', nn.Dropout(0.2)),\n",
    "#                 ('fc5', nn.Linear(256, 64)),\n",
    "#                 ('relu6', nn.ReLU()),\n",
    "#                 ('fc_output', nn.Linear(64, 1))\n",
    "# #                 ('activation', nn.Sigmoid())\n",
    "#             ]))\n",
    "            \n",
    "#         if freeze_weights:\n",
    "#             self.freeze()\n",
    "    \n",
    "#     def freeze(self):\n",
    "#         for param in self.word_embedding.parameters():\n",
    "#             param.requires_grad = False\n",
    "    \n",
    "#     @staticmethod\n",
    "#     def mean_pooling(outputs, batch) -> torch.tensor:\n",
    "        \n",
    "#         attention_mask = batch['attention_mask']\n",
    "#         embeddings = outputs.last_hidden_state\n",
    "    \n",
    "#         mask = attention_mask.unsqueeze(-1).expand(embeddings.size()).float()\n",
    "#         masked_embeddings = embeddings * mask\n",
    "    \n",
    "#         summed = torch.sum(masked_embeddings, 1)\n",
    "#         summed_mask = torch.clamp(mask.sum(dim=1), min=1e-9)\n",
    "    \n",
    "#         mean_pooled = summed/summed_mask\n",
    "    \n",
    "#         return mean_pooled\n",
    "    \n",
    "#     def cos_score(self, x):\n",
    "#         embedding_1 = x[0]\n",
    "#         embedding_2 = x[1]\n",
    "#         emb = torch.concat((embedding_1, embedding_2))\n",
    "        \n",
    "        \n",
    "        \n",
    "#         cos_score = self.fc(emb)\n",
    "        \n",
    "# #         cos_score = self.cos_sim(embedding_1, embedding_2)\n",
    "# #         cos_score = torch.sigmoid(cos_score)\n",
    "        \n",
    "#         return cos_score\n",
    "    \n",
    "#     def forward(self, x):\n",
    "#         output = self.word_embedding(**x)\n",
    "#         output = self.mean_pooling(output, x)\n",
    "# #         output = output[1]\n",
    "        \n",
    "#         if self.seg_head:\n",
    "#             output = self.FC_head(output)\n",
    "        \n",
    "#         else:\n",
    "#             output = self.cos_score(output)\n",
    "        \n",
    "#         return output"
   ]
  },
  {
   "cell_type": "code",
   "execution_count": 24,
   "id": "a00e9787",
   "metadata": {},
   "outputs": [],
   "source": [
    "# score_type = 'wording'\n",
    "# batch_size = 15\n",
    "\n",
    "# test_data = SentenseData(test=True, score=score_type)\n",
    "# train_data = SentenseData(score=score_type)\n",
    "\n",
    "# train_loader = DataLoader(train_data,\n",
    "#                            batch_size=batch_size,\n",
    "#                            shuffle=True)\n",
    "\n",
    "# test_loader = DataLoader(test_data,\n",
    "#                           batch_size=batch_size,\n",
    "#                           shuffle=True)"
   ]
  },
  {
   "cell_type": "markdown",
   "id": "0efd3ae4",
   "metadata": {},
   "source": [
    "## Training"
   ]
  },
  {
   "cell_type": "code",
   "execution_count": 25,
   "id": "2afc642a",
   "metadata": {},
   "outputs": [],
   "source": [
    "# model = STSBertModel(seg_head=True, freeze_weights=False)\n",
    "\n",
    "# model.float()\n",
    "\n",
    "# model.to(device)"
   ]
  },
  {
   "cell_type": "code",
   "execution_count": 26,
   "id": "851d3cef",
   "metadata": {},
   "outputs": [],
   "source": [
    "# Loss_func = nn.MSELoss()\n",
    "\n",
    "# optimizer = torch.optim.AdamW(model.parameters(), lr=2e-06, weight_decay=2e-04)\n",
    "\n",
    "# lr_scheduler = torch.optim.lr_scheduler.StepLR(optimizer, 2, gamma=0.5)\n",
    "\n",
    "# scaler = torch.cuda.amp.GradScaler()"
   ]
  },
  {
   "cell_type": "code",
   "execution_count": 27,
   "outputs": [],
   "source": [
    "class MCRMSELoss(nn.Module):\n",
    "    def __init__(self, num_scores=2):\n",
    "        super().__init__()\n",
    "        self.MSELoss = nn.MSELoss()\n",
    "        self.num_scores = num_scores\n",
    "\n",
    "    def forward(self, y_hat, y):\n",
    "        score = 0\n",
    "        for i in range(self.num_scores):\n",
    "            score += torch.sqrt(self.MSELoss(y_hat[:,i], y[:,i]))\n",
    "\n",
    "        return score / self.num_scores"
   ],
   "metadata": {
    "collapsed": false
   }
  },
  {
   "cell_type": "code",
   "execution_count": 28,
   "outputs": [],
   "source": [
    "train_dev_split = True"
   ],
   "metadata": {
    "collapsed": false
   }
  },
  {
   "cell_type": "code",
   "execution_count": 29,
   "id": "adf62655",
   "metadata": {},
   "outputs": [],
   "source": [
    "def validate_model(model, loss_func):\n",
    "\n",
    "    losses_epoch_test = []\n",
    "    losses_epoch_train_dev = []\n",
    "\n",
    "    model.eval()\n",
    "    with torch.no_grad():\n",
    "        for inputs, targets in test_loader:\n",
    "            targets = targets.float().to(device)\n",
    "\n",
    "            inputs = {k:val.squeeze().to(device) for k, val in inputs.items()}\n",
    "\n",
    "            with torch.autocast(device_type='cuda', dtype=torch.float16):\n",
    "                outputs = model(inputs)\n",
    "\n",
    "            loss = torch.sqrt(loss_func(outputs.squeeze(), targets))\n",
    "\n",
    "            losses_epoch_test.append(loss.item())\n",
    "\n",
    "        if train_dev_split:\n",
    "\n",
    "            for inputs, targets in train_dev_loader:\n",
    "                targets = targets.float().to(device)\n",
    "\n",
    "                inputs = {k:val.squeeze().to(device) for k, val in inputs.items()}\n",
    "\n",
    "                with torch.autocast(device_type='cuda', dtype=torch.float16):\n",
    "                    outputs = model(inputs)\n",
    "\n",
    "                loss = torch.sqrt(loss_func(outputs.squeeze(), targets))\n",
    "\n",
    "                losses_epoch_train_dev.append(loss.item())\n",
    "\n",
    "    return losses_epoch_test, losses_epoch_train_dev\n",
    "\n",
    "\n",
    "def train_model(n_epochs, lr, weight_decay, n_fold, lr_head):\n",
    "    \n",
    "    model = STSBertModel(with_features=True)\n",
    "    # model = ClassificationModel(n_features=7, n_fold=n_fold)\n",
    "\n",
    "    model.float()\n",
    "    model.to(device)\n",
    "\n",
    "    params = [\n",
    "        {'params': model.word_embedding.parameters()},\n",
    "        {'params': model.attention.parameters(), 'lr': lr_head},\n",
    "        {'params': model.block.parameters(), 'lr': lr_head},\n",
    "        {'params': model.FC_head.parameters(), 'lr': lr_head},\n",
    "        {'params': model.FC_output.parameters(), 'lr': lr_head}\n",
    "    ]\n",
    "    \n",
    "    loss_func = nn.MSELoss()\n",
    "    # loss_func = MCRMSELoss()\n",
    "    optimizer = torch.optim.AdamW(params, lr=lr, weight_decay=weight_decay)\n",
    "    # lr_scheduler = torch.optim.lr_scheduler.StepLR(optimizer, 1, gamma=0.8, verbose=True)\n",
    "    # warmup_scheduler = torch.optim.lr_scheduler.LinearLR(optimizer, 1e-8, 1, 150, verbose=False)\n",
    "    lr_scheduler = torch.optim.lr_scheduler.ExponentialLR(optimizer, gamma=0.9992, verbose=False)\n",
    "    scaler = torch.cuda.amp.GradScaler()\n",
    "    \n",
    "    losses_train = []\n",
    "    losses_test = []\n",
    "    losses_train_dev = []\n",
    "\n",
    "    t0 = datetime.now()\n",
    "\n",
    "    for i in range(n_epochs):\n",
    "    \n",
    "        losses_train_per_epoch = []\n",
    "    \n",
    "        for j, batch in enumerate(tqdm(train_loader, position=0, leave=True), 1):\n",
    "            inputs, targets = batch\n",
    "            targets = targets.float().to(device)\n",
    "        \n",
    "            model.train()\n",
    "        \n",
    "            optimizer.zero_grad()\n",
    "        \n",
    "            with torch.autocast(device_type='cuda', dtype=torch.float16):\n",
    "                inputs = {k:val.squeeze().to(device) for k, val in inputs.items()}\n",
    "                outputs = model(inputs)\n",
    "            \n",
    "                loss = torch.sqrt(loss_func(outputs.squeeze(), targets))\n",
    "            \n",
    "            scaler.scale(loss).backward()\n",
    "            scaler.step(optimizer)\n",
    "        \n",
    "            scaler.update()\n",
    "\n",
    "            lr_scheduler.step()\n",
    "            # warmup_scheduler.step()\n",
    "            losses_train_per_epoch.append(loss.item())\n",
    "        \n",
    "            if j%20 == 0 or j == len(train_loader):\n",
    "            \n",
    "                losses_test_per_epoch, losses_test_dev_epoch = validate_model(model, loss_func)\n",
    "                losses_test_mean = np.mean(losses_test_per_epoch)\n",
    "                losses_train_mean = np.mean(losses_train_per_epoch)\n",
    "                if train_dev_split:\n",
    "                    losses_train_dev_mean = np.mean(losses_test_dev_epoch)\n",
    "\n",
    "                losses_train.append(losses_train_mean)\n",
    "                losses_test.append(losses_test_mean)\n",
    "                if train_dev_split:\n",
    "                    losses_train_dev.append(losses_train_dev_mean)\n",
    "\n",
    "                if losses_test_mean == np.min(losses_test):\n",
    "                    best_score = losses_test_mean\n",
    "                    n_iter = len(losses_train)\n",
    "                    torch.save(model.state_dict(), r'models\\cv\\best__fold_{}.pt'.format(n_fold))\n",
    "                    print(f'Best saved, loss: {best_score:.5f}')\n",
    "\n",
    "                losses_train_per_epoch = []\n",
    "\n",
    "                learning_params_to_print = f'Fold# {n_fold}, Epoch: {i+1}/{n_epochs}, L_train: {losses_train_mean:.5f}, L_test: {losses_test_mean:.5f}'\n",
    "\n",
    "                if train_dev_split:\n",
    "                    learning_params_to_print += f', L_train_dev:{losses_train_dev_mean:.5f}'\n",
    "\n",
    "                print(learning_params_to_print)\n",
    "\n",
    "        # lr_scheduler.step()\n",
    "        torch.cuda.empty_cache()\n",
    "\n",
    "    fold_score, _ = validate_model(model, loss_func)\n",
    "    fold_score = np.mean(fold_score)\n",
    "\n",
    "    print(f\"Time elapsed:{datetime.now()-t0}, Best score:{best_score:.5f}, Fold_score:{fold_score:.5f}\")\n",
    "    \n",
    "    return fold_score, best_score, n_iter, losses_test, losses_train, losses_train_dev"
   ]
  },
  {
   "cell_type": "markdown",
   "id": "ddc74e7f",
   "metadata": {},
   "source": [
    "## CV"
   ]
  },
  {
   "cell_type": "code",
   "execution_count": 30,
   "id": "54030204",
   "metadata": {},
   "outputs": [],
   "source": [
    "def dev_train_split(train_data):\n",
    "    train_dev_length = int(len(train_data)*0.1)\n",
    "    train_length = len(train_data) - train_dev_length\n",
    "\n",
    "    return random_split(train_data, [train_length, train_dev_length])\n",
    "\n",
    "def loaders_init(score_type, batch_size, fold):\n",
    "    \n",
    "    test_data = SentenseData(test=True, score=score_type, fold_test=fold)\n",
    "    train_data = SentenseData(score=score_type, fold_test=fold)\n",
    "\n",
    "    train_dev_loader = None\n",
    "\n",
    "    if train_dev_split:\n",
    "        train_data, train_dev_data = dev_train_split(train_data)\n",
    "\n",
    "        train_dev_loader = DataLoader(train_dev_data,\n",
    "                                      batch_size=batch_size,\n",
    "                                      shuffle=True, drop_last=True)\n",
    "\n",
    "    train_loader = DataLoader(train_data,\n",
    "                           batch_size=batch_size,\n",
    "                           shuffle=True, drop_last=True)\n",
    "\n",
    "    test_loader = DataLoader(test_data,\n",
    "                          batch_size=batch_size,\n",
    "                          shuffle=True, drop_last=True)\n",
    "\n",
    "    return train_loader, test_loader, train_dev_loader\n",
    "\n",
    "def axis_set(ax):\n",
    "\n",
    "    ax.plot(test_losses, label='test')\n",
    "    ax.plot(moving_average(test_losses), label='m/a')\n",
    "    ax.plot(train_losses, label='train')\n",
    "\n",
    "    if train_dev_split:\n",
    "        ax.plot(train_dev_losses, label='train-dev', linestyle='dotted')\n",
    "\n",
    "    ax.scatter(n_iter - 1, best_score, label='min', color='r')\n",
    "    ax.set_title(f'#{i}, scr:{fold_score:.4f}, min:{best_score:.4f}', loc='left')\n",
    "    ax.xaxis.set_major_locator(ticker.LinearLocator(n_epochs + 1))\n",
    "    ax.xaxis.set_major_formatter(ticker.FixedFormatter(range(n_epochs)))\n",
    "    ax.legend()\n",
    "\n",
    "    return ax"
   ]
  },
  {
   "cell_type": "code",
   "execution_count": 31,
   "id": "05444cb2",
   "metadata": {},
   "outputs": [
    {
     "name": "stderr",
     "output_type": "stream",
     "text": [
      "Some weights of RobertaModel were not initialized from the model checkpoint at roberta-large and are newly initialized: ['roberta.pooler.dense.bias', 'roberta.pooler.dense.weight']\n",
      "You should probably TRAIN this model on a down-stream task to be able to use it for predictions and inference.\n",
      "  2%|▏         | 20/919 [01:42<5:38:26, 22.59s/it]"
     ]
    },
    {
     "name": "stdout",
     "output_type": "stream",
     "text": [
      "Best saved, loss: 0.48391\n",
      "Fold# 1, Epoch: 1/1, L_train: 0.80456, L_test: 0.48391, L_train_dev:0.55245\n"
     ]
    },
    {
     "name": "stderr",
     "output_type": "stream",
     "text": [
      "  4%|▍         | 40/919 [02:45<3:10:13, 12.98s/it]"
     ]
    },
    {
     "name": "stdout",
     "output_type": "stream",
     "text": [
      "Fold# 1, Epoch: 1/1, L_train: 0.65447, L_test: 0.66065, L_train_dev:0.65333\n"
     ]
    },
    {
     "name": "stderr",
     "output_type": "stream",
     "text": [
      "  7%|▋         | 60/919 [03:48<3:11:43, 13.39s/it]"
     ]
    },
    {
     "name": "stdout",
     "output_type": "stream",
     "text": [
      "Fold# 1, Epoch: 1/1, L_train: 0.59613, L_test: 0.81536, L_train_dev:0.75417\n"
     ]
    },
    {
     "name": "stderr",
     "output_type": "stream",
     "text": [
      "  9%|▊         | 80/919 [04:51<3:14:13, 13.89s/it]"
     ]
    },
    {
     "name": "stdout",
     "output_type": "stream",
     "text": [
      "Best saved, loss: 0.46934\n",
      "Fold# 1, Epoch: 1/1, L_train: 0.57738, L_test: 0.46934, L_train_dev:0.49931\n"
     ]
    },
    {
     "name": "stderr",
     "output_type": "stream",
     "text": [
      " 11%|█         | 100/919 [05:55<3:11:52, 14.06s/it]"
     ]
    },
    {
     "name": "stdout",
     "output_type": "stream",
     "text": [
      "Best saved, loss: 0.46915\n",
      "Fold# 1, Epoch: 1/1, L_train: 0.66600, L_test: 0.46915, L_train_dev:0.55538\n"
     ]
    },
    {
     "name": "stderr",
     "output_type": "stream",
     "text": [
      " 13%|█▎        | 120/919 [06:58<3:01:59, 13.67s/it]"
     ]
    },
    {
     "name": "stdout",
     "output_type": "stream",
     "text": [
      "Fold# 1, Epoch: 1/1, L_train: 0.56662, L_test: 0.63276, L_train_dev:0.51203\n"
     ]
    },
    {
     "name": "stderr",
     "output_type": "stream",
     "text": [
      " 15%|█▌        | 140/919 [07:59<2:55:30, 13.52s/it]"
     ]
    },
    {
     "name": "stdout",
     "output_type": "stream",
     "text": [
      "Fold# 1, Epoch: 1/1, L_train: 0.46810, L_test: 0.55723, L_train_dev:0.46919\n"
     ]
    },
    {
     "name": "stderr",
     "output_type": "stream",
     "text": [
      " 17%|█▋        | 160/919 [09:02<2:55:42, 13.89s/it]"
     ]
    },
    {
     "name": "stdout",
     "output_type": "stream",
     "text": [
      "Best saved, loss: 0.46048\n",
      "Fold# 1, Epoch: 1/1, L_train: 0.43219, L_test: 0.46048, L_train_dev:0.43834\n"
     ]
    },
    {
     "name": "stderr",
     "output_type": "stream",
     "text": [
      " 20%|█▉        | 180/919 [10:04<2:47:43, 13.62s/it]"
     ]
    },
    {
     "name": "stdout",
     "output_type": "stream",
     "text": [
      "Fold# 1, Epoch: 1/1, L_train: 0.49895, L_test: 0.50398, L_train_dev:0.47525\n"
     ]
    },
    {
     "name": "stderr",
     "output_type": "stream",
     "text": [
      " 22%|██▏       | 200/919 [11:06<2:38:43, 13.25s/it]"
     ]
    },
    {
     "name": "stdout",
     "output_type": "stream",
     "text": [
      "Fold# 1, Epoch: 1/1, L_train: 0.55138, L_test: 0.51292, L_train_dev:0.42755\n"
     ]
    },
    {
     "name": "stderr",
     "output_type": "stream",
     "text": [
      " 24%|██▍       | 220/919 [11:57<2:10:08, 11.17s/it]"
     ]
    },
    {
     "name": "stdout",
     "output_type": "stream",
     "text": [
      "Fold# 1, Epoch: 1/1, L_train: 0.43713, L_test: 0.59443, L_train_dev:0.50893\n"
     ]
    },
    {
     "name": "stderr",
     "output_type": "stream",
     "text": [
      " 26%|██▌       | 240/919 [12:48<2:05:49, 11.12s/it]"
     ]
    },
    {
     "name": "stdout",
     "output_type": "stream",
     "text": [
      "Fold# 1, Epoch: 1/1, L_train: 0.51677, L_test: 0.60337, L_train_dev:0.47719\n"
     ]
    },
    {
     "name": "stderr",
     "output_type": "stream",
     "text": [
      " 28%|██▊       | 260/919 [13:39<2:02:11, 11.12s/it]"
     ]
    },
    {
     "name": "stdout",
     "output_type": "stream",
     "text": [
      "Fold# 1, Epoch: 1/1, L_train: 0.49714, L_test: 0.46209, L_train_dev:0.44134\n"
     ]
    },
    {
     "name": "stderr",
     "output_type": "stream",
     "text": [
      " 30%|███       | 280/919 [14:30<1:58:40, 11.14s/it]"
     ]
    },
    {
     "name": "stdout",
     "output_type": "stream",
     "text": [
      "Fold# 1, Epoch: 1/1, L_train: 0.42634, L_test: 0.46211, L_train_dev:0.46523\n"
     ]
    },
    {
     "name": "stderr",
     "output_type": "stream",
     "text": [
      " 33%|███▎      | 300/919 [15:22<1:58:35, 11.49s/it]"
     ]
    },
    {
     "name": "stdout",
     "output_type": "stream",
     "text": [
      "Best saved, loss: 0.43784\n",
      "Fold# 1, Epoch: 1/1, L_train: 0.46470, L_test: 0.43784, L_train_dev:0.44451\n"
     ]
    },
    {
     "name": "stderr",
     "output_type": "stream",
     "text": [
      " 35%|███▍      | 320/919 [16:12<1:51:01, 11.12s/it]"
     ]
    },
    {
     "name": "stdout",
     "output_type": "stream",
     "text": [
      "Fold# 1, Epoch: 1/1, L_train: 0.46075, L_test: 0.58528, L_train_dev:0.52629\n"
     ]
    },
    {
     "name": "stderr",
     "output_type": "stream",
     "text": [
      " 37%|███▋      | 340/919 [17:03<1:47:24, 11.13s/it]"
     ]
    },
    {
     "name": "stdout",
     "output_type": "stream",
     "text": [
      "Fold# 1, Epoch: 1/1, L_train: 0.50864, L_test: 0.52779, L_train_dev:0.43074\n"
     ]
    },
    {
     "name": "stderr",
     "output_type": "stream",
     "text": [
      " 39%|███▉      | 360/919 [17:55<1:46:52, 11.47s/it]"
     ]
    },
    {
     "name": "stdout",
     "output_type": "stream",
     "text": [
      "Best saved, loss: 0.43522\n",
      "Fold# 1, Epoch: 1/1, L_train: 0.47781, L_test: 0.43522, L_train_dev:0.43813\n"
     ]
    },
    {
     "name": "stderr",
     "output_type": "stream",
     "text": [
      " 41%|████▏     | 380/919 [18:46<1:40:12, 11.15s/it]"
     ]
    },
    {
     "name": "stdout",
     "output_type": "stream",
     "text": [
      "Fold# 1, Epoch: 1/1, L_train: 0.47147, L_test: 0.51851, L_train_dev:0.42905\n"
     ]
    },
    {
     "name": "stderr",
     "output_type": "stream",
     "text": [
      " 44%|████▎     | 400/919 [19:36<1:36:08, 11.12s/it]"
     ]
    },
    {
     "name": "stdout",
     "output_type": "stream",
     "text": [
      "Fold# 1, Epoch: 1/1, L_train: 0.45781, L_test: 0.48043, L_train_dev:0.42210\n"
     ]
    },
    {
     "name": "stderr",
     "output_type": "stream",
     "text": [
      " 46%|████▌     | 420/919 [20:29<1:36:23, 11.59s/it]"
     ]
    },
    {
     "name": "stdout",
     "output_type": "stream",
     "text": [
      "Best saved, loss: 0.42200\n",
      "Fold# 1, Epoch: 1/1, L_train: 0.46377, L_test: 0.42200, L_train_dev:0.52556\n"
     ]
    },
    {
     "name": "stderr",
     "output_type": "stream",
     "text": [
      " 48%|████▊     | 440/919 [21:19<1:28:47, 11.12s/it]"
     ]
    },
    {
     "name": "stdout",
     "output_type": "stream",
     "text": [
      "Fold# 1, Epoch: 1/1, L_train: 0.44978, L_test: 0.43019, L_train_dev:0.42036\n"
     ]
    },
    {
     "name": "stderr",
     "output_type": "stream",
     "text": [
      " 50%|█████     | 460/919 [22:10<1:25:06, 11.13s/it]"
     ]
    },
    {
     "name": "stdout",
     "output_type": "stream",
     "text": [
      "Fold# 1, Epoch: 1/1, L_train: 0.46250, L_test: 0.48686, L_train_dev:0.43613\n"
     ]
    },
    {
     "name": "stderr",
     "output_type": "stream",
     "text": [
      " 52%|█████▏    | 480/919 [23:01<1:21:26, 11.13s/it]"
     ]
    },
    {
     "name": "stdout",
     "output_type": "stream",
     "text": [
      "Fold# 1, Epoch: 1/1, L_train: 0.41308, L_test: 0.48266, L_train_dev:0.40539\n"
     ]
    },
    {
     "name": "stderr",
     "output_type": "stream",
     "text": [
      " 54%|█████▍    | 500/919 [23:51<1:17:51, 11.15s/it]"
     ]
    },
    {
     "name": "stdout",
     "output_type": "stream",
     "text": [
      "Fold# 1, Epoch: 1/1, L_train: 0.43923, L_test: 0.53662, L_train_dev:0.43883\n"
     ]
    },
    {
     "name": "stderr",
     "output_type": "stream",
     "text": [
      " 57%|█████▋    | 520/919 [24:42<1:13:58, 11.12s/it]"
     ]
    },
    {
     "name": "stdout",
     "output_type": "stream",
     "text": [
      "Fold# 1, Epoch: 1/1, L_train: 0.41770, L_test: 0.47510, L_train_dev:0.41224\n"
     ]
    },
    {
     "name": "stderr",
     "output_type": "stream",
     "text": [
      " 59%|█████▉    | 540/919 [25:33<1:10:22, 11.14s/it]"
     ]
    },
    {
     "name": "stdout",
     "output_type": "stream",
     "text": [
      "Fold# 1, Epoch: 1/1, L_train: 0.44757, L_test: 0.55323, L_train_dev:0.43796\n"
     ]
    },
    {
     "name": "stderr",
     "output_type": "stream",
     "text": [
      " 61%|██████    | 560/919 [26:24<1:06:33, 11.12s/it]"
     ]
    },
    {
     "name": "stdout",
     "output_type": "stream",
     "text": [
      "Fold# 1, Epoch: 1/1, L_train: 0.45634, L_test: 0.44987, L_train_dev:0.40150\n"
     ]
    },
    {
     "name": "stderr",
     "output_type": "stream",
     "text": [
      " 63%|██████▎   | 580/919 [27:14<1:03:02, 11.16s/it]"
     ]
    },
    {
     "name": "stdout",
     "output_type": "stream",
     "text": [
      "Fold# 1, Epoch: 1/1, L_train: 0.40346, L_test: 0.45717, L_train_dev:0.40890\n"
     ]
    },
    {
     "name": "stderr",
     "output_type": "stream",
     "text": [
      " 65%|██████▌   | 600/919 [28:08<1:02:31, 11.76s/it]"
     ]
    },
    {
     "name": "stdout",
     "output_type": "stream",
     "text": [
      "Fold# 1, Epoch: 1/1, L_train: 0.49468, L_test: 0.60610, L_train_dev:0.44184\n"
     ]
    },
    {
     "name": "stderr",
     "output_type": "stream",
     "text": [
      " 67%|██████▋   | 620/919 [29:02<58:54, 11.82s/it]  "
     ]
    },
    {
     "name": "stdout",
     "output_type": "stream",
     "text": [
      "Fold# 1, Epoch: 1/1, L_train: 0.49159, L_test: 0.54084, L_train_dev:0.42800\n"
     ]
    },
    {
     "name": "stderr",
     "output_type": "stream",
     "text": [
      " 70%|██████▉   | 640/919 [29:55<54:50, 11.79s/it]"
     ]
    },
    {
     "name": "stdout",
     "output_type": "stream",
     "text": [
      "Fold# 1, Epoch: 1/1, L_train: 0.44316, L_test: 0.43872, L_train_dev:0.41111\n"
     ]
    },
    {
     "name": "stderr",
     "output_type": "stream",
     "text": [
      " 72%|███████▏  | 660/919 [30:49<51:03, 11.83s/it]"
     ]
    },
    {
     "name": "stdout",
     "output_type": "stream",
     "text": [
      "Fold# 1, Epoch: 1/1, L_train: 0.44490, L_test: 0.69919, L_train_dev:0.52504\n"
     ]
    },
    {
     "name": "stderr",
     "output_type": "stream",
     "text": [
      " 74%|███████▍  | 680/919 [31:43<47:07, 11.83s/it]"
     ]
    },
    {
     "name": "stdout",
     "output_type": "stream",
     "text": [
      "Fold# 1, Epoch: 1/1, L_train: 0.51023, L_test: 0.53697, L_train_dev:0.43768\n"
     ]
    },
    {
     "name": "stderr",
     "output_type": "stream",
     "text": [
      " 76%|███████▌  | 700/919 [32:40<45:56, 12.59s/it]"
     ]
    },
    {
     "name": "stdout",
     "output_type": "stream",
     "text": [
      "Fold# 1, Epoch: 1/1, L_train: 0.45328, L_test: 0.55484, L_train_dev:0.44739\n"
     ]
    },
    {
     "name": "stderr",
     "output_type": "stream",
     "text": [
      " 78%|███████▊  | 720/919 [33:37<41:32, 12.52s/it]"
     ]
    },
    {
     "name": "stdout",
     "output_type": "stream",
     "text": [
      "Fold# 1, Epoch: 1/1, L_train: 0.43700, L_test: 0.48085, L_train_dev:0.41916\n"
     ]
    },
    {
     "name": "stderr",
     "output_type": "stream",
     "text": [
      " 81%|████████  | 740/919 [34:35<37:30, 12.57s/it]"
     ]
    },
    {
     "name": "stdout",
     "output_type": "stream",
     "text": [
      "Fold# 1, Epoch: 1/1, L_train: 0.45861, L_test: 0.42722, L_train_dev:0.40343\n"
     ]
    },
    {
     "name": "stderr",
     "output_type": "stream",
     "text": [
      " 83%|████████▎ | 760/919 [37:02<1:45:00, 39.63s/it]"
     ]
    },
    {
     "name": "stdout",
     "output_type": "stream",
     "text": [
      "Fold# 1, Epoch: 1/1, L_train: 0.42673, L_test: 0.43536, L_train_dev:0.40556\n"
     ]
    },
    {
     "name": "stderr",
     "output_type": "stream",
     "text": [
      " 85%|████████▍ | 780/919 [39:58<1:51:42, 48.22s/it]"
     ]
    },
    {
     "name": "stdout",
     "output_type": "stream",
     "text": [
      "Fold# 1, Epoch: 1/1, L_train: 0.43168, L_test: 0.45992, L_train_dev:0.40172\n"
     ]
    },
    {
     "name": "stderr",
     "output_type": "stream",
     "text": [
      " 87%|████████▋ | 800/919 [42:43<1:30:22, 45.57s/it]"
     ]
    },
    {
     "name": "stdout",
     "output_type": "stream",
     "text": [
      "Fold# 1, Epoch: 1/1, L_train: 0.56686, L_test: 0.50556, L_train_dev:0.70424\n"
     ]
    },
    {
     "name": "stderr",
     "output_type": "stream",
     "text": [
      " 89%|████████▉ | 820/919 [45:22<1:11:46, 43.50s/it]"
     ]
    },
    {
     "name": "stdout",
     "output_type": "stream",
     "text": [
      "Best saved, loss: 0.41563\n",
      "Fold# 1, Epoch: 1/1, L_train: 0.49893, L_test: 0.41563, L_train_dev:0.41212\n"
     ]
    },
    {
     "name": "stderr",
     "output_type": "stream",
     "text": [
      " 91%|█████████▏| 840/919 [47:49<53:00, 40.26s/it]  "
     ]
    },
    {
     "name": "stdout",
     "output_type": "stream",
     "text": [
      "Fold# 1, Epoch: 1/1, L_train: 0.49514, L_test: 0.51639, L_train_dev:0.47472\n"
     ]
    },
    {
     "name": "stderr",
     "output_type": "stream",
     "text": [
      " 94%|█████████▎| 860/919 [50:18<40:09, 40.83s/it]"
     ]
    },
    {
     "name": "stdout",
     "output_type": "stream",
     "text": [
      "Fold# 1, Epoch: 1/1, L_train: 0.44308, L_test: 0.49870, L_train_dev:0.41892\n"
     ]
    },
    {
     "name": "stderr",
     "output_type": "stream",
     "text": [
      " 96%|█████████▌| 880/919 [53:03<29:40, 45.64s/it]"
     ]
    },
    {
     "name": "stdout",
     "output_type": "stream",
     "text": [
      "Fold# 1, Epoch: 1/1, L_train: 0.48927, L_test: 0.44779, L_train_dev:0.41501\n"
     ]
    },
    {
     "name": "stderr",
     "output_type": "stream",
     "text": [
      " 98%|█████████▊| 900/919 [56:03<15:50, 50.00s/it]"
     ]
    },
    {
     "name": "stdout",
     "output_type": "stream",
     "text": [
      "Best saved, loss: 0.41104\n",
      "Fold# 1, Epoch: 1/1, L_train: 0.54626, L_test: 0.41104, L_train_dev:0.42803\n"
     ]
    },
    {
     "name": "stderr",
     "output_type": "stream",
     "text": [
      "100%|██████████| 919/919 [58:57<00:00,  3.85s/it]"
     ]
    },
    {
     "name": "stdout",
     "output_type": "stream",
     "text": [
      "Fold# 1, Epoch: 1/1, L_train: 0.43011, L_test: 0.45491, L_train_dev:0.40931\n"
     ]
    },
    {
     "name": "stderr",
     "output_type": "stream",
     "text": [
      "\n"
     ]
    },
    {
     "name": "stdout",
     "output_type": "stream",
     "text": [
      "Time elapsed:0:59:33.754317, Best score:0.41104, Fold_score:0.45533\n"
     ]
    },
    {
     "name": "stderr",
     "output_type": "stream",
     "text": [
      "C:\\Users\\shmak\\AppData\\Local\\Temp\\ipykernel_18696\\1487209178.py:43: UserWarning: FixedFormatter should only be used together with FixedLocator\n",
      "  ax.xaxis.set_major_formatter(ticker.FixedFormatter(range(n_epochs)))\n",
      "Some weights of RobertaModel were not initialized from the model checkpoint at roberta-large and are newly initialized: ['roberta.pooler.dense.bias', 'roberta.pooler.dense.weight']\n",
      "You should probably TRAIN this model on a down-stream task to be able to use it for predictions and inference.\n",
      "  2%|▏         | 20/928 [02:22<8:41:42, 34.47s/it]"
     ]
    },
    {
     "name": "stdout",
     "output_type": "stream",
     "text": [
      "Best saved, loss: 0.79954\n",
      "Fold# 2, Epoch: 1/1, L_train: 1.03433, L_test: 0.79954, L_train_dev:0.72712\n"
     ]
    },
    {
     "name": "stderr",
     "output_type": "stream",
     "text": [
      "  4%|▍         | 40/928 [04:45<8:39:15, 35.08s/it]"
     ]
    },
    {
     "name": "stdout",
     "output_type": "stream",
     "text": [
      "Best saved, loss: 0.58575\n",
      "Fold# 2, Epoch: 1/1, L_train: 0.66331, L_test: 0.58575, L_train_dev:0.50527\n"
     ]
    },
    {
     "name": "stderr",
     "output_type": "stream",
     "text": [
      "  6%|▋         | 60/928 [07:08<8:25:28, 34.94s/it]"
     ]
    },
    {
     "name": "stdout",
     "output_type": "stream",
     "text": [
      "Fold# 2, Epoch: 1/1, L_train: 0.45352, L_test: 0.60393, L_train_dev:0.58303\n"
     ]
    },
    {
     "name": "stderr",
     "output_type": "stream",
     "text": [
      "  9%|▊         | 80/928 [09:28<8:09:23, 34.63s/it]"
     ]
    },
    {
     "name": "stdout",
     "output_type": "stream",
     "text": [
      "Fold# 2, Epoch: 1/1, L_train: 0.56467, L_test: 0.68005, L_train_dev:0.52642\n"
     ]
    },
    {
     "name": "stderr",
     "output_type": "stream",
     "text": [
      " 11%|█         | 100/928 [11:38<7:09:30, 31.12s/it]"
     ]
    },
    {
     "name": "stdout",
     "output_type": "stream",
     "text": [
      "Best saved, loss: 0.49660\n",
      "Fold# 2, Epoch: 1/1, L_train: 0.53754, L_test: 0.49660, L_train_dev:0.47841\n"
     ]
    },
    {
     "name": "stderr",
     "output_type": "stream",
     "text": [
      " 13%|█▎        | 120/928 [13:27<5:49:08, 25.93s/it]"
     ]
    },
    {
     "name": "stdout",
     "output_type": "stream",
     "text": [
      "Fold# 2, Epoch: 1/1, L_train: 0.50259, L_test: 0.49788, L_train_dev:0.44093\n"
     ]
    },
    {
     "name": "stderr",
     "output_type": "stream",
     "text": [
      " 15%|█▌        | 140/928 [15:13<5:37:20, 25.69s/it]"
     ]
    },
    {
     "name": "stdout",
     "output_type": "stream",
     "text": [
      "Fold# 2, Epoch: 1/1, L_train: 0.47666, L_test: 0.52194, L_train_dev:0.54189\n"
     ]
    },
    {
     "name": "stderr",
     "output_type": "stream",
     "text": [
      " 17%|█▋        | 160/928 [17:00<5:30:06, 25.79s/it]"
     ]
    },
    {
     "name": "stdout",
     "output_type": "stream",
     "text": [
      "Fold# 2, Epoch: 1/1, L_train: 0.58344, L_test: 0.90178, L_train_dev:0.67473\n"
     ]
    },
    {
     "name": "stderr",
     "output_type": "stream",
     "text": [
      " 19%|█▉        | 180/928 [18:48<5:22:08, 25.84s/it]"
     ]
    },
    {
     "name": "stdout",
     "output_type": "stream",
     "text": [
      "Fold# 2, Epoch: 1/1, L_train: 0.53012, L_test: 0.73287, L_train_dev:0.57157\n"
     ]
    },
    {
     "name": "stderr",
     "output_type": "stream",
     "text": [
      " 22%|██▏       | 200/928 [20:36<5:15:41, 26.02s/it]"
     ]
    },
    {
     "name": "stdout",
     "output_type": "stream",
     "text": [
      "Fold# 2, Epoch: 1/1, L_train: 0.60452, L_test: 0.62960, L_train_dev:0.47869\n"
     ]
    },
    {
     "name": "stderr",
     "output_type": "stream",
     "text": [
      " 24%|██▎       | 220/928 [22:25<5:08:53, 26.18s/it]"
     ]
    },
    {
     "name": "stdout",
     "output_type": "stream",
     "text": [
      "Fold# 2, Epoch: 1/1, L_train: 0.49911, L_test: 0.55977, L_train_dev:0.47622\n"
     ]
    },
    {
     "name": "stderr",
     "output_type": "stream",
     "text": [
      " 26%|██▌       | 240/928 [24:14<5:04:27, 26.55s/it]"
     ]
    },
    {
     "name": "stdout",
     "output_type": "stream",
     "text": [
      "Best saved, loss: 0.49235\n",
      "Fold# 2, Epoch: 1/1, L_train: 0.48479, L_test: 0.49235, L_train_dev:0.48559\n"
     ]
    },
    {
     "name": "stderr",
     "output_type": "stream",
     "text": [
      " 28%|██▊       | 260/928 [26:03<4:51:34, 26.19s/it]"
     ]
    },
    {
     "name": "stdout",
     "output_type": "stream",
     "text": [
      "Fold# 2, Epoch: 1/1, L_train: 0.46579, L_test: 0.53624, L_train_dev:0.53748\n"
     ]
    },
    {
     "name": "stderr",
     "output_type": "stream",
     "text": [
      " 30%|███       | 280/928 [27:52<4:41:36, 26.07s/it]"
     ]
    },
    {
     "name": "stdout",
     "output_type": "stream",
     "text": [
      "Fold# 2, Epoch: 1/1, L_train: 0.42404, L_test: 0.54236, L_train_dev:0.46821\n"
     ]
    },
    {
     "name": "stderr",
     "output_type": "stream",
     "text": [
      " 32%|███▏      | 300/928 [29:40<4:31:37, 25.95s/it]"
     ]
    },
    {
     "name": "stdout",
     "output_type": "stream",
     "text": [
      "Fold# 2, Epoch: 1/1, L_train: 0.44104, L_test: 0.53066, L_train_dev:0.44107\n"
     ]
    },
    {
     "name": "stderr",
     "output_type": "stream",
     "text": [
      " 34%|███▍      | 320/928 [31:28<4:23:56, 26.05s/it]"
     ]
    },
    {
     "name": "stdout",
     "output_type": "stream",
     "text": [
      "Fold# 2, Epoch: 1/1, L_train: 0.44706, L_test: 0.49616, L_train_dev:0.45657\n"
     ]
    },
    {
     "name": "stderr",
     "output_type": "stream",
     "text": [
      " 37%|███▋      | 340/928 [33:16<4:15:32, 26.08s/it]"
     ]
    },
    {
     "name": "stdout",
     "output_type": "stream",
     "text": [
      "Fold# 2, Epoch: 1/1, L_train: 0.41946, L_test: 0.63066, L_train_dev:0.46672\n"
     ]
    },
    {
     "name": "stderr",
     "output_type": "stream",
     "text": [
      " 39%|███▉      | 360/928 [35:04<4:05:51, 25.97s/it]"
     ]
    },
    {
     "name": "stdout",
     "output_type": "stream",
     "text": [
      "Fold# 2, Epoch: 1/1, L_train: 0.43065, L_test: 0.51810, L_train_dev:0.50937\n"
     ]
    },
    {
     "name": "stderr",
     "output_type": "stream",
     "text": [
      " 41%|████      | 380/928 [36:52<3:57:30, 26.01s/it]"
     ]
    },
    {
     "name": "stdout",
     "output_type": "stream",
     "text": [
      "Fold# 2, Epoch: 1/1, L_train: 0.44227, L_test: 0.51842, L_train_dev:0.51140\n"
     ]
    },
    {
     "name": "stderr",
     "output_type": "stream",
     "text": [
      " 43%|████▎     | 400/928 [38:42<3:52:15, 26.39s/it]"
     ]
    },
    {
     "name": "stdout",
     "output_type": "stream",
     "text": [
      "Best saved, loss: 0.49016\n",
      "Fold# 2, Epoch: 1/1, L_train: 0.45132, L_test: 0.49016, L_train_dev:0.45561\n"
     ]
    },
    {
     "name": "stderr",
     "output_type": "stream",
     "text": [
      " 45%|████▌     | 420/928 [40:29<3:38:29, 25.81s/it]"
     ]
    },
    {
     "name": "stdout",
     "output_type": "stream",
     "text": [
      "Fold# 2, Epoch: 1/1, L_train: 0.46399, L_test: 0.52901, L_train_dev:0.42001\n"
     ]
    },
    {
     "name": "stderr",
     "output_type": "stream",
     "text": [
      " 47%|████▋     | 440/928 [42:15<3:29:08, 25.71s/it]"
     ]
    },
    {
     "name": "stdout",
     "output_type": "stream",
     "text": [
      "Fold# 2, Epoch: 1/1, L_train: 0.51326, L_test: 0.56487, L_train_dev:0.53266\n"
     ]
    },
    {
     "name": "stderr",
     "output_type": "stream",
     "text": [
      " 50%|████▉     | 460/928 [44:04<3:22:52, 26.01s/it]"
     ]
    },
    {
     "name": "stdout",
     "output_type": "stream",
     "text": [
      "Fold# 2, Epoch: 1/1, L_train: 0.43185, L_test: 0.55233, L_train_dev:0.45652\n"
     ]
    },
    {
     "name": "stderr",
     "output_type": "stream",
     "text": [
      " 52%|█████▏    | 480/928 [45:52<3:14:32, 26.05s/it]"
     ]
    },
    {
     "name": "stdout",
     "output_type": "stream",
     "text": [
      "Fold# 2, Epoch: 1/1, L_train: 0.50352, L_test: 0.56048, L_train_dev:0.44612\n"
     ]
    },
    {
     "name": "stderr",
     "output_type": "stream",
     "text": [
      " 54%|█████▍    | 500/928 [47:41<3:07:00, 26.22s/it]"
     ]
    },
    {
     "name": "stdout",
     "output_type": "stream",
     "text": [
      "Fold# 2, Epoch: 1/1, L_train: 0.43996, L_test: 0.52061, L_train_dev:0.47333\n"
     ]
    },
    {
     "name": "stderr",
     "output_type": "stream",
     "text": [
      " 56%|█████▌    | 520/928 [49:29<2:57:34, 26.11s/it]"
     ]
    },
    {
     "name": "stdout",
     "output_type": "stream",
     "text": [
      "Fold# 2, Epoch: 1/1, L_train: 0.39260, L_test: 0.50224, L_train_dev:0.43150\n"
     ]
    },
    {
     "name": "stderr",
     "output_type": "stream",
     "text": [
      " 58%|█████▊    | 540/928 [51:16<2:46:38, 25.77s/it]"
     ]
    },
    {
     "name": "stdout",
     "output_type": "stream",
     "text": [
      "Fold# 2, Epoch: 1/1, L_train: 0.44803, L_test: 0.54494, L_train_dev:0.47548\n"
     ]
    },
    {
     "name": "stderr",
     "output_type": "stream",
     "text": [
      " 60%|██████    | 560/928 [53:03<2:37:41, 25.71s/it]"
     ]
    },
    {
     "name": "stdout",
     "output_type": "stream",
     "text": [
      "Fold# 2, Epoch: 1/1, L_train: 0.42607, L_test: 0.53600, L_train_dev:0.46335\n"
     ]
    },
    {
     "name": "stderr",
     "output_type": "stream",
     "text": [
      " 62%|██████▎   | 580/928 [54:49<2:27:05, 25.36s/it]"
     ]
    },
    {
     "name": "stdout",
     "output_type": "stream",
     "text": [
      "Fold# 2, Epoch: 1/1, L_train: 0.45123, L_test: 0.56733, L_train_dev:0.47227\n"
     ]
    },
    {
     "name": "stderr",
     "output_type": "stream",
     "text": [
      " 65%|██████▍   | 600/928 [56:35<2:20:20, 25.67s/it]"
     ]
    },
    {
     "name": "stdout",
     "output_type": "stream",
     "text": [
      "Fold# 2, Epoch: 1/1, L_train: 0.42008, L_test: 0.52223, L_train_dev:0.43702\n"
     ]
    },
    {
     "name": "stderr",
     "output_type": "stream",
     "text": [
      " 67%|██████▋   | 620/928 [58:24<2:14:16, 26.16s/it]"
     ]
    },
    {
     "name": "stdout",
     "output_type": "stream",
     "text": [
      "Fold# 2, Epoch: 1/1, L_train: 0.46287, L_test: 0.50666, L_train_dev:0.41650\n"
     ]
    },
    {
     "name": "stderr",
     "output_type": "stream",
     "text": [
      " 69%|██████▉   | 640/928 [1:00:14<2:06:48, 26.42s/it]"
     ]
    },
    {
     "name": "stdout",
     "output_type": "stream",
     "text": [
      "Fold# 2, Epoch: 1/1, L_train: 0.40860, L_test: 0.49698, L_train_dev:0.42211\n"
     ]
    },
    {
     "name": "stderr",
     "output_type": "stream",
     "text": [
      " 71%|███████   | 660/928 [1:02:04<1:56:41, 26.12s/it]"
     ]
    },
    {
     "name": "stdout",
     "output_type": "stream",
     "text": [
      "Fold# 2, Epoch: 1/1, L_train: 0.39376, L_test: 0.55975, L_train_dev:0.41854\n"
     ]
    },
    {
     "name": "stderr",
     "output_type": "stream",
     "text": [
      " 73%|███████▎  | 680/928 [1:03:42<1:33:59, 22.74s/it]"
     ]
    },
    {
     "name": "stdout",
     "output_type": "stream",
     "text": [
      "Fold# 2, Epoch: 1/1, L_train: 0.40448, L_test: 0.59640, L_train_dev:0.58894\n"
     ]
    },
    {
     "name": "stderr",
     "output_type": "stream",
     "text": [
      " 75%|███████▌  | 700/928 [1:04:55<57:20, 15.09s/it]  "
     ]
    },
    {
     "name": "stdout",
     "output_type": "stream",
     "text": [
      "Fold# 2, Epoch: 1/1, L_train: 0.44144, L_test: 0.49854, L_train_dev:0.44793\n"
     ]
    },
    {
     "name": "stderr",
     "output_type": "stream",
     "text": [
      " 78%|███████▊  | 720/928 [1:06:08<51:43, 14.92s/it]"
     ]
    },
    {
     "name": "stdout",
     "output_type": "stream",
     "text": [
      "Fold# 2, Epoch: 1/1, L_train: 0.48308, L_test: 0.50130, L_train_dev:0.46230\n"
     ]
    },
    {
     "name": "stderr",
     "output_type": "stream",
     "text": [
      " 80%|███████▉  | 740/928 [1:07:21<46:56, 14.98s/it]"
     ]
    },
    {
     "name": "stdout",
     "output_type": "stream",
     "text": [
      "Fold# 2, Epoch: 1/1, L_train: 0.45764, L_test: 0.51487, L_train_dev:0.41085\n"
     ]
    },
    {
     "name": "stderr",
     "output_type": "stream",
     "text": [
      " 82%|████████▏ | 760/928 [1:08:33<41:54, 14.97s/it]"
     ]
    },
    {
     "name": "stdout",
     "output_type": "stream",
     "text": [
      "Fold# 2, Epoch: 1/1, L_train: 0.47030, L_test: 0.51802, L_train_dev:0.41397\n"
     ]
    },
    {
     "name": "stderr",
     "output_type": "stream",
     "text": [
      " 84%|████████▍ | 780/928 [1:09:45<36:51, 14.94s/it]"
     ]
    },
    {
     "name": "stdout",
     "output_type": "stream",
     "text": [
      "Fold# 2, Epoch: 1/1, L_train: 0.41384, L_test: 0.50031, L_train_dev:0.40266\n"
     ]
    },
    {
     "name": "stderr",
     "output_type": "stream",
     "text": [
      " 86%|████████▌ | 800/928 [1:10:55<30:48, 14.44s/it]"
     ]
    },
    {
     "name": "stdout",
     "output_type": "stream",
     "text": [
      "Fold# 2, Epoch: 1/1, L_train: 0.44479, L_test: 0.51049, L_train_dev:0.41552\n"
     ]
    },
    {
     "name": "stderr",
     "output_type": "stream",
     "text": [
      " 88%|████████▊ | 820/928 [1:12:04<25:58, 14.43s/it]"
     ]
    },
    {
     "name": "stdout",
     "output_type": "stream",
     "text": [
      "Fold# 2, Epoch: 1/1, L_train: 0.39183, L_test: 0.49970, L_train_dev:0.42958\n"
     ]
    },
    {
     "name": "stderr",
     "output_type": "stream",
     "text": [
      " 91%|█████████ | 840/928 [1:13:14<21:33, 14.70s/it]"
     ]
    },
    {
     "name": "stdout",
     "output_type": "stream",
     "text": [
      "Fold# 2, Epoch: 1/1, L_train: 0.45029, L_test: 0.49114, L_train_dev:0.40991\n"
     ]
    },
    {
     "name": "stderr",
     "output_type": "stream",
     "text": [
      " 93%|█████████▎| 860/928 [1:14:25<16:36, 14.66s/it]"
     ]
    },
    {
     "name": "stdout",
     "output_type": "stream",
     "text": [
      "Fold# 2, Epoch: 1/1, L_train: 0.46180, L_test: 0.51935, L_train_dev:0.46239\n"
     ]
    },
    {
     "name": "stderr",
     "output_type": "stream",
     "text": [
      " 95%|█████████▍| 880/928 [1:15:38<12:12, 15.27s/it]"
     ]
    },
    {
     "name": "stdout",
     "output_type": "stream",
     "text": [
      "Best saved, loss: 0.48783\n",
      "Fold# 2, Epoch: 1/1, L_train: 0.43161, L_test: 0.48783, L_train_dev:0.40232\n"
     ]
    },
    {
     "name": "stderr",
     "output_type": "stream",
     "text": [
      " 97%|█████████▋| 900/928 [1:16:49<06:54, 14.82s/it]"
     ]
    },
    {
     "name": "stdout",
     "output_type": "stream",
     "text": [
      "Fold# 2, Epoch: 1/1, L_train: 0.40334, L_test: 0.51753, L_train_dev:0.44207\n"
     ]
    },
    {
     "name": "stderr",
     "output_type": "stream",
     "text": [
      " 99%|█████████▉| 920/928 [1:18:00<01:57, 14.67s/it]"
     ]
    },
    {
     "name": "stdout",
     "output_type": "stream",
     "text": [
      "Fold# 2, Epoch: 1/1, L_train: 0.45024, L_test: 0.54502, L_train_dev:0.44546\n"
     ]
    },
    {
     "name": "stderr",
     "output_type": "stream",
     "text": [
      "100%|██████████| 928/928 [1:18:55<00:00,  5.10s/it]"
     ]
    },
    {
     "name": "stdout",
     "output_type": "stream",
     "text": [
      "Fold# 2, Epoch: 1/1, L_train: 0.46378, L_test: 0.51276, L_train_dev:0.44474\n"
     ]
    },
    {
     "name": "stderr",
     "output_type": "stream",
     "text": [
      "\n"
     ]
    },
    {
     "name": "stdout",
     "output_type": "stream",
     "text": [
      "Time elapsed:1:19:31.612007, Best score:0.48783, Fold_score:0.51098\n"
     ]
    },
    {
     "name": "stderr",
     "output_type": "stream",
     "text": [
      "C:\\Users\\shmak\\AppData\\Local\\Temp\\ipykernel_18696\\1487209178.py:43: UserWarning: FixedFormatter should only be used together with FixedLocator\n",
      "  ax.xaxis.set_major_formatter(ticker.FixedFormatter(range(n_epochs)))\n",
      "Some weights of RobertaModel were not initialized from the model checkpoint at roberta-large and are newly initialized: ['roberta.pooler.dense.bias', 'roberta.pooler.dense.weight']\n",
      "You should probably TRAIN this model on a down-stream task to be able to use it for predictions and inference.\n",
      "  2%|▏         | 20/1091 [00:54<2:39:13,  8.92s/it]"
     ]
    },
    {
     "name": "stdout",
     "output_type": "stream",
     "text": [
      "Best saved, loss: 0.90144\n",
      "Fold# 3, Epoch: 1/1, L_train: 0.97086, L_test: 0.90144, L_train_dev:0.78783\n"
     ]
    },
    {
     "name": "stderr",
     "output_type": "stream",
     "text": [
      "  4%|▎         | 40/1091 [01:47<2:28:34,  8.48s/it]"
     ]
    },
    {
     "name": "stdout",
     "output_type": "stream",
     "text": [
      "Fold# 3, Epoch: 1/1, L_train: 0.63711, L_test: 0.97519, L_train_dev:0.64558\n"
     ]
    },
    {
     "name": "stderr",
     "output_type": "stream",
     "text": [
      "  5%|▌         | 60/1091 [02:42<2:29:41,  8.71s/it]"
     ]
    },
    {
     "name": "stdout",
     "output_type": "stream",
     "text": [
      "Best saved, loss: 0.73885\n",
      "Fold# 3, Epoch: 1/1, L_train: 0.55685, L_test: 0.73885, L_train_dev:0.50839\n"
     ]
    },
    {
     "name": "stderr",
     "output_type": "stream",
     "text": [
      "  7%|▋         | 80/1091 [03:36<2:23:47,  8.53s/it]"
     ]
    },
    {
     "name": "stdout",
     "output_type": "stream",
     "text": [
      "Best saved, loss: 0.59455\n",
      "Fold# 3, Epoch: 1/1, L_train: 0.51094, L_test: 0.59455, L_train_dev:0.54964\n"
     ]
    },
    {
     "name": "stderr",
     "output_type": "stream",
     "text": [
      "  9%|▉         | 100/1091 [04:29<2:15:30,  8.20s/it]"
     ]
    },
    {
     "name": "stdout",
     "output_type": "stream",
     "text": [
      "Fold# 3, Epoch: 1/1, L_train: 0.49364, L_test: 0.62142, L_train_dev:0.43777\n"
     ]
    },
    {
     "name": "stderr",
     "output_type": "stream",
     "text": [
      " 11%|█         | 120/1091 [05:21<2:12:51,  8.21s/it]"
     ]
    },
    {
     "name": "stdout",
     "output_type": "stream",
     "text": [
      "Fold# 3, Epoch: 1/1, L_train: 0.57630, L_test: 0.68055, L_train_dev:0.44177\n"
     ]
    },
    {
     "name": "stderr",
     "output_type": "stream",
     "text": [
      " 13%|█▎        | 140/1091 [06:15<2:11:53,  8.32s/it]"
     ]
    },
    {
     "name": "stdout",
     "output_type": "stream",
     "text": [
      "Fold# 3, Epoch: 1/1, L_train: 0.42957, L_test: 0.64431, L_train_dev:0.44695\n"
     ]
    },
    {
     "name": "stderr",
     "output_type": "stream",
     "text": [
      " 15%|█▍        | 160/1091 [07:08<2:07:41,  8.23s/it]"
     ]
    },
    {
     "name": "stdout",
     "output_type": "stream",
     "text": [
      "Fold# 3, Epoch: 1/1, L_train: 0.48411, L_test: 0.93357, L_train_dev:0.52331\n"
     ]
    },
    {
     "name": "stderr",
     "output_type": "stream",
     "text": [
      " 16%|█▋        | 180/1091 [08:01<2:04:30,  8.20s/it]"
     ]
    },
    {
     "name": "stdout",
     "output_type": "stream",
     "text": [
      "Fold# 3, Epoch: 1/1, L_train: 0.49474, L_test: 0.69851, L_train_dev:0.42564\n"
     ]
    },
    {
     "name": "stderr",
     "output_type": "stream",
     "text": [
      " 18%|█▊        | 200/1091 [08:55<2:04:26,  8.38s/it]"
     ]
    },
    {
     "name": "stdout",
     "output_type": "stream",
     "text": [
      "Fold# 3, Epoch: 1/1, L_train: 0.45350, L_test: 0.71747, L_train_dev:0.44622\n"
     ]
    },
    {
     "name": "stderr",
     "output_type": "stream",
     "text": [
      " 20%|██        | 220/1091 [09:50<2:08:24,  8.85s/it]"
     ]
    },
    {
     "name": "stdout",
     "output_type": "stream",
     "text": [
      "Best saved, loss: 0.59219\n",
      "Fold# 3, Epoch: 1/1, L_train: 0.46790, L_test: 0.59219, L_train_dev:0.48677\n"
     ]
    },
    {
     "name": "stderr",
     "output_type": "stream",
     "text": [
      " 22%|██▏       | 240/1091 [10:44<2:00:01,  8.46s/it]"
     ]
    },
    {
     "name": "stdout",
     "output_type": "stream",
     "text": [
      "Fold# 3, Epoch: 1/1, L_train: 0.42775, L_test: 0.81427, L_train_dev:0.42424\n"
     ]
    },
    {
     "name": "stderr",
     "output_type": "stream",
     "text": [
      " 24%|██▍       | 260/1091 [11:41<2:06:58,  9.17s/it]"
     ]
    },
    {
     "name": "stdout",
     "output_type": "stream",
     "text": [
      "Best saved, loss: 0.54715\n",
      "Fold# 3, Epoch: 1/1, L_train: 0.44283, L_test: 0.54715, L_train_dev:0.47821\n"
     ]
    },
    {
     "name": "stderr",
     "output_type": "stream",
     "text": [
      " 26%|██▌       | 280/1091 [12:36<1:56:25,  8.61s/it]"
     ]
    },
    {
     "name": "stdout",
     "output_type": "stream",
     "text": [
      "Fold# 3, Epoch: 1/1, L_train: 0.48133, L_test: 0.54957, L_train_dev:0.48441\n"
     ]
    },
    {
     "name": "stderr",
     "output_type": "stream",
     "text": [
      " 27%|██▋       | 300/1091 [13:30<1:48:55,  8.26s/it]"
     ]
    },
    {
     "name": "stdout",
     "output_type": "stream",
     "text": [
      "Fold# 3, Epoch: 1/1, L_train: 0.46837, L_test: 0.61017, L_train_dev:0.41954\n"
     ]
    },
    {
     "name": "stderr",
     "output_type": "stream",
     "text": [
      " 29%|██▉       | 320/1091 [14:23<1:45:16,  8.19s/it]"
     ]
    },
    {
     "name": "stdout",
     "output_type": "stream",
     "text": [
      "Fold# 3, Epoch: 1/1, L_train: 0.45268, L_test: 0.58546, L_train_dev:0.47891\n"
     ]
    },
    {
     "name": "stderr",
     "output_type": "stream",
     "text": [
      " 31%|███       | 340/1091 [15:15<1:41:39,  8.12s/it]"
     ]
    },
    {
     "name": "stdout",
     "output_type": "stream",
     "text": [
      "Fold# 3, Epoch: 1/1, L_train: 0.43391, L_test: 0.77654, L_train_dev:0.45312\n"
     ]
    },
    {
     "name": "stderr",
     "output_type": "stream",
     "text": [
      " 33%|███▎      | 360/1091 [16:07<1:38:18,  8.07s/it]"
     ]
    },
    {
     "name": "stdout",
     "output_type": "stream",
     "text": [
      "Fold# 3, Epoch: 1/1, L_train: 0.42422, L_test: 0.88908, L_train_dev:0.47802\n"
     ]
    },
    {
     "name": "stderr",
     "output_type": "stream",
     "text": [
      " 35%|███▍      | 380/1091 [16:59<1:36:25,  8.14s/it]"
     ]
    },
    {
     "name": "stdout",
     "output_type": "stream",
     "text": [
      "Fold# 3, Epoch: 1/1, L_train: 0.50369, L_test: 0.74268, L_train_dev:0.43026\n"
     ]
    },
    {
     "name": "stderr",
     "output_type": "stream",
     "text": [
      " 37%|███▋      | 400/1091 [17:51<1:32:47,  8.06s/it]"
     ]
    },
    {
     "name": "stdout",
     "output_type": "stream",
     "text": [
      "Fold# 3, Epoch: 1/1, L_train: 0.48883, L_test: 0.59456, L_train_dev:0.43146\n"
     ]
    },
    {
     "name": "stderr",
     "output_type": "stream",
     "text": [
      " 38%|███▊      | 420/1091 [18:44<1:31:06,  8.15s/it]"
     ]
    },
    {
     "name": "stdout",
     "output_type": "stream",
     "text": [
      "Fold# 3, Epoch: 1/1, L_train: 0.38338, L_test: 0.79680, L_train_dev:0.43295\n"
     ]
    },
    {
     "name": "stderr",
     "output_type": "stream",
     "text": [
      " 40%|████      | 440/1091 [19:36<1:28:19,  8.14s/it]"
     ]
    },
    {
     "name": "stdout",
     "output_type": "stream",
     "text": [
      "Fold# 3, Epoch: 1/1, L_train: 0.46936, L_test: 0.87826, L_train_dev:0.45699\n"
     ]
    },
    {
     "name": "stderr",
     "output_type": "stream",
     "text": [
      " 42%|████▏     | 460/1091 [20:30<1:27:01,  8.27s/it]"
     ]
    },
    {
     "name": "stdout",
     "output_type": "stream",
     "text": [
      "Fold# 3, Epoch: 1/1, L_train: 0.43702, L_test: 0.66655, L_train_dev:0.39908\n"
     ]
    },
    {
     "name": "stderr",
     "output_type": "stream",
     "text": [
      " 44%|████▍     | 480/1091 [21:23<1:25:47,  8.42s/it]"
     ]
    },
    {
     "name": "stdout",
     "output_type": "stream",
     "text": [
      "Fold# 3, Epoch: 1/1, L_train: 0.41202, L_test: 0.61907, L_train_dev:0.44422\n"
     ]
    },
    {
     "name": "stderr",
     "output_type": "stream",
     "text": [
      " 46%|████▌     | 500/1091 [22:18<1:25:34,  8.69s/it]"
     ]
    },
    {
     "name": "stdout",
     "output_type": "stream",
     "text": [
      "Fold# 3, Epoch: 1/1, L_train: 0.50807, L_test: 0.68830, L_train_dev:0.47134\n"
     ]
    },
    {
     "name": "stderr",
     "output_type": "stream",
     "text": [
      " 48%|████▊     | 520/1091 [23:13<1:21:22,  8.55s/it]"
     ]
    },
    {
     "name": "stdout",
     "output_type": "stream",
     "text": [
      "Fold# 3, Epoch: 1/1, L_train: 0.48535, L_test: 0.73401, L_train_dev:0.42506\n"
     ]
    },
    {
     "name": "stderr",
     "output_type": "stream",
     "text": [
      " 49%|████▉     | 540/1091 [24:07<1:17:44,  8.47s/it]"
     ]
    },
    {
     "name": "stdout",
     "output_type": "stream",
     "text": [
      "Fold# 3, Epoch: 1/1, L_train: 0.36232, L_test: 0.66831, L_train_dev:0.42537\n"
     ]
    },
    {
     "name": "stderr",
     "output_type": "stream",
     "text": [
      " 51%|█████▏    | 560/1091 [25:12<1:43:25, 11.69s/it]"
     ]
    },
    {
     "name": "stdout",
     "output_type": "stream",
     "text": [
      "Fold# 3, Epoch: 1/1, L_train: 0.37700, L_test: 0.66107, L_train_dev:0.42759\n"
     ]
    },
    {
     "name": "stderr",
     "output_type": "stream",
     "text": [
      " 53%|█████▎    | 580/1091 [26:17<1:38:32, 11.57s/it]"
     ]
    },
    {
     "name": "stdout",
     "output_type": "stream",
     "text": [
      "Fold# 3, Epoch: 1/1, L_train: 0.41327, L_test: 0.57551, L_train_dev:0.44489\n"
     ]
    },
    {
     "name": "stderr",
     "output_type": "stream",
     "text": [
      " 55%|█████▍    | 600/1091 [27:23<1:35:40, 11.69s/it]"
     ]
    },
    {
     "name": "stdout",
     "output_type": "stream",
     "text": [
      "Fold# 3, Epoch: 1/1, L_train: 0.38301, L_test: 0.78805, L_train_dev:0.40734\n"
     ]
    },
    {
     "name": "stderr",
     "output_type": "stream",
     "text": [
      " 57%|█████▋    | 620/1091 [28:19<1:07:06,  8.55s/it]"
     ]
    },
    {
     "name": "stdout",
     "output_type": "stream",
     "text": [
      "Fold# 3, Epoch: 1/1, L_train: 0.42272, L_test: 0.84834, L_train_dev:0.41615\n"
     ]
    },
    {
     "name": "stderr",
     "output_type": "stream",
     "text": [
      " 59%|█████▊    | 640/1091 [29:13<1:04:02,  8.52s/it]"
     ]
    },
    {
     "name": "stdout",
     "output_type": "stream",
     "text": [
      "Fold# 3, Epoch: 1/1, L_train: 0.40803, L_test: 0.75856, L_train_dev:0.40674\n"
     ]
    },
    {
     "name": "stderr",
     "output_type": "stream",
     "text": [
      " 60%|██████    | 660/1091 [30:07<1:00:31,  8.42s/it]"
     ]
    },
    {
     "name": "stdout",
     "output_type": "stream",
     "text": [
      "Fold# 3, Epoch: 1/1, L_train: 0.58722, L_test: 0.74438, L_train_dev:0.38985\n"
     ]
    },
    {
     "name": "stderr",
     "output_type": "stream",
     "text": [
      " 62%|██████▏   | 680/1091 [31:00<56:56,  8.31s/it]  "
     ]
    },
    {
     "name": "stdout",
     "output_type": "stream",
     "text": [
      "Fold# 3, Epoch: 1/1, L_train: 0.46870, L_test: 0.63198, L_train_dev:0.40818\n"
     ]
    },
    {
     "name": "stderr",
     "output_type": "stream",
     "text": [
      " 64%|██████▍   | 700/1091 [31:52<52:37,  8.08s/it]"
     ]
    },
    {
     "name": "stdout",
     "output_type": "stream",
     "text": [
      "Fold# 3, Epoch: 1/1, L_train: 0.44808, L_test: 0.57095, L_train_dev:0.43046\n"
     ]
    },
    {
     "name": "stderr",
     "output_type": "stream",
     "text": [
      " 66%|██████▌   | 720/1091 [32:45<50:52,  8.23s/it]"
     ]
    },
    {
     "name": "stdout",
     "output_type": "stream",
     "text": [
      "Fold# 3, Epoch: 1/1, L_train: 0.44733, L_test: 0.58966, L_train_dev:0.42129\n"
     ]
    },
    {
     "name": "stderr",
     "output_type": "stream",
     "text": [
      " 68%|██████▊   | 740/1091 [33:38<48:02,  8.21s/it]"
     ]
    },
    {
     "name": "stdout",
     "output_type": "stream",
     "text": [
      "Fold# 3, Epoch: 1/1, L_train: 0.39950, L_test: 0.80307, L_train_dev:0.39906\n"
     ]
    },
    {
     "name": "stderr",
     "output_type": "stream",
     "text": [
      " 70%|██████▉   | 760/1091 [34:29<45:00,  8.16s/it]"
     ]
    },
    {
     "name": "stdout",
     "output_type": "stream",
     "text": [
      "Fold# 3, Epoch: 1/1, L_train: 0.40663, L_test: 0.72175, L_train_dev:0.40455\n"
     ]
    },
    {
     "name": "stderr",
     "output_type": "stream",
     "text": [
      " 71%|███████▏  | 780/1091 [35:19<42:02,  8.11s/it]"
     ]
    },
    {
     "name": "stdout",
     "output_type": "stream",
     "text": [
      "Fold# 3, Epoch: 1/1, L_train: 0.48171, L_test: 0.61881, L_train_dev:0.41664\n"
     ]
    },
    {
     "name": "stderr",
     "output_type": "stream",
     "text": [
      " 73%|███████▎  | 800/1091 [36:11<41:05,  8.47s/it]"
     ]
    },
    {
     "name": "stdout",
     "output_type": "stream",
     "text": [
      "Best saved, loss: 0.50010\n",
      "Fold# 3, Epoch: 1/1, L_train: 0.35883, L_test: 0.50010, L_train_dev:0.50835\n"
     ]
    },
    {
     "name": "stderr",
     "output_type": "stream",
     "text": [
      " 75%|███████▌  | 820/1091 [37:01<36:38,  8.11s/it]"
     ]
    },
    {
     "name": "stdout",
     "output_type": "stream",
     "text": [
      "Fold# 3, Epoch: 1/1, L_train: 0.38549, L_test: 0.60782, L_train_dev:0.40053\n"
     ]
    },
    {
     "name": "stderr",
     "output_type": "stream",
     "text": [
      " 77%|███████▋  | 840/1091 [37:51<33:56,  8.11s/it]"
     ]
    },
    {
     "name": "stdout",
     "output_type": "stream",
     "text": [
      "Fold# 3, Epoch: 1/1, L_train: 0.41877, L_test: 0.58763, L_train_dev:0.43578\n"
     ]
    },
    {
     "name": "stderr",
     "output_type": "stream",
     "text": [
      " 79%|███████▉  | 860/1091 [38:42<31:33,  8.20s/it]"
     ]
    },
    {
     "name": "stdout",
     "output_type": "stream",
     "text": [
      "Fold# 3, Epoch: 1/1, L_train: 0.44883, L_test: 0.52380, L_train_dev:0.51437\n"
     ]
    },
    {
     "name": "stderr",
     "output_type": "stream",
     "text": [
      " 81%|████████  | 880/1091 [40:08<1:04:36, 18.37s/it]"
     ]
    },
    {
     "name": "stdout",
     "output_type": "stream",
     "text": [
      "Fold# 3, Epoch: 1/1, L_train: 0.47977, L_test: 0.61596, L_train_dev:0.40621\n"
     ]
    },
    {
     "name": "stderr",
     "output_type": "stream",
     "text": [
      " 82%|████████▏ | 900/1091 [41:45<1:08:31, 21.53s/it]"
     ]
    },
    {
     "name": "stdout",
     "output_type": "stream",
     "text": [
      "Fold# 3, Epoch: 1/1, L_train: 0.43670, L_test: 0.65730, L_train_dev:0.40018\n"
     ]
    },
    {
     "name": "stderr",
     "output_type": "stream",
     "text": [
      " 84%|████████▍ | 920/1091 [43:27<1:07:37, 23.73s/it]"
     ]
    },
    {
     "name": "stdout",
     "output_type": "stream",
     "text": [
      "Fold# 3, Epoch: 1/1, L_train: 0.41937, L_test: 0.65947, L_train_dev:0.39915\n"
     ]
    },
    {
     "name": "stderr",
     "output_type": "stream",
     "text": [
      " 86%|████████▌ | 940/1091 [44:59<55:12, 21.94s/it]  "
     ]
    },
    {
     "name": "stdout",
     "output_type": "stream",
     "text": [
      "Fold# 3, Epoch: 1/1, L_train: 0.32593, L_test: 0.71585, L_train_dev:0.39601\n"
     ]
    },
    {
     "name": "stderr",
     "output_type": "stream",
     "text": [
      " 88%|████████▊ | 960/1091 [46:35<49:38, 22.74s/it]"
     ]
    },
    {
     "name": "stdout",
     "output_type": "stream",
     "text": [
      "Fold# 3, Epoch: 1/1, L_train: 0.45694, L_test: 0.66579, L_train_dev:0.41714\n"
     ]
    },
    {
     "name": "stderr",
     "output_type": "stream",
     "text": [
      " 90%|████████▉ | 980/1091 [48:11<41:39, 22.52s/it]"
     ]
    },
    {
     "name": "stdout",
     "output_type": "stream",
     "text": [
      "Fold# 3, Epoch: 1/1, L_train: 0.42804, L_test: 0.59569, L_train_dev:0.47025\n"
     ]
    },
    {
     "name": "stderr",
     "output_type": "stream",
     "text": [
      " 92%|█████████▏| 1000/1091 [49:49<35:20, 23.30s/it]"
     ]
    },
    {
     "name": "stdout",
     "output_type": "stream",
     "text": [
      "Fold# 3, Epoch: 1/1, L_train: 0.41183, L_test: 0.57571, L_train_dev:0.44586\n"
     ]
    },
    {
     "name": "stderr",
     "output_type": "stream",
     "text": [
      " 93%|█████████▎| 1020/1091 [51:28<27:09, 22.95s/it]"
     ]
    },
    {
     "name": "stdout",
     "output_type": "stream",
     "text": [
      "Fold# 3, Epoch: 1/1, L_train: 0.45421, L_test: 0.71542, L_train_dev:0.44346\n"
     ]
    },
    {
     "name": "stderr",
     "output_type": "stream",
     "text": [
      " 95%|█████████▌| 1040/1091 [53:06<19:32, 22.99s/it]"
     ]
    },
    {
     "name": "stdout",
     "output_type": "stream",
     "text": [
      "Fold# 3, Epoch: 1/1, L_train: 0.51384, L_test: 0.71530, L_train_dev:0.40561\n"
     ]
    },
    {
     "name": "stderr",
     "output_type": "stream",
     "text": [
      " 97%|█████████▋| 1060/1091 [54:44<11:48, 22.85s/it]"
     ]
    },
    {
     "name": "stdout",
     "output_type": "stream",
     "text": [
      "Fold# 3, Epoch: 1/1, L_train: 0.40543, L_test: 0.65732, L_train_dev:0.40878\n"
     ]
    },
    {
     "name": "stderr",
     "output_type": "stream",
     "text": [
      " 99%|█████████▉| 1080/1091 [56:22<04:12, 22.92s/it]"
     ]
    },
    {
     "name": "stdout",
     "output_type": "stream",
     "text": [
      "Fold# 3, Epoch: 1/1, L_train: 0.35015, L_test: 0.80163, L_train_dev:0.39532\n"
     ]
    },
    {
     "name": "stderr",
     "output_type": "stream",
     "text": [
      "100%|██████████| 1091/1091 [57:48<00:00,  3.18s/it]"
     ]
    },
    {
     "name": "stdout",
     "output_type": "stream",
     "text": [
      "Fold# 3, Epoch: 1/1, L_train: 0.36687, L_test: 0.60293, L_train_dev:0.42355\n"
     ]
    },
    {
     "name": "stderr",
     "output_type": "stream",
     "text": [
      "\n"
     ]
    },
    {
     "name": "stdout",
     "output_type": "stream",
     "text": [
      "Time elapsed:0:58:14.091791, Best score:0.50010, Fold_score:0.59876\n"
     ]
    },
    {
     "name": "stderr",
     "output_type": "stream",
     "text": [
      "C:\\Users\\shmak\\AppData\\Local\\Temp\\ipykernel_18696\\1487209178.py:43: UserWarning: FixedFormatter should only be used together with FixedLocator\n",
      "  ax.xaxis.set_major_formatter(ticker.FixedFormatter(range(n_epochs)))\n",
      "Some weights of RobertaModel were not initialized from the model checkpoint at roberta-large and are newly initialized: ['roberta.pooler.dense.bias', 'roberta.pooler.dense.weight']\n",
      "You should probably TRAIN this model on a down-stream task to be able to use it for predictions and inference.\n",
      "  2%|▏         | 20/930 [01:02<2:57:30, 11.70s/it]"
     ]
    },
    {
     "name": "stdout",
     "output_type": "stream",
     "text": [
      "Best saved, loss: 0.52945\n",
      "Fold# 4, Epoch: 1/1, L_train: 0.78009, L_test: 0.52945, L_train_dev:0.60375\n"
     ]
    },
    {
     "name": "stderr",
     "output_type": "stream",
     "text": [
      "  4%|▍         | 40/930 [02:07<2:55:38, 11.84s/it]"
     ]
    },
    {
     "name": "stdout",
     "output_type": "stream",
     "text": [
      "Fold# 4, Epoch: 1/1, L_train: 0.60939, L_test: 0.61170, L_train_dev:0.62586\n"
     ]
    },
    {
     "name": "stderr",
     "output_type": "stream",
     "text": [
      "  6%|▋         | 60/930 [03:12<2:55:56, 12.13s/it]"
     ]
    },
    {
     "name": "stdout",
     "output_type": "stream",
     "text": [
      "Best saved, loss: 0.52606\n",
      "Fold# 4, Epoch: 1/1, L_train: 0.62826, L_test: 0.52606, L_train_dev:0.49449\n"
     ]
    },
    {
     "name": "stderr",
     "output_type": "stream",
     "text": [
      "  9%|▊         | 80/930 [04:18<2:53:12, 12.23s/it]"
     ]
    },
    {
     "name": "stdout",
     "output_type": "stream",
     "text": [
      "Best saved, loss: 0.49677\n",
      "Fold# 4, Epoch: 1/1, L_train: 0.49505, L_test: 0.49677, L_train_dev:0.47227\n"
     ]
    },
    {
     "name": "stderr",
     "output_type": "stream",
     "text": [
      " 11%|█         | 100/930 [05:21<2:40:57, 11.64s/it]"
     ]
    },
    {
     "name": "stdout",
     "output_type": "stream",
     "text": [
      "Fold# 4, Epoch: 1/1, L_train: 0.45797, L_test: 0.49982, L_train_dev:0.45662\n"
     ]
    },
    {
     "name": "stderr",
     "output_type": "stream",
     "text": [
      " 13%|█▎        | 120/930 [06:31<3:03:38, 13.60s/it]"
     ]
    },
    {
     "name": "stdout",
     "output_type": "stream",
     "text": [
      "Best saved, loss: 0.47370\n",
      "Fold# 4, Epoch: 1/1, L_train: 0.50254, L_test: 0.47370, L_train_dev:0.47518\n"
     ]
    },
    {
     "name": "stderr",
     "output_type": "stream",
     "text": [
      " 15%|█▌        | 140/930 [07:36<2:49:19, 12.86s/it]"
     ]
    },
    {
     "name": "stdout",
     "output_type": "stream",
     "text": [
      "Fold# 4, Epoch: 1/1, L_train: 0.48874, L_test: 0.48186, L_train_dev:0.44160\n"
     ]
    },
    {
     "name": "stderr",
     "output_type": "stream",
     "text": [
      " 17%|█▋        | 160/930 [08:42<2:45:16, 12.88s/it]"
     ]
    },
    {
     "name": "stdout",
     "output_type": "stream",
     "text": [
      "Fold# 4, Epoch: 1/1, L_train: 0.46137, L_test: 0.52767, L_train_dev:0.42909\n"
     ]
    },
    {
     "name": "stderr",
     "output_type": "stream",
     "text": [
      " 19%|█▉        | 180/930 [09:50<2:48:12, 13.46s/it]"
     ]
    },
    {
     "name": "stdout",
     "output_type": "stream",
     "text": [
      "Fold# 4, Epoch: 1/1, L_train: 0.51141, L_test: 0.50241, L_train_dev:0.44435\n"
     ]
    },
    {
     "name": "stderr",
     "output_type": "stream",
     "text": [
      " 22%|██▏       | 200/930 [11:04<2:59:31, 14.76s/it]"
     ]
    },
    {
     "name": "stdout",
     "output_type": "stream",
     "text": [
      "Best saved, loss: 0.45830\n",
      "Fold# 4, Epoch: 1/1, L_train: 0.51942, L_test: 0.45830, L_train_dev:0.46469\n"
     ]
    },
    {
     "name": "stderr",
     "output_type": "stream",
     "text": [
      " 24%|██▎       | 220/930 [12:10<2:33:42, 12.99s/it]"
     ]
    },
    {
     "name": "stdout",
     "output_type": "stream",
     "text": [
      "Fold# 4, Epoch: 1/1, L_train: 0.47514, L_test: 0.49671, L_train_dev:0.51780\n"
     ]
    },
    {
     "name": "stderr",
     "output_type": "stream",
     "text": [
      " 26%|██▌       | 240/930 [13:14<2:26:24, 12.73s/it]"
     ]
    },
    {
     "name": "stdout",
     "output_type": "stream",
     "text": [
      "Fold# 4, Epoch: 1/1, L_train: 0.50561, L_test: 0.55891, L_train_dev:0.59655\n"
     ]
    },
    {
     "name": "stderr",
     "output_type": "stream",
     "text": [
      " 28%|██▊       | 260/930 [14:17<2:19:49, 12.52s/it]"
     ]
    },
    {
     "name": "stdout",
     "output_type": "stream",
     "text": [
      "Fold# 4, Epoch: 1/1, L_train: 0.46580, L_test: 0.50750, L_train_dev:0.49119\n"
     ]
    },
    {
     "name": "stderr",
     "output_type": "stream",
     "text": [
      " 30%|███       | 280/930 [15:20<2:18:54, 12.82s/it]"
     ]
    },
    {
     "name": "stdout",
     "output_type": "stream",
     "text": [
      "Fold# 4, Epoch: 1/1, L_train: 0.45497, L_test: 0.53623, L_train_dev:0.42648\n"
     ]
    },
    {
     "name": "stderr",
     "output_type": "stream",
     "text": [
      " 32%|███▏      | 300/930 [16:25<2:14:37, 12.82s/it]"
     ]
    },
    {
     "name": "stdout",
     "output_type": "stream",
     "text": [
      "Fold# 4, Epoch: 1/1, L_train: 0.53481, L_test: 0.51558, L_train_dev:0.45357\n"
     ]
    },
    {
     "name": "stderr",
     "output_type": "stream",
     "text": [
      " 34%|███▍      | 320/930 [17:29<2:09:56, 12.78s/it]"
     ]
    },
    {
     "name": "stdout",
     "output_type": "stream",
     "text": [
      "Fold# 4, Epoch: 1/1, L_train: 0.53239, L_test: 0.58481, L_train_dev:0.49174\n"
     ]
    },
    {
     "name": "stderr",
     "output_type": "stream",
     "text": [
      " 37%|███▋      | 340/930 [18:33<2:05:48, 12.79s/it]"
     ]
    },
    {
     "name": "stdout",
     "output_type": "stream",
     "text": [
      "Fold# 4, Epoch: 1/1, L_train: 0.50616, L_test: 0.47435, L_train_dev:0.42321\n"
     ]
    },
    {
     "name": "stderr",
     "output_type": "stream",
     "text": [
      " 39%|███▊      | 360/930 [19:38<2:05:44, 13.24s/it]"
     ]
    },
    {
     "name": "stdout",
     "output_type": "stream",
     "text": [
      "Best saved, loss: 0.45637\n",
      "Fold# 4, Epoch: 1/1, L_train: 0.44486, L_test: 0.45637, L_train_dev:0.45212\n"
     ]
    },
    {
     "name": "stderr",
     "output_type": "stream",
     "text": [
      " 41%|████      | 380/930 [20:43<1:57:43, 12.84s/it]"
     ]
    },
    {
     "name": "stdout",
     "output_type": "stream",
     "text": [
      "Fold# 4, Epoch: 1/1, L_train: 0.41764, L_test: 0.47088, L_train_dev:0.44269\n"
     ]
    },
    {
     "name": "stderr",
     "output_type": "stream",
     "text": [
      " 43%|████▎     | 400/930 [21:47<1:53:02, 12.80s/it]"
     ]
    },
    {
     "name": "stdout",
     "output_type": "stream",
     "text": [
      "Fold# 4, Epoch: 1/1, L_train: 0.55539, L_test: 0.48677, L_train_dev:0.42375\n"
     ]
    },
    {
     "name": "stderr",
     "output_type": "stream",
     "text": [
      " 45%|████▌     | 420/930 [22:51<1:49:05, 12.83s/it]"
     ]
    },
    {
     "name": "stdout",
     "output_type": "stream",
     "text": [
      "Fold# 4, Epoch: 1/1, L_train: 0.40626, L_test: 0.48399, L_train_dev:0.43237\n"
     ]
    },
    {
     "name": "stderr",
     "output_type": "stream",
     "text": [
      " 47%|████▋     | 440/930 [23:55<1:43:57, 12.73s/it]"
     ]
    },
    {
     "name": "stdout",
     "output_type": "stream",
     "text": [
      "Fold# 4, Epoch: 1/1, L_train: 0.46536, L_test: 0.55320, L_train_dev:0.41948\n"
     ]
    },
    {
     "name": "stderr",
     "output_type": "stream",
     "text": [
      " 49%|████▉     | 460/930 [24:59<1:38:59, 12.64s/it]"
     ]
    },
    {
     "name": "stdout",
     "output_type": "stream",
     "text": [
      "Fold# 4, Epoch: 1/1, L_train: 0.44320, L_test: 0.48083, L_train_dev:0.43234\n"
     ]
    },
    {
     "name": "stderr",
     "output_type": "stream",
     "text": [
      " 52%|█████▏    | 480/930 [26:01<1:34:51, 12.65s/it]"
     ]
    },
    {
     "name": "stdout",
     "output_type": "stream",
     "text": [
      "Fold# 4, Epoch: 1/1, L_train: 0.44479, L_test: 0.61342, L_train_dev:0.46549\n"
     ]
    },
    {
     "name": "stderr",
     "output_type": "stream",
     "text": [
      " 54%|█████▍    | 500/930 [27:03<1:30:41, 12.66s/it]"
     ]
    },
    {
     "name": "stdout",
     "output_type": "stream",
     "text": [
      "Fold# 4, Epoch: 1/1, L_train: 0.44546, L_test: 0.48492, L_train_dev:0.42726\n"
     ]
    },
    {
     "name": "stderr",
     "output_type": "stream",
     "text": [
      " 56%|█████▌    | 520/930 [28:06<1:27:23, 12.79s/it]"
     ]
    },
    {
     "name": "stdout",
     "output_type": "stream",
     "text": [
      "Fold# 4, Epoch: 1/1, L_train: 0.38802, L_test: 0.47794, L_train_dev:0.45098\n"
     ]
    },
    {
     "name": "stderr",
     "output_type": "stream",
     "text": [
      " 58%|█████▊    | 540/930 [29:09<1:22:11, 12.65s/it]"
     ]
    },
    {
     "name": "stdout",
     "output_type": "stream",
     "text": [
      "Fold# 4, Epoch: 1/1, L_train: 0.41292, L_test: 0.56152, L_train_dev:0.42613\n"
     ]
    },
    {
     "name": "stderr",
     "output_type": "stream",
     "text": [
      " 60%|██████    | 560/930 [30:10<1:17:12, 12.52s/it]"
     ]
    },
    {
     "name": "stdout",
     "output_type": "stream",
     "text": [
      "Fold# 4, Epoch: 1/1, L_train: 0.47366, L_test: 0.50540, L_train_dev:0.41637\n"
     ]
    },
    {
     "name": "stderr",
     "output_type": "stream",
     "text": [
      " 62%|██████▏   | 580/930 [31:12<1:12:12, 12.38s/it]"
     ]
    },
    {
     "name": "stdout",
     "output_type": "stream",
     "text": [
      "Fold# 4, Epoch: 1/1, L_train: 0.49572, L_test: 0.54401, L_train_dev:0.41091\n"
     ]
    },
    {
     "name": "stderr",
     "output_type": "stream",
     "text": [
      " 65%|██████▍   | 600/930 [32:14<1:09:55, 12.71s/it]"
     ]
    },
    {
     "name": "stdout",
     "output_type": "stream",
     "text": [
      "Fold# 4, Epoch: 1/1, L_train: 0.50236, L_test: 0.48429, L_train_dev:0.39794\n"
     ]
    },
    {
     "name": "stderr",
     "output_type": "stream",
     "text": [
      " 67%|██████▋   | 620/930 [33:16<1:05:04, 12.60s/it]"
     ]
    },
    {
     "name": "stdout",
     "output_type": "stream",
     "text": [
      "Fold# 4, Epoch: 1/1, L_train: 0.49918, L_test: 0.46684, L_train_dev:0.42074\n"
     ]
    },
    {
     "name": "stderr",
     "output_type": "stream",
     "text": [
      " 69%|██████▉   | 640/930 [34:17<59:58, 12.41s/it]  "
     ]
    },
    {
     "name": "stdout",
     "output_type": "stream",
     "text": [
      "Fold# 4, Epoch: 1/1, L_train: 0.41233, L_test: 0.54771, L_train_dev:0.39973\n"
     ]
    },
    {
     "name": "stderr",
     "output_type": "stream",
     "text": [
      " 71%|███████   | 660/930 [35:19<56:26, 12.54s/it]"
     ]
    },
    {
     "name": "stdout",
     "output_type": "stream",
     "text": [
      "Fold# 4, Epoch: 1/1, L_train: 0.48826, L_test: 0.49787, L_train_dev:0.42691\n"
     ]
    },
    {
     "name": "stderr",
     "output_type": "stream",
     "text": [
      " 73%|███████▎  | 680/930 [37:05<1:46:18, 25.51s/it]"
     ]
    },
    {
     "name": "stdout",
     "output_type": "stream",
     "text": [
      "Fold# 4, Epoch: 1/1, L_train: 0.44468, L_test: 0.58197, L_train_dev:0.40110\n"
     ]
    },
    {
     "name": "stderr",
     "output_type": "stream",
     "text": [
      " 75%|███████▌  | 700/930 [38:47<1:36:53, 25.27s/it]"
     ]
    },
    {
     "name": "stdout",
     "output_type": "stream",
     "text": [
      "Fold# 4, Epoch: 1/1, L_train: 0.45003, L_test: 0.51852, L_train_dev:0.39796\n"
     ]
    },
    {
     "name": "stderr",
     "output_type": "stream",
     "text": [
      " 77%|███████▋  | 720/930 [40:29<1:28:40, 25.34s/it]"
     ]
    },
    {
     "name": "stdout",
     "output_type": "stream",
     "text": [
      "Fold# 4, Epoch: 1/1, L_train: 0.43773, L_test: 0.61355, L_train_dev:0.42898\n"
     ]
    },
    {
     "name": "stderr",
     "output_type": "stream",
     "text": [
      " 80%|███████▉  | 740/930 [42:12<1:21:07, 25.62s/it]"
     ]
    },
    {
     "name": "stdout",
     "output_type": "stream",
     "text": [
      "Fold# 4, Epoch: 1/1, L_train: 0.45714, L_test: 0.67885, L_train_dev:0.45155\n"
     ]
    },
    {
     "name": "stderr",
     "output_type": "stream",
     "text": [
      " 82%|████████▏ | 760/930 [43:55<1:12:45, 25.68s/it]"
     ]
    },
    {
     "name": "stdout",
     "output_type": "stream",
     "text": [
      "Fold# 4, Epoch: 1/1, L_train: 0.39610, L_test: 0.55836, L_train_dev:0.40027\n"
     ]
    },
    {
     "name": "stderr",
     "output_type": "stream",
     "text": [
      " 84%|████████▍ | 780/930 [45:38<1:04:07, 25.65s/it]"
     ]
    },
    {
     "name": "stdout",
     "output_type": "stream",
     "text": [
      "Fold# 4, Epoch: 1/1, L_train: 0.38822, L_test: 0.50625, L_train_dev:0.40426\n"
     ]
    },
    {
     "name": "stderr",
     "output_type": "stream",
     "text": [
      " 86%|████████▌ | 800/930 [47:21<55:31, 25.62s/it]  "
     ]
    },
    {
     "name": "stdout",
     "output_type": "stream",
     "text": [
      "Fold# 4, Epoch: 1/1, L_train: 0.39911, L_test: 0.52506, L_train_dev:0.39130\n"
     ]
    },
    {
     "name": "stderr",
     "output_type": "stream",
     "text": [
      " 88%|████████▊ | 820/930 [49:04<46:54, 25.59s/it]"
     ]
    },
    {
     "name": "stdout",
     "output_type": "stream",
     "text": [
      "Fold# 4, Epoch: 1/1, L_train: 0.42554, L_test: 0.50239, L_train_dev:0.42517\n"
     ]
    },
    {
     "name": "stderr",
     "output_type": "stream",
     "text": [
      " 90%|█████████ | 840/930 [50:47<38:49, 25.89s/it]"
     ]
    },
    {
     "name": "stdout",
     "output_type": "stream",
     "text": [
      "Fold# 4, Epoch: 1/1, L_train: 0.46166, L_test: 0.57863, L_train_dev:0.40885\n"
     ]
    },
    {
     "name": "stderr",
     "output_type": "stream",
     "text": [
      " 92%|█████████▏| 860/930 [52:30<29:51, 25.59s/it]"
     ]
    },
    {
     "name": "stdout",
     "output_type": "stream",
     "text": [
      "Fold# 4, Epoch: 1/1, L_train: 0.40049, L_test: 0.54531, L_train_dev:0.39208\n"
     ]
    },
    {
     "name": "stderr",
     "output_type": "stream",
     "text": [
      " 95%|█████████▍| 880/930 [54:14<21:28, 25.77s/it]"
     ]
    },
    {
     "name": "stdout",
     "output_type": "stream",
     "text": [
      "Fold# 4, Epoch: 1/1, L_train: 0.38916, L_test: 0.69594, L_train_dev:0.49879\n"
     ]
    },
    {
     "name": "stderr",
     "output_type": "stream",
     "text": [
      " 97%|█████████▋| 900/930 [55:58<13:04, 26.14s/it]"
     ]
    },
    {
     "name": "stdout",
     "output_type": "stream",
     "text": [
      "Best saved, loss: 0.45335\n",
      "Fold# 4, Epoch: 1/1, L_train: 0.53304, L_test: 0.45335, L_train_dev:0.45585\n"
     ]
    },
    {
     "name": "stderr",
     "output_type": "stream",
     "text": [
      " 99%|█████████▉| 920/930 [57:41<04:15, 25.51s/it]"
     ]
    },
    {
     "name": "stdout",
     "output_type": "stream",
     "text": [
      "Fold# 4, Epoch: 1/1, L_train: 0.42722, L_test: 0.48029, L_train_dev:0.39070\n"
     ]
    },
    {
     "name": "stderr",
     "output_type": "stream",
     "text": [
      "100%|██████████| 930/930 [59:13<00:00,  3.82s/it]"
     ]
    },
    {
     "name": "stdout",
     "output_type": "stream",
     "text": [
      "Fold# 4, Epoch: 1/1, L_train: 0.41947, L_test: 0.48654, L_train_dev:0.41611\n"
     ]
    },
    {
     "name": "stderr",
     "output_type": "stream",
     "text": [
      "\n"
     ]
    },
    {
     "name": "stdout",
     "output_type": "stream",
     "text": [
      "Time elapsed:0:59:50.649702, Best score:0.45335, Fold_score:0.48934\n"
     ]
    },
    {
     "name": "stderr",
     "output_type": "stream",
     "text": [
      "C:\\Users\\shmak\\AppData\\Local\\Temp\\ipykernel_18696\\1487209178.py:43: UserWarning: FixedFormatter should only be used together with FixedLocator\n",
      "  ax.xaxis.set_major_formatter(ticker.FixedFormatter(range(n_epochs)))\n"
     ]
    },
    {
     "data": {
      "text/plain": "<Figure size 1200x400 with 0 Axes>"
     },
     "metadata": {},
     "output_type": "display_data"
    },
    {
     "data": {
      "text/plain": "<Figure size 1200x400 with 4 Axes>",
      "image/png": "[encoded data removed]"
     },
     "metadata": {},
     "output_type": "display_data"
    }
   ],
   "source": [
    "# def cross_validation():\n",
    "with open(prompts_train_path, encoding='utf-8') as f:\n",
    "    prompts = pd.read_csv(f)\n",
    "#     prompts = prompts[prompts.prompt_id != '3b9047'].reset_index(drop=True)\n",
    "    \n",
    "plt.figure(figsize=(12,4))\n",
    "\n",
    "folds_list = list(prompts.prompt_id)\n",
    "score_type = 'content'\n",
    "batch_size = 5\n",
    "lr = 1e-05\n",
    "lr_head = 1e-04\n",
    "weight_decay = 1e-02\n",
    "n_epochs = 1\n",
    "\n",
    "scores_best = []\n",
    "scores_fold = []\n",
    "\n",
    "fig, axs = plt.subplots(1, len(folds_list), figsize=(12,4), layout='tight')\n",
    "\n",
    "for i, fold in enumerate(folds_list, 1):\n",
    "    train_loader, test_loader, train_dev_loader = loaders_init(score_type, batch_size, fold)\n",
    "\n",
    "    fold_score, best_score, n_iter, test_losses, train_losses, train_dev_losses = train_model(n_epochs,\n",
    "                                                                                              lr, weight_decay,\n",
    "                                                                                              i, lr_head)\n",
    "    scores_fold.append((fold_score))\n",
    "    scores_best.append(best_score)\n",
    "\n",
    "    axs[i-1] = axis_set(axs[i-1])\n",
    "\n",
    "mean_best_score = np.mean(scores_best)\n",
    "mean_fold_score = np.mean(scores_fold)\n",
    "\n",
    "fig.suptitle(f'CV_best={mean_best_score:.5f}, CV_fold={mean_fold_score:.5f}, lr={lr}')\n",
    "fig.savefig('res_figure.png', dpi=200)"
   ]
  },
  {
   "cell_type": "code",
   "execution_count": 32,
   "outputs": [],
   "source": [
    "# fig.set_figwidth()"
   ],
   "metadata": {
    "collapsed": false
   }
  },
  {
   "cell_type": "code",
   "execution_count": 33,
   "outputs": [],
   "source": [
    "# fig.savefig('res_figure.png', dpi=200)"
   ],
   "metadata": {
    "collapsed": false
   }
  },
  {
   "cell_type": "code",
   "execution_count": 34,
   "outputs": [],
   "source": [
    "# fig"
   ],
   "metadata": {
    "collapsed": false
   }
  }
 ],
 "metadata": {
  "kernelspec": {
   "display_name": "Python (tf)",
   "language": "python",
   "name": "tf"
  },
  "language_info": {
   "codemirror_mode": {
    "name": "ipython",
    "version": 3
   },
   "file_extension": ".py",
   "mimetype": "text/x-python",
   "name": "python",
   "nbconvert_exporter": "python",
   "pygments_lexer": "ipython3",
   "version": "3.9.16"
  }
 },
 "nbformat": 4,
 "nbformat_minor": 5
}
