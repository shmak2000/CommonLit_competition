{
 "cells": [
  {
   "cell_type": "markdown",
   "id": "84d86717",
   "metadata": {},
   "source": [
    "1. Токинизировать каждый документ - разделить на слова\n",
    "2. Каждому слову присвоить индекс, оставив 0 и 1 для паддинга и неизвестных слов\n",
    "3. Конвертировать документы в цифровой формат\n",
    "4. Цифровой формат готов к подаче в NN"
   ]
  },
  {
   "cell_type": "code",
   "execution_count": 2,
   "outputs": [
    {
     "name": "stderr",
     "output_type": "stream",
     "text": [
      "Cloning into 'deberta-large'...\n",
      "Filtering content:  66% (2/3), 1.51 GiB | 5.46 MiB/s\n",
      "Filtering content:  66% (2/3), 3.02 GiB | 10.79 MiB/s\n",
      "Filtering content: 100% (3/3), 3.02 GiB | 10.79 MiB/s\n",
      "Filtering content: 100% (3/3), 3.02 GiB | 10.69 MiB/s, done.\n"
     ]
    }
   ],
   "source": [
    "!git clone https://huggingface.co/microsoft/deberta-large"
   ],
   "metadata": {
    "collapsed": false
   }
  },
  {
   "cell_type": "code",
   "execution_count": 1,
   "id": "3cb8604b",
   "metadata": {},
   "outputs": [],
   "source": [
    "import math\n",
    "from tqdm import tqdm\n",
    "from datetime import datetime\n",
    "import pandas as pd\n",
    "import numpy as np\n",
    "import os\n",
    "import gensim\n",
    "import torch\n",
    "import sentence_transformers\n",
    "import matplotlib.pyplot as plt\n",
    "%matplotlib inline\n",
    "import torch.nn as nn\n",
    "\n",
    "from transformers import BertTokenizer, BertModel, pipeline, BartModel\n",
    "from transformers import RobertaTokenizer, RobertaModel, AutoConfig, RobertaConfig\n",
    "from transformers import AutoTokenizer, AutoModel\n",
    "\n",
    "from sentence_transformers.util import cos_sim\n",
    "from sentence_transformers import SentenceTransformer, models\n",
    "from torch.utils.data import DataLoader, Dataset, random_split\n",
    "from sklearn.metrics.pairwise import cosine_similarity\n",
    "import torch.nn.functional as F\n",
    "\n",
    "from collections import OrderedDict\n",
    "\n",
    "import textstat"
   ]
  },
  {
   "cell_type": "code",
   "execution_count": 2,
   "id": "df4b81c9",
   "metadata": {},
   "outputs": [
    {
     "name": "stdout",
     "output_type": "stream",
     "text": [
      "cuda:0\n"
     ]
    }
   ],
   "source": [
    "device = 'cuda:0' if torch.cuda.is_available() else 'cpu'\n",
    "print(device)"
   ]
  },
  {
   "cell_type": "code",
   "execution_count": 3,
   "id": "53665768",
   "metadata": {},
   "outputs": [],
   "source": [
    "def load_model(model_name, dropout=True):\n",
    "    \n",
    "    if not dropout:\n",
    "        configuration = load_config(model_name)\n",
    "    \n",
    "    if model_name == 'roberta-base':\n",
    "        tokenizer = RobertaTokenizer.from_pretrained('roberta-base')\n",
    "        embeddings_model = RobertaModel.from_pretrained('roberta-base', config=configuration)\n",
    "    \n",
    "    elif model_name == 'bert-base-uncased':\n",
    "        tokenizer = BertTokenizer.from_pretrained('bert-base-uncased')\n",
    "        embeddings_model = BertModel.from_pretrained('bert-base-uncased', config=configuration)\n",
    "        \n",
    "    elif model_name == 'roberta-large':\n",
    "        tokenizer = RobertaTokenizer.from_pretrained('roberta-large')\n",
    "        embeddings_model = RobertaModel.from_pretrained('roberta-large', config=configuration)\n",
    "        \n",
    "    elif model_name == 'all-mpnet-base-v2':\n",
    "        tokenizer = AutoTokenizer.from_pretrained('all-mpnet-base-v2')\n",
    "        embeddings_model = AutoModel.from_pretrained('all-mpnet-base-v2')\n",
    "        \n",
    "    else:\n",
    "        raise 'Model name not recognized'\n",
    "    \n",
    "#     summarizer = pipeline(\"summarization\", model=\"bart-large-cnn\")\n",
    "    \n",
    "    print(f'Model {model_name} is set')\n",
    "    \n",
    "    return tokenizer, embeddings_model   \n",
    "    \n",
    "def load_config(model_name):\n",
    "    \n",
    "    configuration = AutoConfig.from_pretrained(model_name)\n",
    "\n",
    "    configuration.hidden_dropout_prob = 0.0\n",
    "    configuration.attention_probs_dropout_prob = 0.0\n",
    "    configuration.classifier_dropout = 0.0\n",
    "    \n",
    "    print('Dropout layers set to zero')\n",
    "    \n",
    "    return configuration"
   ]
  },
  {
   "cell_type": "code",
   "execution_count": 4,
   "id": "20568167",
   "metadata": {},
   "outputs": [
    {
     "name": "stdout",
     "output_type": "stream",
     "text": [
      "Dropout layers set to zero\n"
     ]
    },
    {
     "name": "stderr",
     "output_type": "stream",
     "text": [
      "Some weights of RobertaModel were not initialized from the model checkpoint at roberta-base and are newly initialized: ['roberta.pooler.dense.weight', 'roberta.pooler.dense.bias']\n",
      "You should probably TRAIN this model on a down-stream task to be able to use it for predictions and inference.\n"
     ]
    },
    {
     "name": "stdout",
     "output_type": "stream",
     "text": [
      "Model roberta-base is set\n"
     ]
    }
   ],
   "source": [
    "model_name = 'roberta-base'\n",
    "\n",
    "# tokenizer, embeddings_model = load_model('bert-base-uncased', dropout=False)\n",
    "\n",
    "# tokenizer, embeddings_model = load_model('all-mpnet-base-v2', dropout=True)\n",
    "\n",
    "tokenizer, embeddings_model = load_model(model_name, dropout=False)"
   ]
  },
  {
   "cell_type": "markdown",
   "id": "857b5588",
   "metadata": {},
   "source": [
    "# Objects and functions"
   ]
  },
  {
   "cell_type": "code",
   "execution_count": 5,
   "id": "13d4bea0",
   "metadata": {},
   "outputs": [],
   "source": [
    "summaries_train_path = r\"dataset\\summaries_train.csv\"\n",
    "summaries_test_path = r\"dataset\\summaries_test.csv\"\n",
    "prompts_train_path = r\"dataset\\prompts_train.csv\"\n",
    "prompts_test_path = r\"dataset\\prompts_test.csv\""
   ]
  },
  {
   "cell_type": "code",
   "execution_count": 6,
   "id": "82ffb941",
   "metadata": {},
   "outputs": [],
   "source": [
    "def norm_score(df: pd.DataFrame) -> pd.DataFrame:\n",
    "    \"\"\"Normilizing score to values 0 to 1\"\"\"\n",
    "    df -= np.min(df)\n",
    "    df /= df.max()\n",
    "    print('Normilized' if df.min() == 0.0 and df.max() == 1.0 else 'NormError:wrong values')\n",
    "    \n",
    "    return df\n",
    "\n",
    "def short_text(text, max_length=400) -> str:\n",
    "    if len(text.split()) > 700:\n",
    "        middle_point = text[len(text)//2:].index('.') + len(text)//2 + 1\n",
    "        text_pt1 = text[:middle_point]\n",
    "        text_pt2 = text[middle_point:]\n",
    "        \n",
    "        text = short_text(text_pt1) + short_text(text_pt2)\n",
    "        \n",
    "    summarized = summarizer(text, max_length=max_length, min_length=200, do_sample=False)\n",
    "    \n",
    "    return summarized[0]['summary_text']\n",
    "\n",
    "def moving_average(array: np.array, betta=0.9) -> np.array:\n",
    "    \"\"\"\n",
    "    Computing moving average with bias correction.\n",
    "    \"\"\"\n",
    "    \n",
    "    V = 0\n",
    "    average_array = np.zeros(len(array))\n",
    "    for i in range(len(array)):\n",
    "        V = betta * V + (1 - betta) * array[i]\n",
    "        average_array[i] = V/(1 - pow(betta, i+1))\n",
    "        \n",
    "    return average_array\n",
    "\n",
    "\n",
    "\n",
    "def mean_pooling(outputs, batch) -> torch.tensor:\n",
    "    \n",
    "    attention_mask = batch['attention_mask']\n",
    "    embeddings = outputs.last_hidden_state\n",
    "    \n",
    "    mask = attention_mask.unsqueeze(-1).expand(embeddings.size()).float()\n",
    "    masked_embeddings = embeddings * mask\n",
    "    \n",
    "    summed = torch.sum(masked_embeddings, 1)\n",
    "    summed_mask = torch.clamp(mask.sum(dim=1), min=1e-9)\n",
    "    \n",
    "    mean_pooled = summed/summed_mask\n",
    "    \n",
    "    return mean_pooled\n",
    "\n",
    "def normilize(df_column: pd.DataFrame):\n",
    "    \n",
    "    df_column = (df_column - df_column.mean())/df_column.std()\n",
    "    \n",
    "    return df_column\n",
    "\n",
    "def get_stat_features(df, text_col=\"text\"):\n",
    "    \n",
    "    df[\"num_unique_words\"] = normilize(df[text_col].apply(lambda x: len(set(x.split()))))\n",
    "    df[\"num_words\"] = normilize(df[text_col].apply(lambda x: len(x.split())))\n",
    "    df[\"num_sentences\"] = normilize(df[text_col].apply(lambda x: len(x.split('.'))))\n",
    "    \n",
    "    df[\"syntax_count\"] = normilize(df[text_col].apply(lambda x: x.count(\",\") \n",
    "                                                      + x.count(\"-\") + x.count(\";\") + x.count(\":\")))\n",
    "    df['smog_index'] = normilize(df[text_col].apply(lambda x: textstat.smog_index(x)))\n",
    "    \n",
    "    \n",
    "    return df"
   ]
  },
  {
   "cell_type": "code",
   "execution_count": 7,
   "id": "e8e88d06",
   "metadata": {},
   "outputs": [],
   "source": [
    "# All data\n",
    "\n",
    "class SentenseData(Dataset):\n",
    "    \"\"\"\n",
    "    :params: path to csv file with summaries, path to csv file with prompts, 'score' param\\\n",
    "    defines which score is used: content/wording\n",
    "    \"\"\"\n",
    "    def __init__(self, summaries_path=summaries_train_path,\n",
    "                 prompts_path=prompts_train_path,\n",
    "                 score='content'):\n",
    "        \n",
    "        with open(summaries_path, encoding='utf-8') as f:\n",
    "            summaries = pd.read_csv(f)\n",
    "            summaries = get_stat_features(summaries)\n",
    "            \n",
    "            self.summaries = summaries\n",
    "            \n",
    "        with open(prompts_path, encoding='utf-8') as f:\n",
    "            self.prompts = pd.read_csv(f)\n",
    "        \n",
    "        self.score_type = score\n",
    "        \n",
    "    def __len__(self):\n",
    "        return len(self.__summaries)\n",
    "    \n",
    "    @property\n",
    "    def summaries(self):\n",
    "        return self.__summaries\n",
    "    \n",
    "    @summaries.setter\n",
    "    def summaries(self, df):\n",
    "        self.__summaries = df\n",
    "\n",
    "    @property\n",
    "    def prompts(self):\n",
    "        return self.__prompts\n",
    "    \n",
    "    @prompts.setter\n",
    "    def prompts(self, file):\n",
    "        self.__prompts = file\n",
    "    \n",
    "    def get_batch_text(self, index):\n",
    "        summary_text = self.summaries.text[index]\n",
    "\n",
    "        res = tokenizer(summary_text, padding='max_length', return_tensors='pt', truncation=True)\n",
    "        res = {k:val.squeeze() for k, val in res.items()}\n",
    "        res['features'] = torch.tensor([self.summaries['num_unique_words'][index], self.summaries['num_words'][index],\n",
    "                                  self.summaries['num_sentences'][index],self.summaries['syntax_count'][index],\n",
    "                                  self.summaries['smog_index'][index]], dtype=torch.float32)\n",
    "            \n",
    "        return res\n",
    "        \n",
    "    def get_score(self, index):\n",
    "        if self.score_type == 'content':\n",
    "            score = self.summaries.content[index]\n",
    "            \n",
    "        elif self.score_type == 'wording':\n",
    "            score = self.summaries.wording[index]\n",
    "        \n",
    "        return torch.tensor(score)\n",
    "        \n",
    "    def __getitem__(self, index) -> torch.tensor:\n",
    "\n",
    "        batch_text = self.get_batch_text(index)\n",
    "        batch_score = self.get_score(index)\n",
    "        \n",
    "        return batch_text, batch_score"
   ]
  },
  {
   "cell_type": "code",
   "execution_count": 7,
   "id": "a6a6970d",
   "metadata": {},
   "outputs": [],
   "source": [
    "# class SentenseData(Dataset):\n",
    "#     \"\"\"\n",
    "#     :params: path to csv file with summaries, path to csv file with prompts, 'score' param\\\n",
    "#     defines which score is used: content/wording\n",
    "#     \"\"\"\n",
    "#     def __init__(self, summaries_path=summaries_train_path,\n",
    "#                  prompts_path=prompts_train_path,\n",
    "#                  score='content', test=False):\n",
    "#         self.test = test\n",
    "        \n",
    "#         with open(summaries_path, encoding='utf-8') as f:\n",
    "#             self.summaries = pd.read_csv(f)\n",
    "            \n",
    "#         with open(prompts_path, encoding='utf-8') as f:\n",
    "#             self.prompts = pd.read_csv(f)\n",
    "        \n",
    "# #         self.summaries.content = norm_score(self.summaries.content)\n",
    "# #         self.summaries.wording = norm_score(self.summaries.wording)\n",
    "        \n",
    "#         self.score_type = score\n",
    "        \n",
    "#     def __len__(self):\n",
    "#         return len(self.__summaries)\n",
    "    \n",
    "#     @property\n",
    "#     def summaries(self):\n",
    "#         return self.__summaries\n",
    "    \n",
    "#     @summaries.setter\n",
    "#     def summaries(self, df):\n",
    "#         if self.test:\n",
    "#             self.__summaries = df[df.prompt_id == '39c16e'].reset_index(drop=True)\n",
    "            \n",
    "#         else:\n",
    "#             self.__summaries = df[df.prompt_id != '39c16e'].reset_index(drop=True)\n",
    "    \n",
    "#     @property\n",
    "#     def prompts(self):\n",
    "#         return self.__prompts\n",
    "    \n",
    "#     @prompts.setter\n",
    "#     def prompts(self, file):\n",
    "#         self.__prompts = file\n",
    "# #         for i, text in enumerate(self.__prompts.prompt_text):\n",
    "# #             if len(text.split()) > 600:\n",
    "# #                 self.__prompts.prompt_text[i] = short_text(text)\n",
    "    \n",
    "#     def get_batch_text(self, index):\n",
    "#         summary_text = self.summaries.text[index]\n",
    "        \n",
    "#         if True:#self.score_type == 'wording':\n",
    "#             res = tokenizer(summary_text, padding='max_length', return_tensors='pt', truncation=True)\n",
    "#             return {k:val.squeeze() for k, val in res.items()}\n",
    "        \n",
    "#         prompt_text = self.prompts.prompt_text[self.prompts.prompt_id ==\n",
    "#                                                self.summaries.prompt_id[index]].item().replace('\\n','')\n",
    "        \n",
    "#         return tokenizer([summary_text, prompt_text], padding='max_length', return_tensors='pt', truncation=True)\n",
    "    \n",
    "#     def get_score(self, index):\n",
    "#         if self.score_type == 'content':\n",
    "#             score = self.summaries.content[index]\n",
    "            \n",
    "#         elif self.score_type == 'wording':\n",
    "#             score = self.summaries.wording[index]\n",
    "        \n",
    "#         return torch.tensor(score)\n",
    "        \n",
    "#     def __getitem__(self, index) -> torch.tensor:\n",
    "\n",
    "#         batch_text = self.get_batch_text(index)\n",
    "#         batch_score = self.get_score(index)\n",
    "        \n",
    "#         return batch_text, batch_score"
   ]
  },
  {
   "cell_type": "code",
   "execution_count": 8,
   "id": "ac301561",
   "metadata": {},
   "outputs": [],
   "source": [
    "# class CosineSimilarityLoss(nn.Module):\n",
    "#     def __init__(self):\n",
    "#         super(CosineSimilarityLoss, self).__init__()\n",
    "#         self.loss_func = nn.MSELoss()\n",
    "#         self.identity = nn.Identity()\n",
    "#         self.cos_sim = nn.CosineSimilarity(dim=1)\n",
    "        \n",
    "#     def forward(self, x, y):\n",
    "#         embedding_1 = torch.stack([sentence[0] for sentence in x])\n",
    "#         embedding_2 = torch.stack([sentence[1] for sentence in x])\n",
    "        \n",
    "#         cos_score = self.cos_sim(embedding_1, embedding_2)\n",
    "#         cos_score = self.identity(cos_score)\n",
    "        \n",
    "#         loss = self.loss_func(x, y)\n",
    "        \n",
    "#         return loss"
   ]
  },
  {
   "cell_type": "code",
   "execution_count": 8,
   "id": "8b49a0c7",
   "metadata": {},
   "outputs": [],
   "source": [
    "# Реализовать батч лоадер, возвращающий с каждой итерацией батч - лист с bs количеством словарей \n",
    "# Нужно, чтобы умел с шафлом\n",
    "\n",
    "class BatchLoader(DataLoader):\n",
    "    def __init__(self, dataset, batch_size=1, shuffle=False, drop=False):\n",
    "#         super(BatchLoader, self).__init__()\n",
    "        \n",
    "        self.dataset = dataset\n",
    "        self.batch_size = batch_size\n",
    "        self.shuffle = shuffle\n",
    "        self.drop = drop\n",
    "        self.dataset_len = len(dataset)\n",
    "        \n",
    "    def __len__(self):\n",
    "        return math.ceil(self.dataset_len/self.batch_size)\n",
    "    \n",
    "    def __iter__(self):\n",
    "        self.index = list(range(self.dataset_len))\n",
    "        if self.shuffle:\n",
    "            np.random.shuffle(self.index)\n",
    "        return self\n",
    "    \n",
    "    def __next__(self):\n",
    "        batch_index = []\n",
    "        \n",
    "        if self.batch_size >= len(self.index):\n",
    "            if self.drop or not self.index:\n",
    "                raise StopIteration\n",
    "            else:\n",
    "                batch_index = self.index.copy()\n",
    "                self.index.clear()\n",
    "        else:\n",
    "            for _ in range(self.batch_size):\n",
    "                batch_index.append(self.index.pop())\n",
    "        \n",
    "        batch = []\n",
    "        target = []\n",
    "        \n",
    "        for i in batch_index:\n",
    "            batch.append(self.dataset[i][0])\n",
    "            target.append(self.dataset[i][1])\n",
    "            \n",
    "        return batch, torch.tensor(target)\n",
    "    \n",
    "    def __getitem__(self, index):\n",
    "        batch = self.dataset[index][0]\n",
    "        target = self.dataset[index][1]\n",
    "        \n",
    "        return batch, target"
   ]
  },
  {
   "cell_type": "code",
   "execution_count": 13,
   "id": "cf60f3b6",
   "metadata": {},
   "outputs": [],
   "source": [
    "class STSBertModel(nn.Module):\n",
    "    \"\"\"\n",
    "    Sentence Semantic Similarity Bert model\n",
    "    :param: seg_head=True for using segmentation head instead of cosine similarity\n",
    "    :param: freeze_weights=True to freeze BERT model's weights and train only the segmentation head\n",
    "    \"\"\"\n",
    "    def __init__(self, with_features=False, input_size=768):\n",
    "        super(STSBertModel, self).__init__()\n",
    "\n",
    "        self.word_embedding = RobertaModel.from_pretrained(model_name, config=load_config(model_name))\n",
    "        self.cos_score = nn.CosineSimilarity(dim=0)\n",
    "        self.identity = nn.Identity()\n",
    "        self.input_size = input_size\n",
    "        self.with_features = with_features\n",
    "\n",
    "        if with_features:\n",
    "            self.n_features = 5\n",
    "            self.input_size += self.n_features\n",
    "\n",
    "        self.attention = SelfAttention(self.input_size)\n",
    "\n",
    "        self.FC_head = nn.Sequential(OrderedDict([\n",
    "            ('fc1', nn.Linear(self.input_size, 512)),\n",
    "            ('relu1', nn.ReLU()),\n",
    "            ('fc2', nn.Linear(512, 512)),\n",
    "            ('relu2', nn.ReLU()),\n",
    "            ('fc3', nn.Linear(512, 256)),\n",
    "            ('relu3', nn.ReLU()),\n",
    "            ('fc4', nn.Linear(256, 64)),\n",
    "            ('relu4', nn.ReLU()),\n",
    "            ('fc5', nn.Linear(64, 1)),\n",
    "            ('identity', nn.Identity())\n",
    "            ]))\n",
    "\n",
    "    def forward(self, x):\n",
    "        output = self.word_embedding(input_ids=x['input_ids'], attention_mask=x['attention_mask'])\n",
    "        output = mean_pooling(output, x)\n",
    "\n",
    "        if self.with_features:\n",
    "            output = torch.cat((output, x['features']), dim=1)\n",
    "\n",
    "        output = self.attention(output.unsqueeze(1))\n",
    "        output = self.FC_head(output)\n",
    "        \n",
    "        return output"
   ]
  },
  {
   "cell_type": "code",
   "execution_count": 10,
   "id": "a5b886fa",
   "metadata": {},
   "outputs": [],
   "source": [
    "# # MOdel without features\n",
    "\n",
    "# class STSBertModel(nn.Module):\n",
    "#     \"\"\"\n",
    "#     Sentence Semantic Similarity Bert model\n",
    "#     :param: seg_head=True for using segmentation head instead of cosine similarity\n",
    "#     :param: freeze_weights=True to freeze BERT model's weights and train only the segmentation head\n",
    "#     \"\"\"\n",
    "#     def __init__(self, seg_head=False, freeze_weights=False, input_size=768):\n",
    "#         super(STSBertModel, self).__init__()\n",
    "        \n",
    "#         self.word_embedding = embeddings_model\n",
    "#         self.cos_sim = nn.CosineSimilarity(dim=0)\n",
    "#         self.identity = nn.Identity()\n",
    "#         self.seg_head = seg_head\n",
    "#         self.input_size = input_size\n",
    "        \n",
    "#         self.attention = SelfAttention(self.input_size)\n",
    "#         self.FC_head = nn.Sequential(OrderedDict([\n",
    "#             ('fc1', nn.Linear(self.input_size, 1))\n",
    "#         ]))\n",
    "            \n",
    "#         if freeze_weights:\n",
    "#             self.freeze()\n",
    "    \n",
    "#     def freeze(self):\n",
    "#         for param in self.word_embedding.parameters():\n",
    "#             param.requires_grad = False\n",
    "    \n",
    "#     def cos_score(self, x):\n",
    "#         embedding_1 = x[0]\n",
    "#         embedding_2 = x[1]\n",
    "        \n",
    "#         res = self.cos_sim(embedding_1, embedding_2)\n",
    "# #         cos_score = torch.sigmoid(cos_score)\n",
    "\n",
    "#         return res\n",
    "    \n",
    "#     def forward(self, x):\n",
    "#         output = self.word_embedding(**x)\n",
    "#         output = mean_pooling(output, x)\n",
    "#         output = self.attention(output.unsqueeze(1))\n",
    "\n",
    "# #         output = self.attention(output[0])\n",
    "# #         output = torch.mean(output, dim=1)\n",
    "# #         output = torch.max(output, dim=1).values\n",
    "    \n",
    "#         if self.seg_head:            \n",
    "#             output = self.FC_head(output)\n",
    "        \n",
    "#         else:\n",
    "#             output = self.cos_score(output)\n",
    "#             output = (output * 6.1) - 1.8\n",
    "        \n",
    "#         return output"
   ]
  },
  {
   "cell_type": "code",
   "execution_count": 9,
   "id": "3a93ae01",
   "metadata": {},
   "outputs": [],
   "source": [
    "class SelfAttention(nn.Module):\n",
    "    def __init__(self, input_dim):\n",
    "        super(SelfAttention, self).__init__()\n",
    "        self.input_dim = input_dim\n",
    "        self.query = nn.Linear(input_dim, input_dim)\n",
    "        self.key = nn.Linear(input_dim, input_dim)\n",
    "        self.value = nn.Linear(input_dim, input_dim)\n",
    "        self.softmax = nn.Softmax(dim=2)\n",
    "        \n",
    "    def forward(self, x):\n",
    "        queries = self.query(x)\n",
    "        keys = self.key(x)\n",
    "        values = self.value(x)\n",
    "        scores = torch.bmm(queries, keys.transpose(1, 2)) / (self.input_dim ** 0.5)\n",
    "        attention = self.softmax(scores)\n",
    "        weighted = torch.bmm(attention, values)\n",
    "        return weighted\n",
    "    "
   ]
  },
  {
   "cell_type": "code",
   "execution_count": 12,
   "id": "d5ad634d",
   "metadata": {},
   "outputs": [],
   "source": [
    "# class STSBertModel(nn.Module):\n",
    "#     \"\"\"\n",
    "#     Sentence Semantic Similarity Bert model\n",
    "#     :param: seg_head=True for using segmentation head instead of cosine similarity\n",
    "#     :param: freeze_weights=True to freeze BERT model's weights and train only the segmentation head\n",
    "#     \"\"\"\n",
    "#     def __init__(self, seg_head=False, freeze_weights=False, input_size=768):\n",
    "#         super(STSBertModel, self).__init__()\n",
    "        \n",
    "#         self.word_embedding = embeddings_model\n",
    "#         self.cos_sim = nn.CosineSimilarity(dim=0)\n",
    "#         self.identity = nn.Identity()\n",
    "#         self.seg_head = seg_head\n",
    "#         self.fc = nn.Sequential(OrderedDict([\n",
    "#             ('fc1', nn.Linear(input_size*2, 1024)),\n",
    "#             ('tanh', nn.Tanh()),\n",
    "#             ('fc2', nn.Linear(1024, 256)),\n",
    "#             ('tanh', nn.Tanh()),\n",
    "#             ('output', nn.Linear(256, 1)),\n",
    "#         ]))\n",
    "        \n",
    "        \n",
    "#         if seg_head:\n",
    "# #             self.FC_head = SbertHead(inputs=768)\n",
    "#             self.FC_head = nn.Sequential(OrderedDict([\n",
    "# #                 ('dropout1', nn.Dropout(0.2)),\n",
    "#                 ('fc_input', nn.Linear(input_size, 1024)),\n",
    "#                 ('relu1', nn.ReLU()),\n",
    "#                 ('fc1', nn.Linear(1024,1024)),\n",
    "# #                 ('dropout2', nn.Dropout(0.2)),\n",
    "# #                 ('batch_norm1', nn.BatchNorm1d(1024)),\n",
    "#                 ('relu2', nn.ReLU()),\n",
    "#                 ('fc2', nn.Linear(1024, 512)),\n",
    "#                 ('relu3', nn.ReLU()),\n",
    "# #                 ('dropout2', nn.Dropout(0.2)),\n",
    "#                 ('fc3', nn.Linear(512, 512)),\n",
    "# #                 ('batch_norm2', nn.BatchNorm1d(512)),\n",
    "#                 ('relu4', nn.ReLU()),\n",
    "#                 ('fc4', nn.Linear(512, 256)),\n",
    "# #                 ('batch_norm3', nn.BatchNorm1d(256)),\n",
    "#                 ('relu5', nn.ReLU()),\n",
    "# #                 ('dropout3', nn.Dropout(0.2)),\n",
    "#                 ('fc5', nn.Linear(256, 64)),\n",
    "#                 ('relu6', nn.ReLU()),\n",
    "#                 ('fc_output', nn.Linear(64, 1))\n",
    "# #                 ('activation', nn.Sigmoid())\n",
    "#             ]))\n",
    "            \n",
    "#         if freeze_weights:\n",
    "#             self.freeze()\n",
    "    \n",
    "#     def freeze(self):\n",
    "#         for param in self.word_embedding.parameters():\n",
    "#             param.requires_grad = False\n",
    "    \n",
    "#     @staticmethod\n",
    "#     def mean_pooling(outputs, batch) -> torch.tensor:\n",
    "        \n",
    "#         attention_mask = batch['attention_mask']\n",
    "#         embeddings = outputs.last_hidden_state\n",
    "    \n",
    "#         mask = attention_mask.unsqueeze(-1).expand(embeddings.size()).float()\n",
    "#         masked_embeddings = embeddings * mask\n",
    "    \n",
    "#         summed = torch.sum(masked_embeddings, 1)\n",
    "#         summed_mask = torch.clamp(mask.sum(dim=1), min=1e-9)\n",
    "    \n",
    "#         mean_pooled = summed/summed_mask\n",
    "    \n",
    "#         return mean_pooled\n",
    "    \n",
    "#     def cos_score(self, x):\n",
    "#         embedding_1 = x[0]\n",
    "#         embedding_2 = x[1]\n",
    "#         emb = torch.concat((embedding_1, embedding_2))\n",
    "        \n",
    "        \n",
    "        \n",
    "#         cos_score = self.fc(emb)\n",
    "        \n",
    "# #         cos_score = self.cos_sim(embedding_1, embedding_2)\n",
    "# #         cos_score = torch.sigmoid(cos_score)\n",
    "        \n",
    "#         return cos_score\n",
    "    \n",
    "#     def forward(self, x):\n",
    "#         output = self.word_embedding(**x)\n",
    "#         output = self.mean_pooling(output, x)\n",
    "# #         output = output[1]\n",
    "        \n",
    "#         if self.seg_head:\n",
    "#             output = self.FC_head(output)\n",
    "        \n",
    "#         else:\n",
    "#             output = self.cos_score(output)\n",
    "        \n",
    "#         return output"
   ]
  },
  {
   "cell_type": "code",
   "execution_count": 11,
   "id": "475302d1",
   "metadata": {},
   "outputs": [],
   "source": [
    "# # Полносвязная модель - принимает тензор с эмбедингами текстов\n",
    "# # Выдает 1 число [0, 1]\n",
    "\n",
    "# class SbertHead(nn.Module):\n",
    "#     def __init__(self, inputs=1024):\n",
    "#         super(SbertHead, self).__init__()\n",
    "        \n",
    "#         self.FC_input = nn.Linear(inputs, 1024)\n",
    "#         self.FC_hidden_0 = nn.Linear(1024, 1024)\n",
    "#         self.FC_hidden_1 = nn.Linear(1024, 512)\n",
    "#         self.FC_hidden_2 = nn.Linear(512, 512)\n",
    "#         self.FC_hidden_3 = nn.Linear(512, 256)\n",
    "#         self.FC_hidden_4 = nn.Linear(256, 64)\n",
    "#         self.FC_output = nn.Linear(64, 1)\n",
    "#         self.activation = nn.Sigmoid()\n",
    "#         self.batch_norm = nn.BatchNorm1d(1024)\n",
    "#         self.batch_norm_2 = nn.BatchNorm1d(512)\n",
    "#         self.batch_norm_3 = nn.BatchNorm1d(64)\n",
    "\n",
    "#     def forward(self, x: torch.tensor) -> torch.tensor:\n",
    "        \n",
    "#         x = F.relu(self.FC_input(x))\n",
    "#         x = F.relu(self.FC_hidden_0(x))\n",
    "#         x = self.batch_norm(x)\n",
    "#         x = F.relu(self.FC_hidden_1(x))\n",
    "#         x = F.relu(self.FC_hidden_2(x))\n",
    "#         x = self.batch_norm_2(x)\n",
    "#         x = F.relu(self.FC_hidden_3(x))\n",
    "#         x = F.relu(self.FC_hidden_4(x))\n",
    "#         x = self.batch_norm_3(x)\n",
    "        \n",
    "#         x = self.FC_output(x)\n",
    "#         x = self.activation(x)\n",
    "\n",
    "#         return x"
   ]
  },
  {
   "cell_type": "markdown",
   "id": "d34385c1",
   "metadata": {},
   "source": [
    "# Data loading"
   ]
  },
  {
   "cell_type": "code",
   "execution_count": 10,
   "id": "4ebf0a5b",
   "metadata": {},
   "outputs": [],
   "source": [
    "score_type = 'wording'\n",
    "\n",
    "train_data = SentenseData(score=score_type)\n",
    "# test_data = SentenseData(test=True, score=score_type)\n",
    "# train_data = SentenseData(score=score_type)"
   ]
  },
  {
   "cell_type": "code",
   "execution_count": 11,
   "id": "4d1f1c1d",
   "metadata": {},
   "outputs": [],
   "source": [
    "batch_size = 15\n",
    "\n",
    "\n",
    "train_loader = DataLoader(train_data,\n",
    "                           batch_size=batch_size,\n",
    "                           shuffle=True)\n",
    "\n",
    "# test_loader = DataLoader(test_data,\n",
    "#                           batch_size=batch_size,\n",
    "#                           shuffle=True)"
   ]
  },
  {
   "cell_type": "code",
   "execution_count": 15,
   "id": "fe34f9a2",
   "metadata": {},
   "outputs": [],
   "source": [
    "# dataset = SentenseData(summaries_train_path, prompts_train_path)"
   ]
  },
  {
   "cell_type": "code",
   "execution_count": 17,
   "id": "33505b34",
   "metadata": {},
   "outputs": [],
   "source": [
    "# train_size = int(0.8*len(dataset))\n",
    "# test_size = len(dataset) - train_size\n",
    "\n",
    "# train_data, test_data = random_split(dataset, [train_size, test_size])\n",
    "\n",
    "# # torch.save(train_data, 'dataset\\TRAIN_DATA_split_1.pt')\n",
    "# # torch.save(test_data, 'dataset\\TEST_DATA_split_1.pt')"
   ]
  },
  {
   "cell_type": "code",
   "execution_count": 16,
   "id": "cad57f19",
   "metadata": {},
   "outputs": [],
   "source": [
    "# train_data = torch.load('dataset\\TRAIN_DATA_split_1.pt')\n",
    "# test_data = torch.load('dataset\\TEST_DATA_split_1.pt')"
   ]
  },
  {
   "cell_type": "code",
   "execution_count": 10,
   "id": "09e2c399",
   "metadata": {},
   "outputs": [],
   "source": [
    "batch_size = 8\n",
    "\n",
    "train_loader = BatchLoader(train_data,\n",
    "                           batch_size=batch_size,\n",
    "                           shuffle=True)\n",
    "\n",
    "test_loader = BatchLoader(test_data,\n",
    "                          batch_size=batch_size,\n",
    "                          shuffle=True)"
   ]
  },
  {
   "cell_type": "markdown",
   "id": "da31a73c",
   "metadata": {},
   "source": [
    "## Model Train"
   ]
  },
  {
   "cell_type": "code",
   "execution_count": 14,
   "id": "0b693153",
   "metadata": {},
   "outputs": [
    {
     "name": "stdout",
     "output_type": "stream",
     "text": [
      "Dropout layers set to zero\n"
     ]
    },
    {
     "name": "stderr",
     "output_type": "stream",
     "text": [
      "Some weights of RobertaModel were not initialized from the model checkpoint at roberta-base and are newly initialized: ['roberta.pooler.dense.weight', 'roberta.pooler.dense.bias']\n",
      "You should probably TRAIN this model on a down-stream task to be able to use it for predictions and inference.\n"
     ]
    }
   ],
   "source": [
    "model = STSBertModel(with_features=True)"
   ]
  },
  {
   "cell_type": "code",
   "execution_count": 15,
   "id": "5c4b225a",
   "metadata": {},
   "outputs": [
    {
     "data": {
      "text/plain": "STSBertModel(\n  (word_embedding): RobertaModel(\n    (embeddings): RobertaEmbeddings(\n      (word_embeddings): Embedding(50265, 768, padding_idx=1)\n      (position_embeddings): Embedding(514, 768, padding_idx=1)\n      (token_type_embeddings): Embedding(1, 768)\n      (LayerNorm): LayerNorm((768,), eps=1e-05, elementwise_affine=True)\n      (dropout): Dropout(p=0.0, inplace=False)\n    )\n    (encoder): RobertaEncoder(\n      (layer): ModuleList(\n        (0): RobertaLayer(\n          (attention): RobertaAttention(\n            (self): RobertaSelfAttention(\n              (query): Linear(in_features=768, out_features=768, bias=True)\n              (key): Linear(in_features=768, out_features=768, bias=True)\n              (value): Linear(in_features=768, out_features=768, bias=True)\n              (dropout): Dropout(p=0.0, inplace=False)\n            )\n            (output): RobertaSelfOutput(\n              (dense): Linear(in_features=768, out_features=768, bias=True)\n              (LayerNorm): LayerNorm((768,), eps=1e-05, elementwise_affine=True)\n              (dropout): Dropout(p=0.0, inplace=False)\n            )\n          )\n          (intermediate): RobertaIntermediate(\n            (dense): Linear(in_features=768, out_features=3072, bias=True)\n            (intermediate_act_fn): GELUActivation()\n          )\n          (output): RobertaOutput(\n            (dense): Linear(in_features=3072, out_features=768, bias=True)\n            (LayerNorm): LayerNorm((768,), eps=1e-05, elementwise_affine=True)\n            (dropout): Dropout(p=0.0, inplace=False)\n          )\n        )\n        (1): RobertaLayer(\n          (attention): RobertaAttention(\n            (self): RobertaSelfAttention(\n              (query): Linear(in_features=768, out_features=768, bias=True)\n              (key): Linear(in_features=768, out_features=768, bias=True)\n              (value): Linear(in_features=768, out_features=768, bias=True)\n              (dropout): Dropout(p=0.0, inplace=False)\n            )\n            (output): RobertaSelfOutput(\n              (dense): Linear(in_features=768, out_features=768, bias=True)\n              (LayerNorm): LayerNorm((768,), eps=1e-05, elementwise_affine=True)\n              (dropout): Dropout(p=0.0, inplace=False)\n            )\n          )\n          (intermediate): RobertaIntermediate(\n            (dense): Linear(in_features=768, out_features=3072, bias=True)\n            (intermediate_act_fn): GELUActivation()\n          )\n          (output): RobertaOutput(\n            (dense): Linear(in_features=3072, out_features=768, bias=True)\n            (LayerNorm): LayerNorm((768,), eps=1e-05, elementwise_affine=True)\n            (dropout): Dropout(p=0.0, inplace=False)\n          )\n        )\n        (2): RobertaLayer(\n          (attention): RobertaAttention(\n            (self): RobertaSelfAttention(\n              (query): Linear(in_features=768, out_features=768, bias=True)\n              (key): Linear(in_features=768, out_features=768, bias=True)\n              (value): Linear(in_features=768, out_features=768, bias=True)\n              (dropout): Dropout(p=0.0, inplace=False)\n            )\n            (output): RobertaSelfOutput(\n              (dense): Linear(in_features=768, out_features=768, bias=True)\n              (LayerNorm): LayerNorm((768,), eps=1e-05, elementwise_affine=True)\n              (dropout): Dropout(p=0.0, inplace=False)\n            )\n          )\n          (intermediate): RobertaIntermediate(\n            (dense): Linear(in_features=768, out_features=3072, bias=True)\n            (intermediate_act_fn): GELUActivation()\n          )\n          (output): RobertaOutput(\n            (dense): Linear(in_features=3072, out_features=768, bias=True)\n            (LayerNorm): LayerNorm((768,), eps=1e-05, elementwise_affine=True)\n            (dropout): Dropout(p=0.0, inplace=False)\n          )\n        )\n        (3): RobertaLayer(\n          (attention): RobertaAttention(\n            (self): RobertaSelfAttention(\n              (query): Linear(in_features=768, out_features=768, bias=True)\n              (key): Linear(in_features=768, out_features=768, bias=True)\n              (value): Linear(in_features=768, out_features=768, bias=True)\n              (dropout): Dropout(p=0.0, inplace=False)\n            )\n            (output): RobertaSelfOutput(\n              (dense): Linear(in_features=768, out_features=768, bias=True)\n              (LayerNorm): LayerNorm((768,), eps=1e-05, elementwise_affine=True)\n              (dropout): Dropout(p=0.0, inplace=False)\n            )\n          )\n          (intermediate): RobertaIntermediate(\n            (dense): Linear(in_features=768, out_features=3072, bias=True)\n            (intermediate_act_fn): GELUActivation()\n          )\n          (output): RobertaOutput(\n            (dense): Linear(in_features=3072, out_features=768, bias=True)\n            (LayerNorm): LayerNorm((768,), eps=1e-05, elementwise_affine=True)\n            (dropout): Dropout(p=0.0, inplace=False)\n          )\n        )\n        (4): RobertaLayer(\n          (attention): RobertaAttention(\n            (self): RobertaSelfAttention(\n              (query): Linear(in_features=768, out_features=768, bias=True)\n              (key): Linear(in_features=768, out_features=768, bias=True)\n              (value): Linear(in_features=768, out_features=768, bias=True)\n              (dropout): Dropout(p=0.0, inplace=False)\n            )\n            (output): RobertaSelfOutput(\n              (dense): Linear(in_features=768, out_features=768, bias=True)\n              (LayerNorm): LayerNorm((768,), eps=1e-05, elementwise_affine=True)\n              (dropout): Dropout(p=0.0, inplace=False)\n            )\n          )\n          (intermediate): RobertaIntermediate(\n            (dense): Linear(in_features=768, out_features=3072, bias=True)\n            (intermediate_act_fn): GELUActivation()\n          )\n          (output): RobertaOutput(\n            (dense): Linear(in_features=3072, out_features=768, bias=True)\n            (LayerNorm): LayerNorm((768,), eps=1e-05, elementwise_affine=True)\n            (dropout): Dropout(p=0.0, inplace=False)\n          )\n        )\n        (5): RobertaLayer(\n          (attention): RobertaAttention(\n            (self): RobertaSelfAttention(\n              (query): Linear(in_features=768, out_features=768, bias=True)\n              (key): Linear(in_features=768, out_features=768, bias=True)\n              (value): Linear(in_features=768, out_features=768, bias=True)\n              (dropout): Dropout(p=0.0, inplace=False)\n            )\n            (output): RobertaSelfOutput(\n              (dense): Linear(in_features=768, out_features=768, bias=True)\n              (LayerNorm): LayerNorm((768,), eps=1e-05, elementwise_affine=True)\n              (dropout): Dropout(p=0.0, inplace=False)\n            )\n          )\n          (intermediate): RobertaIntermediate(\n            (dense): Linear(in_features=768, out_features=3072, bias=True)\n            (intermediate_act_fn): GELUActivation()\n          )\n          (output): RobertaOutput(\n            (dense): Linear(in_features=3072, out_features=768, bias=True)\n            (LayerNorm): LayerNorm((768,), eps=1e-05, elementwise_affine=True)\n            (dropout): Dropout(p=0.0, inplace=False)\n          )\n        )\n        (6): RobertaLayer(\n          (attention): RobertaAttention(\n            (self): RobertaSelfAttention(\n              (query): Linear(in_features=768, out_features=768, bias=True)\n              (key): Linear(in_features=768, out_features=768, bias=True)\n              (value): Linear(in_features=768, out_features=768, bias=True)\n              (dropout): Dropout(p=0.0, inplace=False)\n            )\n            (output): RobertaSelfOutput(\n              (dense): Linear(in_features=768, out_features=768, bias=True)\n              (LayerNorm): LayerNorm((768,), eps=1e-05, elementwise_affine=True)\n              (dropout): Dropout(p=0.0, inplace=False)\n            )\n          )\n          (intermediate): RobertaIntermediate(\n            (dense): Linear(in_features=768, out_features=3072, bias=True)\n            (intermediate_act_fn): GELUActivation()\n          )\n          (output): RobertaOutput(\n            (dense): Linear(in_features=3072, out_features=768, bias=True)\n            (LayerNorm): LayerNorm((768,), eps=1e-05, elementwise_affine=True)\n            (dropout): Dropout(p=0.0, inplace=False)\n          )\n        )\n        (7): RobertaLayer(\n          (attention): RobertaAttention(\n            (self): RobertaSelfAttention(\n              (query): Linear(in_features=768, out_features=768, bias=True)\n              (key): Linear(in_features=768, out_features=768, bias=True)\n              (value): Linear(in_features=768, out_features=768, bias=True)\n              (dropout): Dropout(p=0.0, inplace=False)\n            )\n            (output): RobertaSelfOutput(\n              (dense): Linear(in_features=768, out_features=768, bias=True)\n              (LayerNorm): LayerNorm((768,), eps=1e-05, elementwise_affine=True)\n              (dropout): Dropout(p=0.0, inplace=False)\n            )\n          )\n          (intermediate): RobertaIntermediate(\n            (dense): Linear(in_features=768, out_features=3072, bias=True)\n            (intermediate_act_fn): GELUActivation()\n          )\n          (output): RobertaOutput(\n            (dense): Linear(in_features=3072, out_features=768, bias=True)\n            (LayerNorm): LayerNorm((768,), eps=1e-05, elementwise_affine=True)\n            (dropout): Dropout(p=0.0, inplace=False)\n          )\n        )\n        (8): RobertaLayer(\n          (attention): RobertaAttention(\n            (self): RobertaSelfAttention(\n              (query): Linear(in_features=768, out_features=768, bias=True)\n              (key): Linear(in_features=768, out_features=768, bias=True)\n              (value): Linear(in_features=768, out_features=768, bias=True)\n              (dropout): Dropout(p=0.0, inplace=False)\n            )\n            (output): RobertaSelfOutput(\n              (dense): Linear(in_features=768, out_features=768, bias=True)\n              (LayerNorm): LayerNorm((768,), eps=1e-05, elementwise_affine=True)\n              (dropout): Dropout(p=0.0, inplace=False)\n            )\n          )\n          (intermediate): RobertaIntermediate(\n            (dense): Linear(in_features=768, out_features=3072, bias=True)\n            (intermediate_act_fn): GELUActivation()\n          )\n          (output): RobertaOutput(\n            (dense): Linear(in_features=3072, out_features=768, bias=True)\n            (LayerNorm): LayerNorm((768,), eps=1e-05, elementwise_affine=True)\n            (dropout): Dropout(p=0.0, inplace=False)\n          )\n        )\n        (9): RobertaLayer(\n          (attention): RobertaAttention(\n            (self): RobertaSelfAttention(\n              (query): Linear(in_features=768, out_features=768, bias=True)\n              (key): Linear(in_features=768, out_features=768, bias=True)\n              (value): Linear(in_features=768, out_features=768, bias=True)\n              (dropout): Dropout(p=0.0, inplace=False)\n            )\n            (output): RobertaSelfOutput(\n              (dense): Linear(in_features=768, out_features=768, bias=True)\n              (LayerNorm): LayerNorm((768,), eps=1e-05, elementwise_affine=True)\n              (dropout): Dropout(p=0.0, inplace=False)\n            )\n          )\n          (intermediate): RobertaIntermediate(\n            (dense): Linear(in_features=768, out_features=3072, bias=True)\n            (intermediate_act_fn): GELUActivation()\n          )\n          (output): RobertaOutput(\n            (dense): Linear(in_features=3072, out_features=768, bias=True)\n            (LayerNorm): LayerNorm((768,), eps=1e-05, elementwise_affine=True)\n            (dropout): Dropout(p=0.0, inplace=False)\n          )\n        )\n        (10): RobertaLayer(\n          (attention): RobertaAttention(\n            (self): RobertaSelfAttention(\n              (query): Linear(in_features=768, out_features=768, bias=True)\n              (key): Linear(in_features=768, out_features=768, bias=True)\n              (value): Linear(in_features=768, out_features=768, bias=True)\n              (dropout): Dropout(p=0.0, inplace=False)\n            )\n            (output): RobertaSelfOutput(\n              (dense): Linear(in_features=768, out_features=768, bias=True)\n              (LayerNorm): LayerNorm((768,), eps=1e-05, elementwise_affine=True)\n              (dropout): Dropout(p=0.0, inplace=False)\n            )\n          )\n          (intermediate): RobertaIntermediate(\n            (dense): Linear(in_features=768, out_features=3072, bias=True)\n            (intermediate_act_fn): GELUActivation()\n          )\n          (output): RobertaOutput(\n            (dense): Linear(in_features=3072, out_features=768, bias=True)\n            (LayerNorm): LayerNorm((768,), eps=1e-05, elementwise_affine=True)\n            (dropout): Dropout(p=0.0, inplace=False)\n          )\n        )\n        (11): RobertaLayer(\n          (attention): RobertaAttention(\n            (self): RobertaSelfAttention(\n              (query): Linear(in_features=768, out_features=768, bias=True)\n              (key): Linear(in_features=768, out_features=768, bias=True)\n              (value): Linear(in_features=768, out_features=768, bias=True)\n              (dropout): Dropout(p=0.0, inplace=False)\n            )\n            (output): RobertaSelfOutput(\n              (dense): Linear(in_features=768, out_features=768, bias=True)\n              (LayerNorm): LayerNorm((768,), eps=1e-05, elementwise_affine=True)\n              (dropout): Dropout(p=0.0, inplace=False)\n            )\n          )\n          (intermediate): RobertaIntermediate(\n            (dense): Linear(in_features=768, out_features=3072, bias=True)\n            (intermediate_act_fn): GELUActivation()\n          )\n          (output): RobertaOutput(\n            (dense): Linear(in_features=3072, out_features=768, bias=True)\n            (LayerNorm): LayerNorm((768,), eps=1e-05, elementwise_affine=True)\n            (dropout): Dropout(p=0.0, inplace=False)\n          )\n        )\n      )\n    )\n    (pooler): RobertaPooler(\n      (dense): Linear(in_features=768, out_features=768, bias=True)\n      (activation): Tanh()\n    )\n  )\n  (cos_score): CosineSimilarity()\n  (identity): Identity()\n  (attention): SelfAttention(\n    (query): Linear(in_features=773, out_features=773, bias=True)\n    (key): Linear(in_features=773, out_features=773, bias=True)\n    (value): Linear(in_features=773, out_features=773, bias=True)\n    (softmax): Softmax(dim=2)\n  )\n  (FC_head): Sequential(\n    (fc1): Linear(in_features=773, out_features=512, bias=True)\n    (relu1): ReLU()\n    (fc2): Linear(in_features=512, out_features=512, bias=True)\n    (relu2): ReLU()\n    (fc3): Linear(in_features=512, out_features=256, bias=True)\n    (relu3): ReLU()\n    (fc4): Linear(in_features=256, out_features=64, bias=True)\n    (relu4): ReLU()\n    (fc5): Linear(in_features=64, out_features=1, bias=True)\n    (identity): Identity()\n  )\n)"
     },
     "execution_count": 15,
     "metadata": {},
     "output_type": "execute_result"
    }
   ],
   "source": [
    "model.float()\n",
    "\n",
    "model.to(device)"
   ]
  },
  {
   "cell_type": "code",
   "execution_count": 16,
   "id": "7f565158",
   "metadata": {},
   "outputs": [],
   "source": [
    "params = [\n",
    "        {'params': model.word_embedding.parameters()},\n",
    "        {'params': model.attention.parameters(), 'lr': 1e-04},\n",
    "        {'params': model.FC_head.parameters(), 'lr': 2e-04}\n",
    "    ]\n",
    "\n",
    "Loss_func = nn.MSELoss()\n",
    "\n",
    "optimizer = torch.optim.AdamW(params, lr=2e-06, weight_decay=2e-02)\n",
    "\n",
    "lr_scheduler = torch.optim.lr_scheduler.StepLR(optimizer, 2, gamma=0.5)\n",
    "\n",
    "scaler = torch.cuda.amp.GradScaler()"
   ]
  },
  {
   "cell_type": "code",
   "execution_count": 46,
   "id": "d0cd3331",
   "metadata": {},
   "outputs": [],
   "source": [
    "del  outputs, targets, optimizer, Loss_func, lr_scheduler, model, scaler"
   ]
  },
  {
   "cell_type": "code",
   "execution_count": 24,
   "id": "9c73e85c",
   "metadata": {},
   "outputs": [],
   "source": [
    "torch.cuda.empty_cache()"
   ]
  },
  {
   "cell_type": "code",
   "execution_count": 23,
   "id": "e1d6fb80",
   "metadata": {},
   "outputs": [
    {
     "data": {
      "text/plain": [
       "1297"
      ]
     },
     "execution_count": 23,
     "metadata": {},
     "output_type": "execute_result"
    }
   ],
   "source": [
    "import gc\n",
    "\n",
    "gc.collect()"
   ]
  },
  {
   "cell_type": "code",
   "execution_count": 17,
   "id": "eb412653",
   "metadata": {},
   "outputs": [
    {
     "name": "stderr",
     "output_type": "stream",
     "text": [
      "100%|██████████| 478/478 [01:37<00:00,  4.89it/s]\n"
     ]
    },
    {
     "name": "stdout",
     "output_type": "stream",
     "text": [
      "Epoch: 1/5, Iter: 0, L_train: 0.67062\n"
     ]
    },
    {
     "name": "stderr",
     "output_type": "stream",
     "text": [
      "100%|██████████| 478/478 [01:36<00:00,  4.94it/s]\n"
     ]
    },
    {
     "name": "stdout",
     "output_type": "stream",
     "text": [
      "Epoch: 2/5, Iter: 0, L_train: 0.56503\n"
     ]
    },
    {
     "name": "stderr",
     "output_type": "stream",
     "text": [
      "100%|██████████| 478/478 [01:36<00:00,  4.93it/s]\n"
     ]
    },
    {
     "name": "stdout",
     "output_type": "stream",
     "text": [
      "Epoch: 3/5, Iter: 0, L_train: 0.52126\n"
     ]
    },
    {
     "name": "stderr",
     "output_type": "stream",
     "text": [
      "100%|██████████| 478/478 [01:36<00:00,  4.95it/s]\n"
     ]
    },
    {
     "name": "stdout",
     "output_type": "stream",
     "text": [
      "Epoch: 4/5, Iter: 0, L_train: 0.48913\n"
     ]
    },
    {
     "name": "stderr",
     "output_type": "stream",
     "text": [
      "100%|██████████| 478/478 [01:36<00:00,  4.95it/s]"
     ]
    },
    {
     "name": "stdout",
     "output_type": "stream",
     "text": [
      "Epoch: 5/5, Iter: 0, L_train: 0.46103\n"
     ]
    },
    {
     "name": "stderr",
     "output_type": "stream",
     "text": [
      "\n"
     ]
    }
   ],
   "source": [
    "def validate_model():\n",
    "\n",
    "    losses_epoch_test = []\n",
    "    \n",
    "    model.eval()\n",
    "    with torch.no_grad():\n",
    "        for inputs, targets in tqdm(test_loader, position=0, leave=True):\n",
    "            targets = targets.float().to(device)\n",
    "            \n",
    "            if True:#score_type == 'wording':\n",
    "                inputs = {k:val.squeeze().to(device) for k, val in inputs.items()}\n",
    "                outputs = model(inputs)\n",
    "                \n",
    "                loss = torch.sqrt(Loss_func(outputs.squeeze(), targets))\n",
    "            else:\n",
    "                outputs = torch.stack([model(sentence.to(device)) for sentence in inputs])              \n",
    "                loss = torch.sqrt(Loss_func(outputs, targets))\n",
    "\n",
    "            \n",
    "            losses_epoch_test.append(loss.item())\n",
    "    \n",
    "    return losses_epoch_test\n",
    "\n",
    "\n",
    "n_epochs = 5\n",
    "\n",
    "losses_train = []\n",
    "losses_test = []\n",
    "t0 = datetime.now()\n",
    "\n",
    "for i in range(n_epochs):\n",
    "    \n",
    "    losses_train_per_epoch = []\n",
    "    \n",
    "    for j, batch in enumerate(tqdm(train_loader, position=0, leave=True), 1):\n",
    "        inputs, targets = batch\n",
    "        targets = targets.float().to(device)\n",
    "        \n",
    "        model.train()\n",
    "        \n",
    "        optimizer.zero_grad()\n",
    "        \n",
    "        with torch.autocast(device_type='cuda', dtype=torch.float16):\n",
    "            if True:#score_type == 'wording':\n",
    "                inputs = {k:val.squeeze().to(device) for k, val in inputs.items()}\n",
    "                outputs = model(inputs)\n",
    "                loss = torch.sqrt(Loss_func(outputs.squeeze(), targets))\n",
    "            else:\n",
    "                outputs = torch.stack([model(sentence.to(device)) for sentence in inputs])           \n",
    "                loss = torch.sqrt(Loss_func(outputs, targets))\n",
    "            \n",
    "        scaler.scale(loss).backward()\n",
    "        scaler.step(optimizer)\n",
    "        \n",
    "        scaler.update()\n",
    "        \n",
    "        losses_train_per_epoch.append(loss.item())\n",
    "        \n",
    "#         if j%20 == 0 or j == len(train_loader):\n",
    "            \n",
    "#             losses_test_per_epoch = validate_model()\n",
    "#             losses_test_mean = np.mean(losses_test_per_epoch)\n",
    "#             losses_train_mean = np.mean(losses_train_per_epoch)\n",
    "            \n",
    "#             losses_train.append(losses_train_mean)\n",
    "#             losses_test.append(losses_test_mean)\n",
    "            \n",
    "            \n",
    "#             if losses_test_mean == np.min(losses_test):\n",
    "#                 best_score = losses_test_mean\n",
    "#                 n_iter = len(losses_train)\n",
    "#                 torch.save(model.state_dict(), 'best__.pt')\n",
    "#                 print(f'Best saved, loss: {best_score:.5f}')\n",
    "                \n",
    "    print(f'Epoch: {i+1}/{n_epochs}, Iter: {len(losses_train)}, L_train: {np.mean(losses_train_per_epoch):.5f}')#,\\\n",
    "            #L_test: {losses_test_mean:.5f}') \n",
    "            \n",
    "    torch.cuda.empty_cache()\n",
    "\n",
    "#print(f\"Time elapsed:{datetime.now()-t0}, Best score:{best_score:.5f} at {n_iter} iteration\")"
   ]
  },
  {
   "cell_type": "code",
   "execution_count": 18,
   "id": "be6a860a",
   "metadata": {},
   "outputs": [
    {
     "data": {
      "text/plain": [
       "0.48831519858607686"
      ]
     },
     "execution_count": 18,
     "metadata": {},
     "output_type": "execute_result"
    }
   ],
   "source": [
    "np.mean(losses_train_per_epoch)"
   ]
  },
  {
   "cell_type": "code",
   "execution_count": 18,
   "id": "3164c951",
   "metadata": {},
   "outputs": [],
   "source": [
    "torch.save(model.state_dict(), 'models\\Roberta_base_feat_wording_10.pt')"
   ]
  },
  {
   "cell_type": "code",
   "execution_count": 26,
   "id": "1c565757",
   "metadata": {},
   "outputs": [
    {
     "data": {
      "text/plain": [
       "8"
      ]
     },
     "execution_count": 26,
     "metadata": {},
     "output_type": "execute_result"
    }
   ],
   "source": [
    "count = 0\n",
    "for i in range(511):\n",
    "    if i%64 == 0:\n",
    "        count+=1\n",
    "        \n",
    "count"
   ]
  },
  {
   "cell_type": "code",
   "execution_count": 26,
   "id": "69a11c6c",
   "metadata": {},
   "outputs": [
    {
     "data": {
      "text/plain": [
       "Text(0.5, 1.0, 'Min value: 0.45780')"
      ]
     },
     "execution_count": 26,
     "metadata": {},
     "output_type": "execute_result"
    },
    {
     "data": {
      "image/png": "[encoded data removed]",
      "text/plain": [
       "<Figure size 500x500 with 1 Axes>"
      ]
     },
     "metadata": {},
     "output_type": "display_data"
    }
   ],
   "source": [
    "plt.figure(figsize=(5,5))\n",
    "\n",
    "plt.plot(losses_train, label = 'train')\n",
    "plt.plot(losses_test, label='test')\n",
    "plt.scatter(n_iter - 1, best_score, marker='o')\n",
    "plt.legend()\n",
    "plt.title(f'Min value: {best_score:.5f}')\n"
   ]
  },
  {
   "cell_type": "code",
   "execution_count": null,
   "id": "a5ea7454",
   "metadata": {},
   "outputs": [],
   "source": []
  },
  {
   "cell_type": "code",
   "execution_count": null,
   "id": "0052f1b4",
   "metadata": {},
   "outputs": [],
   "source": []
  },
  {
   "cell_type": "code",
   "execution_count": null,
   "id": "a12892a2",
   "metadata": {},
   "outputs": [],
   "source": []
  },
  {
   "cell_type": "code",
   "execution_count": 23,
   "id": "65a7603d",
   "metadata": {},
   "outputs": [
    {
     "name": "stderr",
     "output_type": "stream",
     "text": [
      "100%|████████████████████████████████████████████████████████████████████████████████| 402/402 [10:32<00:00,  1.57s/it]\n"
     ]
    },
    {
     "data": {
      "text/plain": [
       "0.12578605"
      ]
     },
     "execution_count": 23,
     "metadata": {},
     "output_type": "execute_result"
    }
   ],
   "source": [
    "losses_epoch_test = []\n",
    "rmse = []\n",
    "\n",
    "for inputs, targets in tqdm(test_loader):\n",
    "    targets = targets.float().to(device)\n",
    "            \n",
    "    outputs = torch.stack([model(sentence.to(device)) for sentence in inputs])\n",
    "    \n",
    "    error = np.sqrt(sum((outputs.cpu().detach() - targets.cpu().detach())**2)/len(targets))\n",
    "    \n",
    "    loss = Loss_func(outputs.squeeze(), targets)\n",
    "            \n",
    "    losses_epoch_test.append(loss.item())\n",
    "    rmse.append(error)\n",
    "    \n",
    "np.mean(losses_epoch_test)\n",
    "np.mean(rmse)"
   ]
  },
  {
   "cell_type": "code",
   "execution_count": 19,
   "id": "b3d9d180",
   "metadata": {},
   "outputs": [
    {
     "data": {
      "text/plain": [
       "0.6657895640186642"
      ]
     },
     "execution_count": 19,
     "metadata": {},
     "output_type": "execute_result"
    }
   ],
   "source": [
    "np.mean(losses_epoch_test)"
   ]
  },
  {
   "cell_type": "code",
   "execution_count": 28,
   "id": "8175077e",
   "metadata": {},
   "outputs": [
    {
     "data": {
      "text/plain": [
       "tensor([ 0.8711,  1.4131,  0.3809, -0.2595, -1.4795,  0.0757,  0.0840,  0.8584],\n",
       "       device='cuda:0', dtype=torch.float16, grad_fn=<SqueezeBackward0>)"
      ]
     },
     "execution_count": 28,
     "metadata": {},
     "output_type": "execute_result"
    }
   ],
   "source": [
    "outputs.squeeze()"
   ]
  },
  {
   "cell_type": "code",
   "execution_count": 29,
   "id": "d1437c42",
   "metadata": {},
   "outputs": [
    {
     "data": {
      "text/plain": [
       "tensor([ 0.5038,  1.1258,  1.2163, -0.2051, -1.4612, -0.0493,  0.3805,  1.3874],\n",
       "       device='cuda:0')"
      ]
     },
     "execution_count": 29,
     "metadata": {},
     "output_type": "execute_result"
    }
   ],
   "source": [
    "targets"
   ]
  },
  {
   "cell_type": "code",
   "execution_count": 30,
   "id": "46ffc12d",
   "metadata": {},
   "outputs": [
    {
     "data": {
      "text/plain": [
       "tensor(0.1628, device='cuda:0', grad_fn=<DivBackward0>)"
      ]
     },
     "execution_count": 30,
     "metadata": {},
     "output_type": "execute_result"
    }
   ],
   "source": [
    "sum((outputs.squeeze() - targets)**2)/len(targets)"
   ]
  },
  {
   "cell_type": "code",
   "execution_count": 31,
   "id": "0d9fd795",
   "metadata": {},
   "outputs": [],
   "source": [
    "torch.save(model.state_dict(), 'models\\RoBerta_wording_2l.pt')"
   ]
  },
  {
   "cell_type": "code",
   "execution_count": 27,
   "id": "485052af",
   "metadata": {},
   "outputs": [
    {
     "data": {
      "text/plain": [
       "Text(0.5, 1.0, 'Min value: 0.53558')"
      ]
     },
     "execution_count": 27,
     "metadata": {},
     "output_type": "execute_result"
    },
    {
     "data": {
      "image/png": "[encoded data removed]",
      "text/plain": [
       "<Figure size 1200x500 with 1 Axes>"
      ]
     },
     "metadata": {},
     "output_type": "display_data"
    }
   ],
   "source": []
  },
  {
   "cell_type": "code",
   "execution_count": 20,
   "id": "fd5fbb65",
   "metadata": {},
   "outputs": [
    {
     "data": {
      "text/plain": [
       "0.5457825397235759"
      ]
     },
     "execution_count": 20,
     "metadata": {},
     "output_type": "execute_result"
    }
   ],
   "source": [
    "best_score"
   ]
  },
  {
   "cell_type": "code",
   "execution_count": null,
   "id": "02d56a6c",
   "metadata": {},
   "outputs": [],
   "source": []
  },
  {
   "cell_type": "code",
   "execution_count": null,
   "id": "79387fc2",
   "metadata": {},
   "outputs": [],
   "source": []
  },
  {
   "cell_type": "code",
   "execution_count": 306,
   "id": "ac6b129d",
   "metadata": {},
   "outputs": [],
   "source": [
    "# Вычисляем cos similarity для всех сочинений по первому тексту\n",
    "\n",
    "y_all = np.zeros(len(dataset))\n",
    "y_hat_all = y_all.copy()\n",
    "model.eval()\n",
    "\n",
    "for i in range(len(dataset)):\n",
    "    batch = dataset[i]\n",
    "\n",
    "    outputs = model(**batch[0].to(device))\n",
    "    y = batch[1].item()\n",
    "    sentense_embeddings = mean_pooling(outputs, batch)\n",
    "    \n",
    "    pooled_numpy = sentense_embeddings.cpu().detach().numpy()\n",
    "    y_hat = cosine_similarity(np.expand_dims(pooled_numpy[0],0), np.expand_dims(pooled_numpy[1],0))\n",
    "    \n",
    "    y_all[i] = y\n",
    "    y_hat_all[i] = y_hat\n",
    "    \n",
    "del batch    \n",
    "torch.cuda.empty_cache()"
   ]
  },
  {
   "cell_type": "code",
   "execution_count": 318,
   "id": "dcf98da4",
   "metadata": {},
   "outputs": [
    {
     "data": {
      "text/plain": [
       "Text(0.5, 1.0, 'Cosine simularity')"
      ]
     },
     "execution_count": 318,
     "metadata": {},
     "output_type": "execute_result"
    },
    {
     "data": {
      "image/png": "[encoded data removed]",
      "text/plain": [
       "<Figure size 1000x500 with 2 Axes>"
      ]
     },
     "metadata": {},
     "output_type": "display_data"
    }
   ],
   "source": [
    "plt.figure(figsize=(10,5))\n",
    "\n",
    "plt.subplot(1,2,1)\n",
    "plt.plot(y_all)\n",
    "plt.title('Content score')\n",
    "\n",
    "plt.subplot(1,2,2)\n",
    "plt.plot(moving_average(y_hat_all))\n",
    "plt.title('Cosine simularity')"
   ]
  },
  {
   "cell_type": "code",
   "execution_count": 314,
   "id": "999415a2",
   "metadata": {},
   "outputs": [],
   "source": []
  },
  {
   "cell_type": "code",
   "execution_count": 13,
   "id": "bb64c9b4",
   "metadata": {},
   "outputs": [
    {
     "name": "stderr",
     "output_type": "stream",
     "text": [
      "Token indices sequence length is longer than the specified maximum sequence length for this model (517 > 512). Running this sequence through the model will result in indexing errors\n"
     ]
    }
   ],
   "source": [
    "answer_1_tokenized = tokenizer(answer_1_summary)['input_ids']\n",
    "sim_score = np.zeros(len(df_summaries_sorted))\n",
    "len_answer = len(answer_1_tokenized)\n",
    "\n",
    "for i, text in enumerate(df_summaries_sorted.text):\n",
    "    text_tokenized = tokenizer(text)['input_ids']\n",
    "    len_dif = len_answer - len(text_tokenized)\n",
    "    answer = answer_1_tokenized.copy()\n",
    "    \n",
    "#     print(len_answer, len(text_tokenized), len_dif)\n",
    "    if len_dif > 0:\n",
    "        text_tokenized += [0]*len_dif\n",
    "    \n",
    "    elif len_dif < 0:\n",
    "        answer += [0]*abs(len_dif)\n",
    "    \n",
    "    answer = torch.tensor(answer).float()\n",
    "#     print(len_answer, len(text_tokenized), len_dif, answer.shape)    \n",
    "    text_tokenized = torch.tensor(text_tokenized).float()\n",
    "    \n",
    "    sim = cos_sim(answer, text_tokenized)\n",
    "    \n",
    "    sim_score[i] = 1 - sim.item()"
   ]
  },
  {
   "cell_type": "code",
   "execution_count": 48,
   "id": "91d79255",
   "metadata": {},
   "outputs": [
    {
     "data": {
      "text/plain": [
       "[<matplotlib.lines.Line2D at 0x2a6c50199a0>]"
      ]
     },
     "execution_count": 48,
     "metadata": {},
     "output_type": "execute_result"
    },
    {
     "data": {
      "image/png": "[encoded data removed]",
      "text/plain": [
       "<Figure size 640x480 with 1 Axes>"
      ]
     },
     "metadata": {},
     "output_type": "display_data"
    }
   ],
   "source": [
    "plt.plot(df_summaries_sorted.content)"
   ]
  },
  {
   "cell_type": "code",
   "execution_count": 19,
   "id": "95935030",
   "metadata": {},
   "outputs": [
    {
     "data": {
      "text/plain": [
       "[<matplotlib.lines.Line2D at 0x2a6c3a959a0>]"
      ]
     },
     "execution_count": 19,
     "metadata": {},
     "output_type": "execute_result"
    },
    {
     "data": {
      "image/png": "[encoded data removed]",
      "text/plain": [
       "<Figure size 640x480 with 1 Axes>"
      ]
     },
     "metadata": {},
     "output_type": "display_data"
    }
   ],
   "source": [
    "# Предсказанная похожесть текстов сочинений и ответа\n",
    "plt.plot(moving_average(sim_score))"
   ]
  },
  {
   "cell_type": "code",
   "execution_count": null,
   "id": "c909d9bb",
   "metadata": {},
   "outputs": [],
   "source": [
    "n_epochs = 9\n",
    "losses_train = np.zeros(n_epochs)\n",
    "losses_test = np.zeros(n_epochs)\n",
    "accuracy = np.zeros(n_epochs)\n",
    "\n",
    "for i in range(n_epochs):\n",
    "    model.train()\n",
    "    losses_epoch_train = []\n",
    "    \n",
    "    t0 = datetime.now()\n",
    "    \n",
    "    for inputs, targets in tqdm(train_loader):\n",
    "\n",
    "        targets = targets.float().to(device)\n",
    "        \n",
    "        \n",
    "        optimizer.zero_grad()\n",
    "        \n",
    "        with torch.autocast(device_type='cuda', dtype=torch.float16):\n",
    "            if score_type == 'wording':\n",
    "                inputs = {k:val.to(device) for k, val in inputs.items()}\n",
    "                outputs = model(inputs)\n",
    "            \n",
    "            else:\n",
    "#                 inputs = inputs.to(device)\n",
    "                outputs = torch.stack([model(sentence.to(device)) for sentence in inputs])\n",
    "#             outputs = torch.concat([model(sentence.to(device)) for sentence in inputs])\n",
    "            \n",
    "            loss = torch.sqrt(Loss_func(outputs.squeeze(), targets))\n",
    "    \n",
    "        scaler.scale(loss).backward()\n",
    "        scaler.step(optimizer)\n",
    "        \n",
    "        scaler.update()\n",
    "        \n",
    "        losses_epoch_train.append(loss.item())\n",
    "    \n",
    "    lr_scheduler.step()\n",
    "    \n",
    "    losses_epoch_test = []\n",
    "#     acc = []\n",
    "\n",
    "    \n",
    "    model.eval()\n",
    "    with torch.no_grad():\n",
    "        for inputs, targets in tqdm(test_loader):\n",
    "            targets = targets.float().to(device)\n",
    "            \n",
    "            \n",
    "            if score_type == 'wording':\n",
    "#                 input_ids = inputs['input_ids'].to(device)\n",
    "#                 attention_mask = inputs['attention_mask'].to(device)\n",
    "                inputs = {k:val.to(device) for k, val in inputs.items()}\n",
    "                outputs = model(inputs)\n",
    "        \n",
    "            else:\n",
    "#                 inputs = inputs.to(device)\n",
    "                outputs = torch.stack([model(sentence.to(device)) for sentence in inputs])\n",
    "#             outputs = torch.concat([model(sentence.to(device)) for sentence in inputs])\n",
    "\n",
    "            loss = torch.sqrt(Loss_func(outputs.squeeze(), targets))\n",
    "\n",
    "            \n",
    "            losses_epoch_test.append(loss.item())\n",
    "        \n",
    "#     accuracy[i] = np.mean(acc)\n",
    "    losses_train[i] = np.mean(losses_epoch_train) \n",
    "    losses_test[i] = np.mean(losses_epoch_test)\n",
    "    \n",
    "    if np.mean(losses_epoch_test) == np.min(losses_test[:i+1]):\n",
    "        torch.save(model.state_dict(), 'best__.pt')\n",
    "        print(f'Best saved, loss: {np.mean(losses_epoch_test):.3f}')\n",
    "     \n",
    "    if n_epochs > 100 and i == 100:\n",
    "        torch.save(model.state_dict(), '100_epochs__.pt')\n",
    "        print(f'100 epochs weights saved!')\n",
    "        \n",
    "    dt = datetime.now() - t0\n",
    "    \n",
    "    print(f'Epoch: {i+1}/{n_epochs}, L_train: {losses_train[i]:.5f}\\\n",
    "    L_test: {losses_test[i]:.5f}, Time: {dt}, acc: {accuracy[i]:.3f}') \n",
    "    \n",
    "    torch.cuda.empty_cache()"
   ]
  }
 ],
 "metadata": {
  "kernelspec": {
   "display_name": "Python (tf)",
   "language": "python",
   "name": "tf"
  },
  "language_info": {
   "codemirror_mode": {
    "name": "ipython",
    "version": 3
   },
   "file_extension": ".py",
   "mimetype": "text/x-python",
   "name": "python",
   "nbconvert_exporter": "python",
   "pygments_lexer": "ipython3",
   "version": "3.9.16"
  }
 },
 "nbformat": 4,
 "nbformat_minor": 5
}
