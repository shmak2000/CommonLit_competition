{
 "cells": [
  {
   "cell_type": "code",
   "execution_count": 19,
   "id": "cac9d19b",
   "metadata": {},
   "outputs": [
    {
     "name": "stdout",
     "output_type": "stream",
     "text": [
      "Looking in indexes: https://pypi.org/simple, https://pypi.ngc.nvidia.com\n",
      "Collecting textstat\n",
      "  Downloading textstat-0.7.3-py3-none-any.whl (105 kB)\n",
      "     -------------------------------------- 105.1/105.1 kB 1.5 MB/s eta 0:00:00\n",
      "Collecting pyphen (from textstat)\n",
      "  Downloading pyphen-0.14.0-py3-none-any.whl (2.0 MB)\n",
      "     ---------------------------------------- 2.0/2.0 MB 7.4 MB/s eta 0:00:00\n",
      "Installing collected packages: pyphen, textstat\n",
      "Successfully installed pyphen-0.14.0 textstat-0.7.3\n"
     ]
    },
    {
     "name": "stderr",
     "output_type": "stream",
     "text": [
      "WARNING: Ignoring invalid distribution -ensorflow-intel (c:\\users\\shmak\\miniconda3\\envs\\tf\\lib\\site-packages)\n",
      "WARNING: Ignoring invalid distribution -rotobuf (c:\\users\\shmak\\miniconda3\\envs\\tf\\lib\\site-packages)\n",
      "WARNING: Ignoring invalid distribution -ensorflow-intel (c:\\users\\shmak\\miniconda3\\envs\\tf\\lib\\site-packages)\n",
      "WARNING: Ignoring invalid distribution -rotobuf (c:\\users\\shmak\\miniconda3\\envs\\tf\\lib\\site-packages)\n",
      "\n",
      "[notice] A new release of pip is available: 23.1.2 -> 23.2.1\n",
      "[notice] To update, run: python.exe -m pip install --upgrade pip\n"
     ]
    }
   ],
   "source": [
    "!pip install textstat"
   ]
  },
  {
   "cell_type": "code",
   "execution_count": 27,
   "id": "91e7d383",
   "metadata": {},
   "outputs": [],
   "source": [
    "import math\n",
    "from tqdm import tqdm\n",
    "from datetime import datetime\n",
    "import pandas as pd\n",
    "import numpy as np\n",
    "import os\n",
    "import gensim\n",
    "import torch\n",
    "import sentence_transformers\n",
    "import matplotlib.pyplot as plt\n",
    "%matplotlib inline\n",
    "import torch.nn as nn\n",
    "\n",
    "from transformers import BertTokenizer, BertModel, pipeline, BartModel\n",
    "from transformers import RobertaTokenizer, RobertaModel, AutoConfig\n",
    "\n",
    "from sentence_transformers.util import cos_sim\n",
    "from sentence_transformers import SentenceTransformer, models\n",
    "from torch.utils.data import DataLoader, Dataset, random_split\n",
    "from sklearn.metrics.pairwise import cosine_similarity\n",
    "import torch.nn.functional as F\n",
    "\n",
    "from collections import OrderedDict\n",
    "\n",
    "import textstat"
   ]
  },
  {
   "cell_type": "code",
   "execution_count": 2,
   "id": "50f7b34a",
   "metadata": {},
   "outputs": [
    {
     "name": "stdout",
     "output_type": "stream",
     "text": [
      "cuda:0\n"
     ]
    }
   ],
   "source": [
    "device = 'cuda:0' if torch.cuda.is_available() else 'cpu'\n",
    "print(device)"
   ]
  },
  {
   "cell_type": "code",
   "execution_count": 3,
   "id": "bfd7ac5e",
   "metadata": {},
   "outputs": [],
   "source": [
    "def config_model():\n",
    "    configuration = AutoConfig.from_pretrained('roberta-base')\n",
    "\n",
    "    configuration.hidden_dropout_prob = 0.0\n",
    "    configuration.attention_probs_dropout_prob = 0.0\n",
    "    configuration.classifier_dropout = 0.0\n",
    "    \n",
    "    return configuration"
   ]
  },
  {
   "cell_type": "code",
   "execution_count": 5,
   "id": "90e8c9bd",
   "metadata": {},
   "outputs": [
    {
     "name": "stderr",
     "output_type": "stream",
     "text": [
      "Some weights of RobertaModel were not initialized from the model checkpoint at roberta-base and are newly initialized: ['roberta.pooler.dense.bias', 'roberta.pooler.dense.weight']\n",
      "You should probably TRAIN this model on a down-stream task to be able to use it for predictions and inference.\n"
     ]
    }
   ],
   "source": [
    "# ROBERTa model\n",
    "\n",
    "tokenizer = RobertaTokenizer.from_pretrained('roberta-base')\n",
    "embeddings_model = RobertaModel.from_pretrained('roberta-base', config=config_model())\n",
    "summarizer = pipeline(\"summarization\", model=\"bart-large-cnn\")"
   ]
  },
  {
   "cell_type": "code",
   "execution_count": 45,
   "id": "8f1deae7",
   "metadata": {},
   "outputs": [],
   "source": [
    "sentence_tokenizer = AutoTokenizer.from_pretrained('all-mpnet-base-v2')\n",
    "sentence_model = AutoModel.from_pretrained('all-mpnet-base-v2')"
   ]
  },
  {
   "cell_type": "code",
   "execution_count": 6,
   "id": "b3bea06d",
   "metadata": {},
   "outputs": [],
   "source": [
    "summaries_test_path = r\"dataset\\summaries_train.csv\"\n",
    "prompts_test_path = r\"dataset\\prompts_train.csv\""
   ]
  },
  {
   "cell_type": "code",
   "execution_count": 22,
   "id": "743d011e",
   "metadata": {},
   "outputs": [],
   "source": [
    "with open(prompts_test_path, encoding='utf-8') as f:\n",
    "    prompts = pd.read_csv(f)\n",
    "    \n",
    "with open(summaries_test_path, encoding='utf-8') as f:\n",
    "    summaries = pd.read_csv(f)"
   ]
  },
  {
   "cell_type": "code",
   "execution_count": 23,
   "id": "b34b77bf",
   "metadata": {},
   "outputs": [],
   "source": [
    "summaries = summaries.merge(prompts, how=\"left\", on=\"prompt_id\")"
   ]
  },
  {
   "cell_type": "markdown",
   "id": "e745fa15",
   "metadata": {},
   "source": [
    "## Stuff"
   ]
  },
  {
   "cell_type": "markdown",
   "id": "18748214",
   "metadata": {},
   "source": [
    "# Getting text features/ wording"
   ]
  },
  {
   "cell_type": "code",
   "execution_count": 24,
   "id": "5185d3ef",
   "metadata": {},
   "outputs": [
    {
     "data": {
      "text/html": [
       "<div>\n",
       "<style scoped>\n",
       "    .dataframe tbody tr th:only-of-type {\n",
       "        vertical-align: middle;\n",
       "    }\n",
       "\n",
       "    .dataframe tbody tr th {\n",
       "        vertical-align: top;\n",
       "    }\n",
       "\n",
       "    .dataframe thead th {\n",
       "        text-align: right;\n",
       "    }\n",
       "</style>\n",
       "<table border=\"1\" class=\"dataframe\">\n",
       "  <thead>\n",
       "    <tr style=\"text-align: right;\">\n",
       "      <th></th>\n",
       "      <th>student_id</th>\n",
       "      <th>prompt_id</th>\n",
       "      <th>text</th>\n",
       "      <th>content</th>\n",
       "      <th>wording</th>\n",
       "      <th>prompt_question</th>\n",
       "      <th>prompt_title</th>\n",
       "      <th>prompt_text</th>\n",
       "    </tr>\n",
       "  </thead>\n",
       "  <tbody>\n",
       "    <tr>\n",
       "      <th>0</th>\n",
       "      <td>000e8c3c7ddb</td>\n",
       "      <td>814d6b</td>\n",
       "      <td>The third wave was an experimentto see how peo...</td>\n",
       "      <td>0.205683</td>\n",
       "      <td>0.380538</td>\n",
       "      <td>Summarize how the Third Wave developed over su...</td>\n",
       "      <td>The Third Wave</td>\n",
       "      <td>Background \\nThe Third Wave experiment took pl...</td>\n",
       "    </tr>\n",
       "    <tr>\n",
       "      <th>1</th>\n",
       "      <td>0020ae56ffbf</td>\n",
       "      <td>ebad26</td>\n",
       "      <td>They would rub it up with soda to make the sme...</td>\n",
       "      <td>-0.548304</td>\n",
       "      <td>0.506755</td>\n",
       "      <td>Summarize the various ways the factory would u...</td>\n",
       "      <td>Excerpt from The Jungle</td>\n",
       "      <td>With one member trimming beef in a cannery, an...</td>\n",
       "    </tr>\n",
       "    <tr>\n",
       "      <th>2</th>\n",
       "      <td>004e978e639e</td>\n",
       "      <td>3b9047</td>\n",
       "      <td>In Egypt, there were many occupations and soci...</td>\n",
       "      <td>3.128928</td>\n",
       "      <td>4.231226</td>\n",
       "      <td>In complete sentences, summarize the structure...</td>\n",
       "      <td>Egyptian Social Structure</td>\n",
       "      <td>Egyptian society was structured like a pyramid...</td>\n",
       "    </tr>\n",
       "    <tr>\n",
       "      <th>3</th>\n",
       "      <td>005ab0199905</td>\n",
       "      <td>3b9047</td>\n",
       "      <td>The highest class was Pharaohs these people we...</td>\n",
       "      <td>-0.210614</td>\n",
       "      <td>-0.471415</td>\n",
       "      <td>In complete sentences, summarize the structure...</td>\n",
       "      <td>Egyptian Social Structure</td>\n",
       "      <td>Egyptian society was structured like a pyramid...</td>\n",
       "    </tr>\n",
       "    <tr>\n",
       "      <th>4</th>\n",
       "      <td>0070c9e7af47</td>\n",
       "      <td>814d6b</td>\n",
       "      <td>The Third Wave developed  rapidly because the ...</td>\n",
       "      <td>3.272894</td>\n",
       "      <td>3.219757</td>\n",
       "      <td>Summarize how the Third Wave developed over su...</td>\n",
       "      <td>The Third Wave</td>\n",
       "      <td>Background \\nThe Third Wave experiment took pl...</td>\n",
       "    </tr>\n",
       "  </tbody>\n",
       "</table>\n",
       "</div>"
      ],
      "text/plain": [
       "     student_id prompt_id                                               text  \\\n",
       "0  000e8c3c7ddb    814d6b  The third wave was an experimentto see how peo...   \n",
       "1  0020ae56ffbf    ebad26  They would rub it up with soda to make the sme...   \n",
       "2  004e978e639e    3b9047  In Egypt, there were many occupations and soci...   \n",
       "3  005ab0199905    3b9047  The highest class was Pharaohs these people we...   \n",
       "4  0070c9e7af47    814d6b  The Third Wave developed  rapidly because the ...   \n",
       "\n",
       "    content   wording                                    prompt_question  \\\n",
       "0  0.205683  0.380538  Summarize how the Third Wave developed over su...   \n",
       "1 -0.548304  0.506755  Summarize the various ways the factory would u...   \n",
       "2  3.128928  4.231226  In complete sentences, summarize the structure...   \n",
       "3 -0.210614 -0.471415  In complete sentences, summarize the structure...   \n",
       "4  3.272894  3.219757  Summarize how the Third Wave developed over su...   \n",
       "\n",
       "                prompt_title  \\\n",
       "0             The Third Wave   \n",
       "1    Excerpt from The Jungle   \n",
       "2  Egyptian Social Structure   \n",
       "3  Egyptian Social Structure   \n",
       "4             The Third Wave   \n",
       "\n",
       "                                         prompt_text  \n",
       "0  Background \\nThe Third Wave experiment took pl...  \n",
       "1  With one member trimming beef in a cannery, an...  \n",
       "2  Egyptian society was structured like a pyramid...  \n",
       "3  Egyptian society was structured like a pyramid...  \n",
       "4  Background \\nThe Third Wave experiment took pl...  "
      ]
     },
     "execution_count": 24,
     "metadata": {},
     "output_type": "execute_result"
    }
   ],
   "source": [
    "summaries.head()"
   ]
  },
  {
   "cell_type": "code",
   "execution_count": 25,
   "id": "4741dcfd",
   "metadata": {},
   "outputs": [],
   "source": [
    "def get_stat_features(df, text_col=\"text\"):\n",
    "    df[\"num_unique_words\"] = df[text_col].apply(lambda x: len(set(x.split())))\n",
    "    df[\"num_words\"] = df[text_col].apply(lambda x: len(x.split()))\n",
    "    df[\"num_sentences\"] = df[text_col].apply(lambda x: len(x.split('.')))\n",
    "#     df[\"isupper\"] = df[text_col].apply(lambda x: x[0].isupper())\n",
    "#     df[\"mean_num_words\"] = df[text_col].apply(lambda x: np.mean([len(e.split()) for e in x.split('.')]))\n",
    "#     df[\"mean_num_unique_words\"] = df[text_col].apply(lambda x: np.mean([len(set(e.split())) for e in x.split('.')]))\n",
    "#     df[\"num_slash\"] = df[text_col].apply(lambda x: x.count(\"\\n\"))\n",
    "#     df[\"paragraph_count\"] = df[text_col].apply(lambda x: x.count(\"\\n\\n\"))\n",
    "#     df[\"upper_count\"] = df[text_col].apply(lambda x: np.sum([w.isupper() for w in x.split()])/len(x.split()))\n",
    "    df[\"syntax_count\"] = df[text_col].apply(lambda x: x.count(\",\") + x.count(\"-\") + x.count(\";\") + x.count(\":\"))\n",
    "    \n",
    "#     df[\"num_unique_words_prompt_text\"] = df[\"prompt_text\"].apply(lambda x: len(set(x.split()))) - df[\"num_unique_words\"]\n",
    "#     df[\"num_words_prompt_text\"] = df[\"prompt_text\"].apply(lambda x: len(x.split())) - df[\"num_words\"]\n",
    "#     df[\"num_sentences_prompt_text\"] = df[\"prompt_text\"].apply(lambda x: len(x.split('.'))) - df[\"num_sentences\"]\n",
    "    \n",
    "#     df[\"stopwords_rel\"] = df[text_col].apply(lambda x: get_stopwords_rel(x))\n",
    "#     df['diff_emb_sb'] = df.apply(lambda x: np.sum(get_emb_sb(x[\"text\"])*get_emb_sb(x[\"prompt_text\"])), axis=1)\n",
    "#     df['diff_emb_qa'] = df.apply(lambda x: np.sum(get_emb_qa(x[\"text\"])*get_emb_qa(x[\"prompt_question\"])), axis=1)\n",
    "#     df['ch'] = df.apply(lambda x: get_ch_label(x[\"text\"]), axis=1)\n",
    "#     df['rw'] = df.apply(lambda x: get_rw(x[\"prompt_question\"], x[\"text\"]), axis=1)\n",
    "\n",
    "#     df['automated_readability_index'] = df[text_col].apply(lambda x: textstat.automated_readability_index(x))\n",
    "#     df['coleman_liau_index'] = df[text_col].apply(lambda x: textstat.coleman_liau_index(x))\n",
    "    df['smog_index'] = df[text_col].apply(lambda x: textstat.smog_index(x))\n",
    "#     df['dale_chall_readability_score'] = df[text_col].apply(lambda x: textstat.dale_chall_readability_score(x))\n",
    "#     df['linsear_write_formula'] = df[text_col].apply(lambda x: textstat.linsear_write_formula(x))\n",
    "#     df['gunning_fog'] = df[text_col].apply(lambda x: textstat.gunning_fog(x))\n",
    "#     df['text_standard_float'] = df[text_col].apply(lambda x: textstat.text_standard(x, float_output=True))\n",
    "#     df['spache_readability'] = df[text_col].apply(lambda x: textstat.spache_readability(x))\n",
    "#     df['rix'] = df[text_col].apply(lambda x: textstat.rix(x))\n",
    "#     df['lix'] = df[text_col].apply(lambda x: textstat.lix(x))\n",
    "\n",
    "    return df"
   ]
  },
  {
   "cell_type": "code",
   "execution_count": 28,
   "id": "1ef7c889",
   "metadata": {},
   "outputs": [],
   "source": [
    "summaries_with_features = get_stat_features(summaries)"
   ]
  },
  {
   "cell_type": "code",
   "execution_count": 29,
   "id": "f0567b02",
   "metadata": {},
   "outputs": [
    {
     "data": {
      "text/html": [
       "<div>\n",
       "<style scoped>\n",
       "    .dataframe tbody tr th:only-of-type {\n",
       "        vertical-align: middle;\n",
       "    }\n",
       "\n",
       "    .dataframe tbody tr th {\n",
       "        vertical-align: top;\n",
       "    }\n",
       "\n",
       "    .dataframe thead th {\n",
       "        text-align: right;\n",
       "    }\n",
       "</style>\n",
       "<table border=\"1\" class=\"dataframe\">\n",
       "  <thead>\n",
       "    <tr style=\"text-align: right;\">\n",
       "      <th></th>\n",
       "      <th>student_id</th>\n",
       "      <th>prompt_id</th>\n",
       "      <th>text</th>\n",
       "      <th>content</th>\n",
       "      <th>wording</th>\n",
       "      <th>prompt_question</th>\n",
       "      <th>prompt_title</th>\n",
       "      <th>prompt_text</th>\n",
       "      <th>num_unique_words</th>\n",
       "      <th>num_words</th>\n",
       "      <th>num_sentences</th>\n",
       "      <th>syntax_count</th>\n",
       "      <th>smog_index</th>\n",
       "    </tr>\n",
       "  </thead>\n",
       "  <tbody>\n",
       "    <tr>\n",
       "      <th>0</th>\n",
       "      <td>000e8c3c7ddb</td>\n",
       "      <td>814d6b</td>\n",
       "      <td>The third wave was an experimentto see how peo...</td>\n",
       "      <td>0.205683</td>\n",
       "      <td>0.380538</td>\n",
       "      <td>Summarize how the Third Wave developed over su...</td>\n",
       "      <td>The Third Wave</td>\n",
       "      <td>Background \\nThe Third Wave experiment took pl...</td>\n",
       "      <td>51</td>\n",
       "      <td>61</td>\n",
       "      <td>4</td>\n",
       "      <td>0</td>\n",
       "      <td>10.7</td>\n",
       "    </tr>\n",
       "    <tr>\n",
       "      <th>1</th>\n",
       "      <td>0020ae56ffbf</td>\n",
       "      <td>ebad26</td>\n",
       "      <td>They would rub it up with soda to make the sme...</td>\n",
       "      <td>-0.548304</td>\n",
       "      <td>0.506755</td>\n",
       "      <td>Summarize the various ways the factory would u...</td>\n",
       "      <td>Excerpt from The Jungle</td>\n",
       "      <td>With one member trimming beef in a cannery, an...</td>\n",
       "      <td>38</td>\n",
       "      <td>52</td>\n",
       "      <td>3</td>\n",
       "      <td>0</td>\n",
       "      <td>0.0</td>\n",
       "    </tr>\n",
       "    <tr>\n",
       "      <th>2</th>\n",
       "      <td>004e978e639e</td>\n",
       "      <td>3b9047</td>\n",
       "      <td>In Egypt, there were many occupations and soci...</td>\n",
       "      <td>3.128928</td>\n",
       "      <td>4.231226</td>\n",
       "      <td>In complete sentences, summarize the structure...</td>\n",
       "      <td>Egyptian Social Structure</td>\n",
       "      <td>Egyptian society was structured like a pyramid...</td>\n",
       "      <td>149</td>\n",
       "      <td>235</td>\n",
       "      <td>13</td>\n",
       "      <td>19</td>\n",
       "      <td>9.3</td>\n",
       "    </tr>\n",
       "    <tr>\n",
       "      <th>3</th>\n",
       "      <td>005ab0199905</td>\n",
       "      <td>3b9047</td>\n",
       "      <td>The highest class was Pharaohs these people we...</td>\n",
       "      <td>-0.210614</td>\n",
       "      <td>-0.471415</td>\n",
       "      <td>In complete sentences, summarize the structure...</td>\n",
       "      <td>Egyptian Social Structure</td>\n",
       "      <td>Egyptian society was structured like a pyramid...</td>\n",
       "      <td>19</td>\n",
       "      <td>25</td>\n",
       "      <td>5</td>\n",
       "      <td>0</td>\n",
       "      <td>9.7</td>\n",
       "    </tr>\n",
       "    <tr>\n",
       "      <th>4</th>\n",
       "      <td>0070c9e7af47</td>\n",
       "      <td>814d6b</td>\n",
       "      <td>The Third Wave developed  rapidly because the ...</td>\n",
       "      <td>3.272894</td>\n",
       "      <td>3.219757</td>\n",
       "      <td>Summarize how the Third Wave developed over su...</td>\n",
       "      <td>The Third Wave</td>\n",
       "      <td>Background \\nThe Third Wave experiment took pl...</td>\n",
       "      <td>138</td>\n",
       "      <td>203</td>\n",
       "      <td>14</td>\n",
       "      <td>5</td>\n",
       "      <td>10.1</td>\n",
       "    </tr>\n",
       "  </tbody>\n",
       "</table>\n",
       "</div>"
      ],
      "text/plain": [
       "     student_id prompt_id                                               text  \\\n",
       "0  000e8c3c7ddb    814d6b  The third wave was an experimentto see how peo...   \n",
       "1  0020ae56ffbf    ebad26  They would rub it up with soda to make the sme...   \n",
       "2  004e978e639e    3b9047  In Egypt, there were many occupations and soci...   \n",
       "3  005ab0199905    3b9047  The highest class was Pharaohs these people we...   \n",
       "4  0070c9e7af47    814d6b  The Third Wave developed  rapidly because the ...   \n",
       "\n",
       "    content   wording                                    prompt_question  \\\n",
       "0  0.205683  0.380538  Summarize how the Third Wave developed over su...   \n",
       "1 -0.548304  0.506755  Summarize the various ways the factory would u...   \n",
       "2  3.128928  4.231226  In complete sentences, summarize the structure...   \n",
       "3 -0.210614 -0.471415  In complete sentences, summarize the structure...   \n",
       "4  3.272894  3.219757  Summarize how the Third Wave developed over su...   \n",
       "\n",
       "                prompt_title  \\\n",
       "0             The Third Wave   \n",
       "1    Excerpt from The Jungle   \n",
       "2  Egyptian Social Structure   \n",
       "3  Egyptian Social Structure   \n",
       "4             The Third Wave   \n",
       "\n",
       "                                         prompt_text  num_unique_words  \\\n",
       "0  Background \\nThe Third Wave experiment took pl...                51   \n",
       "1  With one member trimming beef in a cannery, an...                38   \n",
       "2  Egyptian society was structured like a pyramid...               149   \n",
       "3  Egyptian society was structured like a pyramid...                19   \n",
       "4  Background \\nThe Third Wave experiment took pl...               138   \n",
       "\n",
       "   num_words  num_sentences  syntax_count  smog_index  \n",
       "0         61              4             0        10.7  \n",
       "1         52              3             0         0.0  \n",
       "2        235             13            19         9.3  \n",
       "3         25              5             0         9.7  \n",
       "4        203             14             5        10.1  "
      ]
     },
     "execution_count": 29,
     "metadata": {},
     "output_type": "execute_result"
    }
   ],
   "source": [
    "summaries_with_features.head()"
   ]
  },
  {
   "cell_type": "code",
   "execution_count": null,
   "id": "09dc04cd",
   "metadata": {},
   "outputs": [],
   "source": []
  },
  {
   "cell_type": "code",
   "execution_count": 31,
   "id": "bf64eb2e",
   "metadata": {},
   "outputs": [
    {
     "name": "stderr",
     "output_type": "stream",
     "text": [
      "100%|████████████████████████████████████████████████████████████████████████████████████| 4/4 [02:18<00:00, 34.73s/it]\n"
     ]
    }
   ],
   "source": [
    "for i, text in enumerate(tqdm(prompts.prompt_text)):\n",
    "    if len(text.split()) > 384:\n",
    "        short_version = short_text(text, max_length=384)\n",
    "        prompts.prompt_text[i] = short_version"
   ]
  },
  {
   "cell_type": "code",
   "execution_count": 32,
   "id": "c92ca9b5",
   "metadata": {},
   "outputs": [],
   "source": [
    "prompt_text = prompts.prompt_text[2]"
   ]
  },
  {
   "cell_type": "code",
   "execution_count": 39,
   "id": "fa1b8abb",
   "metadata": {},
   "outputs": [],
   "source": [
    "summaries = summaries.sort_values('content').reset_index(drop=True)"
   ]
  },
  {
   "cell_type": "code",
   "execution_count": 117,
   "id": "b9c63bba",
   "metadata": {},
   "outputs": [
    {
     "data": {
      "text/plain": [
       "[<matplotlib.lines.Line2D at 0x225c5736d30>]"
      ]
     },
     "execution_count": 117,
     "metadata": {},
     "output_type": "execute_result"
    },
    {
     "data": {
      "image/png": "[encoded data removed]",
      "text/plain": [
       "<Figure size 640x480 with 2 Axes>"
      ]
     },
     "metadata": {},
     "output_type": "display_data"
    }
   ],
   "source": [
    "plt.subplot(1,2,1)\n",
    "plt.plot(summaries.content)\n",
    "\n",
    "plt.subplot(1,2,2)\n",
    "plt.plot(summaries.cos_score)"
   ]
  },
  {
   "cell_type": "code",
   "execution_count": 49,
   "id": "44acf41f",
   "metadata": {},
   "outputs": [],
   "source": [
    "sentence_1 = prompts.prompt_text[0]\n",
    "prompt_num = prompts.prompt_id[0]"
   ]
  },
  {
   "cell_type": "code",
   "execution_count": 56,
   "id": "6cde8bb6",
   "metadata": {},
   "outputs": [],
   "source": [
    "sentence_2 = summaries[summaries.prompt_id == prompt_num].reset_index(drop=True).text[1000]"
   ]
  },
  {
   "cell_type": "code",
   "execution_count": 89,
   "id": "aeee1ac2",
   "metadata": {},
   "outputs": [],
   "source": [
    "inputs = sentence_tokenizer([sentence_1, sentence_2], padding=True,\n",
    "          return_tensors='pt', truncation=True)"
   ]
  },
  {
   "cell_type": "code",
   "execution_count": 99,
   "id": "540b5425",
   "metadata": {},
   "outputs": [],
   "source": [
    "inputs;"
   ]
  },
  {
   "cell_type": "code",
   "execution_count": 91,
   "id": "7d11e1ff",
   "metadata": {},
   "outputs": [],
   "source": [
    "with torch.no_grad():\n",
    "    outputs = sentence_model(**inputs)"
   ]
  },
  {
   "cell_type": "code",
   "execution_count": 92,
   "id": "d79577cd",
   "metadata": {},
   "outputs": [],
   "source": [
    "sentence_embeddings = mean_pooling(outputs, inputs)"
   ]
  },
  {
   "cell_type": "code",
   "execution_count": 94,
   "id": "63da7975",
   "metadata": {},
   "outputs": [],
   "source": [
    "sentence_embeddings = F.normalize(sentence_embeddings)"
   ]
  },
  {
   "cell_type": "code",
   "execution_count": 97,
   "id": "a16baf26",
   "metadata": {},
   "outputs": [
    {
     "data": {
      "text/plain": [
       "torch.Size([2, 768])"
      ]
     },
     "execution_count": 97,
     "metadata": {},
     "output_type": "execute_result"
    }
   ],
   "source": [
    "sentence_embeddings.shape"
   ]
  },
  {
   "cell_type": "code",
   "execution_count": 98,
   "id": "dfa11c8d",
   "metadata": {},
   "outputs": [
    {
     "data": {
      "text/plain": [
       "tensor(0.6790)"
      ]
     },
     "execution_count": 98,
     "metadata": {},
     "output_type": "execute_result"
    }
   ],
   "source": [
    "nn.CosineSimilarity(dim=0)(sentence_embeddings[0], sentence_embeddings[1])"
   ]
  },
  {
   "cell_type": "code",
   "execution_count": 108,
   "id": "d2f7350b",
   "metadata": {},
   "outputs": [
    {
     "name": "stderr",
     "output_type": "stream",
     "text": [
      "100%|██████████████████████████████████████████████████████████████████████████████| 7165/7165 [01:56<00:00, 61.41it/s]\n"
     ]
    }
   ],
   "source": [
    "cos_sim = nn.CosineSimilarity(dim=0)\n",
    "cos_score_list = []\n",
    "sentence_model.to(device)\n",
    "\n",
    "for i, sentence_1 in enumerate(tqdm(summaries.text)):\n",
    "    sentence_2 = prompts.prompt_text[prompts.prompt_id == summaries.prompt_id[i]].item()\n",
    "    \n",
    "    inputs = sentence_tokenizer([sentence_1, sentence_2], padding=True,\n",
    "          return_tensors='pt', truncation=True)\n",
    "    inputs = inputs.to(device)\n",
    "    \n",
    "    with torch.no_grad():\n",
    "        outputs = sentence_model(**inputs)\n",
    "    \n",
    "    sentence_embeddings = mean_pooling(outputs, inputs)\n",
    "    \n",
    "    sentence_embeddings = F.normalize(sentence_embeddings)\n",
    "    \n",
    "    cos_score = cos_sim(sentence_embeddings[0], sentence_embeddings[1])\n",
    "    \n",
    "    cos_score_list.append(cos_score.item())\n",
    "    \n",
    "summaries['cos_score'] = cos_score_list"
   ]
  },
  {
   "cell_type": "code",
   "execution_count": 111,
   "id": "8a22956b",
   "metadata": {},
   "outputs": [],
   "source": [
    "summaries['cos_score'] = cos_score_list"
   ]
  },
  {
   "cell_type": "code",
   "execution_count": 116,
   "id": "dc1760d4",
   "metadata": {},
   "outputs": [],
   "source": [
    "summaries.cos_score = (summaries.cos_score * 6.1) - 1.8"
   ]
  },
  {
   "cell_type": "markdown",
   "id": "2a9487d4",
   "metadata": {},
   "source": [
    "## e.o. Stuff"
   ]
  },
  {
   "cell_type": "code",
   "execution_count": 12,
   "id": "f87929ee",
   "metadata": {},
   "outputs": [],
   "source": [
    "def norm_score(df: pd.DataFrame) -> pd.DataFrame:\n",
    "    \"\"\"Normilizing score to values 0 to 1\"\"\"\n",
    "    df -= np.min(df)\n",
    "    df /= df.max()\n",
    "    print('Normilized' if df.min() == 0.0 and df.max() == 1.0 else 'NormError:wrong values')\n",
    "    \n",
    "    return df\n",
    "\n",
    "def short_text(text, max_length=512) -> str:\n",
    "    if len(text.split()) > 700:\n",
    "        middle_point = text[len(text)//2:].index('.') + len(text)//2 + 1\n",
    "        text_pt1 = text[:middle_point]\n",
    "        text_pt2 = text[middle_point:]\n",
    "        \n",
    "        text = short_text(text_pt1) + short_text(text_pt2)\n",
    "        \n",
    "    summarized = summarizer(text, max_length=max_length, min_length=100, do_sample=False)\n",
    "    \n",
    "    return summarized[0]['summary_text']\n",
    "\n",
    "def moving_average(array: np.array, betta=0.9) -> np.array:\n",
    "    \"\"\"\n",
    "    Computing moving average with bias correction.\n",
    "    \"\"\"\n",
    "    \n",
    "    V = 0\n",
    "    average_array = np.zeros(len(array))\n",
    "    for i in range(len(array)):\n",
    "        V = betta * V + (1 - betta) * array[i]\n",
    "        average_array[i] = V/(1 - pow(betta, i+1))\n",
    "        \n",
    "    return average_array\n",
    "\n",
    "\n",
    "\n",
    "def mean_pooling(outputs, batch) -> torch.tensor:\n",
    "    \n",
    "    attention_mask = batch['attention_mask']\n",
    "    embeddings = outputs.last_hidden_state\n",
    "    \n",
    "    mask = attention_mask.unsqueeze(-1).expand(embeddings.size()).float()\n",
    "    masked_embeddings = embeddings * mask\n",
    "    \n",
    "    summed = torch.sum(masked_embeddings, 1)\n",
    "    summed_mask = torch.clamp(mask.sum(dim=1), min=1e-9)\n",
    "    \n",
    "    mean_pooled = summed/summed_mask\n",
    "    \n",
    "    return mean_pooled"
   ]
  },
  {
   "cell_type": "code",
   "execution_count": null,
   "id": "fa218337",
   "metadata": {},
   "outputs": [],
   "source": [
    "#content\n",
    "\n",
    "#39c16e -1.729 3.900\n",
    "#3b9047  -1.729 3.894\n",
    "#814d6b -1.729 3.711\n",
    "#ebad26 -1.638 3.503"
   ]
  },
  {
   "cell_type": "code",
   "execution_count": 11,
   "id": "94c04a50",
   "metadata": {},
   "outputs": [],
   "source": [
    "class SelfAttention(nn.Module):\n",
    "    def __init__(self, input_dim):\n",
    "        super(SelfAttention, self).__init__()\n",
    "        self.input_dim = input_dim\n",
    "        self.query = nn.Linear(input_dim, input_dim)\n",
    "        self.key = nn.Linear(input_dim, input_dim)\n",
    "        self.value = nn.Linear(input_dim, input_dim)\n",
    "        self.softmax = nn.Softmax(dim=2)\n",
    "        \n",
    "    def forward(self, x):\n",
    "        queries = self.query(x)\n",
    "        keys = self.key(x)\n",
    "        values = self.value(x)\n",
    "        scores = torch.bmm(queries, keys.transpose(1, 2)) / (self.input_dim ** 0.5)\n",
    "        attention = self.softmax(scores)\n",
    "        weighted = torch.bmm(attention, values)\n",
    "        return weighted\n",
    "    "
   ]
  },
  {
   "cell_type": "code",
   "execution_count": 15,
   "id": "24711e35",
   "metadata": {},
   "outputs": [],
   "source": [
    "class STSBertModel(nn.Module):\n",
    "    \"\"\"\n",
    "    Sentence Semantic Similarity Bert model\n",
    "    :param: seg_head=True for using segmentation head instead of cosine similarity\n",
    "    :param: freeze_weights=True to freeze BERT model's weights and train only the segmentation head\n",
    "    \"\"\"\n",
    "    def __init__(self, seg_head=False, freeze_weights=False, input_size=768):\n",
    "        super(STSBertModel, self).__init__()\n",
    "        \n",
    "        self.word_embedding = RobertaModel.from_pretrained('roberta-base')\n",
    "        self.cos_score = nn.CosineSimilarity(dim=0)\n",
    "        self.identity = nn.Identity()\n",
    "        self.seg_head = seg_head\n",
    "        self.input_size = input_size\n",
    "        \n",
    "        self.attention = SelfAttention(self.input_size)\n",
    "    \n",
    "        self.FC_head = nn.Sequential(OrderedDict([\n",
    "            ('fc1', nn.Linear(self.input_size, 1))\n",
    "            ]))\n",
    "            \n",
    "        if freeze_weights:\n",
    "            self.freeze()\n",
    "    \n",
    "    def freeze(self):\n",
    "        for param in self.word_embedding.parameters():\n",
    "            param.requires_grad = False\n",
    "    \n",
    "    def cos_score(self, x):\n",
    "        embedding_1 = x[0]\n",
    "        embedding_2 = x[1]\n",
    "        \n",
    "        cos_score = self.cos_sim(embedding_1, embedding_2)\n",
    "#         cos_score = torch.sigmoid(cos_score)\n",
    "        \n",
    "        return cos_score\n",
    "    \n",
    "    def forward(self, x):\n",
    "        output = self.word_embedding(**x)\n",
    "        \n",
    "        if self.seg_head:\n",
    "            output = mean_pooling(output, x)\n",
    "            output = self.attention(output.unsqueeze(1))\n",
    "\n",
    "#             output = self.attention(output[0])\n",
    "#             output = torch.mean(output, dim=1)\n",
    "#             output = torch.max(output, dim=1).values\n",
    "            \n",
    "            output = self.FC_head(output)\n",
    "        \n",
    "        else:\n",
    "            cos_sim = self.cos_score(output)\n",
    "            \n",
    "            output = torch.mean(output, dim=1)\n",
    "            \n",
    "            features = torch.concat((output, cos_sim))\n",
    "            self.input_size += 1\n",
    "            \n",
    "            output = self.attention(features.unsqueeze(1))\n",
    "            \n",
    "            output = self.FC_head(output)\n",
    "        \n",
    "        return output"
   ]
  },
  {
   "cell_type": "code",
   "execution_count": 16,
   "id": "d1e66c36",
   "metadata": {},
   "outputs": [
    {
     "name": "stderr",
     "output_type": "stream",
     "text": [
      "Some weights of RobertaModel were not initialized from the model checkpoint at roberta-base and are newly initialized: ['roberta.pooler.dense.weight', 'roberta.pooler.dense.bias']\n",
      "You should probably TRAIN this model on a down-stream task to be able to use it for predictions and inference.\n"
     ]
    },
    {
     "data": {
      "text/plain": [
       "<All keys matched successfully>"
      ]
     },
     "execution_count": 16,
     "metadata": {},
     "output_type": "execute_result"
    }
   ],
   "source": [
    "content_model = STSBertModel(seg_head=True, freeze_weights=False)\n",
    "    \n",
    "content_model.load_state_dict(torch.load(r'models\\cv\\best__fold_1.pt'))"
   ]
  },
  {
   "cell_type": "code",
   "execution_count": 19,
   "id": "b91f8f93",
   "metadata": {},
   "outputs": [
    {
     "ename": "KeyError",
     "evalue": "'word_embedding.embeddings.position_ids'",
     "output_type": "error",
     "traceback": [
      "\u001b[1;31m---------------------------------------------------------------------------\u001b[0m",
      "\u001b[1;31mKeyError\u001b[0m                                  Traceback (most recent call last)",
      "Cell \u001b[1;32mIn [19], line 1\u001b[0m\n\u001b[1;32m----> 1\u001b[0m \u001b[43mtorch\u001b[49m\u001b[38;5;241;43m.\u001b[39;49m\u001b[43mload\u001b[49m\u001b[43m(\u001b[49m\u001b[38;5;124;43mr\u001b[39;49m\u001b[38;5;124;43m'\u001b[39;49m\u001b[38;5;124;43mmodels\u001b[39;49m\u001b[38;5;124;43m\\\u001b[39;49m\u001b[38;5;124;43mcv\u001b[39;49m\u001b[38;5;124;43m\\\u001b[39;49m\u001b[38;5;124;43mbest__fold_1.pt\u001b[39;49m\u001b[38;5;124;43m'\u001b[39;49m\u001b[43m)\u001b[49m\u001b[43m[\u001b[49m\u001b[38;5;124;43m'\u001b[39;49m\u001b[38;5;124;43mword_embedding.embeddings.position_ids\u001b[39;49m\u001b[38;5;124;43m'\u001b[39;49m\u001b[43m]\u001b[49m\n",
      "\u001b[1;31mKeyError\u001b[0m: 'word_embedding.embeddings.position_ids'"
     ]
    }
   ],
   "source": [
    "torch.load(r'models\\cv\\best__fold_1.pt')['word_embedding.embeddings.position_ids']"
   ]
  },
  {
   "cell_type": "code",
   "execution_count": 17,
   "id": "0d149464",
   "metadata": {},
   "outputs": [
    {
     "data": {
      "text/plain": [
       "tensor([[  0,   1,   2,   3,   4,   5,   6,   7,   8,   9,  10,  11,  12,  13,\n",
       "          14,  15,  16,  17,  18,  19,  20,  21,  22,  23,  24,  25,  26,  27,\n",
       "          28,  29,  30,  31,  32,  33,  34,  35,  36,  37,  38,  39,  40,  41,\n",
       "          42,  43,  44,  45,  46,  47,  48,  49,  50,  51,  52,  53,  54,  55,\n",
       "          56,  57,  58,  59,  60,  61,  62,  63,  64,  65,  66,  67,  68,  69,\n",
       "          70,  71,  72,  73,  74,  75,  76,  77,  78,  79,  80,  81,  82,  83,\n",
       "          84,  85,  86,  87,  88,  89,  90,  91,  92,  93,  94,  95,  96,  97,\n",
       "          98,  99, 100, 101, 102, 103, 104, 105, 106, 107, 108, 109, 110, 111,\n",
       "         112, 113, 114, 115, 116, 117, 118, 119, 120, 121, 122, 123, 124, 125,\n",
       "         126, 127, 128, 129, 130, 131, 132, 133, 134, 135, 136, 137, 138, 139,\n",
       "         140, 141, 142, 143, 144, 145, 146, 147, 148, 149, 150, 151, 152, 153,\n",
       "         154, 155, 156, 157, 158, 159, 160, 161, 162, 163, 164, 165, 166, 167,\n",
       "         168, 169, 170, 171, 172, 173, 174, 175, 176, 177, 178, 179, 180, 181,\n",
       "         182, 183, 184, 185, 186, 187, 188, 189, 190, 191, 192, 193, 194, 195,\n",
       "         196, 197, 198, 199, 200, 201, 202, 203, 204, 205, 206, 207, 208, 209,\n",
       "         210, 211, 212, 213, 214, 215, 216, 217, 218, 219, 220, 221, 222, 223,\n",
       "         224, 225, 226, 227, 228, 229, 230, 231, 232, 233, 234, 235, 236, 237,\n",
       "         238, 239, 240, 241, 242, 243, 244, 245, 246, 247, 248, 249, 250, 251,\n",
       "         252, 253, 254, 255, 256, 257, 258, 259, 260, 261, 262, 263, 264, 265,\n",
       "         266, 267, 268, 269, 270, 271, 272, 273, 274, 275, 276, 277, 278, 279,\n",
       "         280, 281, 282, 283, 284, 285, 286, 287, 288, 289, 290, 291, 292, 293,\n",
       "         294, 295, 296, 297, 298, 299, 300, 301, 302, 303, 304, 305, 306, 307,\n",
       "         308, 309, 310, 311, 312, 313, 314, 315, 316, 317, 318, 319, 320, 321,\n",
       "         322, 323, 324, 325, 326, 327, 328, 329, 330, 331, 332, 333, 334, 335,\n",
       "         336, 337, 338, 339, 340, 341, 342, 343, 344, 345, 346, 347, 348, 349,\n",
       "         350, 351, 352, 353, 354, 355, 356, 357, 358, 359, 360, 361, 362, 363,\n",
       "         364, 365, 366, 367, 368, 369, 370, 371, 372, 373, 374, 375, 376, 377,\n",
       "         378, 379, 380, 381, 382, 383, 384, 385, 386, 387, 388, 389, 390, 391,\n",
       "         392, 393, 394, 395, 396, 397, 398, 399, 400, 401, 402, 403, 404, 405,\n",
       "         406, 407, 408, 409, 410, 411, 412, 413, 414, 415, 416, 417, 418, 419,\n",
       "         420, 421, 422, 423, 424, 425, 426, 427, 428, 429, 430, 431, 432, 433,\n",
       "         434, 435, 436, 437, 438, 439, 440, 441, 442, 443, 444, 445, 446, 447,\n",
       "         448, 449, 450, 451, 452, 453, 454, 455, 456, 457, 458, 459, 460, 461,\n",
       "         462, 463, 464, 465, 466, 467, 468, 469, 470, 471, 472, 473, 474, 475,\n",
       "         476, 477, 478, 479, 480, 481, 482, 483, 484, 485, 486, 487, 488, 489,\n",
       "         490, 491, 492, 493, 494, 495, 496, 497, 498, 499, 500, 501, 502, 503,\n",
       "         504, 505, 506, 507, 508, 509, 510, 511, 512, 513]])"
      ]
     },
     "execution_count": 17,
     "metadata": {},
     "output_type": "execute_result"
    }
   ],
   "source": [
    "content_model.word_embedding.embeddings.position_ids"
   ]
  },
  {
   "cell_type": "code",
   "execution_count": 7,
   "id": "452c0330",
   "metadata": {},
   "outputs": [],
   "source": [
    "def predict_content_score():\n",
    "    \n",
    "    content = []\n",
    "    \n",
    "    content_model = STSBertModel(seg_head=True, freeze_weights=False)\n",
    "    \n",
    "    content_model.load_state_dict(torch.load(r'models\\cv\\best__fold_1.pt'))\n",
    "    \n",
    "    content_model.to(device)\n",
    "    content_model.eval()\n",
    "    \n",
    "    \n",
    "    for i, student_id in enumerate(tqdm(summaries.student_id)):\n",
    "        summary = summaries.text[i]\n",
    "        \n",
    "        tokens = tokenizer(summary, padding='max_length', return_tensors='pt', truncation=True)\n",
    "        tokens = tokens.to(device)\n",
    "        \n",
    "        content_score = content_model(tokens)\n",
    "\n",
    "        content.append(content_score.item())\n",
    "    \n",
    "    return content\n",
    "    \n",
    "def predict_wording_score():\n",
    "    \n",
    "    wording = []\n",
    "    \n",
    "    wording_model = STSBertModel(seg_head=True, freeze_weights=False)\n",
    "    \n",
    "    wording_model.load_state_dict(torch.load(r'models\\RoBerta_wording_8l.pt'))\n",
    "    \n",
    "    wording_model.to(device)\n",
    "    wording_model.eval()\n",
    "    \n",
    "    for i, student_id in enumerate(tqdm(summaries.student_id)):\n",
    "        summary = summaries.text[i]\n",
    "        \n",
    "        tokens = tokenizer(summary, padding='max_length', return_tensors='pt', truncation=True)\n",
    "        tokens = tokens.to(device)\n",
    "        \n",
    "        wording_score = wording_model(tokens)\n",
    "\n",
    "        wording.append(wording_score.item())\n",
    "        \n",
    "    return wording"
   ]
  },
  {
   "cell_type": "code",
   "execution_count": 15,
   "id": "083bd0c4",
   "metadata": {},
   "outputs": [
    {
     "name": "stderr",
     "output_type": "stream",
     "text": [
      "Some weights of RobertaModel were not initialized from the model checkpoint at roberta-base and are newly initialized: ['roberta.pooler.dense.weight', 'roberta.pooler.dense.bias']\n",
      "You should probably TRAIN this model on a down-stream task to be able to use it for predictions and inference.\n",
      "100%|██████████████████████████████████████████████████████████████████████████████| 7165/7165 [01:26<00:00, 82.58it/s]\n",
      "Some weights of RobertaModel were not initialized from the model checkpoint at roberta-base and are newly initialized: ['roberta.pooler.dense.weight', 'roberta.pooler.dense.bias']\n",
      "You should probably TRAIN this model on a down-stream task to be able to use it for predictions and inference.\n",
      "100%|██████████████████████████████████████████████████████████████████████████████| 7165/7165 [01:26<00:00, 83.13it/s]\n"
     ]
    }
   ],
   "source": [
    "\n",
    "    \n",
    "submission = {'student_id': summaries.student_id, 'content': predict_content_score(),\n",
    "              'wording': predict_wording_score()}\n",
    "\n",
    "submission_df = pd.DataFrame.from_dict(submission)\n",
    "# submission_df.to_csv('submission.csv',index=False)"
   ]
  },
  {
   "cell_type": "code",
   "execution_count": 16,
   "id": "8907978e",
   "metadata": {},
   "outputs": [],
   "source": [
    "torch.cuda.empty_cache()"
   ]
  },
  {
   "cell_type": "code",
   "execution_count": 15,
   "id": "5d0e2514",
   "metadata": {},
   "outputs": [],
   "source": [
    "del content_model, wording_model"
   ]
  },
  {
   "cell_type": "code",
   "execution_count": 18,
   "id": "ba9f889a",
   "metadata": {},
   "outputs": [
    {
     "data": {
      "text/html": [
       "<div>\n",
       "<style scoped>\n",
       "    .dataframe tbody tr th:only-of-type {\n",
       "        vertical-align: middle;\n",
       "    }\n",
       "\n",
       "    .dataframe tbody tr th {\n",
       "        vertical-align: top;\n",
       "    }\n",
       "\n",
       "    .dataframe thead th {\n",
       "        text-align: right;\n",
       "    }\n",
       "</style>\n",
       "<table border=\"1\" class=\"dataframe\">\n",
       "  <thead>\n",
       "    <tr style=\"text-align: right;\">\n",
       "      <th></th>\n",
       "      <th>student_id</th>\n",
       "      <th>content</th>\n",
       "      <th>wording</th>\n",
       "    </tr>\n",
       "  </thead>\n",
       "  <tbody>\n",
       "    <tr>\n",
       "      <th>0</th>\n",
       "      <td>000e8c3c7ddb</td>\n",
       "      <td>0.398765</td>\n",
       "      <td>0.771343</td>\n",
       "    </tr>\n",
       "    <tr>\n",
       "      <th>1</th>\n",
       "      <td>0020ae56ffbf</td>\n",
       "      <td>-0.500760</td>\n",
       "      <td>0.244957</td>\n",
       "    </tr>\n",
       "    <tr>\n",
       "      <th>2</th>\n",
       "      <td>004e978e639e</td>\n",
       "      <td>2.586437</td>\n",
       "      <td>0.911615</td>\n",
       "    </tr>\n",
       "    <tr>\n",
       "      <th>3</th>\n",
       "      <td>005ab0199905</td>\n",
       "      <td>-0.845013</td>\n",
       "      <td>0.006656</td>\n",
       "    </tr>\n",
       "    <tr>\n",
       "      <th>4</th>\n",
       "      <td>0070c9e7af47</td>\n",
       "      <td>2.190113</td>\n",
       "      <td>1.071828</td>\n",
       "    </tr>\n",
       "    <tr>\n",
       "      <th>...</th>\n",
       "      <td>...</td>\n",
       "      <td>...</td>\n",
       "      <td>...</td>\n",
       "    </tr>\n",
       "    <tr>\n",
       "      <th>7160</th>\n",
       "      <td>ff7c7e70df07</td>\n",
       "      <td>0.017408</td>\n",
       "      <td>0.258897</td>\n",
       "    </tr>\n",
       "    <tr>\n",
       "      <th>7161</th>\n",
       "      <td>ffc34d056498</td>\n",
       "      <td>0.025435</td>\n",
       "      <td>0.303351</td>\n",
       "    </tr>\n",
       "    <tr>\n",
       "      <th>7162</th>\n",
       "      <td>ffd1576d2e1b</td>\n",
       "      <td>-1.056069</td>\n",
       "      <td>0.077803</td>\n",
       "    </tr>\n",
       "    <tr>\n",
       "      <th>7163</th>\n",
       "      <td>ffe4a98093b2</td>\n",
       "      <td>0.056168</td>\n",
       "      <td>0.689005</td>\n",
       "    </tr>\n",
       "    <tr>\n",
       "      <th>7164</th>\n",
       "      <td>fffbccfd8a08</td>\n",
       "      <td>1.069945</td>\n",
       "      <td>0.521209</td>\n",
       "    </tr>\n",
       "  </tbody>\n",
       "</table>\n",
       "<p>7165 rows × 3 columns</p>\n",
       "</div>"
      ],
      "text/plain": [
       "        student_id   content   wording\n",
       "0     000e8c3c7ddb  0.398765  0.771343\n",
       "1     0020ae56ffbf -0.500760  0.244957\n",
       "2     004e978e639e  2.586437  0.911615\n",
       "3     005ab0199905 -0.845013  0.006656\n",
       "4     0070c9e7af47  2.190113  1.071828\n",
       "...            ...       ...       ...\n",
       "7160  ff7c7e70df07  0.017408  0.258897\n",
       "7161  ffc34d056498  0.025435  0.303351\n",
       "7162  ffd1576d2e1b -1.056069  0.077803\n",
       "7163  ffe4a98093b2  0.056168  0.689005\n",
       "7164  fffbccfd8a08  1.069945  0.521209\n",
       "\n",
       "[7165 rows x 3 columns]"
      ]
     },
     "execution_count": 18,
     "metadata": {},
     "output_type": "execute_result"
    }
   ],
   "source": [
    "submission_df"
   ]
  }
 ],
 "metadata": {
  "kernelspec": {
   "display_name": "Python (tf)",
   "language": "python",
   "name": "tf"
  },
  "language_info": {
   "codemirror_mode": {
    "name": "ipython",
    "version": 3
   },
   "file_extension": ".py",
   "mimetype": "text/x-python",
   "name": "python",
   "nbconvert_exporter": "python",
   "pygments_lexer": "ipython3",
   "version": "3.9.16"
  }
 },
 "nbformat": 4,
 "nbformat_minor": 5
}
